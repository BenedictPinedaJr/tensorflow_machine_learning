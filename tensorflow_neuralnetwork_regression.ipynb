{
 "cells": [
  {
   "attachments": {},
   "cell_type": "markdown",
   "metadata": {},
   "source": [
    "# Introduction to Regression with Neural Networks in TensorFlow\n",
    "\n",
    "A regression problem is predicting a numerical variable based on some other combination of variables."
   ]
  },
  {
   "cell_type": "code",
   "execution_count": 1,
   "metadata": {},
   "outputs": [
    {
     "name": "stderr",
     "output_type": "stream",
     "text": [
      "2023-05-30 16:54:15.008818: I tensorflow/core/util/port.cc:110] oneDNN custom operations are on. You may see slightly different numerical results due to floating-point round-off errors from different computation orders. To turn them off, set the environment variable `TF_ENABLE_ONEDNN_OPTS=0`.\n",
      "2023-05-30 16:54:15.055098: I tensorflow/core/platform/cpu_feature_guard.cc:182] This TensorFlow binary is optimized to use available CPU instructions in performance-critical operations.\n",
      "To enable the following instructions: AVX2 AVX_VNNI FMA, in other operations, rebuild TensorFlow with the appropriate compiler flags.\n",
      "2023-05-30 16:54:15.667582: W tensorflow/compiler/tf2tensorrt/utils/py_utils.cc:38] TF-TRT Warning: Could not find TensorRT\n"
     ]
    },
    {
     "name": "stdout",
     "output_type": "stream",
     "text": [
      "2.12.0\n"
     ]
    }
   ],
   "source": [
    "# Import TensorFlow\n",
    "import tensorflow as tf\n",
    "print(tf.__version__)"
   ]
  },
  {
   "attachments": {},
   "cell_type": "markdown",
   "metadata": {},
   "source": [
    "## Creating data to view and fit"
   ]
  },
  {
   "cell_type": "code",
   "execution_count": 2,
   "metadata": {},
   "outputs": [
    {
     "data": {
      "text/plain": [
       "<matplotlib.collections.PathCollection at 0x7efdcbc48dd0>"
      ]
     },
     "execution_count": 2,
     "metadata": {},
     "output_type": "execute_result"
    },
    {
     "data": {
      "image/png": "[encoded data removed]",
      "text/plain": [
       "<Figure size 640x480 with 1 Axes>"
      ]
     },
     "metadata": {},
     "output_type": "display_data"
    }
   ],
   "source": [
    "import numpy as np\n",
    "import matplotlib.pyplot as plt\n",
    "\n",
    "# Create features\n",
    "X = np.array([-7.0, -4.0, -1.0, 2.0, 5.0, 8.0, 11.0, 14.0])\n",
    "\n",
    "# Create labels\n",
    "y = np.array([3.0, 6.0, 9.0, 12.0, 15.0, 18.0, 21.0, 24.0])\n",
    "\n",
    "# Visualize it\n",
    "plt.scatter(X, y)"
   ]
  },
  {
   "cell_type": "code",
   "execution_count": 3,
   "metadata": {},
   "outputs": [
    {
     "data": {
      "text/plain": [
       "array([ True,  True,  True,  True,  True,  True,  True,  True])"
      ]
     },
     "execution_count": 3,
     "metadata": {},
     "output_type": "execute_result"
    }
   ],
   "source": [
    "y == X + 10"
   ]
  },
  {
   "attachments": {},
   "cell_type": "markdown",
   "metadata": {},
   "source": [
    "### Input and Output Shapes"
   ]
  },
  {
   "cell_type": "code",
   "execution_count": 4,
   "metadata": {},
   "outputs": [
    {
     "name": "stderr",
     "output_type": "stream",
     "text": [
      "2023-05-30 16:54:16.904875: I tensorflow/compiler/xla/stream_executor/cuda/cuda_gpu_executor.cc:982] could not open file to read NUMA node: /sys/bus/pci/devices/0000:01:00.0/numa_node\n",
      "Your kernel may have been built without NUMA support.\n",
      "2023-05-30 16:54:16.969167: I tensorflow/compiler/xla/stream_executor/cuda/cuda_gpu_executor.cc:982] could not open file to read NUMA node: /sys/bus/pci/devices/0000:01:00.0/numa_node\n",
      "Your kernel may have been built without NUMA support.\n",
      "2023-05-30 16:54:16.969209: I tensorflow/compiler/xla/stream_executor/cuda/cuda_gpu_executor.cc:982] could not open file to read NUMA node: /sys/bus/pci/devices/0000:01:00.0/numa_node\n",
      "Your kernel may have been built without NUMA support.\n",
      "2023-05-30 16:54:16.972025: I tensorflow/compiler/xla/stream_executor/cuda/cuda_gpu_executor.cc:982] could not open file to read NUMA node: /sys/bus/pci/devices/0000:01:00.0/numa_node\n",
      "Your kernel may have been built without NUMA support.\n",
      "2023-05-30 16:54:16.972070: I tensorflow/compiler/xla/stream_executor/cuda/cuda_gpu_executor.cc:982] could not open file to read NUMA node: /sys/bus/pci/devices/0000:01:00.0/numa_node\n",
      "Your kernel may have been built without NUMA support.\n",
      "2023-05-30 16:54:16.972083: I tensorflow/compiler/xla/stream_executor/cuda/cuda_gpu_executor.cc:982] could not open file to read NUMA node: /sys/bus/pci/devices/0000:01:00.0/numa_node\n",
      "Your kernel may have been built without NUMA support.\n",
      "2023-05-30 16:54:17.895872: I tensorflow/compiler/xla/stream_executor/cuda/cuda_gpu_executor.cc:982] could not open file to read NUMA node: /sys/bus/pci/devices/0000:01:00.0/numa_node\n",
      "Your kernel may have been built without NUMA support.\n",
      "2023-05-30 16:54:17.895940: I tensorflow/compiler/xla/stream_executor/cuda/cuda_gpu_executor.cc:982] could not open file to read NUMA node: /sys/bus/pci/devices/0000:01:00.0/numa_node\n",
      "Your kernel may have been built without NUMA support.\n",
      "2023-05-30 16:54:17.895946: I tensorflow/core/common_runtime/gpu/gpu_device.cc:1722] Could not identify NUMA node of platform GPU id 0, defaulting to 0.  Your kernel may not have been built with NUMA support.\n",
      "2023-05-30 16:54:17.895970: I tensorflow/compiler/xla/stream_executor/cuda/cuda_gpu_executor.cc:982] could not open file to read NUMA node: /sys/bus/pci/devices/0000:01:00.0/numa_node\n",
      "Your kernel may have been built without NUMA support.\n",
      "2023-05-30 16:54:17.895996: I tensorflow/core/common_runtime/gpu/gpu_device.cc:1635] Created device /job:localhost/replica:0/task:0/device:GPU:0 with 3383 MB memory:  -> device: 0, name: NVIDIA GeForce RTX 3060 Laptop GPU, pci bus id: 0000:01:00.0, compute capability: 8.6\n"
     ]
    },
    {
     "data": {
      "text/plain": [
       "(<tf.Tensor: shape=(3,), dtype=string, numpy=array([b'bedroom', b'bathroom', b'garage'], dtype=object)>,\n",
       " <tf.Tensor: shape=(1,), dtype=int32, numpy=array([939700], dtype=int32)>)"
      ]
     },
     "execution_count": 4,
     "metadata": {},
     "output_type": "execute_result"
    }
   ],
   "source": [
    "# Create a demo tensor for housing price prediction problem\n",
    "house_info = tf.constant([\"bedroom\", \"bathroom\", \"garage\"])\n",
    "house_price = tf.constant([939700])\n",
    "house_info, house_price"
   ]
  },
  {
   "cell_type": "code",
   "execution_count": 5,
   "metadata": {},
   "outputs": [
    {
     "data": {
      "text/plain": [
       "((), ())"
      ]
     },
     "execution_count": 5,
     "metadata": {},
     "output_type": "execute_result"
    }
   ],
   "source": [
    "input_shape = X[0].shape\n",
    "output_shape = y[0].shape\n",
    "input_shape, output_shape"
   ]
  },
  {
   "cell_type": "code",
   "execution_count": 6,
   "metadata": {},
   "outputs": [
    {
     "data": {
      "text/plain": [
       "(<tf.Tensor: shape=(8,), dtype=float32, numpy=array([-7., -4., -1.,  2.,  5.,  8., 11., 14.], dtype=float32)>,\n",
       " <tf.Tensor: shape=(8,), dtype=float32, numpy=array([ 3.,  6.,  9., 12., 15., 18., 21., 24.], dtype=float32)>)"
      ]
     },
     "execution_count": 6,
     "metadata": {},
     "output_type": "execute_result"
    }
   ],
   "source": [
    "# Turn NumPy arrays into tensors with dtype float32\n",
    "X = tf.cast(tf.constant(X), tf.float32)\n",
    "y = tf.cast(tf.constant(y), tf.float32)\n",
    "X, y"
   ]
  },
  {
   "cell_type": "code",
   "execution_count": 7,
   "metadata": {},
   "outputs": [
    {
     "data": {
      "text/plain": [
       "(TensorShape([]), TensorShape([]))"
      ]
     },
     "execution_count": 7,
     "metadata": {},
     "output_type": "execute_result"
    }
   ],
   "source": [
    "input_shape = X[0].shape\n",
    "output_shape = y[0].shape\n",
    "input_shape, output_shape"
   ]
  },
  {
   "cell_type": "code",
   "execution_count": 8,
   "metadata": {},
   "outputs": [
    {
     "data": {
      "text/plain": [
       "<matplotlib.collections.PathCollection at 0x7efdc9a70490>"
      ]
     },
     "execution_count": 8,
     "metadata": {},
     "output_type": "execute_result"
    },
    {
     "data": {
      "image/png": "[encoded data removed]",
      "text/plain": [
       "<Figure size 640x480 with 1 Axes>"
      ]
     },
     "metadata": {},
     "output_type": "display_data"
    }
   ],
   "source": [
    "plt.scatter(X, y)"
   ]
  },
  {
   "attachments": {},
   "cell_type": "markdown",
   "metadata": {},
   "source": [
    "## Steps in modelling with TensorFlow\n",
    "\n",
    "1. **Creating a model** - define the input and outpu layers, as well as the hidden layers of a deep learning model.\n",
    "2. **Compiling a model** - define the loss function (in other words, the function which tells the model how wrong it is) and the optimizer (tells the model how to improve the patterns its learning) and evaluation metrics (what can be used to interpret the performance of the model).\n",
    "3. **Fitting a model** - letting the model try to find patterns between X & y (features and labels)."
   ]
  },
  {
   "cell_type": "code",
   "execution_count": 9,
   "metadata": {},
   "outputs": [
    {
     "name": "stdout",
     "output_type": "stream",
     "text": [
      "Epoch 1/5\n"
     ]
    },
    {
     "name": "stderr",
     "output_type": "stream",
     "text": [
      "2023-05-30 16:54:21.147832: I tensorflow/compiler/xla/service/service.cc:169] XLA service 0x7efc7802beb0 initialized for platform CUDA (this does not guarantee that XLA will be used). Devices:\n",
      "2023-05-30 16:54:21.147868: I tensorflow/compiler/xla/service/service.cc:177]   StreamExecutor device (0): NVIDIA GeForce RTX 3060 Laptop GPU, Compute Capability 8.6\n",
      "2023-05-30 16:54:21.304792: I tensorflow/compiler/xla/stream_executor/cuda/cuda_dnn.cc:424] Loaded cuDNN version 8600\n"
     ]
    },
    {
     "name": "stdout",
     "output_type": "stream",
     "text": [
      "1/1 [==============================] - 3s 3s/step - loss: 12.7076 - mae: 12.7076\n",
      "Epoch 2/5\n",
      "1/1 [==============================] - 0s 6ms/step - loss: 12.5751 - mae: 12.5751\n",
      "Epoch 3/5\n",
      "1/1 [==============================] - 0s 5ms/step - loss: 12.4426 - mae: 12.4426\n",
      "Epoch 4/5\n",
      "1/1 [==============================] - 0s 5ms/step - loss: 12.3101 - mae: 12.3101\n",
      "Epoch 5/5\n",
      "1/1 [==============================] - 0s 5ms/step - loss: 12.1776 - mae: 12.1776\n"
     ]
    },
    {
     "name": "stderr",
     "output_type": "stream",
     "text": [
      "2023-05-30 16:54:21.436547: I tensorflow/tsl/platform/default/subprocess.cc:304] Start cannot spawn child process: No such file or directory\n",
      "2023-05-30 16:54:21.500779: I ./tensorflow/compiler/jit/device_compiler.h:180] Compiled cluster using XLA!  This line is logged at most once for the lifetime of the process.\n"
     ]
    },
    {
     "data": {
      "text/plain": [
       "<keras.callbacks.History at 0x7efdc1779790>"
      ]
     },
     "execution_count": 9,
     "metadata": {},
     "output_type": "execute_result"
    }
   ],
   "source": [
    "# Set random seed\n",
    "tf.random.set_seed(42)\n",
    "\n",
    "# 1. Create a model using the Sequential API\n",
    "model = tf.keras.Sequential([\n",
    "    tf.keras.layers.Dense(1, input_shape=[1]) # Remember to place the input shape\n",
    "])\n",
    "\n",
    "# 2. Compile the model\n",
    "model.compile(loss=tf.keras.losses.mae, # mae is short for mean absolute error\n",
    "              optimizer=tf.keras.optimizers.SGD(), # SGD is short for stochastic gradient descent\n",
    "              metrics=[\"mae\"])\n",
    "\n",
    "# 3. Fit the model\n",
    "model.fit(X, y, epochs=5) \n"
   ]
  },
  {
   "cell_type": "code",
   "execution_count": 10,
   "metadata": {},
   "outputs": [
    {
     "data": {
      "text/plain": [
       "(<tf.Tensor: shape=(8,), dtype=float32, numpy=array([-7., -4., -1.,  2.,  5.,  8., 11., 14.], dtype=float32)>,\n",
       " <tf.Tensor: shape=(8,), dtype=float32, numpy=array([ 3.,  6.,  9., 12., 15., 18., 21., 24.], dtype=float32)>)"
      ]
     },
     "execution_count": 10,
     "metadata": {},
     "output_type": "execute_result"
    }
   ],
   "source": [
    "# Check out X and y\n",
    "X, y"
   ]
  },
  {
   "cell_type": "code",
   "execution_count": 11,
   "metadata": {},
   "outputs": [
    {
     "name": "stdout",
     "output_type": "stream",
     "text": [
      "1/1 [==============================] - 0s 53ms/step\n"
     ]
    },
    {
     "data": {
      "text/plain": [
       "array([[6.8737416]], dtype=float32)"
      ]
     },
     "execution_count": 11,
     "metadata": {},
     "output_type": "execute_result"
    }
   ],
   "source": [
    "# Try and make a prediction using the model\n",
    "y_pred = model.predict([17.0])\n",
    "y_pred"
   ]
  },
  {
   "cell_type": "code",
   "execution_count": 12,
   "metadata": {},
   "outputs": [
    {
     "data": {
      "text/plain": [
       "array([[17.873741]], dtype=float32)"
      ]
     },
     "execution_count": 12,
     "metadata": {},
     "output_type": "execute_result"
    }
   ],
   "source": [
    "y_pred + 11"
   ]
  },
  {
   "attachments": {},
   "cell_type": "markdown",
   "metadata": {},
   "source": [
    "### Improving the model\n",
    "\n",
    "1. **Creating a model** - Add more layers, increase the number of hidden units (also called neurons) within each hidden layers, change the activation funciotn of each layer.\n",
    "2. **Compiling a model** - Change the optimization funciton or perhaps the **learning rate** of the opitimization function.\n",
    "3. **Fitting a model** - Fit a model for more **epochs**  or on more data"
   ]
  },
  {
   "cell_type": "code",
   "execution_count": 13,
   "metadata": {},
   "outputs": [
    {
     "name": "stdout",
     "output_type": "stream",
     "text": [
      "Epoch 1/100\n",
      "1/1 [==============================] - 0s 198ms/step - loss: 14.5826 - mae: 14.5826\n",
      "Epoch 2/100\n",
      "1/1 [==============================] - 0s 5ms/step - loss: 14.4501 - mae: 14.4501\n",
      "Epoch 3/100\n",
      "1/1 [==============================] - 0s 4ms/step - loss: 14.3176 - mae: 14.3176\n",
      "Epoch 4/100\n",
      "1/1 [==============================] - 0s 5ms/step - loss: 14.1851 - mae: 14.1851\n",
      "Epoch 5/100\n",
      "1/1 [==============================] - 0s 5ms/step - loss: 14.0526 - mae: 14.0526\n",
      "Epoch 6/100\n",
      "1/1 [==============================] - 0s 5ms/step - loss: 13.9201 - mae: 13.9201\n",
      "Epoch 7/100\n",
      "1/1 [==============================] - 0s 5ms/step - loss: 13.7876 - mae: 13.7876\n",
      "Epoch 8/100\n",
      "1/1 [==============================] - 0s 5ms/step - loss: 13.6551 - mae: 13.6551\n",
      "Epoch 9/100\n",
      "1/1 [==============================] - 0s 5ms/step - loss: 13.5226 - mae: 13.5226\n",
      "Epoch 10/100\n",
      "1/1 [==============================] - 0s 5ms/step - loss: 13.3901 - mae: 13.3901\n",
      "Epoch 11/100\n",
      "1/1 [==============================] - 0s 5ms/step - loss: 13.2576 - mae: 13.2576\n",
      "Epoch 12/100\n",
      "1/1 [==============================] - 0s 5ms/step - loss: 13.1251 - mae: 13.1251\n",
      "Epoch 13/100\n",
      "1/1 [==============================] - 0s 4ms/step - loss: 12.9926 - mae: 12.9926\n",
      "Epoch 14/100\n",
      "1/1 [==============================] - 0s 5ms/step - loss: 12.8601 - mae: 12.8601\n",
      "Epoch 15/100\n",
      "1/1 [==============================] - 0s 4ms/step - loss: 12.7276 - mae: 12.7276\n",
      "Epoch 16/100\n",
      "1/1 [==============================] - 0s 5ms/step - loss: 12.5951 - mae: 12.5951\n",
      "Epoch 17/100\n",
      "1/1 [==============================] - 0s 5ms/step - loss: 12.4626 - mae: 12.4626\n",
      "Epoch 18/100\n",
      "1/1 [==============================] - 0s 5ms/step - loss: 12.3301 - mae: 12.3301\n",
      "Epoch 19/100\n",
      "1/1 [==============================] - 0s 4ms/step - loss: 12.1976 - mae: 12.1976\n",
      "Epoch 20/100\n",
      "1/1 [==============================] - 0s 4ms/step - loss: 12.0651 - mae: 12.0651\n",
      "Epoch 21/100\n",
      "1/1 [==============================] - 0s 4ms/step - loss: 11.9326 - mae: 11.9326\n",
      "Epoch 22/100\n",
      "1/1 [==============================] - 0s 5ms/step - loss: 11.8001 - mae: 11.8001\n",
      "Epoch 23/100\n",
      "1/1 [==============================] - 0s 5ms/step - loss: 11.6676 - mae: 11.6676\n",
      "Epoch 24/100\n",
      "1/1 [==============================] - 0s 5ms/step - loss: 11.5351 - mae: 11.5351\n",
      "Epoch 25/100\n",
      "1/1 [==============================] - 0s 5ms/step - loss: 11.4026 - mae: 11.4026\n",
      "Epoch 26/100\n",
      "1/1 [==============================] - 0s 4ms/step - loss: 11.2701 - mae: 11.2701\n",
      "Epoch 27/100\n",
      "1/1 [==============================] - 0s 5ms/step - loss: 11.1376 - mae: 11.1376\n",
      "Epoch 28/100\n",
      "1/1 [==============================] - 0s 5ms/step - loss: 11.0051 - mae: 11.0051\n",
      "Epoch 29/100\n",
      "1/1 [==============================] - 0s 5ms/step - loss: 10.8726 - mae: 10.8726\n",
      "Epoch 30/100\n",
      "1/1 [==============================] - 0s 5ms/step - loss: 10.7401 - mae: 10.7401\n",
      "Epoch 31/100\n",
      "1/1 [==============================] - 0s 5ms/step - loss: 10.6076 - mae: 10.6076\n",
      "Epoch 32/100\n",
      "1/1 [==============================] - 0s 6ms/step - loss: 10.4751 - mae: 10.4751\n",
      "Epoch 33/100\n",
      "1/1 [==============================] - 0s 6ms/step - loss: 10.3426 - mae: 10.3426\n",
      "Epoch 34/100\n",
      "1/1 [==============================] - 0s 4ms/step - loss: 10.2101 - mae: 10.2101\n",
      "Epoch 35/100\n",
      "1/1 [==============================] - 0s 4ms/step - loss: 10.0776 - mae: 10.0776\n",
      "Epoch 36/100\n",
      "1/1 [==============================] - 0s 5ms/step - loss: 9.9451 - mae: 9.9451\n",
      "Epoch 37/100\n",
      "1/1 [==============================] - 0s 4ms/step - loss: 9.8126 - mae: 9.8126\n",
      "Epoch 38/100\n",
      "1/1 [==============================] - 0s 5ms/step - loss: 9.6801 - mae: 9.6801\n",
      "Epoch 39/100\n",
      "1/1 [==============================] - 0s 5ms/step - loss: 9.5476 - mae: 9.5476\n",
      "Epoch 40/100\n",
      "1/1 [==============================] - 0s 5ms/step - loss: 9.4151 - mae: 9.4151\n",
      "Epoch 41/100\n",
      "1/1 [==============================] - 0s 5ms/step - loss: 9.2826 - mae: 9.2826\n",
      "Epoch 42/100\n",
      "1/1 [==============================] - 0s 5ms/step - loss: 9.1501 - mae: 9.1501\n",
      "Epoch 43/100\n",
      "1/1 [==============================] - 0s 5ms/step - loss: 9.0176 - mae: 9.0176\n",
      "Epoch 44/100\n",
      "1/1 [==============================] - 0s 5ms/step - loss: 8.8851 - mae: 8.8851\n",
      "Epoch 45/100\n",
      "1/1 [==============================] - 0s 5ms/step - loss: 8.7526 - mae: 8.7526\n",
      "Epoch 46/100\n",
      "1/1 [==============================] - 0s 4ms/step - loss: 8.6201 - mae: 8.6201\n",
      "Epoch 47/100\n",
      "1/1 [==============================] - 0s 5ms/step - loss: 8.4876 - mae: 8.4876\n",
      "Epoch 48/100\n",
      "1/1 [==============================] - 0s 5ms/step - loss: 8.3551 - mae: 8.3551\n",
      "Epoch 49/100\n",
      "1/1 [==============================] - 0s 4ms/step - loss: 8.2226 - mae: 8.2226\n",
      "Epoch 50/100\n",
      "1/1 [==============================] - 0s 5ms/step - loss: 8.0901 - mae: 8.0901\n",
      "Epoch 51/100\n",
      "1/1 [==============================] - 0s 4ms/step - loss: 7.9576 - mae: 7.9576\n",
      "Epoch 52/100\n",
      "1/1 [==============================] - 0s 5ms/step - loss: 7.8251 - mae: 7.8251\n",
      "Epoch 53/100\n",
      "1/1 [==============================] - 0s 6ms/step - loss: 7.6926 - mae: 7.6926\n",
      "Epoch 54/100\n",
      "1/1 [==============================] - 0s 5ms/step - loss: 7.5601 - mae: 7.5601\n",
      "Epoch 55/100\n",
      "1/1 [==============================] - 0s 5ms/step - loss: 7.4276 - mae: 7.4276\n",
      "Epoch 56/100\n",
      "1/1 [==============================] - 0s 5ms/step - loss: 7.2951 - mae: 7.2951\n",
      "Epoch 57/100\n",
      "1/1 [==============================] - 0s 4ms/step - loss: 7.1626 - mae: 7.1626\n",
      "Epoch 58/100\n",
      "1/1 [==============================] - 0s 4ms/step - loss: 7.0725 - mae: 7.0725\n",
      "Epoch 59/100\n",
      "1/1 [==============================] - 0s 5ms/step - loss: 7.0669 - mae: 7.0669\n",
      "Epoch 60/100\n",
      "1/1 [==============================] - 0s 5ms/step - loss: 7.0612 - mae: 7.0612\n",
      "Epoch 61/100\n",
      "1/1 [==============================] - 0s 4ms/step - loss: 7.0556 - mae: 7.0556\n",
      "Epoch 62/100\n",
      "1/1 [==============================] - 0s 5ms/step - loss: 7.0500 - mae: 7.0500\n",
      "Epoch 63/100\n",
      "1/1 [==============================] - 0s 4ms/step - loss: 7.0444 - mae: 7.0444\n",
      "Epoch 64/100\n",
      "1/1 [==============================] - 0s 5ms/step - loss: 7.0388 - mae: 7.0388\n",
      "Epoch 65/100\n",
      "1/1 [==============================] - 0s 4ms/step - loss: 7.0331 - mae: 7.0331\n",
      "Epoch 66/100\n",
      "1/1 [==============================] - 0s 4ms/step - loss: 7.0275 - mae: 7.0275\n",
      "Epoch 67/100\n",
      "1/1 [==============================] - 0s 5ms/step - loss: 7.0219 - mae: 7.0219\n",
      "Epoch 68/100\n",
      "1/1 [==============================] - 0s 4ms/step - loss: 7.0163 - mae: 7.0163\n",
      "Epoch 69/100\n",
      "1/1 [==============================] - 0s 4ms/step - loss: 7.0106 - mae: 7.0106\n",
      "Epoch 70/100\n",
      "1/1 [==============================] - 0s 6ms/step - loss: 7.0050 - mae: 7.0050\n",
      "Epoch 71/100\n",
      "1/1 [==============================] - 0s 5ms/step - loss: 6.9994 - mae: 6.9994\n",
      "Epoch 72/100\n",
      "1/1 [==============================] - 0s 5ms/step - loss: 6.9938 - mae: 6.9938\n",
      "Epoch 73/100\n",
      "1/1 [==============================] - 0s 4ms/step - loss: 6.9881 - mae: 6.9881\n",
      "Epoch 74/100\n",
      "1/1 [==============================] - 0s 4ms/step - loss: 6.9825 - mae: 6.9825\n",
      "Epoch 75/100\n",
      "1/1 [==============================] - 0s 5ms/step - loss: 6.9769 - mae: 6.9769\n",
      "Epoch 76/100\n",
      "1/1 [==============================] - 0s 5ms/step - loss: 6.9713 - mae: 6.9713\n",
      "Epoch 77/100\n",
      "1/1 [==============================] - 0s 5ms/step - loss: 6.9656 - mae: 6.9656\n",
      "Epoch 78/100\n",
      "1/1 [==============================] - 0s 4ms/step - loss: 6.9600 - mae: 6.9600\n",
      "Epoch 79/100\n",
      "1/1 [==============================] - 0s 4ms/step - loss: 6.9544 - mae: 6.9544\n",
      "Epoch 80/100\n",
      "1/1 [==============================] - 0s 5ms/step - loss: 6.9488 - mae: 6.9488\n",
      "Epoch 81/100\n",
      "1/1 [==============================] - 0s 4ms/step - loss: 6.9431 - mae: 6.9431\n",
      "Epoch 82/100\n",
      "1/1 [==============================] - 0s 4ms/step - loss: 6.9375 - mae: 6.9375\n",
      "Epoch 83/100\n",
      "1/1 [==============================] - 0s 4ms/step - loss: 6.9319 - mae: 6.9319\n",
      "Epoch 84/100\n",
      "1/1 [==============================] - 0s 4ms/step - loss: 6.9263 - mae: 6.9263\n",
      "Epoch 85/100\n",
      "1/1 [==============================] - 0s 4ms/step - loss: 6.9206 - mae: 6.9206\n",
      "Epoch 86/100\n",
      "1/1 [==============================] - 0s 5ms/step - loss: 6.9150 - mae: 6.9150\n",
      "Epoch 87/100\n",
      "1/1 [==============================] - 0s 4ms/step - loss: 6.9094 - mae: 6.9094\n",
      "Epoch 88/100\n",
      "1/1 [==============================] - 0s 5ms/step - loss: 6.9038 - mae: 6.9038\n",
      "Epoch 89/100\n",
      "1/1 [==============================] - 0s 5ms/step - loss: 6.8981 - mae: 6.8981\n",
      "Epoch 90/100\n",
      "1/1 [==============================] - 0s 5ms/step - loss: 6.8925 - mae: 6.8925\n",
      "Epoch 91/100\n",
      "1/1 [==============================] - 0s 5ms/step - loss: 6.8869 - mae: 6.8869\n",
      "Epoch 92/100\n",
      "1/1 [==============================] - 0s 4ms/step - loss: 6.8813 - mae: 6.8813\n",
      "Epoch 93/100\n",
      "1/1 [==============================] - 0s 5ms/step - loss: 6.8756 - mae: 6.8756\n",
      "Epoch 94/100\n",
      "1/1 [==============================] - 0s 5ms/step - loss: 6.8700 - mae: 6.8700\n",
      "Epoch 95/100\n",
      "1/1 [==============================] - 0s 8ms/step - loss: 6.8644 - mae: 6.8644\n",
      "Epoch 96/100\n",
      "1/1 [==============================] - 0s 9ms/step - loss: 6.8588 - mae: 6.8588\n",
      "Epoch 97/100\n",
      "1/1 [==============================] - 0s 7ms/step - loss: 6.8531 - mae: 6.8531\n",
      "Epoch 98/100\n",
      "1/1 [==============================] - 0s 7ms/step - loss: 6.8475 - mae: 6.8475\n",
      "Epoch 99/100\n",
      "1/1 [==============================] - 0s 6ms/step - loss: 6.8419 - mae: 6.8419\n",
      "Epoch 100/100\n",
      "1/1 [==============================] - 0s 5ms/step - loss: 6.8363 - mae: 6.8363\n"
     ]
    },
    {
     "data": {
      "text/plain": [
       "<keras.callbacks.History at 0x7efdaff5ead0>"
      ]
     },
     "execution_count": 13,
     "metadata": {},
     "output_type": "execute_result"
    }
   ],
   "source": [
    "# Rebuild the model\n",
    "\n",
    "# 1. Create the model\n",
    "model = tf.keras.Sequential([\n",
    "    tf.keras.layers.Dense(1, input_shape=[1]),\n",
    "])\n",
    "\n",
    "# 2. Compile the model\n",
    "model.compile(loss=tf.keras.losses.mae,\n",
    "              optimizer=tf.keras.optimizers.SGD(), \n",
    "              metrics=[\"mae\"])\n",
    "\n",
    "# 3. Fit the model (train longer)\n",
    "model.fit(X, y, epochs=100) "
   ]
  },
  {
   "cell_type": "code",
   "execution_count": 14,
   "metadata": {},
   "outputs": [
    {
     "data": {
      "text/plain": [
       "(<tf.Tensor: shape=(8,), dtype=float32, numpy=array([-7., -4., -1.,  2.,  5.,  8., 11., 14.], dtype=float32)>,\n",
       " <tf.Tensor: shape=(8,), dtype=float32, numpy=array([ 3.,  6.,  9., 12., 15., 18., 21., 24.], dtype=float32)>)"
      ]
     },
     "execution_count": 14,
     "metadata": {},
     "output_type": "execute_result"
    }
   ],
   "source": [
    "X, y"
   ]
  },
  {
   "cell_type": "code",
   "execution_count": 15,
   "metadata": {},
   "outputs": [
    {
     "name": "stdout",
     "output_type": "stream",
     "text": [
      "1/1 [==============================] - 0s 45ms/step\n"
     ]
    },
    {
     "data": {
      "text/plain": [
       "array([[29.54909]], dtype=float32)"
      ]
     },
     "execution_count": 15,
     "metadata": {},
     "output_type": "execute_result"
    }
   ],
   "source": [
    "# Check if model prediction improved\n",
    "model.predict([17.0])"
   ]
  },
  {
   "cell_type": "code",
   "execution_count": 16,
   "metadata": {},
   "outputs": [
    {
     "name": "stdout",
     "output_type": "stream",
     "text": [
      "Epoch 1/100\n"
     ]
    },
    {
     "name": "stderr",
     "output_type": "stream",
     "text": [
      "2023-05-30 16:54:23.246699: I tensorflow/compiler/xla/stream_executor/cuda/cuda_blas.cc:637] TensorFloat-32 will be used for the matrix multiplication. This will only be logged once.\n",
      "2023-05-30 16:54:23.253361: I tensorflow/compiler/mlir/tensorflow/utils/dump_mlir_util.cc:269] disabling MLIR crash reproducer, set env var `MLIR_CRASH_REPRODUCER_DIRECTORY` to enable.\n"
     ]
    },
    {
     "name": "stdout",
     "output_type": "stream",
     "text": [
      "1/1 [==============================] - 1s 616ms/step - loss: 14.6861 - mae: 14.6861\n",
      "Epoch 2/100\n",
      "1/1 [==============================] - 0s 6ms/step - loss: 14.0227 - mae: 14.0227\n",
      "Epoch 3/100\n",
      "1/1 [==============================] - 0s 6ms/step - loss: 13.3663 - mae: 13.3663\n",
      "Epoch 4/100\n",
      "1/1 [==============================] - 0s 6ms/step - loss: 12.7144 - mae: 12.7144\n",
      "Epoch 5/100\n",
      "1/1 [==============================] - 0s 6ms/step - loss: 12.0646 - mae: 12.0646\n",
      "Epoch 6/100\n",
      "1/1 [==============================] - 0s 6ms/step - loss: 11.4140 - mae: 11.4140\n",
      "Epoch 7/100\n",
      "1/1 [==============================] - 0s 6ms/step - loss: 10.7596 - mae: 10.7596\n",
      "Epoch 8/100\n",
      "1/1 [==============================] - 0s 7ms/step - loss: 10.0986 - mae: 10.0986\n",
      "Epoch 9/100\n",
      "1/1 [==============================] - 0s 6ms/step - loss: 9.4283 - mae: 9.4283\n",
      "Epoch 10/100\n",
      "1/1 [==============================] - 0s 6ms/step - loss: 8.7459 - mae: 8.7459\n",
      "Epoch 11/100\n",
      "1/1 [==============================] - 0s 5ms/step - loss: 8.0485 - mae: 8.0485\n",
      "Epoch 12/100\n",
      "1/1 [==============================] - 0s 5ms/step - loss: 7.3332 - mae: 7.3332\n",
      "Epoch 13/100\n",
      "1/1 [==============================] - 0s 6ms/step - loss: 6.6761 - mae: 6.6761\n",
      "Epoch 14/100\n",
      "1/1 [==============================] - 0s 5ms/step - loss: 6.6602 - mae: 6.6602\n",
      "Epoch 15/100\n",
      "1/1 [==============================] - 0s 5ms/step - loss: 6.9459 - mae: 6.9459\n",
      "Epoch 16/100\n",
      "1/1 [==============================] - 0s 6ms/step - loss: 7.1305 - mae: 7.1305\n",
      "Epoch 17/100\n",
      "1/1 [==============================] - 0s 6ms/step - loss: 7.2777 - mae: 7.2777\n",
      "Epoch 18/100\n",
      "1/1 [==============================] - 0s 5ms/step - loss: 7.2870 - mae: 7.2870\n",
      "Epoch 19/100\n",
      "1/1 [==============================] - 0s 5ms/step - loss: 7.1324 - mae: 7.1324\n",
      "Epoch 20/100\n",
      "1/1 [==============================] - 0s 5ms/step - loss: 6.9031 - mae: 6.9031\n",
      "Epoch 21/100\n",
      "1/1 [==============================] - 0s 6ms/step - loss: 6.6926 - mae: 6.6926\n",
      "Epoch 22/100\n",
      "1/1 [==============================] - 0s 5ms/step - loss: 6.4605 - mae: 6.4605\n",
      "Epoch 23/100\n",
      "1/1 [==============================] - 0s 5ms/step - loss: 6.2115 - mae: 6.2115\n",
      "Epoch 24/100\n",
      "1/1 [==============================] - 0s 5ms/step - loss: 6.0356 - mae: 6.0356\n",
      "Epoch 25/100\n",
      "1/1 [==============================] - 0s 6ms/step - loss: 5.9934 - mae: 5.9934\n",
      "Epoch 26/100\n",
      "1/1 [==============================] - 0s 6ms/step - loss: 5.9753 - mae: 5.9753\n",
      "Epoch 27/100\n",
      "1/1 [==============================] - 0s 5ms/step - loss: 6.0270 - mae: 6.0270\n",
      "Epoch 28/100\n",
      "1/1 [==============================] - 0s 6ms/step - loss: 5.9780 - mae: 5.9780\n",
      "Epoch 29/100\n",
      "1/1 [==============================] - 0s 5ms/step - loss: 5.8410 - mae: 5.8410\n",
      "Epoch 30/100\n",
      "1/1 [==============================] - 0s 5ms/step - loss: 5.6437 - mae: 5.6437\n",
      "Epoch 31/100\n",
      "1/1 [==============================] - 0s 6ms/step - loss: 5.5487 - mae: 5.5487\n",
      "Epoch 32/100\n",
      "1/1 [==============================] - 0s 5ms/step - loss: 5.4501 - mae: 5.4501\n",
      "Epoch 33/100\n",
      "1/1 [==============================] - 0s 5ms/step - loss: 5.3477 - mae: 5.3477\n",
      "Epoch 34/100\n",
      "1/1 [==============================] - 0s 6ms/step - loss: 5.2647 - mae: 5.2647\n",
      "Epoch 35/100\n",
      "1/1 [==============================] - 0s 8ms/step - loss: 5.2177 - mae: 5.2177\n",
      "Epoch 36/100\n",
      "1/1 [==============================] - 0s 6ms/step - loss: 5.1305 - mae: 5.1305\n",
      "Epoch 37/100\n",
      "1/1 [==============================] - 0s 6ms/step - loss: 5.0064 - mae: 5.0064\n",
      "Epoch 38/100\n",
      "1/1 [==============================] - 0s 7ms/step - loss: 4.8568 - mae: 4.8568\n",
      "Epoch 39/100\n",
      "1/1 [==============================] - 0s 5ms/step - loss: 4.7593 - mae: 4.7593\n",
      "Epoch 40/100\n",
      "1/1 [==============================] - 0s 6ms/step - loss: 4.6547 - mae: 4.6547\n",
      "Epoch 41/100\n",
      "1/1 [==============================] - 0s 6ms/step - loss: 4.5429 - mae: 4.5429\n",
      "Epoch 42/100\n",
      "1/1 [==============================] - 0s 5ms/step - loss: 4.4238 - mae: 4.4238\n",
      "Epoch 43/100\n",
      "1/1 [==============================] - 0s 6ms/step - loss: 4.2971 - mae: 4.2971\n",
      "Epoch 44/100\n",
      "1/1 [==============================] - 0s 6ms/step - loss: 4.1628 - mae: 4.1628\n",
      "Epoch 45/100\n",
      "1/1 [==============================] - 0s 6ms/step - loss: 4.0205 - mae: 4.0205\n",
      "Epoch 46/100\n",
      "1/1 [==============================] - 0s 5ms/step - loss: 3.8700 - mae: 3.8700\n",
      "Epoch 47/100\n",
      "1/1 [==============================] - 0s 6ms/step - loss: 3.7112 - mae: 3.7112\n",
      "Epoch 48/100\n",
      "1/1 [==============================] - 0s 6ms/step - loss: 3.5437 - mae: 3.5437\n",
      "Epoch 49/100\n",
      "1/1 [==============================] - 0s 5ms/step - loss: 3.4080 - mae: 3.4080\n",
      "Epoch 50/100\n",
      "1/1 [==============================] - 0s 6ms/step - loss: 3.2253 - mae: 3.2253\n",
      "Epoch 51/100\n",
      "1/1 [==============================] - 0s 6ms/step - loss: 3.0239 - mae: 3.0239\n",
      "Epoch 52/100\n",
      "1/1 [==============================] - 0s 7ms/step - loss: 2.8422 - mae: 2.8422\n",
      "Epoch 53/100\n",
      "1/1 [==============================] - 0s 6ms/step - loss: 2.6491 - mae: 2.6491\n",
      "Epoch 54/100\n",
      "1/1 [==============================] - 0s 6ms/step - loss: 2.4443 - mae: 2.4443\n",
      "Epoch 55/100\n",
      "1/1 [==============================] - 0s 6ms/step - loss: 2.2277 - mae: 2.2277\n",
      "Epoch 56/100\n",
      "1/1 [==============================] - 0s 9ms/step - loss: 2.0129 - mae: 2.0129\n",
      "Epoch 57/100\n",
      "1/1 [==============================] - 0s 7ms/step - loss: 1.7455 - mae: 1.7455\n",
      "Epoch 58/100\n",
      "1/1 [==============================] - 0s 7ms/step - loss: 1.5863 - mae: 1.5863\n",
      "Epoch 59/100\n",
      "1/1 [==============================] - 0s 6ms/step - loss: 1.3673 - mae: 1.3673\n",
      "Epoch 60/100\n",
      "1/1 [==============================] - 0s 5ms/step - loss: 1.0670 - mae: 1.0670\n",
      "Epoch 61/100\n",
      "1/1 [==============================] - 0s 6ms/step - loss: 0.6986 - mae: 0.6986\n",
      "Epoch 62/100\n",
      "1/1 [==============================] - 0s 7ms/step - loss: 0.5200 - mae: 0.5200\n",
      "Epoch 63/100\n",
      "1/1 [==============================] - 0s 7ms/step - loss: 0.1727 - mae: 0.1727\n",
      "Epoch 64/100\n",
      "1/1 [==============================] - 0s 5ms/step - loss: 0.3745 - mae: 0.3745\n",
      "Epoch 65/100\n",
      "1/1 [==============================] - 0s 6ms/step - loss: 0.6267 - mae: 0.6267\n",
      "Epoch 66/100\n",
      "1/1 [==============================] - 0s 6ms/step - loss: 0.6150 - mae: 0.6150\n",
      "Epoch 67/100\n",
      "1/1 [==============================] - 0s 6ms/step - loss: 0.9649 - mae: 0.9649\n",
      "Epoch 68/100\n",
      "1/1 [==============================] - 0s 6ms/step - loss: 1.1244 - mae: 1.1244\n",
      "Epoch 69/100\n",
      "1/1 [==============================] - 0s 5ms/step - loss: 1.0024 - mae: 1.0024\n",
      "Epoch 70/100\n",
      "1/1 [==============================] - 0s 5ms/step - loss: 0.8128 - mae: 0.8128\n",
      "Epoch 71/100\n",
      "1/1 [==============================] - 0s 5ms/step - loss: 1.0212 - mae: 1.0212\n",
      "Epoch 72/100\n",
      "1/1 [==============================] - 0s 8ms/step - loss: 0.9960 - mae: 0.9960\n",
      "Epoch 73/100\n",
      "1/1 [==============================] - 0s 6ms/step - loss: 0.7658 - mae: 0.7658\n",
      "Epoch 74/100\n",
      "1/1 [==============================] - 0s 6ms/step - loss: 0.4556 - mae: 0.4556\n",
      "Epoch 75/100\n",
      "1/1 [==============================] - 0s 6ms/step - loss: 0.4855 - mae: 0.4855\n",
      "Epoch 76/100\n",
      "1/1 [==============================] - 0s 5ms/step - loss: 0.2560 - mae: 0.2560\n",
      "Epoch 77/100\n",
      "1/1 [==============================] - 0s 6ms/step - loss: 0.2726 - mae: 0.2726\n",
      "Epoch 78/100\n",
      "1/1 [==============================] - 0s 5ms/step - loss: 0.3614 - mae: 0.3614\n",
      "Epoch 79/100\n",
      "1/1 [==============================] - 0s 5ms/step - loss: 0.2564 - mae: 0.2564\n",
      "Epoch 80/100\n",
      "1/1 [==============================] - 0s 6ms/step - loss: 0.4399 - mae: 0.4399\n",
      "Epoch 81/100\n",
      "1/1 [==============================] - 0s 6ms/step - loss: 0.4501 - mae: 0.4501\n",
      "Epoch 82/100\n",
      "1/1 [==============================] - 0s 5ms/step - loss: 0.3157 - mae: 0.3157\n",
      "Epoch 83/100\n",
      "1/1 [==============================] - 0s 6ms/step - loss: 0.3947 - mae: 0.3947\n",
      "Epoch 84/100\n",
      "1/1 [==============================] - 0s 5ms/step - loss: 0.3326 - mae: 0.3326\n",
      "Epoch 85/100\n",
      "1/1 [==============================] - 0s 5ms/step - loss: 0.1840 - mae: 0.1840\n",
      "Epoch 86/100\n",
      "1/1 [==============================] - 0s 6ms/step - loss: 0.1591 - mae: 0.1591\n",
      "Epoch 87/100\n",
      "1/1 [==============================] - 0s 5ms/step - loss: 0.1194 - mae: 0.1194\n",
      "Epoch 88/100\n",
      "1/1 [==============================] - 0s 6ms/step - loss: 0.1831 - mae: 0.1831\n",
      "Epoch 89/100\n",
      "1/1 [==============================] - 0s 6ms/step - loss: 0.1472 - mae: 0.1472\n",
      "Epoch 90/100\n",
      "1/1 [==============================] - 0s 5ms/step - loss: 0.1086 - mae: 0.1086\n",
      "Epoch 91/100\n",
      "1/1 [==============================] - 0s 6ms/step - loss: 0.1578 - mae: 0.1578\n",
      "Epoch 92/100\n",
      "1/1 [==============================] - 0s 5ms/step - loss: 0.0201 - mae: 0.0201\n",
      "Epoch 93/100\n",
      "1/1 [==============================] - 0s 6ms/step - loss: 0.3020 - mae: 0.3020\n",
      "Epoch 94/100\n",
      "1/1 [==============================] - 0s 6ms/step - loss: 0.3123 - mae: 0.3123\n",
      "Epoch 95/100\n",
      "1/1 [==============================] - 0s 6ms/step - loss: 0.2102 - mae: 0.2102\n",
      "Epoch 96/100\n",
      "1/1 [==============================] - 0s 5ms/step - loss: 0.3786 - mae: 0.3786\n",
      "Epoch 97/100\n",
      "1/1 [==============================] - 0s 5ms/step - loss: 0.4321 - mae: 0.4321\n",
      "Epoch 98/100\n",
      "1/1 [==============================] - 0s 5ms/step - loss: 0.2341 - mae: 0.2341\n",
      "Epoch 99/100\n",
      "1/1 [==============================] - 0s 6ms/step - loss: 0.2527 - mae: 0.2527\n",
      "Epoch 100/100\n",
      "1/1 [==============================] - 0s 5ms/step - loss: 0.3541 - mae: 0.3541\n"
     ]
    },
    {
     "data": {
      "text/plain": [
       "<keras.callbacks.History at 0x7efdc9aa94d0>"
      ]
     },
     "execution_count": 16,
     "metadata": {},
     "output_type": "execute_result"
    }
   ],
   "source": [
    "# Rebuild the model\n",
    "\n",
    "# 1. Create the model (add extra layer)\n",
    "model = tf.keras.Sequential([\n",
    "    tf.keras.layers.Dense(50, input_shape=[1]),\n",
    "    tf.keras.layers.Dense(1),\n",
    "])\n",
    "\n",
    "# 2. Compile the model (adjust optimizer learning rate)\n",
    "model.compile(loss=\"mae\",\n",
    "              optimizer=tf.keras.optimizers.Adam(learning_rate=0.01), # important for neural network improvement \n",
    "              metrics=[\"mae\"])\n",
    "\n",
    "# 3. Fit the model (train longer)\n",
    "model.fit(X, y, epochs=100) "
   ]
  },
  {
   "cell_type": "code",
   "execution_count": 17,
   "metadata": {},
   "outputs": [
    {
     "data": {
      "text/plain": [
       "(<tf.Tensor: shape=(8,), dtype=float32, numpy=array([-7., -4., -1.,  2.,  5.,  8., 11., 14.], dtype=float32)>,\n",
       " <tf.Tensor: shape=(8,), dtype=float32, numpy=array([ 3.,  6.,  9., 12., 15., 18., 21., 24.], dtype=float32)>)"
      ]
     },
     "execution_count": 17,
     "metadata": {},
     "output_type": "execute_result"
    }
   ],
   "source": [
    "X, y"
   ]
  },
  {
   "cell_type": "code",
   "execution_count": 18,
   "metadata": {},
   "outputs": [
    {
     "name": "stdout",
     "output_type": "stream",
     "text": [
      "1/1 [==============================] - 0s 39ms/step\n"
     ]
    },
    {
     "data": {
      "text/plain": [
       "array([[26.545353]], dtype=float32)"
      ]
     },
     "execution_count": 18,
     "metadata": {},
     "output_type": "execute_result"
    }
   ],
   "source": [
    "# Predict\n",
    "model.predict([17.0])"
   ]
  },
  {
   "attachments": {},
   "cell_type": "markdown",
   "metadata": {},
   "source": [
    "## Evaluating a model\n",
    "\n",
    "In practice, a typical workflow when building neural networks is:\n",
    "\n",
    "Build a model -> fit it -> evaluate it -> tweak the model -> fit it -> evaluate it -> tweak the model -> ...\n",
    "\n",
    "When evaluating the model, it is good practice to visualize:\n",
    "* The data\n",
    "* The model\n",
    "* The predictions of the model"
   ]
  },
  {
   "cell_type": "code",
   "execution_count": 19,
   "metadata": {},
   "outputs": [
    {
     "data": {
      "text/plain": [
       "<tf.Tensor: shape=(50,), dtype=int32, numpy=\n",
       "array([-100,  -96,  -92,  -88,  -84,  -80,  -76,  -72,  -68,  -64,  -60,\n",
       "        -56,  -52,  -48,  -44,  -40,  -36,  -32,  -28,  -24,  -20,  -16,\n",
       "        -12,   -8,   -4,    0,    4,    8,   12,   16,   20,   24,   28,\n",
       "         32,   36,   40,   44,   48,   52,   56,   60,   64,   68,   72,\n",
       "         76,   80,   84,   88,   92,   96], dtype=int32)>"
      ]
     },
     "execution_count": 19,
     "metadata": {},
     "output_type": "execute_result"
    }
   ],
   "source": [
    "# Make a bigger dataset\n",
    "X = tf.range(-100, 100, 4)\n",
    "X"
   ]
  },
  {
   "cell_type": "code",
   "execution_count": 20,
   "metadata": {},
   "outputs": [
    {
     "data": {
      "text/plain": [
       "<tf.Tensor: shape=(50,), dtype=int32, numpy=\n",
       "array([-90, -86, -82, -78, -74, -70, -66, -62, -58, -54, -50, -46, -42,\n",
       "       -38, -34, -30, -26, -22, -18, -14, -10,  -6,  -2,   2,   6,  10,\n",
       "        14,  18,  22,  26,  30,  34,  38,  42,  46,  50,  54,  58,  62,\n",
       "        66,  70,  74,  78,  82,  86,  90,  94,  98, 102, 106], dtype=int32)>"
      ]
     },
     "execution_count": 20,
     "metadata": {},
     "output_type": "execute_result"
    }
   ],
   "source": [
    "# Make labels for the dataset\n",
    "y = X + 10\n",
    "y"
   ]
  },
  {
   "cell_type": "code",
   "execution_count": 21,
   "metadata": {},
   "outputs": [
    {
     "data": {
      "text/plain": [
       "<matplotlib.collections.PathCollection at 0x7efdaffa6090>"
      ]
     },
     "execution_count": 21,
     "metadata": {},
     "output_type": "execute_result"
    },
    {
     "data": {
      "image/png": "[encoded data removed]",
      "text/plain": [
       "<Figure size 640x480 with 1 Axes>"
      ]
     },
     "metadata": {},
     "output_type": "display_data"
    }
   ],
   "source": [
    "# Visualize the data\n",
    "import matplotlib.pyplot as plt\n",
    "plt.scatter(X, y)"
   ]
  },
  {
   "attachments": {},
   "cell_type": "markdown",
   "metadata": {},
   "source": [
    "### The 3 sets\n",
    "\n",
    "* **Training set** - the model learns from this data, which is typically 70-80% of the total dataset\n",
    "* **Validation set** - the model gets tuned on this data, which is 10-15% of the total dataset\n",
    "* **Test set** - the model gets evaluated on this data to test what it has learned, this set is typically 10-15% of the total dataset"
   ]
  },
  {
   "cell_type": "code",
   "execution_count": 22,
   "metadata": {},
   "outputs": [
    {
     "data": {
      "text/plain": [
       "50"
      ]
     },
     "execution_count": 22,
     "metadata": {},
     "output_type": "execute_result"
    }
   ],
   "source": [
    "# Check the length of how the samples\n",
    "len(X)"
   ]
  },
  {
   "cell_type": "code",
   "execution_count": 23,
   "metadata": {},
   "outputs": [
    {
     "data": {
      "text/plain": [
       "(40, 10, 40, 10)"
      ]
     },
     "execution_count": 23,
     "metadata": {},
     "output_type": "execute_result"
    }
   ],
   "source": [
    "# Split the data into train and test sets\n",
    "X_train = X[:40] # first 40 samples for training\n",
    "y_train = y[:40]\n",
    "X_test = X[40:] # last 10 samples for testing\n",
    "y_test = y[40:]\n",
    "\n",
    "len(X_train), len(X_test), len(y_train), len(y_test)"
   ]
  },
  {
   "attachments": {},
   "cell_type": "markdown",
   "metadata": {},
   "source": [
    "### Visualizing the data"
   ]
  },
  {
   "cell_type": "code",
   "execution_count": 24,
   "metadata": {},
   "outputs": [
    {
     "data": {
      "text/plain": [
       "<matplotlib.legend.Legend at 0x7efdc01e1190>"
      ]
     },
     "execution_count": 24,
     "metadata": {},
     "output_type": "execute_result"
    },
    {
     "data": {
      "image/png": "[encoded data removed]",
      "text/plain": [
       "<Figure size 1000x700 with 1 Axes>"
      ]
     },
     "metadata": {},
     "output_type": "display_data"
    }
   ],
   "source": [
    "plt.figure(figsize=(10, 7))\n",
    "\n",
    "# Plot training data in blue\n",
    "plt.scatter(X_train, y_train, c=\"b\", label=\"Training data\")\n",
    "#Plot test data in green\n",
    "plt.scatter(X_test, y_test, c=\"g\", label=\"Testing data\")\n",
    "# Show legend\n",
    "plt.legend()"
   ]
  },
  {
   "cell_type": "code",
   "execution_count": 25,
   "metadata": {},
   "outputs": [
    {
     "data": {
      "text/plain": [
       "<keras.callbacks.History at 0x7efd7130f010>"
      ]
     },
     "execution_count": 25,
     "metadata": {},
     "output_type": "execute_result"
    }
   ],
   "source": [
    "# How to build a neural network for the above data\n",
    "tf.random.set_seed(42)\n",
    "\n",
    "# 1. Create a model\n",
    "model = tf.keras.Sequential([\n",
    "    tf.keras.layers.Dense(10, input_shape=[1], name=\"input_layer\"),\n",
    "    tf.keras.layers.Dense(1, name=\"output_layer\")\n",
    "], name=\"Model_1\")\n",
    "\n",
    "# 2. Compile the model\n",
    "model.compile(loss=tf.keras.losses.mae,\n",
    "              optimizer=tf.keras.optimizers.SGD(),\n",
    "              metrics=[\"mae\"])\n",
    "\n",
    "# 3. Fit the model\n",
    "model.fit(X_train, y_train, epochs=100, verbose=0)"
   ]
  },
  {
   "cell_type": "code",
   "execution_count": 26,
   "metadata": {},
   "outputs": [
    {
     "name": "stdout",
     "output_type": "stream",
     "text": [
      "Model: \"Model_1\"\n",
      "_________________________________________________________________\n",
      " Layer (type)                Output Shape              Param #   \n",
      "=================================================================\n",
      " input_layer (Dense)         (None, 10)                20        \n",
      "                                                                 \n",
      " output_layer (Dense)        (None, 1)                 11        \n",
      "                                                                 \n",
      "=================================================================\n",
      "Total params: 31\n",
      "Trainable params: 31\n",
      "Non-trainable params: 0\n",
      "_________________________________________________________________\n"
     ]
    }
   ],
   "source": [
    "model.summary()"
   ]
  },
  {
   "attachments": {},
   "cell_type": "markdown",
   "metadata": {},
   "source": [
    "* Total params - the total number of parameters in the model\n",
    "* Trainable params - these are the parameters (patterns) the model can update as it trains\n",
    "* Non-trainable params - these parameters aren't updated during training (typical use for reinforcement learning when bringing trained parameters from other models)"
   ]
  },
  {
   "cell_type": "code",
   "execution_count": 27,
   "metadata": {},
   "outputs": [
    {
     "data": {
      "image/png": "[encoded data removed]",
      "text/plain": [
       "<IPython.core.display.Image object>"
      ]
     },
     "execution_count": 27,
     "metadata": {},
     "output_type": "execute_result"
    }
   ],
   "source": [
    "from tensorflow.keras.utils import plot_model\n",
    "\n",
    "plot_model(model=model, show_shapes=True, to_file='models/model_test_plot.png')"
   ]
  },
  {
   "attachments": {},
   "cell_type": "markdown",
   "metadata": {},
   "source": [
    "### Visualizing model's predictions\n",
    "\n",
    "To visualize predictions, it's a good idea to plot them against the ground truth labels\n",
    "\n",
    "Often seen in the form of `y_test` versus `y_pred`"
   ]
  },
  {
   "cell_type": "code",
   "execution_count": 28,
   "metadata": {},
   "outputs": [
    {
     "name": "stdout",
     "output_type": "stream",
     "text": [
      "1/1 [==============================] - 0s 29ms/step\n"
     ]
    },
    {
     "data": {
      "text/plain": [
       "array([[ 70.36146 ],\n",
       "       [ 74.93859 ],\n",
       "       [ 79.51572 ],\n",
       "       [ 84.09285 ],\n",
       "       [ 88.66998 ],\n",
       "       [ 93.247116],\n",
       "       [ 97.82425 ],\n",
       "       [102.40137 ],\n",
       "       [106.9785  ],\n",
       "       [111.55563 ]], dtype=float32)"
      ]
     },
     "execution_count": 28,
     "metadata": {},
     "output_type": "execute_result"
    }
   ],
   "source": [
    "# Make some predictions\n",
    "y_pred = model.predict([X_test])\n",
    "y_pred"
   ]
  },
  {
   "cell_type": "code",
   "execution_count": 29,
   "metadata": {},
   "outputs": [
    {
     "data": {
      "text/plain": [
       "<tf.Tensor: shape=(10,), dtype=int32, numpy=array([ 70,  74,  78,  82,  86,  90,  94,  98, 102, 106], dtype=int32)>"
      ]
     },
     "execution_count": 29,
     "metadata": {},
     "output_type": "execute_result"
    }
   ],
   "source": [
    "y_test"
   ]
  },
  {
   "attachments": {},
   "cell_type": "markdown",
   "metadata": {},
   "source": [
    "Create a Python function when there is a reusable functionality"
   ]
  },
  {
   "cell_type": "code",
   "execution_count": 30,
   "metadata": {},
   "outputs": [],
   "source": [
    "# Create a plotting function\n",
    "def plot_predictions(train_data=X_train,\n",
    "                     train_labels=y_train,\n",
    "                     test_data=X_test,\n",
    "                     test_labels=y_test,\n",
    "                     predictions=y_pred):\n",
    "    \"\"\"\n",
    "    Plots training data, test data, and compare predictions to ground truth labels\n",
    "    \"\"\"\n",
    "\n",
    "    plt.figure(figsize=(10,7))\n",
    "    # Plot training data in blue\n",
    "    plt.scatter(train_data, train_labels, c=\"b\", label=\"Training data\")\n",
    "    # Plot testing data in green\n",
    "    plt.scatter(test_data, test_labels, c=\"g\", label=\"Testing data\")\n",
    "    # Plot model's predictions in red\n",
    "    plt.scatter(test_data, predictions, c=\"r\", label=\"Predictions\")\n",
    "    # Show the legend\n",
    "    plt.legend(); "
   ]
  },
  {
   "cell_type": "code",
   "execution_count": 31,
   "metadata": {},
   "outputs": [
    {
     "data": {
      "image/png": "[encoded data removed]",
      "text/plain": [
       "<Figure size 1000x700 with 1 Axes>"
      ]
     },
     "metadata": {},
     "output_type": "display_data"
    }
   ],
   "source": [
    "plot_predictions()"
   ]
  },
  {
   "attachments": {},
   "cell_type": "markdown",
   "metadata": {},
   "source": [
    "### Evaluating model's predictions with regression evaluation metrics\n",
    "\n",
    "Depending on the problem, there will be different evaluation metrics to evaluate model's performance.\n",
    "\n",
    "Regression 2 main metrics:\n",
    "* MAE - mean absolute error, how wrong is each of model's predictions\n",
    "* MSE - mean square error, square the average errors"
   ]
  },
  {
   "cell_type": "code",
   "execution_count": 32,
   "metadata": {},
   "outputs": [
    {
     "name": "stdout",
     "output_type": "stream",
     "text": [
      "1/1 [==============================] - 0s 74ms/step - loss: 2.9585 - mae: 2.9585\n"
     ]
    },
    {
     "data": {
      "text/plain": [
       "[2.9585464000701904, 2.9585464000701904]"
      ]
     },
     "execution_count": 32,
     "metadata": {},
     "output_type": "execute_result"
    }
   ],
   "source": [
    "# Evaluate the model on the test set\n",
    "model.evaluate(X_test, y_test)"
   ]
  },
  {
   "cell_type": "code",
   "execution_count": 33,
   "metadata": {},
   "outputs": [
    {
     "data": {
      "text/plain": [
       "<tf.Tensor: shape=(), dtype=float32, numpy=2.9585464>"
      ]
     },
     "execution_count": 33,
     "metadata": {},
     "output_type": "execute_result"
    }
   ],
   "source": [
    "# Calculate the mean absolute error \n",
    "mae = tf.metrics.mean_absolute_error(y_true=y_test, \n",
    "                                     y_pred=tf.squeeze(y_pred)) # remove extra dimension with squeeze()\n",
    "mae"
   ]
  },
  {
   "cell_type": "code",
   "execution_count": 34,
   "metadata": {},
   "outputs": [
    {
     "data": {
      "text/plain": [
       "<tf.Tensor: shape=(), dtype=float32, numpy=11.500903>"
      ]
     },
     "execution_count": 34,
     "metadata": {},
     "output_type": "execute_result"
    }
   ],
   "source": [
    "# Calcullate the mean squared error\n",
    "mse = tf.metrics.mean_squared_error(y_true=y_test, \n",
    "                                     y_pred=tf.squeeze(y_pred)) # remove extra dimension with squeeze()\n",
    "mse"
   ]
  },
  {
   "cell_type": "code",
   "execution_count": 35,
   "metadata": {},
   "outputs": [],
   "source": [
    "# Make some functions to reuse MAE and MSE\n",
    "def mae(y_true, y_pred):\n",
    "    return tf.metrics.mean_absolute_error(y_true=y_true,\n",
    "                                          y_pred=tf.squeeze(y_pred))\n",
    "\n",
    "def mse(y_true, y_pred):\n",
    "    return tf.metrics.mean_squared_error(y_true=y_true,\n",
    "                                          y_pred=tf.squeeze(y_pred))"
   ]
  },
  {
   "attachments": {},
   "cell_type": "markdown",
   "metadata": {},
   "source": [
    "### Running experiments to improve model\n",
    "\n",
    "Build a model -> fit it -> evaluate it -> tweak model -> fit it -> evaluate it -> tweak model -> ...\n",
    "\n",
    "1. Get more data - get more examples for model to train on (more opportunites to learn patterns or relationships between features and labels)\n",
    "2. Make model larger (using more complex model) - this might come in the form of more layers or more hidden units in each layer.\n",
    "3. Train for longer - give the model more chances to find patterns in the data\n",
    "\n",
    "Do 3 modelling experiments:\n",
    "1. `model_1` - same as original model, 1 layer, trained for 100 epochs \n",
    "2. `model_2`- 2 layers, trained for 100 epochs\n",
    "3. `model_3` - 2 layers, trained for 500 epochs"
   ]
  },
  {
   "attachments": {},
   "cell_type": "markdown",
   "metadata": {},
   "source": [
    "**Build `model_1`**"
   ]
  },
  {
   "cell_type": "code",
   "execution_count": 36,
   "metadata": {},
   "outputs": [
    {
     "name": "stdout",
     "output_type": "stream",
     "text": [
      "Epoch 1/100\n",
      "2/2 [==============================] - 0s 8ms/step - loss: 47.2813 - mae: 47.2813\n",
      "Epoch 2/100\n",
      "2/2 [==============================] - 0s 5ms/step - loss: 15.9154 - mae: 15.9154\n",
      "Epoch 3/100\n",
      "2/2 [==============================] - 0s 5ms/step - loss: 14.7554 - mae: 14.7554\n",
      "Epoch 4/100\n",
      "2/2 [==============================] - 0s 5ms/step - loss: 7.9621 - mae: 7.9621\n",
      "Epoch 5/100\n",
      "2/2 [==============================] - 0s 5ms/step - loss: 10.2329 - mae: 10.2329\n",
      "Epoch 6/100\n",
      "2/2 [==============================] - 0s 5ms/step - loss: 9.4894 - mae: 9.4894\n",
      "Epoch 7/100\n",
      "2/2 [==============================] - 0s 5ms/step - loss: 8.6213 - mae: 8.6213\n",
      "Epoch 8/100\n",
      "2/2 [==============================] - 0s 4ms/step - loss: 9.0590 - mae: 9.0590\n",
      "Epoch 9/100\n",
      "2/2 [==============================] - 0s 6ms/step - loss: 18.8585 - mae: 18.8585\n",
      "Epoch 10/100\n",
      "2/2 [==============================] - 0s 5ms/step - loss: 10.1815 - mae: 10.1815\n",
      "Epoch 11/100\n",
      "2/2 [==============================] - 0s 9ms/step - loss: 8.4309 - mae: 8.4309\n",
      "Epoch 12/100\n",
      "2/2 [==============================] - 0s 8ms/step - loss: 10.7198 - mae: 10.7198\n",
      "Epoch 13/100\n",
      "2/2 [==============================] - 0s 4ms/step - loss: 9.8268 - mae: 9.8268\n",
      "Epoch 14/100\n",
      "2/2 [==============================] - 0s 6ms/step - loss: 16.1224 - mae: 16.1224\n",
      "Epoch 15/100\n",
      "2/2 [==============================] - 0s 4ms/step - loss: 11.3327 - mae: 11.3327\n",
      "Epoch 16/100\n",
      "2/2 [==============================] - 0s 5ms/step - loss: 8.5745 - mae: 8.5745\n",
      "Epoch 17/100\n",
      "2/2 [==============================] - 0s 5ms/step - loss: 13.7039 - mae: 13.7039\n",
      "Epoch 18/100\n",
      "2/2 [==============================] - 0s 5ms/step - loss: 11.5463 - mae: 11.5463\n",
      "Epoch 19/100\n",
      "2/2 [==============================] - 0s 5ms/step - loss: 17.8360 - mae: 17.8360\n",
      "Epoch 20/100\n",
      "2/2 [==============================] - 0s 7ms/step - loss: 14.9712 - mae: 14.9712\n",
      "Epoch 21/100\n",
      "2/2 [==============================] - 0s 4ms/step - loss: 10.8539 - mae: 10.8539\n",
      "Epoch 22/100\n",
      "2/2 [==============================] - 0s 6ms/step - loss: 8.6051 - mae: 8.6051\n",
      "Epoch 23/100\n",
      "2/2 [==============================] - 0s 5ms/step - loss: 9.7210 - mae: 9.7210\n",
      "Epoch 24/100\n",
      "2/2 [==============================] - 0s 5ms/step - loss: 10.9656 - mae: 10.9656\n",
      "Epoch 25/100\n",
      "2/2 [==============================] - 0s 5ms/step - loss: 9.1707 - mae: 9.1707\n",
      "Epoch 26/100\n",
      "2/2 [==============================] - 0s 5ms/step - loss: 13.2032 - mae: 13.2032\n",
      "Epoch 27/100\n",
      "2/2 [==============================] - 0s 5ms/step - loss: 10.6753 - mae: 10.6753\n",
      "Epoch 28/100\n",
      "2/2 [==============================] - 0s 4ms/step - loss: 12.8959 - mae: 12.8959\n",
      "Epoch 29/100\n",
      "2/2 [==============================] - 0s 5ms/step - loss: 9.5198 - mae: 9.5198\n",
      "Epoch 30/100\n",
      "2/2 [==============================] - 0s 6ms/step - loss: 16.4191 - mae: 16.4191\n",
      "Epoch 31/100\n",
      "2/2 [==============================] - 0s 5ms/step - loss: 23.5793 - mae: 23.5793\n",
      "Epoch 32/100\n",
      "2/2 [==============================] - 0s 4ms/step - loss: 7.6192 - mae: 7.6192\n",
      "Epoch 33/100\n",
      "2/2 [==============================] - 0s 4ms/step - loss: 9.3160 - mae: 9.3160\n",
      "Epoch 34/100\n",
      "2/2 [==============================] - 0s 4ms/step - loss: 13.6886 - mae: 13.6886\n",
      "Epoch 35/100\n",
      "2/2 [==============================] - 0s 4ms/step - loss: 11.1644 - mae: 11.1644\n",
      "Epoch 36/100\n",
      "2/2 [==============================] - 0s 4ms/step - loss: 13.3852 - mae: 13.3852\n",
      "Epoch 37/100\n",
      "2/2 [==============================] - 0s 5ms/step - loss: 9.4623 - mae: 9.4623\n",
      "Epoch 38/100\n",
      "2/2 [==============================] - 0s 4ms/step - loss: 10.1148 - mae: 10.1148\n",
      "Epoch 39/100\n",
      "2/2 [==============================] - 0s 4ms/step - loss: 10.2165 - mae: 10.2165\n",
      "Epoch 40/100\n",
      "2/2 [==============================] - 0s 4ms/step - loss: 10.9604 - mae: 10.9604\n",
      "Epoch 41/100\n",
      "2/2 [==============================] - 0s 4ms/step - loss: 7.9370 - mae: 7.9370\n",
      "Epoch 42/100\n",
      "2/2 [==============================] - 0s 5ms/step - loss: 10.5928 - mae: 10.5928\n",
      "Epoch 43/100\n",
      "2/2 [==============================] - 0s 4ms/step - loss: 7.2205 - mae: 7.2205\n",
      "Epoch 44/100\n",
      "2/2 [==============================] - 0s 4ms/step - loss: 8.0059 - mae: 8.0059\n",
      "Epoch 45/100\n",
      "2/2 [==============================] - 0s 4ms/step - loss: 9.7994 - mae: 9.7994\n",
      "Epoch 46/100\n",
      "2/2 [==============================] - 0s 4ms/step - loss: 8.8751 - mae: 8.8751\n",
      "Epoch 47/100\n",
      "2/2 [==============================] - 0s 4ms/step - loss: 7.5832 - mae: 7.5832\n",
      "Epoch 48/100\n",
      "2/2 [==============================] - 0s 4ms/step - loss: 8.5844 - mae: 8.5844\n",
      "Epoch 49/100\n",
      "2/2 [==============================] - 0s 4ms/step - loss: 10.0046 - mae: 10.0046\n",
      "Epoch 50/100\n",
      "2/2 [==============================] - 0s 4ms/step - loss: 9.0362 - mae: 9.0362\n",
      "Epoch 51/100\n",
      "2/2 [==============================] - 0s 4ms/step - loss: 10.6740 - mae: 10.6740\n",
      "Epoch 52/100\n",
      "2/2 [==============================] - 0s 4ms/step - loss: 15.3072 - mae: 15.3072\n",
      "Epoch 53/100\n",
      "2/2 [==============================] - 0s 4ms/step - loss: 14.3266 - mae: 14.3266\n",
      "Epoch 54/100\n",
      "2/2 [==============================] - 0s 4ms/step - loss: 21.6232 - mae: 21.6232\n",
      "Epoch 55/100\n",
      "2/2 [==============================] - 0s 4ms/step - loss: 15.9909 - mae: 15.9909\n",
      "Epoch 56/100\n",
      "2/2 [==============================] - 0s 4ms/step - loss: 10.2992 - mae: 10.2992\n",
      "Epoch 57/100\n",
      "2/2 [==============================] - 0s 5ms/step - loss: 9.7742 - mae: 9.7742\n",
      "Epoch 58/100\n",
      "2/2 [==============================] - 0s 4ms/step - loss: 9.0607 - mae: 9.0607\n",
      "Epoch 59/100\n",
      "2/2 [==============================] - 0s 4ms/step - loss: 8.2641 - mae: 8.2641\n",
      "Epoch 60/100\n",
      "2/2 [==============================] - 0s 5ms/step - loss: 9.3627 - mae: 9.3627\n",
      "Epoch 61/100\n",
      "2/2 [==============================] - 0s 4ms/step - loss: 11.1701 - mae: 11.1701\n",
      "Epoch 62/100\n",
      "2/2 [==============================] - 0s 4ms/step - loss: 12.0883 - mae: 12.0883\n",
      "Epoch 63/100\n",
      "2/2 [==============================] - 0s 3ms/step - loss: 7.2775 - mae: 7.2775\n",
      "Epoch 64/100\n",
      "2/2 [==============================] - 0s 5ms/step - loss: 12.4334 - mae: 12.4334\n",
      "Epoch 65/100\n",
      "2/2 [==============================] - 0s 4ms/step - loss: 10.5060 - mae: 10.5060\n",
      "Epoch 66/100\n",
      "2/2 [==============================] - 0s 4ms/step - loss: 15.6206 - mae: 15.6206\n",
      "Epoch 67/100\n",
      "2/2 [==============================] - 0s 4ms/step - loss: 10.0224 - mae: 10.0224\n",
      "Epoch 68/100\n",
      "2/2 [==============================] - 0s 4ms/step - loss: 8.7317 - mae: 8.7317\n",
      "Epoch 69/100\n",
      "2/2 [==============================] - 0s 4ms/step - loss: 13.4981 - mae: 13.4981\n",
      "Epoch 70/100\n",
      "2/2 [==============================] - 0s 4ms/step - loss: 7.4782 - mae: 7.4782\n",
      "Epoch 71/100\n",
      "2/2 [==============================] - 0s 4ms/step - loss: 12.2328 - mae: 12.2328\n",
      "Epoch 72/100\n",
      "2/2 [==============================] - 0s 4ms/step - loss: 8.5432 - mae: 8.5432\n",
      "Epoch 73/100\n",
      "2/2 [==============================] - 0s 4ms/step - loss: 7.0485 - mae: 7.0485\n",
      "Epoch 74/100\n",
      "2/2 [==============================] - 0s 4ms/step - loss: 9.9416 - mae: 9.9416\n",
      "Epoch 75/100\n",
      "2/2 [==============================] - 0s 4ms/step - loss: 9.9438 - mae: 9.9438\n",
      "Epoch 76/100\n",
      "2/2 [==============================] - 0s 4ms/step - loss: 10.1108 - mae: 10.1108\n",
      "Epoch 77/100\n",
      "2/2 [==============================] - 0s 5ms/step - loss: 12.9559 - mae: 12.9559\n",
      "Epoch 78/100\n",
      "2/2 [==============================] - 0s 4ms/step - loss: 11.1579 - mae: 11.1579\n",
      "Epoch 79/100\n",
      "2/2 [==============================] - 0s 4ms/step - loss: 14.7110 - mae: 14.7110\n",
      "Epoch 80/100\n",
      "2/2 [==============================] - 0s 4ms/step - loss: 8.9320 - mae: 8.9320\n",
      "Epoch 81/100\n",
      "2/2 [==============================] - 0s 4ms/step - loss: 10.7745 - mae: 10.7745\n",
      "Epoch 82/100\n",
      "2/2 [==============================] - 0s 4ms/step - loss: 8.3998 - mae: 8.3998\n",
      "Epoch 83/100\n",
      "2/2 [==============================] - 0s 4ms/step - loss: 9.2309 - mae: 9.2309\n",
      "Epoch 84/100\n",
      "2/2 [==============================] - 0s 4ms/step - loss: 8.9503 - mae: 8.9503\n",
      "Epoch 85/100\n",
      "2/2 [==============================] - 0s 5ms/step - loss: 13.1987 - mae: 13.1987\n",
      "Epoch 86/100\n",
      "2/2 [==============================] - 0s 4ms/step - loss: 13.7126 - mae: 13.7126\n",
      "Epoch 87/100\n",
      "2/2 [==============================] - 0s 4ms/step - loss: 13.1971 - mae: 13.1971\n",
      "Epoch 88/100\n",
      "2/2 [==============================] - 0s 4ms/step - loss: 11.5240 - mae: 11.5240\n",
      "Epoch 89/100\n",
      "2/2 [==============================] - 0s 4ms/step - loss: 7.8131 - mae: 7.8131\n",
      "Epoch 90/100\n",
      "2/2 [==============================] - 0s 4ms/step - loss: 10.9394 - mae: 10.9394\n",
      "Epoch 91/100\n",
      "2/2 [==============================] - 0s 4ms/step - loss: 6.7585 - mae: 6.7585\n",
      "Epoch 92/100\n",
      "2/2 [==============================] - 0s 4ms/step - loss: 10.1321 - mae: 10.1321\n",
      "Epoch 93/100\n",
      "2/2 [==============================] - 0s 5ms/step - loss: 7.6147 - mae: 7.6147\n",
      "Epoch 94/100\n",
      "2/2 [==============================] - 0s 4ms/step - loss: 9.2474 - mae: 9.2474\n",
      "Epoch 95/100\n",
      "2/2 [==============================] - 0s 4ms/step - loss: 10.8360 - mae: 10.8360\n",
      "Epoch 96/100\n",
      "2/2 [==============================] - 0s 3ms/step - loss: 10.3038 - mae: 10.3038\n",
      "Epoch 97/100\n",
      "2/2 [==============================] - 0s 5ms/step - loss: 7.6861 - mae: 7.6861\n",
      "Epoch 98/100\n",
      "2/2 [==============================] - 0s 3ms/step - loss: 8.6220 - mae: 8.6220\n",
      "Epoch 99/100\n",
      "2/2 [==============================] - 0s 4ms/step - loss: 9.4005 - mae: 9.4005\n",
      "Epoch 100/100\n",
      "2/2 [==============================] - 0s 4ms/step - loss: 8.8465 - mae: 8.8465\n"
     ]
    },
    {
     "data": {
      "text/plain": [
       "<keras.callbacks.History at 0x7efd6a9a2cd0>"
      ]
     },
     "execution_count": 36,
     "metadata": {},
     "output_type": "execute_result"
    }
   ],
   "source": [
    "# Set random seed\n",
    "tf.random.set_seed(42)\n",
    "\n",
    "# 1. Create the model\n",
    "model_1 = tf.keras.Sequential([\n",
    "    tf.keras.layers.Dense(1, input_shape=[1])\n",
    "])\n",
    "\n",
    "# 2. Compile the model\n",
    "model_1.compile(loss=\"mae\",\n",
    "                optimizer=tf.keras.optimizers.SGD(),\n",
    "                metrics=[\"mae\"])\n",
    "\n",
    "# 3. Fit the model\n",
    "model_1.fit(X_train, y_train, epochs=100)"
   ]
  },
  {
   "cell_type": "code",
   "execution_count": 37,
   "metadata": {},
   "outputs": [
    {
     "name": "stdout",
     "output_type": "stream",
     "text": [
      "WARNING:tensorflow:5 out of the last 5 calls to <function Model.make_predict_function.<locals>.predict_function at 0x7efd71352ca0> triggered tf.function retracing. Tracing is expensive and the excessive number of tracings could be due to (1) creating @tf.function repeatedly in a loop, (2) passing tensors with different shapes, (3) passing Python objects instead of tensors. For (1), please define your @tf.function outside of the loop. For (2), @tf.function has reduce_retracing=True option that can avoid unnecessary retracing. For (3), please refer to https://www.tensorflow.org/guide/function#controlling_retracing and https://www.tensorflow.org/api_docs/python/tf/function for  more details.\n",
      "1/1 [==============================] - 0s 26ms/step\n"
     ]
    },
    {
     "data": {
      "image/png": "[encoded data removed]",
      "text/plain": [
       "<Figure size 1000x700 with 1 Axes>"
      ]
     },
     "metadata": {},
     "output_type": "display_data"
    }
   ],
   "source": [
    "# Make and plot predictions for model_1\n",
    "y_preds_1 = model_1.predict(X_test) \n",
    "plot_predictions(predictions=y_preds_1)"
   ]
  },
  {
   "cell_type": "code",
   "execution_count": 38,
   "metadata": {},
   "outputs": [
    {
     "data": {
      "text/plain": [
       "(<tf.Tensor: shape=(), dtype=float32, numpy=8.5968485>,\n",
       " <tf.Tensor: shape=(), dtype=float32, numpy=80.404884>)"
      ]
     },
     "execution_count": 38,
     "metadata": {},
     "output_type": "execute_result"
    }
   ],
   "source": [
    "# Calculate model_1 evaluation metrics\n",
    "mae_1 = mae(y_test, y_preds_1)\n",
    "mse_1 = mse(y_test, y_preds_1)\n",
    "mae_1, mse_1"
   ]
  },
  {
   "attachments": {},
   "cell_type": "markdown",
   "metadata": {},
   "source": [
    "**Build `model_2`**\n",
    "\n",
    "* 2 dense layers, trained for 100 epochs"
   ]
  },
  {
   "cell_type": "code",
   "execution_count": 39,
   "metadata": {},
   "outputs": [
    {
     "name": "stdout",
     "output_type": "stream",
     "text": [
      "Epoch 1/100\n",
      "2/2 [==============================] - 0s 8ms/step - loss: 26.7058 - mse: 1575.4437\n",
      "Epoch 2/100\n",
      "2/2 [==============================] - 0s 5ms/step - loss: 24.5698 - mse: 980.6637\n",
      "Epoch 3/100\n",
      "2/2 [==============================] - 0s 5ms/step - loss: 29.2672 - mse: 1261.4222\n",
      "Epoch 4/100\n",
      "2/2 [==============================] - 0s 4ms/step - loss: 15.1150 - mse: 367.8800\n",
      "Epoch 5/100\n",
      "2/2 [==============================] - 0s 4ms/step - loss: 21.7701 - mse: 691.3553\n",
      "Epoch 6/100\n",
      "2/2 [==============================] - 0s 5ms/step - loss: 11.8996 - mse: 166.9041\n",
      "Epoch 7/100\n",
      "2/2 [==============================] - 0s 5ms/step - loss: 13.0397 - mse: 237.2389\n",
      "Epoch 8/100\n",
      "2/2 [==============================] - 0s 5ms/step - loss: 11.2185 - mse: 165.5720\n",
      "Epoch 9/100\n",
      "2/2 [==============================] - 0s 5ms/step - loss: 41.5497 - mse: 2740.3318\n",
      "Epoch 10/100\n",
      "2/2 [==============================] - 0s 5ms/step - loss: 28.8072 - mse: 1171.9088\n",
      "Epoch 11/100\n",
      "2/2 [==============================] - 0s 4ms/step - loss: 9.4139 - mse: 119.0438\n",
      "Epoch 12/100\n",
      "2/2 [==============================] - 0s 4ms/step - loss: 26.3215 - mse: 959.1623\n",
      "Epoch 13/100\n",
      "2/2 [==============================] - 0s 4ms/step - loss: 14.5453 - mse: 284.8975\n",
      "Epoch 14/100\n",
      "2/2 [==============================] - 0s 4ms/step - loss: 30.1456 - mse: 1454.6721\n",
      "Epoch 15/100\n",
      "2/2 [==============================] - 0s 4ms/step - loss: 19.9357 - mse: 557.0050\n",
      "Epoch 16/100\n",
      "2/2 [==============================] - 0s 5ms/step - loss: 9.9007 - mse: 125.6450\n",
      "Epoch 17/100\n",
      "2/2 [==============================] - 0s 5ms/step - loss: 17.8006 - mse: 419.6898\n",
      "Epoch 18/100\n",
      "2/2 [==============================] - 0s 5ms/step - loss: 14.2756 - mse: 322.5657\n",
      "Epoch 19/100\n",
      "2/2 [==============================] - 0s 5ms/step - loss: 14.3721 - mse: 325.0225\n",
      "Epoch 20/100\n",
      "2/2 [==============================] - 0s 5ms/step - loss: 10.4429 - mse: 149.1023\n",
      "Epoch 21/100\n",
      "2/2 [==============================] - 0s 5ms/step - loss: 15.1642 - mse: 311.6456\n",
      "Epoch 22/100\n",
      "2/2 [==============================] - 0s 4ms/step - loss: 15.4952 - mse: 330.6161\n",
      "Epoch 23/100\n",
      "2/2 [==============================] - 0s 4ms/step - loss: 9.2448 - mse: 118.7070\n",
      "Epoch 24/100\n",
      "2/2 [==============================] - 0s 5ms/step - loss: 17.2751 - mse: 409.0879\n",
      "Epoch 25/100\n",
      "2/2 [==============================] - 0s 5ms/step - loss: 15.9472 - mse: 334.2071\n",
      "Epoch 26/100\n",
      "2/2 [==============================] - 0s 6ms/step - loss: 20.9465 - mse: 650.1107\n",
      "Epoch 27/100\n",
      "2/2 [==============================] - 0s 5ms/step - loss: 25.9284 - mse: 1048.5979\n",
      "Epoch 28/100\n",
      "2/2 [==============================] - 0s 5ms/step - loss: 18.4316 - mse: 537.6397\n",
      "Epoch 29/100\n",
      "2/2 [==============================] - 0s 5ms/step - loss: 9.2450 - mse: 97.8888\n",
      "Epoch 30/100\n",
      "2/2 [==============================] - 0s 5ms/step - loss: 29.0431 - mse: 1505.9407\n",
      "Epoch 31/100\n",
      "2/2 [==============================] - 0s 5ms/step - loss: 52.5984 - mse: 4946.3213\n",
      "Epoch 32/100\n",
      "2/2 [==============================] - 0s 5ms/step - loss: 11.9131 - mse: 205.9737\n",
      "Epoch 33/100\n",
      "2/2 [==============================] - 0s 5ms/step - loss: 15.4937 - mse: 330.6608\n",
      "Epoch 34/100\n",
      "2/2 [==============================] - 0s 6ms/step - loss: 12.5962 - mse: 208.9619\n",
      "Epoch 35/100\n",
      "2/2 [==============================] - 0s 5ms/step - loss: 9.1983 - mse: 91.5792\n",
      "Epoch 36/100\n",
      "2/2 [==============================] - 0s 5ms/step - loss: 16.4731 - mse: 394.3025\n",
      "Epoch 37/100\n",
      "2/2 [==============================] - 0s 5ms/step - loss: 11.0887 - mse: 192.2762\n",
      "Epoch 38/100\n",
      "2/2 [==============================] - 0s 5ms/step - loss: 18.2179 - mse: 437.3552\n",
      "Epoch 39/100\n",
      "2/2 [==============================] - 0s 5ms/step - loss: 19.1497 - mse: 534.1166\n",
      "Epoch 40/100\n",
      "2/2 [==============================] - 0s 5ms/step - loss: 20.5187 - mse: 614.9434\n",
      "Epoch 41/100\n",
      "2/2 [==============================] - 0s 5ms/step - loss: 14.8058 - mse: 274.1381\n",
      "Epoch 42/100\n",
      "2/2 [==============================] - 0s 5ms/step - loss: 12.2030 - mse: 181.9930\n",
      "Epoch 43/100\n",
      "2/2 [==============================] - 0s 7ms/step - loss: 10.6968 - mse: 162.9852\n",
      "Epoch 44/100\n",
      "2/2 [==============================] - 0s 7ms/step - loss: 32.2607 - mse: 1711.6562\n",
      "Epoch 45/100\n",
      "2/2 [==============================] - 0s 6ms/step - loss: 12.4697 - mse: 201.6398\n",
      "Epoch 46/100\n",
      "2/2 [==============================] - 0s 5ms/step - loss: 17.5122 - mse: 459.5063\n",
      "Epoch 47/100\n",
      "2/2 [==============================] - 0s 5ms/step - loss: 15.7589 - mse: 339.4122\n",
      "Epoch 48/100\n",
      "2/2 [==============================] - 0s 4ms/step - loss: 8.3787 - mse: 112.8011\n",
      "Epoch 49/100\n",
      "2/2 [==============================] - 0s 5ms/step - loss: 13.9894 - mse: 268.9449\n",
      "Epoch 50/100\n",
      "2/2 [==============================] - 0s 4ms/step - loss: 12.8293 - mse: 215.4946\n",
      "Epoch 51/100\n",
      "2/2 [==============================] - 0s 5ms/step - loss: 14.8400 - mse: 309.6325\n",
      "Epoch 52/100\n",
      "2/2 [==============================] - 0s 4ms/step - loss: 18.7256 - mse: 529.8275\n",
      "Epoch 53/100\n",
      "2/2 [==============================] - 0s 4ms/step - loss: 24.1739 - mse: 828.7518\n",
      "Epoch 54/100\n",
      "2/2 [==============================] - 0s 4ms/step - loss: 23.1666 - mse: 803.7805\n",
      "Epoch 55/100\n",
      "2/2 [==============================] - 0s 5ms/step - loss: 24.0169 - mse: 867.8517\n",
      "Epoch 56/100\n",
      "2/2 [==============================] - 0s 4ms/step - loss: 11.1591 - mse: 171.1264\n",
      "Epoch 57/100\n",
      "2/2 [==============================] - 0s 5ms/step - loss: 13.1119 - mse: 213.7607\n",
      "Epoch 58/100\n",
      "2/2 [==============================] - 0s 4ms/step - loss: 9.8097 - mse: 106.2068\n",
      "Epoch 59/100\n",
      "2/2 [==============================] - 0s 4ms/step - loss: 13.2968 - mse: 248.7558\n",
      "Epoch 60/100\n",
      "2/2 [==============================] - 0s 4ms/step - loss: 10.8674 - mse: 139.1144\n",
      "Epoch 61/100\n",
      "2/2 [==============================] - 0s 4ms/step - loss: 13.4649 - mse: 241.0966\n",
      "Epoch 62/100\n",
      "2/2 [==============================] - 0s 4ms/step - loss: 17.4807 - mse: 466.2210\n",
      "Epoch 63/100\n",
      "2/2 [==============================] - 0s 5ms/step - loss: 9.1585 - mse: 87.7261\n",
      "Epoch 64/100\n",
      "2/2 [==============================] - 0s 4ms/step - loss: 18.3525 - mse: 489.6006\n",
      "Epoch 65/100\n",
      "2/2 [==============================] - 0s 5ms/step - loss: 10.1137 - mse: 114.7099\n",
      "Epoch 66/100\n",
      "2/2 [==============================] - 0s 5ms/step - loss: 24.2081 - mse: 884.0312\n",
      "Epoch 67/100\n",
      "2/2 [==============================] - 0s 4ms/step - loss: 10.8780 - mse: 142.2062\n",
      "Epoch 68/100\n",
      "2/2 [==============================] - 0s 5ms/step - loss: 10.7637 - mse: 158.2633\n",
      "Epoch 69/100\n",
      "2/2 [==============================] - 0s 5ms/step - loss: 23.1889 - mse: 777.0109\n",
      "Epoch 70/100\n",
      "2/2 [==============================] - 0s 5ms/step - loss: 8.8274 - mse: 143.2975\n",
      "Epoch 71/100\n",
      "2/2 [==============================] - 0s 4ms/step - loss: 16.0022 - mse: 348.7599\n",
      "Epoch 72/100\n",
      "2/2 [==============================] - 0s 5ms/step - loss: 8.1568 - mse: 109.6439\n",
      "Epoch 73/100\n",
      "2/2 [==============================] - 0s 5ms/step - loss: 9.4700 - mse: 152.9034\n",
      "Epoch 74/100\n",
      "2/2 [==============================] - 0s 5ms/step - loss: 28.1737 - mse: 1111.7892\n",
      "Epoch 75/100\n",
      "2/2 [==============================] - 0s 5ms/step - loss: 10.1827 - mse: 145.6152\n",
      "Epoch 76/100\n",
      "2/2 [==============================] - 0s 5ms/step - loss: 13.1294 - mse: 217.7197\n",
      "Epoch 77/100\n",
      "2/2 [==============================] - 0s 5ms/step - loss: 18.3386 - mse: 527.0767\n",
      "Epoch 78/100\n",
      "2/2 [==============================] - 0s 4ms/step - loss: 9.0128 - mse: 91.0993\n",
      "Epoch 79/100\n",
      "2/2 [==============================] - 0s 4ms/step - loss: 29.2849 - mse: 1363.2775\n",
      "Epoch 80/100\n",
      "2/2 [==============================] - 0s 4ms/step - loss: 31.7198 - mse: 1604.7521\n",
      "Epoch 81/100\n",
      "2/2 [==============================] - 0s 4ms/step - loss: 13.9425 - mse: 275.6153\n",
      "Epoch 82/100\n",
      "2/2 [==============================] - 0s 5ms/step - loss: 15.6865 - mse: 339.2123\n",
      "Epoch 83/100\n",
      "2/2 [==============================] - 0s 4ms/step - loss: 11.1755 - mse: 187.2424\n",
      "Epoch 84/100\n",
      "2/2 [==============================] - 0s 4ms/step - loss: 7.3123 - mse: 73.4120\n",
      "Epoch 85/100\n",
      "2/2 [==============================] - 0s 5ms/step - loss: 15.1161 - mse: 318.8121\n",
      "Epoch 86/100\n",
      "2/2 [==============================] - 0s 4ms/step - loss: 15.4082 - mse: 318.7078\n",
      "Epoch 87/100\n",
      "2/2 [==============================] - 0s 4ms/step - loss: 19.3462 - mse: 532.1626\n",
      "Epoch 88/100\n",
      "2/2 [==============================] - 0s 5ms/step - loss: 29.2088 - mse: 1231.1432\n",
      "Epoch 89/100\n",
      "2/2 [==============================] - 0s 5ms/step - loss: 10.0991 - mse: 124.4000\n",
      "Epoch 90/100\n",
      "2/2 [==============================] - 0s 5ms/step - loss: 21.0184 - mse: 632.4604\n",
      "Epoch 91/100\n",
      "2/2 [==============================] - 0s 4ms/step - loss: 10.4638 - mse: 164.3020\n",
      "Epoch 92/100\n",
      "2/2 [==============================] - 0s 4ms/step - loss: 17.9434 - mse: 440.3665\n",
      "Epoch 93/100\n",
      "2/2 [==============================] - 0s 5ms/step - loss: 6.5677 - mse: 61.7835\n",
      "Epoch 94/100\n",
      "2/2 [==============================] - 0s 4ms/step - loss: 11.1184 - mse: 152.2827\n",
      "Epoch 95/100\n",
      "2/2 [==============================] - 0s 4ms/step - loss: 24.3117 - mse: 886.3416\n",
      "Epoch 96/100\n",
      "2/2 [==============================] - 0s 4ms/step - loss: 10.7242 - mse: 172.9656\n",
      "Epoch 97/100\n",
      "2/2 [==============================] - 0s 5ms/step - loss: 15.3228 - mse: 355.6525\n",
      "Epoch 98/100\n",
      "2/2 [==============================] - 0s 4ms/step - loss: 8.2457 - mse: 111.5692\n",
      "Epoch 99/100\n",
      "2/2 [==============================] - 0s 4ms/step - loss: 16.4950 - mse: 382.1762\n",
      "Epoch 100/100\n",
      "2/2 [==============================] - 0s 5ms/step - loss: 14.2831 - mse: 294.4317\n"
     ]
    },
    {
     "data": {
      "text/plain": [
       "<keras.callbacks.History at 0x7efd58569c50>"
      ]
     },
     "execution_count": 39,
     "metadata": {},
     "output_type": "execute_result"
    }
   ],
   "source": [
    "# Set random seed\n",
    "tf.random.set_seed(42)\n",
    "\n",
    "# 1. Create the model\n",
    "model_2 = tf.keras.Sequential([\n",
    "    tf.keras.layers.Dense(10, input_shape=[1]),\n",
    "    tf.keras.layers.Dense(1)\n",
    "])\n",
    "\n",
    "# 2. Compile the model\n",
    "model_2.compile(loss=\"mae\",\n",
    "                optimizer=tf.keras.optimizers.SGD(),\n",
    "                metrics=[\"mse\"])\n",
    "\n",
    "# 3. Fit the model\n",
    "model_2.fit(X_train, y_train, epochs=100)"
   ]
  },
  {
   "cell_type": "code",
   "execution_count": 40,
   "metadata": {},
   "outputs": [
    {
     "name": "stdout",
     "output_type": "stream",
     "text": [
      "WARNING:tensorflow:6 out of the last 6 calls to <function Model.make_predict_function.<locals>.predict_function at 0x7efd6a948ae0> triggered tf.function retracing. Tracing is expensive and the excessive number of tracings could be due to (1) creating @tf.function repeatedly in a loop, (2) passing tensors with different shapes, (3) passing Python objects instead of tensors. For (1), please define your @tf.function outside of the loop. For (2), @tf.function has reduce_retracing=True option that can avoid unnecessary retracing. For (3), please refer to https://www.tensorflow.org/guide/function#controlling_retracing and https://www.tensorflow.org/api_docs/python/tf/function for  more details.\n",
      "1/1 [==============================] - 0s 30ms/step\n"
     ]
    },
    {
     "data": {
      "image/png": "[encoded data removed]",
      "text/plain": [
       "<Figure size 1000x700 with 1 Axes>"
      ]
     },
     "metadata": {},
     "output_type": "display_data"
    }
   ],
   "source": [
    "# Make and plot predictions of model_2\n",
    "y_preds_2 = model_2.predict(X_test)\n",
    "plot_predictions(predictions=y_preds_2)"
   ]
  },
  {
   "cell_type": "code",
   "execution_count": 41,
   "metadata": {},
   "outputs": [
    {
     "data": {
      "text/plain": [
       "(<tf.Tensor: shape=(), dtype=float32, numpy=10.678512>,\n",
       " <tf.Tensor: shape=(), dtype=float32, numpy=121.82658>)"
      ]
     },
     "execution_count": 41,
     "metadata": {},
     "output_type": "execute_result"
    }
   ],
   "source": [
    "# Calculate model_2 evaluation metrics\n",
    "mae_2 = mae(y_test, y_preds_2)\n",
    "mse_2 = mse(y_test, y_preds_2)\n",
    "mae_2, mse_2"
   ]
  },
  {
   "attachments": {},
   "cell_type": "markdown",
   "metadata": {},
   "source": [
    "**Build `model_3`**\n",
    "\n",
    "* 2 layers, train for 500 epochs"
   ]
  },
  {
   "cell_type": "code",
   "execution_count": 42,
   "metadata": {},
   "outputs": [
    {
     "name": "stdout",
     "output_type": "stream",
     "text": [
      "Epoch 1/500\n",
      "2/2 [==============================] - 0s 7ms/step - loss: 68.9001 - mae: 68.9001\n",
      "Epoch 2/500\n",
      "2/2 [==============================] - 0s 7ms/step - loss: 34.0595 - mae: 34.0595\n",
      "Epoch 3/500\n",
      "2/2 [==============================] - 0s 5ms/step - loss: 36.7239 - mae: 36.7239\n",
      "Epoch 4/500\n",
      "2/2 [==============================] - 0s 5ms/step - loss: 18.5902 - mae: 18.5902\n",
      "Epoch 5/500\n",
      "2/2 [==============================] - 0s 6ms/step - loss: 24.0356 - mae: 24.0356\n",
      "Epoch 6/500\n",
      "2/2 [==============================] - 0s 5ms/step - loss: 11.7424 - mae: 11.7424\n",
      "Epoch 7/500\n",
      "2/2 [==============================] - 0s 5ms/step - loss: 12.9024 - mae: 12.9024\n",
      "Epoch 8/500\n",
      "2/2 [==============================] - 0s 5ms/step - loss: 11.2336 - mae: 11.2336\n",
      "Epoch 9/500\n",
      "2/2 [==============================] - 0s 5ms/step - loss: 41.3975 - mae: 41.3975\n",
      "Epoch 10/500\n",
      "2/2 [==============================] - 0s 5ms/step - loss: 28.6744 - mae: 28.6744\n",
      "Epoch 11/500\n",
      "2/2 [==============================] - 0s 6ms/step - loss: 9.4128 - mae: 9.4128\n",
      "Epoch 12/500\n",
      "2/2 [==============================] - 0s 5ms/step - loss: 26.4229 - mae: 26.4229\n",
      "Epoch 13/500\n",
      "2/2 [==============================] - 0s 6ms/step - loss: 14.5114 - mae: 14.5114\n",
      "Epoch 14/500\n",
      "2/2 [==============================] - 0s 6ms/step - loss: 30.0364 - mae: 30.0364\n",
      "Epoch 15/500\n",
      "2/2 [==============================] - 0s 6ms/step - loss: 19.8525 - mae: 19.8525\n",
      "Epoch 16/500\n",
      "2/2 [==============================] - 0s 6ms/step - loss: 9.8795 - mae: 9.8795\n",
      "Epoch 17/500\n",
      "2/2 [==============================] - 0s 5ms/step - loss: 17.7430 - mae: 17.7430\n",
      "Epoch 18/500\n",
      "2/2 [==============================] - 0s 5ms/step - loss: 14.2155 - mae: 14.2155\n",
      "Epoch 19/500\n",
      "2/2 [==============================] - 0s 5ms/step - loss: 14.0587 - mae: 14.0587\n",
      "Epoch 20/500\n",
      "2/2 [==============================] - 0s 5ms/step - loss: 11.2561 - mae: 11.2561\n",
      "Epoch 21/500\n",
      "2/2 [==============================] - 0s 6ms/step - loss: 17.3862 - mae: 17.3862\n",
      "Epoch 22/500\n",
      "2/2 [==============================] - 0s 6ms/step - loss: 15.6223 - mae: 15.6223\n",
      "Epoch 23/500\n",
      "2/2 [==============================] - 0s 5ms/step - loss: 9.2350 - mae: 9.2350\n",
      "Epoch 24/500\n",
      "2/2 [==============================] - 0s 5ms/step - loss: 17.2254 - mae: 17.2254\n",
      "Epoch 25/500\n",
      "2/2 [==============================] - 0s 7ms/step - loss: 15.9120 - mae: 15.9120\n",
      "Epoch 26/500\n",
      "2/2 [==============================] - 0s 6ms/step - loss: 20.8648 - mae: 20.8648\n",
      "Epoch 27/500\n",
      "2/2 [==============================] - 0s 5ms/step - loss: 26.1110 - mae: 26.1110\n",
      "Epoch 28/500\n",
      "2/2 [==============================] - 0s 6ms/step - loss: 18.5898 - mae: 18.5898\n",
      "Epoch 29/500\n",
      "2/2 [==============================] - 0s 6ms/step - loss: 9.2496 - mae: 9.2496\n",
      "Epoch 30/500\n",
      "2/2 [==============================] - 0s 6ms/step - loss: 29.2119 - mae: 29.2119\n",
      "Epoch 31/500\n",
      "2/2 [==============================] - 0s 6ms/step - loss: 52.9228 - mae: 52.9228\n",
      "Epoch 32/500\n",
      "2/2 [==============================] - 0s 5ms/step - loss: 11.9797 - mae: 11.9797\n",
      "Epoch 33/500\n",
      "2/2 [==============================] - 0s 6ms/step - loss: 15.6043 - mae: 15.6043\n",
      "Epoch 34/500\n",
      "2/2 [==============================] - 0s 6ms/step - loss: 12.6733 - mae: 12.6733\n",
      "Epoch 35/500\n",
      "2/2 [==============================] - 0s 5ms/step - loss: 9.2335 - mae: 9.2335\n",
      "Epoch 36/500\n",
      "2/2 [==============================] - 0s 8ms/step - loss: 16.6078 - mae: 16.6078\n",
      "Epoch 37/500\n",
      "2/2 [==============================] - 0s 6ms/step - loss: 11.0532 - mae: 11.0532\n",
      "Epoch 38/500\n",
      "2/2 [==============================] - 0s 6ms/step - loss: 18.1792 - mae: 18.1792\n",
      "Epoch 39/500\n",
      "2/2 [==============================] - 0s 5ms/step - loss: 19.1157 - mae: 19.1157\n",
      "Epoch 40/500\n",
      "2/2 [==============================] - 0s 6ms/step - loss: 20.4571 - mae: 20.4571\n",
      "Epoch 41/500\n",
      "2/2 [==============================] - 0s 6ms/step - loss: 14.8856 - mae: 14.8856\n",
      "Epoch 42/500\n",
      "2/2 [==============================] - 0s 7ms/step - loss: 12.2629 - mae: 12.2629\n",
      "Epoch 43/500\n",
      "2/2 [==============================] - 0s 6ms/step - loss: 10.7255 - mae: 10.7255\n",
      "Epoch 44/500\n",
      "2/2 [==============================] - 0s 7ms/step - loss: 22.9590 - mae: 22.9590\n",
      "Epoch 45/500\n",
      "2/2 [==============================] - 0s 10ms/step - loss: 10.3749 - mae: 10.3749\n",
      "Epoch 46/500\n",
      "2/2 [==============================] - 0s 8ms/step - loss: 11.7656 - mae: 11.7656\n",
      "Epoch 47/500\n",
      "2/2 [==============================] - 0s 7ms/step - loss: 9.6589 - mae: 9.6589\n",
      "Epoch 48/500\n",
      "2/2 [==============================] - 0s 6ms/step - loss: 17.2625 - mae: 17.2625\n",
      "Epoch 49/500\n",
      "2/2 [==============================] - 0s 7ms/step - loss: 9.5591 - mae: 9.5591\n",
      "Epoch 50/500\n",
      "2/2 [==============================] - 0s 6ms/step - loss: 13.7901 - mae: 13.7901\n",
      "Epoch 51/500\n",
      "2/2 [==============================] - 0s 6ms/step - loss: 11.5878 - mae: 11.5878\n",
      "Epoch 52/500\n",
      "2/2 [==============================] - 0s 6ms/step - loss: 30.4662 - mae: 30.4662\n",
      "Epoch 53/500\n",
      "2/2 [==============================] - 0s 6ms/step - loss: 14.3178 - mae: 14.3178\n",
      "Epoch 54/500\n",
      "2/2 [==============================] - 0s 7ms/step - loss: 23.9043 - mae: 23.9043\n",
      "Epoch 55/500\n",
      "2/2 [==============================] - 0s 6ms/step - loss: 23.1219 - mae: 23.1219\n",
      "Epoch 56/500\n",
      "2/2 [==============================] - 0s 6ms/step - loss: 10.8653 - mae: 10.8653\n",
      "Epoch 57/500\n",
      "2/2 [==============================] - 0s 6ms/step - loss: 12.7173 - mae: 12.7173\n",
      "Epoch 58/500\n",
      "2/2 [==============================] - 0s 6ms/step - loss: 9.5860 - mae: 9.5860\n",
      "Epoch 59/500\n",
      "2/2 [==============================] - 0s 6ms/step - loss: 12.4910 - mae: 12.4910\n",
      "Epoch 60/500\n",
      "2/2 [==============================] - 0s 5ms/step - loss: 11.9019 - mae: 11.9019\n",
      "Epoch 61/500\n",
      "2/2 [==============================] - 0s 5ms/step - loss: 16.9793 - mae: 16.9793\n",
      "Epoch 62/500\n",
      "2/2 [==============================] - 0s 5ms/step - loss: 10.3972 - mae: 10.3972\n",
      "Epoch 63/500\n",
      "2/2 [==============================] - 0s 6ms/step - loss: 10.3517 - mae: 10.3517\n",
      "Epoch 64/500\n",
      "2/2 [==============================] - 0s 5ms/step - loss: 24.1997 - mae: 24.1997\n",
      "Epoch 65/500\n",
      "2/2 [==============================] - 0s 6ms/step - loss: 10.5317 - mae: 10.5317\n",
      "Epoch 66/500\n",
      "2/2 [==============================] - 0s 5ms/step - loss: 21.2106 - mae: 21.2106\n",
      "Epoch 67/500\n",
      "2/2 [==============================] - 0s 6ms/step - loss: 10.5283 - mae: 10.5283\n",
      "Epoch 68/500\n",
      "2/2 [==============================] - 0s 5ms/step - loss: 14.3741 - mae: 14.3741\n",
      "Epoch 69/500\n",
      "2/2 [==============================] - 0s 5ms/step - loss: 10.6186 - mae: 10.6186\n",
      "Epoch 70/500\n",
      "2/2 [==============================] - 0s 5ms/step - loss: 12.7035 - mae: 12.7035\n",
      "Epoch 71/500\n",
      "2/2 [==============================] - 0s 4ms/step - loss: 13.1319 - mae: 13.1319\n",
      "Epoch 72/500\n",
      "2/2 [==============================] - 0s 4ms/step - loss: 19.6321 - mae: 19.6321\n",
      "Epoch 73/500\n",
      "2/2 [==============================] - 0s 4ms/step - loss: 11.1988 - mae: 11.1988\n",
      "Epoch 74/500\n",
      "2/2 [==============================] - 0s 5ms/step - loss: 21.9138 - mae: 21.9138\n",
      "Epoch 75/500\n",
      "2/2 [==============================] - 0s 5ms/step - loss: 7.1968 - mae: 7.1968\n",
      "Epoch 76/500\n",
      "2/2 [==============================] - 0s 5ms/step - loss: 9.4199 - mae: 9.4199\n",
      "Epoch 77/500\n",
      "2/2 [==============================] - 0s 5ms/step - loss: 22.0483 - mae: 22.0483\n",
      "Epoch 78/500\n",
      "2/2 [==============================] - 0s 5ms/step - loss: 17.7010 - mae: 17.7010\n",
      "Epoch 79/500\n",
      "2/2 [==============================] - 0s 4ms/step - loss: 14.8643 - mae: 14.8643\n",
      "Epoch 80/500\n",
      "2/2 [==============================] - 0s 5ms/step - loss: 25.1846 - mae: 25.1846\n",
      "Epoch 81/500\n",
      "2/2 [==============================] - 0s 4ms/step - loss: 10.9338 - mae: 10.9338\n",
      "Epoch 82/500\n",
      "2/2 [==============================] - 0s 5ms/step - loss: 12.7422 - mae: 12.7422\n",
      "Epoch 83/500\n",
      "2/2 [==============================] - 0s 4ms/step - loss: 17.5122 - mae: 17.5122\n",
      "Epoch 84/500\n",
      "2/2 [==============================] - 0s 5ms/step - loss: 7.2884 - mae: 7.2884\n",
      "Epoch 85/500\n",
      "2/2 [==============================] - 0s 4ms/step - loss: 15.0357 - mae: 15.0357\n",
      "Epoch 86/500\n",
      "2/2 [==============================] - 0s 4ms/step - loss: 15.3437 - mae: 15.3437\n",
      "Epoch 87/500\n",
      "2/2 [==============================] - 0s 5ms/step - loss: 19.2204 - mae: 19.2204\n",
      "Epoch 88/500\n",
      "2/2 [==============================] - 0s 4ms/step - loss: 29.5326 - mae: 29.5326\n",
      "Epoch 89/500\n",
      "2/2 [==============================] - 0s 4ms/step - loss: 10.1408 - mae: 10.1408\n",
      "Epoch 90/500\n",
      "2/2 [==============================] - 0s 4ms/step - loss: 21.2834 - mae: 21.2834\n",
      "Epoch 91/500\n",
      "2/2 [==============================] - 0s 5ms/step - loss: 10.5221 - mae: 10.5221\n",
      "Epoch 92/500\n",
      "2/2 [==============================] - 0s 5ms/step - loss: 18.1803 - mae: 18.1803\n",
      "Epoch 93/500\n",
      "2/2 [==============================] - 0s 5ms/step - loss: 6.5455 - mae: 6.5455\n",
      "Epoch 94/500\n",
      "2/2 [==============================] - 0s 4ms/step - loss: 11.1806 - mae: 11.1806\n",
      "Epoch 95/500\n",
      "2/2 [==============================] - 0s 5ms/step - loss: 24.6302 - mae: 24.6302\n",
      "Epoch 96/500\n",
      "2/2 [==============================] - 0s 4ms/step - loss: 10.7906 - mae: 10.7906\n",
      "Epoch 97/500\n",
      "2/2 [==============================] - 0s 4ms/step - loss: 15.5302 - mae: 15.5302\n",
      "Epoch 98/500\n",
      "2/2 [==============================] - 0s 4ms/step - loss: 9.0596 - mae: 9.0596\n",
      "Epoch 99/500\n",
      "2/2 [==============================] - 0s 4ms/step - loss: 10.8748 - mae: 10.8748\n",
      "Epoch 100/500\n",
      "2/2 [==============================] - 0s 5ms/step - loss: 27.1471 - mae: 27.1471\n",
      "Epoch 101/500\n",
      "2/2 [==============================] - 0s 5ms/step - loss: 15.0973 - mae: 15.0973\n",
      "Epoch 102/500\n",
      "2/2 [==============================] - 0s 4ms/step - loss: 10.6539 - mae: 10.6539\n",
      "Epoch 103/500\n",
      "2/2 [==============================] - 0s 4ms/step - loss: 9.1321 - mae: 9.1321\n",
      "Epoch 104/500\n",
      "2/2 [==============================] - 0s 5ms/step - loss: 23.5839 - mae: 23.5839\n",
      "Epoch 105/500\n",
      "2/2 [==============================] - 0s 5ms/step - loss: 10.7545 - mae: 10.7545\n",
      "Epoch 106/500\n",
      "2/2 [==============================] - 0s 8ms/step - loss: 11.2174 - mae: 11.2174\n",
      "Epoch 107/500\n",
      "2/2 [==============================] - 0s 6ms/step - loss: 21.1513 - mae: 21.1513\n",
      "Epoch 108/500\n",
      "2/2 [==============================] - 0s 6ms/step - loss: 6.3132 - mae: 6.3132\n",
      "Epoch 109/500\n",
      "2/2 [==============================] - 0s 6ms/step - loss: 10.5423 - mae: 10.5423\n",
      "Epoch 110/500\n",
      "2/2 [==============================] - 0s 6ms/step - loss: 10.4940 - mae: 10.4940\n",
      "Epoch 111/500\n",
      "2/2 [==============================] - 0s 5ms/step - loss: 16.6318 - mae: 16.6318\n",
      "Epoch 112/500\n",
      "2/2 [==============================] - 0s 5ms/step - loss: 9.4853 - mae: 9.4853\n",
      "Epoch 113/500\n",
      "2/2 [==============================] - 0s 6ms/step - loss: 17.5212 - mae: 17.5212\n",
      "Epoch 114/500\n",
      "2/2 [==============================] - 0s 5ms/step - loss: 16.8895 - mae: 16.8895\n",
      "Epoch 115/500\n",
      "2/2 [==============================] - 0s 6ms/step - loss: 11.0196 - mae: 11.0196\n",
      "Epoch 116/500\n",
      "2/2 [==============================] - 0s 5ms/step - loss: 22.9238 - mae: 22.9238\n",
      "Epoch 117/500\n",
      "2/2 [==============================] - 0s 6ms/step - loss: 9.4963 - mae: 9.4963\n",
      "Epoch 118/500\n",
      "2/2 [==============================] - 0s 5ms/step - loss: 10.5519 - mae: 10.5519\n",
      "Epoch 119/500\n",
      "2/2 [==============================] - 0s 5ms/step - loss: 8.0169 - mae: 8.0169\n",
      "Epoch 120/500\n",
      "2/2 [==============================] - 0s 5ms/step - loss: 29.2186 - mae: 29.2186\n",
      "Epoch 121/500\n",
      "2/2 [==============================] - 0s 5ms/step - loss: 8.0570 - mae: 8.0570\n",
      "Epoch 122/500\n",
      "2/2 [==============================] - 0s 5ms/step - loss: 27.9260 - mae: 27.9260\n",
      "Epoch 123/500\n",
      "2/2 [==============================] - 0s 5ms/step - loss: 32.4286 - mae: 32.4286\n",
      "Epoch 124/500\n",
      "2/2 [==============================] - 0s 4ms/step - loss: 19.2761 - mae: 19.2761\n",
      "Epoch 125/500\n",
      "2/2 [==============================] - 0s 4ms/step - loss: 9.4799 - mae: 9.4799\n",
      "Epoch 126/500\n",
      "2/2 [==============================] - 0s 5ms/step - loss: 9.5617 - mae: 9.5617\n",
      "Epoch 127/500\n",
      "2/2 [==============================] - 0s 5ms/step - loss: 12.6691 - mae: 12.6691\n",
      "Epoch 128/500\n",
      "2/2 [==============================] - 0s 4ms/step - loss: 12.7712 - mae: 12.7712\n",
      "Epoch 129/500\n",
      "2/2 [==============================] - 0s 5ms/step - loss: 13.8963 - mae: 13.8963\n",
      "Epoch 130/500\n",
      "2/2 [==============================] - 0s 4ms/step - loss: 10.2081 - mae: 10.2081\n",
      "Epoch 131/500\n",
      "2/2 [==============================] - 0s 4ms/step - loss: 21.6474 - mae: 21.6474\n",
      "Epoch 132/500\n",
      "2/2 [==============================] - 0s 4ms/step - loss: 8.2528 - mae: 8.2528\n",
      "Epoch 133/500\n",
      "2/2 [==============================] - 0s 4ms/step - loss: 9.0348 - mae: 9.0348\n",
      "Epoch 134/500\n",
      "2/2 [==============================] - 0s 5ms/step - loss: 16.8615 - mae: 16.8615\n",
      "Epoch 135/500\n",
      "2/2 [==============================] - 0s 5ms/step - loss: 10.6290 - mae: 10.6290\n",
      "Epoch 136/500\n",
      "2/2 [==============================] - 0s 5ms/step - loss: 18.4810 - mae: 18.4810\n",
      "Epoch 137/500\n",
      "2/2 [==============================] - 0s 4ms/step - loss: 23.4616 - mae: 23.4616\n",
      "Epoch 138/500\n",
      "2/2 [==============================] - 0s 5ms/step - loss: 9.2554 - mae: 9.2554\n",
      "Epoch 139/500\n",
      "2/2 [==============================] - 0s 4ms/step - loss: 8.9942 - mae: 8.9942\n",
      "Epoch 140/500\n",
      "2/2 [==============================] - 0s 4ms/step - loss: 16.9479 - mae: 16.9479\n",
      "Epoch 141/500\n",
      "2/2 [==============================] - 0s 4ms/step - loss: 8.3061 - mae: 8.3061\n",
      "Epoch 142/500\n",
      "2/2 [==============================] - 0s 4ms/step - loss: 34.0275 - mae: 34.0275\n",
      "Epoch 143/500\n",
      "2/2 [==============================] - 0s 4ms/step - loss: 23.0780 - mae: 23.0780\n",
      "Epoch 144/500\n",
      "2/2 [==============================] - 0s 4ms/step - loss: 11.3258 - mae: 11.3258\n",
      "Epoch 145/500\n",
      "2/2 [==============================] - 0s 4ms/step - loss: 25.0329 - mae: 25.0329\n",
      "Epoch 146/500\n",
      "2/2 [==============================] - 0s 4ms/step - loss: 11.1390 - mae: 11.1390\n",
      "Epoch 147/500\n",
      "2/2 [==============================] - 0s 5ms/step - loss: 14.0741 - mae: 14.0741\n",
      "Epoch 148/500\n",
      "2/2 [==============================] - 0s 4ms/step - loss: 16.9234 - mae: 16.9234\n",
      "Epoch 149/500\n",
      "2/2 [==============================] - 0s 4ms/step - loss: 9.2451 - mae: 9.2451\n",
      "Epoch 150/500\n",
      "2/2 [==============================] - 0s 4ms/step - loss: 7.9281 - mae: 7.9281\n",
      "Epoch 151/500\n",
      "2/2 [==============================] - 0s 5ms/step - loss: 16.5139 - mae: 16.5139\n",
      "Epoch 152/500\n",
      "2/2 [==============================] - 0s 4ms/step - loss: 9.7906 - mae: 9.7906\n",
      "Epoch 153/500\n",
      "2/2 [==============================] - 0s 4ms/step - loss: 26.8692 - mae: 26.8692\n",
      "Epoch 154/500\n",
      "2/2 [==============================] - 0s 5ms/step - loss: 11.9077 - mae: 11.9077\n",
      "Epoch 155/500\n",
      "2/2 [==============================] - 0s 4ms/step - loss: 15.2746 - mae: 15.2746\n",
      "Epoch 156/500\n",
      "2/2 [==============================] - 0s 4ms/step - loss: 16.6393 - mae: 16.6393\n",
      "Epoch 157/500\n",
      "2/2 [==============================] - 0s 4ms/step - loss: 19.3066 - mae: 19.3066\n",
      "Epoch 158/500\n",
      "2/2 [==============================] - 0s 5ms/step - loss: 8.2572 - mae: 8.2572\n",
      "Epoch 159/500\n",
      "2/2 [==============================] - 0s 5ms/step - loss: 7.9749 - mae: 7.9749\n",
      "Epoch 160/500\n",
      "2/2 [==============================] - 0s 4ms/step - loss: 20.9414 - mae: 20.9414\n",
      "Epoch 161/500\n",
      "2/2 [==============================] - 0s 7ms/step - loss: 23.8184 - mae: 23.8184\n",
      "Epoch 162/500\n",
      "2/2 [==============================] - 0s 7ms/step - loss: 18.7319 - mae: 18.7319\n",
      "Epoch 163/500\n",
      "2/2 [==============================] - 0s 6ms/step - loss: 17.6835 - mae: 17.6835\n",
      "Epoch 164/500\n",
      "2/2 [==============================] - 0s 6ms/step - loss: 11.0866 - mae: 11.0866\n",
      "Epoch 165/500\n",
      "2/2 [==============================] - 0s 5ms/step - loss: 9.6025 - mae: 9.6025\n",
      "Epoch 166/500\n",
      "2/2 [==============================] - 0s 5ms/step - loss: 21.5385 - mae: 21.5385\n",
      "Epoch 167/500\n",
      "2/2 [==============================] - 0s 4ms/step - loss: 26.4219 - mae: 26.4219\n",
      "Epoch 168/500\n",
      "2/2 [==============================] - 0s 5ms/step - loss: 9.8841 - mae: 9.8841\n",
      "Epoch 169/500\n",
      "2/2 [==============================] - 0s 4ms/step - loss: 22.6953 - mae: 22.6953\n",
      "Epoch 170/500\n",
      "2/2 [==============================] - 0s 5ms/step - loss: 10.1314 - mae: 10.1314\n",
      "Epoch 171/500\n",
      "2/2 [==============================] - 0s 5ms/step - loss: 17.9914 - mae: 17.9914\n",
      "Epoch 172/500\n",
      "2/2 [==============================] - 0s 4ms/step - loss: 28.9713 - mae: 28.9713\n",
      "Epoch 173/500\n",
      "2/2 [==============================] - 0s 4ms/step - loss: 16.6353 - mae: 16.6353\n",
      "Epoch 174/500\n",
      "2/2 [==============================] - 0s 4ms/step - loss: 11.2024 - mae: 11.2024\n",
      "Epoch 175/500\n",
      "2/2 [==============================] - 0s 4ms/step - loss: 27.5501 - mae: 27.5501\n",
      "Epoch 176/500\n",
      "2/2 [==============================] - 0s 4ms/step - loss: 8.3101 - mae: 8.3101\n",
      "Epoch 177/500\n",
      "2/2 [==============================] - 0s 4ms/step - loss: 9.2913 - mae: 9.2913\n",
      "Epoch 178/500\n",
      "2/2 [==============================] - 0s 4ms/step - loss: 18.2521 - mae: 18.2521\n",
      "Epoch 179/500\n",
      "2/2 [==============================] - 0s 4ms/step - loss: 10.5522 - mae: 10.5522\n",
      "Epoch 180/500\n",
      "2/2 [==============================] - 0s 4ms/step - loss: 7.9226 - mae: 7.9226\n",
      "Epoch 181/500\n",
      "2/2 [==============================] - 0s 5ms/step - loss: 17.4903 - mae: 17.4903\n",
      "Epoch 182/500\n",
      "2/2 [==============================] - 0s 5ms/step - loss: 11.0539 - mae: 11.0539\n",
      "Epoch 183/500\n",
      "2/2 [==============================] - 0s 4ms/step - loss: 11.7457 - mae: 11.7457\n",
      "Epoch 184/500\n",
      "2/2 [==============================] - 0s 4ms/step - loss: 30.5398 - mae: 30.5398\n",
      "Epoch 185/500\n",
      "2/2 [==============================] - 0s 4ms/step - loss: 7.5500 - mae: 7.5500\n",
      "Epoch 186/500\n",
      "2/2 [==============================] - 0s 5ms/step - loss: 15.9524 - mae: 15.9524\n",
      "Epoch 187/500\n",
      "2/2 [==============================] - 0s 5ms/step - loss: 8.5757 - mae: 8.5757\n",
      "Epoch 188/500\n",
      "2/2 [==============================] - 0s 4ms/step - loss: 28.8579 - mae: 28.8579\n",
      "Epoch 189/500\n",
      "2/2 [==============================] - 0s 4ms/step - loss: 13.1458 - mae: 13.1458\n",
      "Epoch 190/500\n",
      "2/2 [==============================] - 0s 5ms/step - loss: 18.2847 - mae: 18.2847\n",
      "Epoch 191/500\n",
      "2/2 [==============================] - 0s 5ms/step - loss: 13.7077 - mae: 13.7077\n",
      "Epoch 192/500\n",
      "2/2 [==============================] - 0s 5ms/step - loss: 13.7006 - mae: 13.7006\n",
      "Epoch 193/500\n",
      "2/2 [==============================] - 0s 5ms/step - loss: 28.5591 - mae: 28.5591\n",
      "Epoch 194/500\n",
      "2/2 [==============================] - 0s 5ms/step - loss: 7.1039 - mae: 7.1039\n",
      "Epoch 195/500\n",
      "2/2 [==============================] - 0s 6ms/step - loss: 7.0578 - mae: 7.0578\n",
      "Epoch 196/500\n",
      "2/2 [==============================] - 0s 5ms/step - loss: 21.9715 - mae: 21.9715\n",
      "Epoch 197/500\n",
      "2/2 [==============================] - 0s 4ms/step - loss: 20.9187 - mae: 20.9187\n",
      "Epoch 198/500\n",
      "2/2 [==============================] - 0s 4ms/step - loss: 12.5161 - mae: 12.5161\n",
      "Epoch 199/500\n",
      "2/2 [==============================] - 0s 5ms/step - loss: 17.9737 - mae: 17.9737\n",
      "Epoch 200/500\n",
      "2/2 [==============================] - 0s 5ms/step - loss: 13.8088 - mae: 13.8088\n",
      "Epoch 201/500\n",
      "2/2 [==============================] - 0s 5ms/step - loss: 6.0364 - mae: 6.0364\n",
      "Epoch 202/500\n",
      "2/2 [==============================] - 0s 5ms/step - loss: 22.8119 - mae: 22.8119\n",
      "Epoch 203/500\n",
      "2/2 [==============================] - 0s 6ms/step - loss: 8.9431 - mae: 8.9431\n",
      "Epoch 204/500\n",
      "2/2 [==============================] - 0s 4ms/step - loss: 18.7964 - mae: 18.7964\n",
      "Epoch 205/500\n",
      "2/2 [==============================] - 0s 5ms/step - loss: 9.3433 - mae: 9.3433\n",
      "Epoch 206/500\n",
      "2/2 [==============================] - 0s 6ms/step - loss: 10.4139 - mae: 10.4139\n",
      "Epoch 207/500\n",
      "2/2 [==============================] - 0s 5ms/step - loss: 21.0757 - mae: 21.0757\n",
      "Epoch 208/500\n",
      "2/2 [==============================] - 0s 6ms/step - loss: 16.4480 - mae: 16.4480\n",
      "Epoch 209/500\n",
      "2/2 [==============================] - 0s 4ms/step - loss: 14.3521 - mae: 14.3521\n",
      "Epoch 210/500\n",
      "2/2 [==============================] - 0s 6ms/step - loss: 19.3549 - mae: 19.3549\n",
      "Epoch 211/500\n",
      "2/2 [==============================] - 0s 5ms/step - loss: 10.2970 - mae: 10.2970\n",
      "Epoch 212/500\n",
      "2/2 [==============================] - 0s 5ms/step - loss: 20.1345 - mae: 20.1345\n",
      "Epoch 213/500\n",
      "2/2 [==============================] - 0s 6ms/step - loss: 15.0738 - mae: 15.0738\n",
      "Epoch 214/500\n",
      "2/2 [==============================] - 0s 5ms/step - loss: 14.6116 - mae: 14.6116\n",
      "Epoch 215/500\n",
      "2/2 [==============================] - 0s 5ms/step - loss: 23.3438 - mae: 23.3438\n",
      "Epoch 216/500\n",
      "2/2 [==============================] - 0s 5ms/step - loss: 13.2948 - mae: 13.2948\n",
      "Epoch 217/500\n",
      "2/2 [==============================] - 0s 4ms/step - loss: 9.8102 - mae: 9.8102\n",
      "Epoch 218/500\n",
      "2/2 [==============================] - 0s 5ms/step - loss: 12.5998 - mae: 12.5998\n",
      "Epoch 219/500\n",
      "2/2 [==============================] - 0s 5ms/step - loss: 5.3405 - mae: 5.3405\n",
      "Epoch 220/500\n",
      "2/2 [==============================] - 0s 4ms/step - loss: 14.6978 - mae: 14.6978\n",
      "Epoch 221/500\n",
      "2/2 [==============================] - 0s 5ms/step - loss: 33.5425 - mae: 33.5425\n",
      "Epoch 222/500\n",
      "2/2 [==============================] - 0s 4ms/step - loss: 13.8933 - mae: 13.8933\n",
      "Epoch 223/500\n",
      "2/2 [==============================] - 0s 5ms/step - loss: 10.9948 - mae: 10.9948\n",
      "Epoch 224/500\n",
      "2/2 [==============================] - 0s 5ms/step - loss: 14.9479 - mae: 14.9479\n",
      "Epoch 225/500\n",
      "2/2 [==============================] - 0s 4ms/step - loss: 16.9949 - mae: 16.9949\n",
      "Epoch 226/500\n",
      "2/2 [==============================] - 0s 4ms/step - loss: 16.1837 - mae: 16.1837\n",
      "Epoch 227/500\n",
      "2/2 [==============================] - 0s 5ms/step - loss: 16.5014 - mae: 16.5014\n",
      "Epoch 228/500\n",
      "2/2 [==============================] - 0s 5ms/step - loss: 9.9422 - mae: 9.9422\n",
      "Epoch 229/500\n",
      "2/2 [==============================] - 0s 5ms/step - loss: 17.8391 - mae: 17.8391\n",
      "Epoch 230/500\n",
      "2/2 [==============================] - 0s 5ms/step - loss: 15.4592 - mae: 15.4592\n",
      "Epoch 231/500\n",
      "2/2 [==============================] - 0s 5ms/step - loss: 20.8862 - mae: 20.8862\n",
      "Epoch 232/500\n",
      "2/2 [==============================] - 0s 5ms/step - loss: 20.4106 - mae: 20.4106\n",
      "Epoch 233/500\n",
      "2/2 [==============================] - 0s 6ms/step - loss: 15.0718 - mae: 15.0718\n",
      "Epoch 234/500\n",
      "2/2 [==============================] - 0s 5ms/step - loss: 6.9633 - mae: 6.9633\n",
      "Epoch 235/500\n",
      "2/2 [==============================] - 0s 7ms/step - loss: 15.7231 - mae: 15.7231\n",
      "Epoch 236/500\n",
      "2/2 [==============================] - 0s 7ms/step - loss: 6.6842 - mae: 6.6842\n",
      "Epoch 237/500\n",
      "2/2 [==============================] - 0s 6ms/step - loss: 8.5962 - mae: 8.5962\n",
      "Epoch 238/500\n",
      "2/2 [==============================] - 0s 6ms/step - loss: 7.7618 - mae: 7.7618\n",
      "Epoch 239/500\n",
      "2/2 [==============================] - 0s 5ms/step - loss: 15.6450 - mae: 15.6450\n",
      "Epoch 240/500\n",
      "2/2 [==============================] - 0s 5ms/step - loss: 9.0019 - mae: 9.0019\n",
      "Epoch 241/500\n",
      "2/2 [==============================] - 0s 5ms/step - loss: 13.4170 - mae: 13.4170\n",
      "Epoch 242/500\n",
      "2/2 [==============================] - 0s 5ms/step - loss: 8.8928 - mae: 8.8928\n",
      "Epoch 243/500\n",
      "2/2 [==============================] - 0s 5ms/step - loss: 19.2974 - mae: 19.2974\n",
      "Epoch 244/500\n",
      "2/2 [==============================] - 0s 5ms/step - loss: 13.8879 - mae: 13.8879\n",
      "Epoch 245/500\n",
      "2/2 [==============================] - 0s 4ms/step - loss: 14.5373 - mae: 14.5373\n",
      "Epoch 246/500\n",
      "2/2 [==============================] - 0s 5ms/step - loss: 15.6755 - mae: 15.6755\n",
      "Epoch 247/500\n",
      "2/2 [==============================] - 0s 5ms/step - loss: 17.5105 - mae: 17.5105\n",
      "Epoch 248/500\n",
      "2/2 [==============================] - 0s 5ms/step - loss: 13.0776 - mae: 13.0776\n",
      "Epoch 249/500\n",
      "2/2 [==============================] - 0s 5ms/step - loss: 14.4214 - mae: 14.4214\n",
      "Epoch 250/500\n",
      "2/2 [==============================] - 0s 4ms/step - loss: 27.8179 - mae: 27.8179\n",
      "Epoch 251/500\n",
      "2/2 [==============================] - 0s 6ms/step - loss: 7.5019 - mae: 7.5019\n",
      "Epoch 252/500\n",
      "2/2 [==============================] - 0s 5ms/step - loss: 38.2058 - mae: 38.2058\n",
      "Epoch 253/500\n",
      "2/2 [==============================] - 0s 4ms/step - loss: 23.1060 - mae: 23.1060\n",
      "Epoch 254/500\n",
      "2/2 [==============================] - 0s 5ms/step - loss: 7.2884 - mae: 7.2884\n",
      "Epoch 255/500\n",
      "2/2 [==============================] - 0s 6ms/step - loss: 24.6141 - mae: 24.6141\n",
      "Epoch 256/500\n",
      "2/2 [==============================] - 0s 5ms/step - loss: 12.3845 - mae: 12.3845\n",
      "Epoch 257/500\n",
      "2/2 [==============================] - 0s 5ms/step - loss: 10.5561 - mae: 10.5561\n",
      "Epoch 258/500\n",
      "2/2 [==============================] - 0s 5ms/step - loss: 14.1755 - mae: 14.1755\n",
      "Epoch 259/500\n",
      "2/2 [==============================] - 0s 6ms/step - loss: 11.2434 - mae: 11.2434\n",
      "Epoch 260/500\n",
      "2/2 [==============================] - 0s 5ms/step - loss: 31.5809 - mae: 31.5809\n",
      "Epoch 261/500\n",
      "2/2 [==============================] - 0s 6ms/step - loss: 11.1577 - mae: 11.1577\n",
      "Epoch 262/500\n",
      "2/2 [==============================] - 0s 5ms/step - loss: 10.0154 - mae: 10.0154\n",
      "Epoch 263/500\n",
      "2/2 [==============================] - 0s 5ms/step - loss: 8.9337 - mae: 8.9337\n",
      "Epoch 264/500\n",
      "2/2 [==============================] - 0s 6ms/step - loss: 21.4847 - mae: 21.4847\n",
      "Epoch 265/500\n",
      "2/2 [==============================] - 0s 7ms/step - loss: 11.4462 - mae: 11.4462\n",
      "Epoch 266/500\n",
      "2/2 [==============================] - 0s 6ms/step - loss: 13.2818 - mae: 13.2818\n",
      "Epoch 267/500\n",
      "2/2 [==============================] - 0s 6ms/step - loss: 11.0725 - mae: 11.0725\n",
      "Epoch 268/500\n",
      "2/2 [==============================] - 0s 6ms/step - loss: 19.1482 - mae: 19.1482\n",
      "Epoch 269/500\n",
      "2/2 [==============================] - 0s 6ms/step - loss: 40.7361 - mae: 40.7361\n",
      "Epoch 270/500\n",
      "2/2 [==============================] - 0s 6ms/step - loss: 12.9342 - mae: 12.9342\n",
      "Epoch 271/500\n",
      "2/2 [==============================] - 0s 5ms/step - loss: 14.7542 - mae: 14.7542\n",
      "Epoch 272/500\n",
      "2/2 [==============================] - 0s 5ms/step - loss: 28.4986 - mae: 28.4986\n",
      "Epoch 273/500\n",
      "2/2 [==============================] - 0s 5ms/step - loss: 7.3650 - mae: 7.3650\n",
      "Epoch 274/500\n",
      "2/2 [==============================] - 0s 6ms/step - loss: 6.3393 - mae: 6.3393\n",
      "Epoch 275/500\n",
      "2/2 [==============================] - 0s 6ms/step - loss: 36.9913 - mae: 36.9913\n",
      "Epoch 276/500\n",
      "2/2 [==============================] - 0s 4ms/step - loss: 8.2794 - mae: 8.2794\n",
      "Epoch 277/500\n",
      "2/2 [==============================] - 0s 5ms/step - loss: 27.8022 - mae: 27.8022\n",
      "Epoch 278/500\n",
      "2/2 [==============================] - 0s 5ms/step - loss: 10.6489 - mae: 10.6489\n",
      "Epoch 279/500\n",
      "2/2 [==============================] - 0s 5ms/step - loss: 16.0859 - mae: 16.0859\n",
      "Epoch 280/500\n",
      "2/2 [==============================] - 0s 5ms/step - loss: 21.1924 - mae: 21.1924\n",
      "Epoch 281/500\n",
      "2/2 [==============================] - 0s 4ms/step - loss: 23.8983 - mae: 23.8983\n",
      "Epoch 282/500\n",
      "2/2 [==============================] - 0s 5ms/step - loss: 8.2741 - mae: 8.2741\n",
      "Epoch 283/500\n",
      "2/2 [==============================] - 0s 5ms/step - loss: 8.4436 - mae: 8.4436\n",
      "Epoch 284/500\n",
      "2/2 [==============================] - 0s 5ms/step - loss: 26.7540 - mae: 26.7540\n",
      "Epoch 285/500\n",
      "2/2 [==============================] - 0s 5ms/step - loss: 14.3219 - mae: 14.3219\n",
      "Epoch 286/500\n",
      "2/2 [==============================] - 0s 5ms/step - loss: 5.2493 - mae: 5.2493\n",
      "Epoch 287/500\n",
      "2/2 [==============================] - 0s 5ms/step - loss: 20.7595 - mae: 20.7595\n",
      "Epoch 288/500\n",
      "2/2 [==============================] - 0s 5ms/step - loss: 27.8370 - mae: 27.8370\n",
      "Epoch 289/500\n",
      "2/2 [==============================] - 0s 5ms/step - loss: 10.9679 - mae: 10.9679\n",
      "Epoch 290/500\n",
      "2/2 [==============================] - 0s 5ms/step - loss: 16.1623 - mae: 16.1623\n",
      "Epoch 291/500\n",
      "2/2 [==============================] - 0s 5ms/step - loss: 16.3255 - mae: 16.3255\n",
      "Epoch 292/500\n",
      "2/2 [==============================] - 0s 4ms/step - loss: 14.5922 - mae: 14.5922\n",
      "Epoch 293/500\n",
      "2/2 [==============================] - 0s 7ms/step - loss: 15.9178 - mae: 15.9178\n",
      "Epoch 294/500\n",
      "2/2 [==============================] - 0s 5ms/step - loss: 24.0381 - mae: 24.0381\n",
      "Epoch 295/500\n",
      "2/2 [==============================] - 0s 5ms/step - loss: 14.8101 - mae: 14.8101\n",
      "Epoch 296/500\n",
      "2/2 [==============================] - 0s 5ms/step - loss: 4.3573 - mae: 4.3573\n",
      "Epoch 297/500\n",
      "2/2 [==============================] - 0s 5ms/step - loss: 11.8555 - mae: 11.8555\n",
      "Epoch 298/500\n",
      "2/2 [==============================] - 0s 5ms/step - loss: 23.7423 - mae: 23.7423\n",
      "Epoch 299/500\n",
      "2/2 [==============================] - 0s 5ms/step - loss: 19.0599 - mae: 19.0599\n",
      "Epoch 300/500\n",
      "2/2 [==============================] - 0s 4ms/step - loss: 8.8300 - mae: 8.8300\n",
      "Epoch 301/500\n",
      "2/2 [==============================] - 0s 6ms/step - loss: 15.9174 - mae: 15.9174\n",
      "Epoch 302/500\n",
      "2/2 [==============================] - 0s 4ms/step - loss: 5.7402 - mae: 5.7402\n",
      "Epoch 303/500\n",
      "2/2 [==============================] - 0s 4ms/step - loss: 22.9663 - mae: 22.9663\n",
      "Epoch 304/500\n",
      "2/2 [==============================] - 0s 4ms/step - loss: 26.0989 - mae: 26.0989\n",
      "Epoch 305/500\n",
      "2/2 [==============================] - 0s 5ms/step - loss: 9.6004 - mae: 9.6004\n",
      "Epoch 306/500\n",
      "2/2 [==============================] - 0s 5ms/step - loss: 17.8563 - mae: 17.8563\n",
      "Epoch 307/500\n",
      "2/2 [==============================] - 0s 4ms/step - loss: 9.7844 - mae: 9.7844\n",
      "Epoch 308/500\n",
      "2/2 [==============================] - 0s 4ms/step - loss: 20.5258 - mae: 20.5258\n",
      "Epoch 309/500\n",
      "2/2 [==============================] - 0s 5ms/step - loss: 13.7031 - mae: 13.7031\n",
      "Epoch 310/500\n",
      "2/2 [==============================] - 0s 4ms/step - loss: 6.1484 - mae: 6.1484\n",
      "Epoch 311/500\n",
      "2/2 [==============================] - 0s 4ms/step - loss: 13.9345 - mae: 13.9345\n",
      "Epoch 312/500\n",
      "2/2 [==============================] - 0s 5ms/step - loss: 30.6241 - mae: 30.6241\n",
      "Epoch 313/500\n",
      "2/2 [==============================] - 0s 4ms/step - loss: 4.2630 - mae: 4.2630\n",
      "Epoch 314/500\n",
      "2/2 [==============================] - 0s 5ms/step - loss: 10.3277 - mae: 10.3277\n",
      "Epoch 315/500\n",
      "2/2 [==============================] - 0s 4ms/step - loss: 19.3937 - mae: 19.3937\n",
      "Epoch 316/500\n",
      "2/2 [==============================] - 0s 4ms/step - loss: 6.6372 - mae: 6.6372\n",
      "Epoch 317/500\n",
      "2/2 [==============================] - 0s 4ms/step - loss: 33.3650 - mae: 33.3650\n",
      "Epoch 318/500\n",
      "2/2 [==============================] - 0s 4ms/step - loss: 19.1667 - mae: 19.1667\n",
      "Epoch 319/500\n",
      "2/2 [==============================] - 0s 5ms/step - loss: 5.5909 - mae: 5.5909\n",
      "Epoch 320/500\n",
      "2/2 [==============================] - 0s 4ms/step - loss: 23.4520 - mae: 23.4520\n",
      "Epoch 321/500\n",
      "2/2 [==============================] - 0s 4ms/step - loss: 17.7605 - mae: 17.7605\n",
      "Epoch 322/500\n",
      "2/2 [==============================] - 0s 4ms/step - loss: 12.5513 - mae: 12.5513\n",
      "Epoch 323/500\n",
      "2/2 [==============================] - 0s 4ms/step - loss: 18.6259 - mae: 18.6259\n",
      "Epoch 324/500\n",
      "2/2 [==============================] - 0s 4ms/step - loss: 18.0249 - mae: 18.0249\n",
      "Epoch 325/500\n",
      "2/2 [==============================] - 0s 5ms/step - loss: 7.9194 - mae: 7.9194\n",
      "Epoch 326/500\n",
      "2/2 [==============================] - 0s 5ms/step - loss: 21.1694 - mae: 21.1694\n",
      "Epoch 327/500\n",
      "2/2 [==============================] - 0s 4ms/step - loss: 24.6478 - mae: 24.6478\n",
      "Epoch 328/500\n",
      "2/2 [==============================] - 0s 5ms/step - loss: 12.6578 - mae: 12.6578\n",
      "Epoch 329/500\n",
      "2/2 [==============================] - 0s 5ms/step - loss: 17.1611 - mae: 17.1611\n",
      "Epoch 330/500\n",
      "2/2 [==============================] - 0s 4ms/step - loss: 6.9886 - mae: 6.9886\n",
      "Epoch 331/500\n",
      "2/2 [==============================] - 0s 4ms/step - loss: 20.6231 - mae: 20.6231\n",
      "Epoch 332/500\n",
      "2/2 [==============================] - 0s 5ms/step - loss: 11.4929 - mae: 11.4929\n",
      "Epoch 333/500\n",
      "2/2 [==============================] - 0s 5ms/step - loss: 13.8778 - mae: 13.8778\n",
      "Epoch 334/500\n",
      "2/2 [==============================] - 0s 5ms/step - loss: 10.1926 - mae: 10.1926\n",
      "Epoch 335/500\n",
      "2/2 [==============================] - 0s 6ms/step - loss: 13.0419 - mae: 13.0419\n",
      "Epoch 336/500\n",
      "2/2 [==============================] - 0s 5ms/step - loss: 32.4111 - mae: 32.4111\n",
      "Epoch 337/500\n",
      "2/2 [==============================] - 0s 5ms/step - loss: 10.6768 - mae: 10.6768\n",
      "Epoch 338/500\n",
      "2/2 [==============================] - 0s 6ms/step - loss: 20.2084 - mae: 20.2084\n",
      "Epoch 339/500\n",
      "2/2 [==============================] - 0s 6ms/step - loss: 33.6045 - mae: 33.6045\n",
      "Epoch 340/500\n",
      "2/2 [==============================] - 0s 7ms/step - loss: 8.6182 - mae: 8.6182\n",
      "Epoch 341/500\n",
      "2/2 [==============================] - 0s 6ms/step - loss: 21.3261 - mae: 21.3261\n",
      "Epoch 342/500\n",
      "2/2 [==============================] - 0s 5ms/step - loss: 14.1312 - mae: 14.1312\n",
      "Epoch 343/500\n",
      "2/2 [==============================] - 0s 5ms/step - loss: 11.6908 - mae: 11.6908\n",
      "Epoch 344/500\n",
      "2/2 [==============================] - 0s 5ms/step - loss: 10.7253 - mae: 10.7253\n",
      "Epoch 345/500\n",
      "2/2 [==============================] - 0s 6ms/step - loss: 30.9054 - mae: 30.9054\n",
      "Epoch 346/500\n",
      "2/2 [==============================] - 0s 6ms/step - loss: 10.6567 - mae: 10.6567\n",
      "Epoch 347/500\n",
      "2/2 [==============================] - 0s 5ms/step - loss: 25.5749 - mae: 25.5749\n",
      "Epoch 348/500\n",
      "2/2 [==============================] - 0s 7ms/step - loss: 13.2759 - mae: 13.2759\n",
      "Epoch 349/500\n",
      "2/2 [==============================] - 0s 8ms/step - loss: 13.0629 - mae: 13.0629\n",
      "Epoch 350/500\n",
      "2/2 [==============================] - 0s 6ms/step - loss: 15.4206 - mae: 15.4206\n",
      "Epoch 351/500\n",
      "2/2 [==============================] - 0s 6ms/step - loss: 32.8837 - mae: 32.8837\n",
      "Epoch 352/500\n",
      "2/2 [==============================] - 0s 6ms/step - loss: 13.9983 - mae: 13.9983\n",
      "Epoch 353/500\n",
      "2/2 [==============================] - 0s 5ms/step - loss: 15.9824 - mae: 15.9824\n",
      "Epoch 354/500\n",
      "2/2 [==============================] - 0s 6ms/step - loss: 13.3465 - mae: 13.3465\n",
      "Epoch 355/500\n",
      "2/2 [==============================] - 0s 6ms/step - loss: 21.4787 - mae: 21.4787\n",
      "Epoch 356/500\n",
      "2/2 [==============================] - 0s 5ms/step - loss: 16.3172 - mae: 16.3172\n",
      "Epoch 357/500\n",
      "2/2 [==============================] - 0s 5ms/step - loss: 11.8615 - mae: 11.8615\n",
      "Epoch 358/500\n",
      "2/2 [==============================] - 0s 5ms/step - loss: 14.9754 - mae: 14.9754\n",
      "Epoch 359/500\n",
      "2/2 [==============================] - 0s 5ms/step - loss: 12.2667 - mae: 12.2667\n",
      "Epoch 360/500\n",
      "2/2 [==============================] - 0s 6ms/step - loss: 20.2101 - mae: 20.2101\n",
      "Epoch 361/500\n",
      "2/2 [==============================] - 0s 5ms/step - loss: 11.1461 - mae: 11.1461\n",
      "Epoch 362/500\n",
      "2/2 [==============================] - 0s 5ms/step - loss: 6.8922 - mae: 6.8922\n",
      "Epoch 363/500\n",
      "2/2 [==============================] - 0s 6ms/step - loss: 24.1224 - mae: 24.1224\n",
      "Epoch 364/500\n",
      "2/2 [==============================] - 0s 4ms/step - loss: 29.9387 - mae: 29.9387\n",
      "Epoch 365/500\n",
      "2/2 [==============================] - 0s 5ms/step - loss: 8.4601 - mae: 8.4601\n",
      "Epoch 366/500\n",
      "2/2 [==============================] - 0s 5ms/step - loss: 6.1498 - mae: 6.1498\n",
      "Epoch 367/500\n",
      "2/2 [==============================] - 0s 5ms/step - loss: 35.0215 - mae: 35.0215\n",
      "Epoch 368/500\n",
      "2/2 [==============================] - 0s 5ms/step - loss: 7.4920 - mae: 7.4920\n",
      "Epoch 369/500\n",
      "2/2 [==============================] - 0s 5ms/step - loss: 9.2993 - mae: 9.2993\n",
      "Epoch 370/500\n",
      "2/2 [==============================] - 0s 5ms/step - loss: 10.9927 - mae: 10.9927\n",
      "Epoch 371/500\n",
      "2/2 [==============================] - 0s 4ms/step - loss: 9.0531 - mae: 9.0531\n",
      "Epoch 372/500\n",
      "2/2 [==============================] - 0s 6ms/step - loss: 7.7349 - mae: 7.7349\n",
      "Epoch 373/500\n",
      "2/2 [==============================] - 0s 7ms/step - loss: 25.0536 - mae: 25.0536\n",
      "Epoch 374/500\n",
      "2/2 [==============================] - 0s 6ms/step - loss: 13.2438 - mae: 13.2438\n",
      "Epoch 375/500\n",
      "2/2 [==============================] - 0s 7ms/step - loss: 11.8628 - mae: 11.8628\n",
      "Epoch 376/500\n",
      "2/2 [==============================] - 0s 6ms/step - loss: 14.1287 - mae: 14.1287\n",
      "Epoch 377/500\n",
      "2/2 [==============================] - 0s 6ms/step - loss: 15.7356 - mae: 15.7356\n",
      "Epoch 378/500\n",
      "2/2 [==============================] - 0s 6ms/step - loss: 17.0607 - mae: 17.0607\n",
      "Epoch 379/500\n",
      "2/2 [==============================] - 0s 6ms/step - loss: 19.3705 - mae: 19.3705\n",
      "Epoch 380/500\n",
      "2/2 [==============================] - 0s 8ms/step - loss: 15.7324 - mae: 15.7324\n",
      "Epoch 381/500\n",
      "2/2 [==============================] - 0s 7ms/step - loss: 11.4816 - mae: 11.4816\n",
      "Epoch 382/500\n",
      "2/2 [==============================] - 0s 7ms/step - loss: 16.3635 - mae: 16.3635\n",
      "Epoch 383/500\n",
      "2/2 [==============================] - 0s 7ms/step - loss: 22.1245 - mae: 22.1245\n",
      "Epoch 384/500\n",
      "2/2 [==============================] - 0s 7ms/step - loss: 7.7769 - mae: 7.7769\n",
      "Epoch 385/500\n",
      "2/2 [==============================] - 0s 7ms/step - loss: 10.6512 - mae: 10.6512\n",
      "Epoch 386/500\n",
      "2/2 [==============================] - 0s 8ms/step - loss: 19.1454 - mae: 19.1454\n",
      "Epoch 387/500\n",
      "2/2 [==============================] - 0s 7ms/step - loss: 26.3728 - mae: 26.3728\n",
      "Epoch 388/500\n",
      "2/2 [==============================] - 0s 6ms/step - loss: 10.0725 - mae: 10.0725\n",
      "Epoch 389/500\n",
      "2/2 [==============================] - 0s 6ms/step - loss: 5.2028 - mae: 5.2028\n",
      "Epoch 390/500\n",
      "2/2 [==============================] - 0s 6ms/step - loss: 18.7036 - mae: 18.7036\n",
      "Epoch 391/500\n",
      "2/2 [==============================] - 0s 7ms/step - loss: 9.3869 - mae: 9.3869\n",
      "Epoch 392/500\n",
      "2/2 [==============================] - 0s 6ms/step - loss: 14.4485 - mae: 14.4485\n",
      "Epoch 393/500\n",
      "2/2 [==============================] - 0s 8ms/step - loss: 12.1233 - mae: 12.1233\n",
      "Epoch 394/500\n",
      "2/2 [==============================] - 0s 6ms/step - loss: 14.1138 - mae: 14.1138\n",
      "Epoch 395/500\n",
      "2/2 [==============================] - 0s 8ms/step - loss: 28.4841 - mae: 28.4841\n",
      "Epoch 396/500\n",
      "2/2 [==============================] - 0s 6ms/step - loss: 8.4954 - mae: 8.4954\n",
      "Epoch 397/500\n",
      "2/2 [==============================] - 0s 7ms/step - loss: 10.9030 - mae: 10.9030\n",
      "Epoch 398/500\n",
      "2/2 [==============================] - 0s 5ms/step - loss: 7.5981 - mae: 7.5981\n",
      "Epoch 399/500\n",
      "2/2 [==============================] - 0s 6ms/step - loss: 16.0817 - mae: 16.0817\n",
      "Epoch 400/500\n",
      "2/2 [==============================] - 0s 7ms/step - loss: 6.9598 - mae: 6.9598\n",
      "Epoch 401/500\n",
      "2/2 [==============================] - 0s 5ms/step - loss: 8.6530 - mae: 8.6530\n",
      "Epoch 402/500\n",
      "2/2 [==============================] - 0s 4ms/step - loss: 14.0688 - mae: 14.0688\n",
      "Epoch 403/500\n",
      "2/2 [==============================] - 0s 5ms/step - loss: 12.5677 - mae: 12.5677\n",
      "Epoch 404/500\n",
      "2/2 [==============================] - 0s 5ms/step - loss: 23.3300 - mae: 23.3300\n",
      "Epoch 405/500\n",
      "2/2 [==============================] - 0s 5ms/step - loss: 17.2016 - mae: 17.2016\n",
      "Epoch 406/500\n",
      "2/2 [==============================] - 0s 5ms/step - loss: 6.7883 - mae: 6.7883\n",
      "Epoch 407/500\n",
      "2/2 [==============================] - 0s 5ms/step - loss: 11.7727 - mae: 11.7727\n",
      "Epoch 408/500\n",
      "2/2 [==============================] - 0s 5ms/step - loss: 6.4767 - mae: 6.4767\n",
      "Epoch 409/500\n",
      "2/2 [==============================] - 0s 5ms/step - loss: 27.7155 - mae: 27.7155\n",
      "Epoch 410/500\n",
      "2/2 [==============================] - 0s 5ms/step - loss: 10.7798 - mae: 10.7798\n",
      "Epoch 411/500\n",
      "2/2 [==============================] - 0s 5ms/step - loss: 14.8817 - mae: 14.8817\n",
      "Epoch 412/500\n",
      "2/2 [==============================] - 0s 5ms/step - loss: 21.7511 - mae: 21.7511\n",
      "Epoch 413/500\n",
      "2/2 [==============================] - 0s 4ms/step - loss: 12.6148 - mae: 12.6148\n",
      "Epoch 414/500\n",
      "2/2 [==============================] - 0s 5ms/step - loss: 6.0928 - mae: 6.0928\n",
      "Epoch 415/500\n",
      "2/2 [==============================] - 0s 5ms/step - loss: 13.2338 - mae: 13.2338\n",
      "Epoch 416/500\n",
      "2/2 [==============================] - 0s 5ms/step - loss: 27.4507 - mae: 27.4507\n",
      "Epoch 417/500\n",
      "2/2 [==============================] - 0s 4ms/step - loss: 10.5823 - mae: 10.5823\n",
      "Epoch 418/500\n",
      "2/2 [==============================] - 0s 8ms/step - loss: 12.8478 - mae: 12.8478\n",
      "Epoch 419/500\n",
      "2/2 [==============================] - 0s 7ms/step - loss: 15.9030 - mae: 15.9030\n",
      "Epoch 420/500\n",
      "2/2 [==============================] - 0s 6ms/step - loss: 24.7857 - mae: 24.7857\n",
      "Epoch 421/500\n",
      "2/2 [==============================] - 0s 5ms/step - loss: 17.2966 - mae: 17.2966\n",
      "Epoch 422/500\n",
      "2/2 [==============================] - 0s 5ms/step - loss: 7.8412 - mae: 7.8412\n",
      "Epoch 423/500\n",
      "2/2 [==============================] - 0s 4ms/step - loss: 25.4165 - mae: 25.4165\n",
      "Epoch 424/500\n",
      "2/2 [==============================] - 0s 5ms/step - loss: 15.0209 - mae: 15.0209\n",
      "Epoch 425/500\n",
      "2/2 [==============================] - 0s 5ms/step - loss: 7.1550 - mae: 7.1550\n",
      "Epoch 426/500\n",
      "2/2 [==============================] - 0s 5ms/step - loss: 20.2282 - mae: 20.2282\n",
      "Epoch 427/500\n",
      "2/2 [==============================] - 0s 5ms/step - loss: 6.3128 - mae: 6.3128\n",
      "Epoch 428/500\n",
      "2/2 [==============================] - 0s 5ms/step - loss: 12.6970 - mae: 12.6970\n",
      "Epoch 429/500\n",
      "2/2 [==============================] - 0s 5ms/step - loss: 12.1313 - mae: 12.1313\n",
      "Epoch 430/500\n",
      "2/2 [==============================] - 0s 4ms/step - loss: 11.1316 - mae: 11.1316\n",
      "Epoch 431/500\n",
      "2/2 [==============================] - 0s 5ms/step - loss: 10.0552 - mae: 10.0552\n",
      "Epoch 432/500\n",
      "2/2 [==============================] - 0s 4ms/step - loss: 13.4086 - mae: 13.4086\n",
      "Epoch 433/500\n",
      "2/2 [==============================] - 0s 5ms/step - loss: 11.3966 - mae: 11.3966\n",
      "Epoch 434/500\n",
      "2/2 [==============================] - 0s 5ms/step - loss: 30.4084 - mae: 30.4084\n",
      "Epoch 435/500\n",
      "2/2 [==============================] - 0s 5ms/step - loss: 10.5197 - mae: 10.5197\n",
      "Epoch 436/500\n",
      "2/2 [==============================] - 0s 4ms/step - loss: 28.8952 - mae: 28.8952\n",
      "Epoch 437/500\n",
      "2/2 [==============================] - 0s 5ms/step - loss: 8.6194 - mae: 8.6194\n",
      "Epoch 438/500\n",
      "2/2 [==============================] - 0s 5ms/step - loss: 12.7475 - mae: 12.7475\n",
      "Epoch 439/500\n",
      "2/2 [==============================] - 0s 4ms/step - loss: 33.6856 - mae: 33.6856\n",
      "Epoch 440/500\n",
      "2/2 [==============================] - 0s 5ms/step - loss: 15.1200 - mae: 15.1200\n",
      "Epoch 441/500\n",
      "2/2 [==============================] - 0s 5ms/step - loss: 17.5007 - mae: 17.5007\n",
      "Epoch 442/500\n",
      "2/2 [==============================] - 0s 4ms/step - loss: 22.3402 - mae: 22.3402\n",
      "Epoch 443/500\n",
      "2/2 [==============================] - 0s 5ms/step - loss: 23.5025 - mae: 23.5025\n",
      "Epoch 444/500\n",
      "2/2 [==============================] - 0s 5ms/step - loss: 10.9383 - mae: 10.9383\n",
      "Epoch 445/500\n",
      "2/2 [==============================] - 0s 5ms/step - loss: 14.9434 - mae: 14.9434\n",
      "Epoch 446/500\n",
      "2/2 [==============================] - 0s 4ms/step - loss: 18.0359 - mae: 18.0359\n",
      "Epoch 447/500\n",
      "2/2 [==============================] - 0s 6ms/step - loss: 5.4258 - mae: 5.4258\n",
      "Epoch 448/500\n",
      "2/2 [==============================] - 0s 4ms/step - loss: 10.0938 - mae: 10.0938\n",
      "Epoch 449/500\n",
      "2/2 [==============================] - 0s 4ms/step - loss: 14.0382 - mae: 14.0382\n",
      "Epoch 450/500\n",
      "2/2 [==============================] - 0s 5ms/step - loss: 16.8127 - mae: 16.8127\n",
      "Epoch 451/500\n",
      "2/2 [==============================] - 0s 4ms/step - loss: 14.3123 - mae: 14.3123\n",
      "Epoch 452/500\n",
      "2/2 [==============================] - 0s 4ms/step - loss: 30.6484 - mae: 30.6484\n",
      "Epoch 453/500\n",
      "2/2 [==============================] - 0s 5ms/step - loss: 7.6672 - mae: 7.6672\n",
      "Epoch 454/500\n",
      "2/2 [==============================] - 0s 8ms/step - loss: 28.1816 - mae: 28.1816\n",
      "Epoch 455/500\n",
      "2/2 [==============================] - 0s 7ms/step - loss: 7.9437 - mae: 7.9437\n",
      "Epoch 456/500\n",
      "2/2 [==============================] - 0s 5ms/step - loss: 10.4421 - mae: 10.4421\n",
      "Epoch 457/500\n",
      "2/2 [==============================] - 0s 6ms/step - loss: 15.0614 - mae: 15.0614\n",
      "Epoch 458/500\n",
      "2/2 [==============================] - 0s 5ms/step - loss: 16.5935 - mae: 16.5935\n",
      "Epoch 459/500\n",
      "2/2 [==============================] - 0s 5ms/step - loss: 26.9057 - mae: 26.9057\n",
      "Epoch 460/500\n",
      "2/2 [==============================] - 0s 5ms/step - loss: 12.3623 - mae: 12.3623\n",
      "Epoch 461/500\n",
      "2/2 [==============================] - 0s 5ms/step - loss: 12.5366 - mae: 12.5366\n",
      "Epoch 462/500\n",
      "2/2 [==============================] - 0s 5ms/step - loss: 13.3406 - mae: 13.3406\n",
      "Epoch 463/500\n",
      "2/2 [==============================] - 0s 5ms/step - loss: 29.5941 - mae: 29.5941\n",
      "Epoch 464/500\n",
      "2/2 [==============================] - 0s 6ms/step - loss: 3.4825 - mae: 3.4825\n",
      "Epoch 465/500\n",
      "2/2 [==============================] - 0s 5ms/step - loss: 12.5068 - mae: 12.5068\n",
      "Epoch 466/500\n",
      "2/2 [==============================] - 0s 5ms/step - loss: 17.4776 - mae: 17.4776\n",
      "Epoch 467/500\n",
      "2/2 [==============================] - 0s 4ms/step - loss: 24.1672 - mae: 24.1672\n",
      "Epoch 468/500\n",
      "2/2 [==============================] - 0s 4ms/step - loss: 6.5291 - mae: 6.5291\n",
      "Epoch 469/500\n",
      "2/2 [==============================] - 0s 4ms/step - loss: 28.0142 - mae: 28.0142\n",
      "Epoch 470/500\n",
      "2/2 [==============================] - 0s 5ms/step - loss: 14.8261 - mae: 14.8261\n",
      "Epoch 471/500\n",
      "2/2 [==============================] - 0s 5ms/step - loss: 11.5745 - mae: 11.5745\n",
      "Epoch 472/500\n",
      "2/2 [==============================] - 0s 5ms/step - loss: 15.6538 - mae: 15.6538\n",
      "Epoch 473/500\n",
      "2/2 [==============================] - 0s 4ms/step - loss: 15.7673 - mae: 15.7673\n",
      "Epoch 474/500\n",
      "2/2 [==============================] - 0s 5ms/step - loss: 30.1327 - mae: 30.1327\n",
      "Epoch 475/500\n",
      "2/2 [==============================] - 0s 5ms/step - loss: 9.7070 - mae: 9.7070\n",
      "Epoch 476/500\n",
      "2/2 [==============================] - 0s 5ms/step - loss: 13.4070 - mae: 13.4070\n",
      "Epoch 477/500\n",
      "2/2 [==============================] - 0s 5ms/step - loss: 29.6852 - mae: 29.6852\n",
      "Epoch 478/500\n",
      "2/2 [==============================] - 0s 5ms/step - loss: 3.0913 - mae: 3.0913\n",
      "Epoch 479/500\n",
      "2/2 [==============================] - 0s 4ms/step - loss: 10.5125 - mae: 10.5125\n",
      "Epoch 480/500\n",
      "2/2 [==============================] - 0s 5ms/step - loss: 17.7014 - mae: 17.7014\n",
      "Epoch 481/500\n",
      "2/2 [==============================] - 0s 5ms/step - loss: 15.6559 - mae: 15.6559\n",
      "Epoch 482/500\n",
      "2/2 [==============================] - 0s 5ms/step - loss: 20.9590 - mae: 20.9590\n",
      "Epoch 483/500\n",
      "2/2 [==============================] - 0s 5ms/step - loss: 26.2428 - mae: 26.2428\n",
      "Epoch 484/500\n",
      "2/2 [==============================] - 0s 5ms/step - loss: 24.9000 - mae: 24.9000\n",
      "Epoch 485/500\n",
      "2/2 [==============================] - 0s 4ms/step - loss: 5.9371 - mae: 5.9371\n",
      "Epoch 486/500\n",
      "2/2 [==============================] - 0s 5ms/step - loss: 20.9460 - mae: 20.9460\n",
      "Epoch 487/500\n",
      "2/2 [==============================] - 0s 5ms/step - loss: 13.9439 - mae: 13.9439\n",
      "Epoch 488/500\n",
      "2/2 [==============================] - 0s 4ms/step - loss: 30.4213 - mae: 30.4213\n",
      "Epoch 489/500\n",
      "2/2 [==============================] - 0s 4ms/step - loss: 11.6432 - mae: 11.6432\n",
      "Epoch 490/500\n",
      "2/2 [==============================] - 0s 4ms/step - loss: 12.4077 - mae: 12.4077\n",
      "Epoch 491/500\n",
      "2/2 [==============================] - 0s 4ms/step - loss: 23.5335 - mae: 23.5335\n",
      "Epoch 492/500\n",
      "2/2 [==============================] - 0s 5ms/step - loss: 20.7450 - mae: 20.7450\n",
      "Epoch 493/500\n",
      "2/2 [==============================] - 0s 8ms/step - loss: 5.0458 - mae: 5.0458\n",
      "Epoch 494/500\n",
      "2/2 [==============================] - 0s 7ms/step - loss: 12.9710 - mae: 12.9710\n",
      "Epoch 495/500\n",
      "2/2 [==============================] - 0s 5ms/step - loss: 13.3108 - mae: 13.3108\n",
      "Epoch 496/500\n",
      "2/2 [==============================] - 0s 6ms/step - loss: 12.6262 - mae: 12.6262\n",
      "Epoch 497/500\n",
      "2/2 [==============================] - 0s 5ms/step - loss: 17.5361 - mae: 17.5361\n",
      "Epoch 498/500\n",
      "2/2 [==============================] - 0s 5ms/step - loss: 23.7545 - mae: 23.7545\n",
      "Epoch 499/500\n",
      "2/2 [==============================] - 0s 5ms/step - loss: 9.5324 - mae: 9.5324\n",
      "Epoch 500/500\n",
      "2/2 [==============================] - 0s 4ms/step - loss: 14.6155 - mae: 14.6155\n"
     ]
    },
    {
     "data": {
      "text/plain": [
       "<keras.callbacks.History at 0x7efd585efbd0>"
      ]
     },
     "execution_count": 42,
     "metadata": {},
     "output_type": "execute_result"
    }
   ],
   "source": [
    "# Set random seed\n",
    "tf.random.set_seed(42)\n",
    "\n",
    "# 1. Create the model\n",
    "model_3 = tf.keras.Sequential([\n",
    "    tf.keras.layers.Dense(10, input_shape=[1]),\n",
    "    tf.keras.layers.Dense(1)\n",
    "])\n",
    "\n",
    "# 2. Compile the model\n",
    "model_3.compile(loss=\"mae\",\n",
    "                optimizer=tf.keras.optimizers.SGD(),\n",
    "                metrics=[\"mae\"])\n",
    "\n",
    "# 3. Fit the model\n",
    "model_3.fit(X_train, y_train, epochs=500)"
   ]
  },
  {
   "cell_type": "code",
   "execution_count": 43,
   "metadata": {},
   "outputs": [
    {
     "name": "stdout",
     "output_type": "stream",
     "text": [
      "1/1 [==============================] - 0s 30ms/step\n"
     ]
    },
    {
     "data": {
      "image/png": "[encoded data removed]",
      "text/plain": [
       "<Figure size 1000x700 with 1 Axes>"
      ]
     },
     "metadata": {},
     "output_type": "display_data"
    }
   ],
   "source": [
    "# Make and plot predictions of model_3\n",
    "y_preds_3 = model_3.predict(X_test)\n",
    "plot_predictions(predictions=y_preds_3)"
   ]
  },
  {
   "cell_type": "code",
   "execution_count": 44,
   "metadata": {},
   "outputs": [
    {
     "data": {
      "text/plain": [
       "(<tf.Tensor: shape=(), dtype=float32, numpy=68.66362>,\n",
       " <tf.Tensor: shape=(), dtype=float32, numpy=4801.013>)"
      ]
     },
     "execution_count": 44,
     "metadata": {},
     "output_type": "execute_result"
    }
   ],
   "source": [
    "# Calculate model_2 evaluation metrics\n",
    "mae_3 = mae(y_test, y_preds_3)\n",
    "mse_3 = mse(y_test, y_preds_3)\n",
    "mae_3, mse_3"
   ]
  },
  {
   "attachments": {},
   "cell_type": "markdown",
   "metadata": {},
   "source": [
    "**Note:** Start with a small model first then add complexity when needed"
   ]
  },
  {
   "attachments": {},
   "cell_type": "markdown",
   "metadata": {},
   "source": [
    "### Comparing the results of experiments"
   ]
  },
  {
   "cell_type": "code",
   "execution_count": 45,
   "metadata": {},
   "outputs": [
    {
     "data": {
      "text/html": [
       "<div><style>\n",
       ".dataframe > thead > tr > th,\n",
       ".dataframe > tbody > tr > td {\n",
       "  text-align: right;\n",
       "}\n",
       "</style>\n",
       "<small>shape: (3, 3)</small><table border=\"1\" class=\"dataframe\"><thead><tr><th>model</th><th>mae</th><th>mse</th></tr><tr><td>str</td><td>f64</td><td>f64</td></tr></thead><tbody><tr><td>&quot;model_1&quot;</td><td>8.596848</td><td>80.404884</td></tr><tr><td>&quot;model_2&quot;</td><td>10.678512</td><td>121.826576</td></tr><tr><td>&quot;model_3&quot;</td><td>68.66362</td><td>4801.013184</td></tr></tbody></table></div>"
      ],
      "text/plain": [
       "shape: (3, 3)\n",
       "┌─────────┬───────────┬─────────────┐\n",
       "│ model   ┆ mae       ┆ mse         │\n",
       "│ ---     ┆ ---       ┆ ---         │\n",
       "│ str     ┆ f64       ┆ f64         │\n",
       "╞═════════╪═══════════╪═════════════╡\n",
       "│ model_1 ┆ 8.596848  ┆ 80.404884   │\n",
       "│ model_2 ┆ 10.678512 ┆ 121.826576  │\n",
       "│ model_3 ┆ 68.66362  ┆ 4801.013184 │\n",
       "└─────────┴───────────┴─────────────┘"
      ]
     },
     "execution_count": 45,
     "metadata": {},
     "output_type": "execute_result"
    }
   ],
   "source": [
    "# Create a dataframe and compare model results\n",
    "import polars as pl\n",
    "\n",
    "model_results = [[\"model_1\", mae_1, mse_1],\n",
    "                 [\"model_2\", mae_2, mse_2],\n",
    "                 [\"model_3\", mae_3, mse_3]]\n",
    "\n",
    "all_results = pl.DataFrame(model_results, schema=[\"model\", \"mae\", \"mse\"])\n",
    "all_results"
   ]
  },
  {
   "cell_type": "code",
   "execution_count": 46,
   "metadata": {},
   "outputs": [
    {
     "name": "stdout",
     "output_type": "stream",
     "text": [
      "Model: \"sequential_4\"\n",
      "_________________________________________________________________\n",
      " Layer (type)                Output Shape              Param #   \n",
      "=================================================================\n",
      " dense_5 (Dense)             (None, 10)                20        \n",
      "                                                                 \n",
      " dense_6 (Dense)             (None, 1)                 11        \n",
      "                                                                 \n",
      "=================================================================\n",
      "Total params: 31\n",
      "Trainable params: 31\n",
      "Non-trainable params: 0\n",
      "_________________________________________________________________\n"
     ]
    }
   ],
   "source": [
    "model_2.summary()"
   ]
  },
  {
   "attachments": {},
   "cell_type": "markdown",
   "metadata": {},
   "source": [
    "**Note:** One of the main goals should be to minimize the time between experiments. The more experiments, the more things will be figured out."
   ]
  },
  {
   "attachments": {},
   "cell_type": "markdown",
   "metadata": {},
   "source": [
    "## Tracking experiments\n",
    "\n",
    "One really good habit in machine learning modelling is to track the results of experiments.\n",
    "\n",
    "* TensorBoard - component of the TensorFlow library to help track modelling experiments.\n",
    "* Weights & Biases - a tool for tracking all kinds of machine learning experiments (plugs straight into TensorBoard)"
   ]
  },
  {
   "attachments": {},
   "cell_type": "markdown",
   "metadata": {},
   "source": [
    "## Saving Models\n",
    "\n",
    "Saving models allows them to be used outside of the current environment.\n",
    "\n",
    "2 main formats for saving model:\n",
    "\n",
    "1. The SavedModel format\n",
    "2. The HDF5 format"
   ]
  },
  {
   "cell_type": "code",
   "execution_count": 47,
   "metadata": {},
   "outputs": [
    {
     "name": "stdout",
     "output_type": "stream",
     "text": [
      "INFO:tensorflow:Assets written to: models/best_model_SaveModel_format/assets\n"
     ]
    }
   ],
   "source": [
    "# Save model with SaveModel format\n",
    "model_2.save(\"models/best_model_SaveModel_format\")"
   ]
  },
  {
   "cell_type": "code",
   "execution_count": 48,
   "metadata": {},
   "outputs": [],
   "source": [
    "# Save model with HDF5 format\n",
    "model_2.save(\"models/best_model_SaveModel_format.h5\")"
   ]
  },
  {
   "attachments": {},
   "cell_type": "markdown",
   "metadata": {},
   "source": [
    "## Loading a saved model"
   ]
  },
  {
   "cell_type": "code",
   "execution_count": 49,
   "metadata": {},
   "outputs": [
    {
     "name": "stdout",
     "output_type": "stream",
     "text": [
      "Model: \"sequential_4\"\n",
      "_________________________________________________________________\n",
      " Layer (type)                Output Shape              Param #   \n",
      "=================================================================\n",
      " dense_5 (Dense)             (None, 10)                20        \n",
      "                                                                 \n",
      " dense_6 (Dense)             (None, 1)                 11        \n",
      "                                                                 \n",
      "=================================================================\n",
      "Total params: 31\n",
      "Trainable params: 31\n",
      "Non-trainable params: 0\n",
      "_________________________________________________________________\n"
     ]
    }
   ],
   "source": [
    "# Load the SaveModel format model\n",
    "loaded_SaveModel_format = tf.keras.models.load_model(\"models/best_model_SaveModel_format\")\n",
    "loaded_SaveModel_format.summary()"
   ]
  },
  {
   "cell_type": "code",
   "execution_count": 50,
   "metadata": {},
   "outputs": [
    {
     "name": "stdout",
     "output_type": "stream",
     "text": [
      "1/1 [==============================] - 0s 21ms/step\n",
      "1/1 [==============================] - 0s 30ms/step\n"
     ]
    },
    {
     "data": {
      "text/plain": [
       "array([[ True],\n",
       "       [ True],\n",
       "       [ True],\n",
       "       [ True],\n",
       "       [ True],\n",
       "       [ True],\n",
       "       [ True],\n",
       "       [ True],\n",
       "       [ True],\n",
       "       [ True]])"
      ]
     },
     "execution_count": 50,
     "metadata": {},
     "output_type": "execute_result"
    }
   ],
   "source": [
    "# Compare model_2 predictions with SaveModel format model predictions\n",
    "model_2_preds = model_2.predict(X_test)\n",
    "loaded_SaveModel_format_preds = loaded_SaveModel_format.predict(X_test)\n",
    "model_2_preds == loaded_SaveModel_format_preds"
   ]
  },
  {
   "cell_type": "code",
   "execution_count": 51,
   "metadata": {},
   "outputs": [
    {
     "name": "stdout",
     "output_type": "stream",
     "text": [
      "Model: \"sequential_4\"\n",
      "_________________________________________________________________\n",
      " Layer (type)                Output Shape              Param #   \n",
      "=================================================================\n",
      " dense_5 (Dense)             (None, 10)                20        \n",
      "                                                                 \n",
      " dense_6 (Dense)             (None, 1)                 11        \n",
      "                                                                 \n",
      "=================================================================\n",
      "Total params: 31\n",
      "Trainable params: 31\n",
      "Non-trainable params: 0\n",
      "_________________________________________________________________\n"
     ]
    }
   ],
   "source": [
    "# Load model using .h5 format\n",
    "loaded_h5_model = tf.keras.models.load_model(\"models/best_model_SaveModel_format.h5\")\n",
    "loaded_h5_model.summary()"
   ]
  },
  {
   "cell_type": "code",
   "execution_count": 52,
   "metadata": {},
   "outputs": [
    {
     "name": "stdout",
     "output_type": "stream",
     "text": [
      "1/1 [==============================] - 0s 18ms/step\n",
      "1/1 [==============================] - 0s 28ms/step\n"
     ]
    },
    {
     "data": {
      "text/plain": [
       "array([[ True],\n",
       "       [ True],\n",
       "       [ True],\n",
       "       [ True],\n",
       "       [ True],\n",
       "       [ True],\n",
       "       [ True],\n",
       "       [ True],\n",
       "       [ True],\n",
       "       [ True]])"
      ]
     },
     "execution_count": 52,
     "metadata": {},
     "output_type": "execute_result"
    }
   ],
   "source": [
    "# Compare model_2 predictions with .h5 format model predictions\n",
    "model_2_preds = model_2.predict(X_test)\n",
    "loaded_h5_model_preds = loaded_h5_model.predict(X_test)\n",
    "model_2_preds == loaded_h5_model_preds"
   ]
  },
  {
   "attachments": {},
   "cell_type": "markdown",
   "metadata": {},
   "source": [
    "### A larger example"
   ]
  },
  {
   "cell_type": "code",
   "execution_count": 53,
   "metadata": {},
   "outputs": [],
   "source": [
    "# Import required libraries\n",
    "import tensorflow as tf\n",
    "import polars as pl\n",
    "import matplotlib.pyplot as plt"
   ]
  },
  {
   "cell_type": "code",
   "execution_count": 54,
   "metadata": {},
   "outputs": [
    {
     "data": {
      "text/html": [
       "<div><style>\n",
       ".dataframe > thead > tr > th,\n",
       ".dataframe > tbody > tr > td {\n",
       "  text-align: right;\n",
       "}\n",
       "</style>\n",
       "<small>shape: (1_338, 7)</small><table border=\"1\" class=\"dataframe\"><thead><tr><th>age</th><th>sex</th><th>bmi</th><th>children</th><th>smoker</th><th>region</th><th>charges</th></tr><tr><td>i64</td><td>str</td><td>f64</td><td>i64</td><td>str</td><td>str</td><td>f64</td></tr></thead><tbody><tr><td>19</td><td>&quot;female&quot;</td><td>27.9</td><td>0</td><td>&quot;yes&quot;</td><td>&quot;southwest&quot;</td><td>16884.924</td></tr><tr><td>18</td><td>&quot;male&quot;</td><td>33.77</td><td>1</td><td>&quot;no&quot;</td><td>&quot;southeast&quot;</td><td>1725.5523</td></tr><tr><td>28</td><td>&quot;male&quot;</td><td>33.0</td><td>3</td><td>&quot;no&quot;</td><td>&quot;southeast&quot;</td><td>4449.462</td></tr><tr><td>33</td><td>&quot;male&quot;</td><td>22.705</td><td>0</td><td>&quot;no&quot;</td><td>&quot;northwest&quot;</td><td>21984.47061</td></tr><tr><td>32</td><td>&quot;male&quot;</td><td>28.88</td><td>0</td><td>&quot;no&quot;</td><td>&quot;northwest&quot;</td><td>3866.8552</td></tr><tr><td>31</td><td>&quot;female&quot;</td><td>25.74</td><td>0</td><td>&quot;no&quot;</td><td>&quot;southeast&quot;</td><td>3756.6216</td></tr><tr><td>46</td><td>&quot;female&quot;</td><td>33.44</td><td>1</td><td>&quot;no&quot;</td><td>&quot;southeast&quot;</td><td>8240.5896</td></tr><tr><td>37</td><td>&quot;female&quot;</td><td>27.74</td><td>3</td><td>&quot;no&quot;</td><td>&quot;northwest&quot;</td><td>7281.5056</td></tr><tr><td>37</td><td>&quot;male&quot;</td><td>29.83</td><td>2</td><td>&quot;no&quot;</td><td>&quot;northeast&quot;</td><td>6406.4107</td></tr><tr><td>60</td><td>&quot;female&quot;</td><td>25.84</td><td>0</td><td>&quot;no&quot;</td><td>&quot;northwest&quot;</td><td>28923.13692</td></tr><tr><td>25</td><td>&quot;male&quot;</td><td>26.22</td><td>0</td><td>&quot;no&quot;</td><td>&quot;northeast&quot;</td><td>2721.3208</td></tr><tr><td>62</td><td>&quot;female&quot;</td><td>26.29</td><td>0</td><td>&quot;yes&quot;</td><td>&quot;southeast&quot;</td><td>27808.7251</td></tr><tr><td>&hellip;</td><td>&hellip;</td><td>&hellip;</td><td>&hellip;</td><td>&hellip;</td><td>&hellip;</td><td>&hellip;</td></tr><tr><td>42</td><td>&quot;female&quot;</td><td>32.87</td><td>0</td><td>&quot;no&quot;</td><td>&quot;northeast&quot;</td><td>7050.0213</td></tr><tr><td>51</td><td>&quot;male&quot;</td><td>30.03</td><td>1</td><td>&quot;no&quot;</td><td>&quot;southeast&quot;</td><td>9377.9047</td></tr><tr><td>23</td><td>&quot;female&quot;</td><td>24.225</td><td>2</td><td>&quot;no&quot;</td><td>&quot;northeast&quot;</td><td>22395.74424</td></tr><tr><td>52</td><td>&quot;male&quot;</td><td>38.6</td><td>2</td><td>&quot;no&quot;</td><td>&quot;southwest&quot;</td><td>10325.206</td></tr><tr><td>57</td><td>&quot;female&quot;</td><td>25.74</td><td>2</td><td>&quot;no&quot;</td><td>&quot;southeast&quot;</td><td>12629.1656</td></tr><tr><td>23</td><td>&quot;female&quot;</td><td>33.4</td><td>0</td><td>&quot;no&quot;</td><td>&quot;southwest&quot;</td><td>10795.93733</td></tr><tr><td>52</td><td>&quot;female&quot;</td><td>44.7</td><td>3</td><td>&quot;no&quot;</td><td>&quot;southwest&quot;</td><td>11411.685</td></tr><tr><td>50</td><td>&quot;male&quot;</td><td>30.97</td><td>3</td><td>&quot;no&quot;</td><td>&quot;northwest&quot;</td><td>10600.5483</td></tr><tr><td>18</td><td>&quot;female&quot;</td><td>31.92</td><td>0</td><td>&quot;no&quot;</td><td>&quot;northeast&quot;</td><td>2205.9808</td></tr><tr><td>18</td><td>&quot;female&quot;</td><td>36.85</td><td>0</td><td>&quot;no&quot;</td><td>&quot;southeast&quot;</td><td>1629.8335</td></tr><tr><td>21</td><td>&quot;female&quot;</td><td>25.8</td><td>0</td><td>&quot;no&quot;</td><td>&quot;southwest&quot;</td><td>2007.945</td></tr><tr><td>61</td><td>&quot;female&quot;</td><td>29.07</td><td>0</td><td>&quot;yes&quot;</td><td>&quot;northwest&quot;</td><td>29141.3603</td></tr></tbody></table></div>"
      ],
      "text/plain": [
       "shape: (1_338, 7)\n",
       "┌─────┬────────┬────────┬──────────┬────────┬───────────┬─────────────┐\n",
       "│ age ┆ sex    ┆ bmi    ┆ children ┆ smoker ┆ region    ┆ charges     │\n",
       "│ --- ┆ ---    ┆ ---    ┆ ---      ┆ ---    ┆ ---       ┆ ---         │\n",
       "│ i64 ┆ str    ┆ f64    ┆ i64      ┆ str    ┆ str       ┆ f64         │\n",
       "╞═════╪════════╪════════╪══════════╪════════╪═══════════╪═════════════╡\n",
       "│ 19  ┆ female ┆ 27.9   ┆ 0        ┆ yes    ┆ southwest ┆ 16884.924   │\n",
       "│ 18  ┆ male   ┆ 33.77  ┆ 1        ┆ no     ┆ southeast ┆ 1725.5523   │\n",
       "│ 28  ┆ male   ┆ 33.0   ┆ 3        ┆ no     ┆ southeast ┆ 4449.462    │\n",
       "│ 33  ┆ male   ┆ 22.705 ┆ 0        ┆ no     ┆ northwest ┆ 21984.47061 │\n",
       "│ …   ┆ …      ┆ …      ┆ …        ┆ …      ┆ …         ┆ …           │\n",
       "│ 18  ┆ female ┆ 31.92  ┆ 0        ┆ no     ┆ northeast ┆ 2205.9808   │\n",
       "│ 18  ┆ female ┆ 36.85  ┆ 0        ┆ no     ┆ southeast ┆ 1629.8335   │\n",
       "│ 21  ┆ female ┆ 25.8   ┆ 0        ┆ no     ┆ southwest ┆ 2007.945    │\n",
       "│ 61  ┆ female ┆ 29.07  ┆ 0        ┆ yes    ┆ northwest ┆ 29141.3603  │\n",
       "└─────┴────────┴────────┴──────────┴────────┴───────────┴─────────────┘"
      ]
     },
     "execution_count": 54,
     "metadata": {},
     "output_type": "execute_result"
    }
   ],
   "source": [
    "# Read the insurance dataset\n",
    "insurance = pl.read_csv(\"data/insurance.csv\")\n",
    "insurance"
   ]
  },
  {
   "cell_type": "code",
   "execution_count": 55,
   "metadata": {},
   "outputs": [
    {
     "data": {
      "text/html": [
       "<div><style>\n",
       ".dataframe > thead > tr > th,\n",
       ".dataframe > tbody > tr > td {\n",
       "  text-align: right;\n",
       "}\n",
       "</style>\n",
       "<small>shape: (1_338, 1)</small><table border=\"1\" class=\"dataframe\"><thead><tr><th>smoker</th></tr><tr><td>str</td></tr></thead><tbody><tr><td>&quot;yes&quot;</td></tr><tr><td>&quot;no&quot;</td></tr><tr><td>&quot;no&quot;</td></tr><tr><td>&quot;no&quot;</td></tr><tr><td>&quot;no&quot;</td></tr><tr><td>&quot;no&quot;</td></tr><tr><td>&quot;no&quot;</td></tr><tr><td>&quot;no&quot;</td></tr><tr><td>&quot;no&quot;</td></tr><tr><td>&quot;no&quot;</td></tr><tr><td>&quot;no&quot;</td></tr><tr><td>&quot;yes&quot;</td></tr><tr><td>&hellip;</td></tr><tr><td>&quot;no&quot;</td></tr><tr><td>&quot;no&quot;</td></tr><tr><td>&quot;no&quot;</td></tr><tr><td>&quot;no&quot;</td></tr><tr><td>&quot;no&quot;</td></tr><tr><td>&quot;no&quot;</td></tr><tr><td>&quot;no&quot;</td></tr><tr><td>&quot;no&quot;</td></tr><tr><td>&quot;no&quot;</td></tr><tr><td>&quot;no&quot;</td></tr><tr><td>&quot;no&quot;</td></tr><tr><td>&quot;yes&quot;</td></tr></tbody></table></div>"
      ],
      "text/plain": [
       "shape: (1_338, 1)\n",
       "┌────────┐\n",
       "│ smoker │\n",
       "│ ---    │\n",
       "│ str    │\n",
       "╞════════╡\n",
       "│ yes    │\n",
       "│ no     │\n",
       "│ no     │\n",
       "│ no     │\n",
       "│ …      │\n",
       "│ no     │\n",
       "│ no     │\n",
       "│ no     │\n",
       "│ yes    │\n",
       "└────────┘"
      ]
     },
     "execution_count": 55,
     "metadata": {},
     "output_type": "execute_result"
    }
   ],
   "source": [
    "insurance.select(\"smoker\")"
   ]
  },
  {
   "cell_type": "code",
   "execution_count": 56,
   "metadata": {},
   "outputs": [
    {
     "data": {
      "text/html": [
       "<div><style>\n",
       ".dataframe > thead > tr > th,\n",
       ".dataframe > tbody > tr > td {\n",
       "  text-align: right;\n",
       "}\n",
       "</style>\n",
       "<small>shape: (1_338, 12)</small><table border=\"1\" class=\"dataframe\"><thead><tr><th>age</th><th>sex_female</th><th>sex_male</th><th>bmi</th><th>children</th><th>smoker_no</th><th>smoker_yes</th><th>region_northeast</th><th>region_northwest</th><th>region_southeast</th><th>region_southwest</th><th>charges</th></tr><tr><td>i64</td><td>u8</td><td>u8</td><td>f64</td><td>i64</td><td>u8</td><td>u8</td><td>u8</td><td>u8</td><td>u8</td><td>u8</td><td>f64</td></tr></thead><tbody><tr><td>19</td><td>1</td><td>0</td><td>27.9</td><td>0</td><td>0</td><td>1</td><td>0</td><td>0</td><td>0</td><td>1</td><td>16884.924</td></tr><tr><td>18</td><td>0</td><td>1</td><td>33.77</td><td>1</td><td>1</td><td>0</td><td>0</td><td>0</td><td>1</td><td>0</td><td>1725.5523</td></tr><tr><td>28</td><td>0</td><td>1</td><td>33.0</td><td>3</td><td>1</td><td>0</td><td>0</td><td>0</td><td>1</td><td>0</td><td>4449.462</td></tr><tr><td>33</td><td>0</td><td>1</td><td>22.705</td><td>0</td><td>1</td><td>0</td><td>0</td><td>1</td><td>0</td><td>0</td><td>21984.47061</td></tr><tr><td>32</td><td>0</td><td>1</td><td>28.88</td><td>0</td><td>1</td><td>0</td><td>0</td><td>1</td><td>0</td><td>0</td><td>3866.8552</td></tr><tr><td>31</td><td>1</td><td>0</td><td>25.74</td><td>0</td><td>1</td><td>0</td><td>0</td><td>0</td><td>1</td><td>0</td><td>3756.6216</td></tr><tr><td>46</td><td>1</td><td>0</td><td>33.44</td><td>1</td><td>1</td><td>0</td><td>0</td><td>0</td><td>1</td><td>0</td><td>8240.5896</td></tr><tr><td>37</td><td>1</td><td>0</td><td>27.74</td><td>3</td><td>1</td><td>0</td><td>0</td><td>1</td><td>0</td><td>0</td><td>7281.5056</td></tr><tr><td>37</td><td>0</td><td>1</td><td>29.83</td><td>2</td><td>1</td><td>0</td><td>1</td><td>0</td><td>0</td><td>0</td><td>6406.4107</td></tr><tr><td>60</td><td>1</td><td>0</td><td>25.84</td><td>0</td><td>1</td><td>0</td><td>0</td><td>1</td><td>0</td><td>0</td><td>28923.13692</td></tr><tr><td>25</td><td>0</td><td>1</td><td>26.22</td><td>0</td><td>1</td><td>0</td><td>1</td><td>0</td><td>0</td><td>0</td><td>2721.3208</td></tr><tr><td>62</td><td>1</td><td>0</td><td>26.29</td><td>0</td><td>0</td><td>1</td><td>0</td><td>0</td><td>1</td><td>0</td><td>27808.7251</td></tr><tr><td>&hellip;</td><td>&hellip;</td><td>&hellip;</td><td>&hellip;</td><td>&hellip;</td><td>&hellip;</td><td>&hellip;</td><td>&hellip;</td><td>&hellip;</td><td>&hellip;</td><td>&hellip;</td><td>&hellip;</td></tr><tr><td>42</td><td>1</td><td>0</td><td>32.87</td><td>0</td><td>1</td><td>0</td><td>1</td><td>0</td><td>0</td><td>0</td><td>7050.0213</td></tr><tr><td>51</td><td>0</td><td>1</td><td>30.03</td><td>1</td><td>1</td><td>0</td><td>0</td><td>0</td><td>1</td><td>0</td><td>9377.9047</td></tr><tr><td>23</td><td>1</td><td>0</td><td>24.225</td><td>2</td><td>1</td><td>0</td><td>1</td><td>0</td><td>0</td><td>0</td><td>22395.74424</td></tr><tr><td>52</td><td>0</td><td>1</td><td>38.6</td><td>2</td><td>1</td><td>0</td><td>0</td><td>0</td><td>0</td><td>1</td><td>10325.206</td></tr><tr><td>57</td><td>1</td><td>0</td><td>25.74</td><td>2</td><td>1</td><td>0</td><td>0</td><td>0</td><td>1</td><td>0</td><td>12629.1656</td></tr><tr><td>23</td><td>1</td><td>0</td><td>33.4</td><td>0</td><td>1</td><td>0</td><td>0</td><td>0</td><td>0</td><td>1</td><td>10795.93733</td></tr><tr><td>52</td><td>1</td><td>0</td><td>44.7</td><td>3</td><td>1</td><td>0</td><td>0</td><td>0</td><td>0</td><td>1</td><td>11411.685</td></tr><tr><td>50</td><td>0</td><td>1</td><td>30.97</td><td>3</td><td>1</td><td>0</td><td>0</td><td>1</td><td>0</td><td>0</td><td>10600.5483</td></tr><tr><td>18</td><td>1</td><td>0</td><td>31.92</td><td>0</td><td>1</td><td>0</td><td>1</td><td>0</td><td>0</td><td>0</td><td>2205.9808</td></tr><tr><td>18</td><td>1</td><td>0</td><td>36.85</td><td>0</td><td>1</td><td>0</td><td>0</td><td>0</td><td>1</td><td>0</td><td>1629.8335</td></tr><tr><td>21</td><td>1</td><td>0</td><td>25.8</td><td>0</td><td>1</td><td>0</td><td>0</td><td>0</td><td>0</td><td>1</td><td>2007.945</td></tr><tr><td>61</td><td>1</td><td>0</td><td>29.07</td><td>0</td><td>0</td><td>1</td><td>0</td><td>1</td><td>0</td><td>0</td><td>29141.3603</td></tr></tbody></table></div>"
      ],
      "text/plain": [
       "shape: (1_338, 12)\n",
       "┌─────┬────────────┬──────────┬────────┬───┬────────────┬────────────┬───────────────┬─────────────┐\n",
       "│ age ┆ sex_female ┆ sex_male ┆ bmi    ┆ … ┆ region_nor ┆ region_sou ┆ region_southw ┆ charges     │\n",
       "│ --- ┆ ---        ┆ ---      ┆ ---    ┆   ┆ thwest     ┆ theast     ┆ est           ┆ ---         │\n",
       "│ i64 ┆ u8         ┆ u8       ┆ f64    ┆   ┆ ---        ┆ ---        ┆ ---           ┆ f64         │\n",
       "│     ┆            ┆          ┆        ┆   ┆ u8         ┆ u8         ┆ u8            ┆             │\n",
       "╞═════╪════════════╪══════════╪════════╪═══╪════════════╪════════════╪═══════════════╪═════════════╡\n",
       "│ 19  ┆ 1          ┆ 0        ┆ 27.9   ┆ … ┆ 0          ┆ 0          ┆ 1             ┆ 16884.924   │\n",
       "│ 18  ┆ 0          ┆ 1        ┆ 33.77  ┆ … ┆ 0          ┆ 1          ┆ 0             ┆ 1725.5523   │\n",
       "│ 28  ┆ 0          ┆ 1        ┆ 33.0   ┆ … ┆ 0          ┆ 1          ┆ 0             ┆ 4449.462    │\n",
       "│ 33  ┆ 0          ┆ 1        ┆ 22.705 ┆ … ┆ 1          ┆ 0          ┆ 0             ┆ 21984.47061 │\n",
       "│ …   ┆ …          ┆ …        ┆ …      ┆ … ┆ …          ┆ …          ┆ …             ┆ …           │\n",
       "│ 18  ┆ 1          ┆ 0        ┆ 31.92  ┆ … ┆ 0          ┆ 0          ┆ 0             ┆ 2205.9808   │\n",
       "│ 18  ┆ 1          ┆ 0        ┆ 36.85  ┆ … ┆ 0          ┆ 1          ┆ 0             ┆ 1629.8335   │\n",
       "│ 21  ┆ 1          ┆ 0        ┆ 25.8   ┆ … ┆ 0          ┆ 0          ┆ 1             ┆ 2007.945    │\n",
       "│ 61  ┆ 1          ┆ 0        ┆ 29.07  ┆ … ┆ 1          ┆ 0          ┆ 0             ┆ 29141.3603  │\n",
       "└─────┴────────────┴──────────┴────────┴───┴────────────┴────────────┴───────────────┴─────────────┘"
      ]
     },
     "execution_count": 56,
     "metadata": {},
     "output_type": "execute_result"
    }
   ],
   "source": [
    "# One-hot encode dataframe to turn categorical variables into numerical\n",
    "insurance_one_hot = insurance.to_dummies(columns=[\"smoker\",\"sex\",\"region\"])\n",
    "insurance_one_hot"
   ]
  },
  {
   "cell_type": "code",
   "execution_count": 57,
   "metadata": {},
   "outputs": [
    {
     "data": {
      "text/plain": [
       "(array([[19.,  1.,  0., ...,  0.,  0.,  1.],\n",
       "        [18.,  0.,  1., ...,  0.,  1.,  0.],\n",
       "        [28.,  0.,  1., ...,  0.,  1.,  0.],\n",
       "        ...,\n",
       "        [18.,  1.,  0., ...,  0.,  1.,  0.],\n",
       "        [21.,  1.,  0., ...,  0.,  0.,  1.],\n",
       "        [61.,  1.,  0., ...,  1.,  0.,  0.]]),\n",
       " array([[16884.924 ],\n",
       "        [ 1725.5523],\n",
       "        [ 4449.462 ],\n",
       "        ...,\n",
       "        [ 1629.8335],\n",
       "        [ 2007.945 ],\n",
       "        [29141.3603]]))"
      ]
     },
     "execution_count": 57,
     "metadata": {},
     "output_type": "execute_result"
    }
   ],
   "source": [
    "# Create X and y values (features and labels)\n",
    "X = insurance_one_hot.drop(\"charges\").to_numpy()\n",
    "y = insurance_one_hot.select(\"charges\").to_numpy()\n",
    "X, y"
   ]
  },
  {
   "cell_type": "code",
   "execution_count": 58,
   "metadata": {},
   "outputs": [
    {
     "data": {
      "text/plain": [
       "(1070, 268, 1070, 268)"
      ]
     },
     "execution_count": 58,
     "metadata": {},
     "output_type": "execute_result"
    }
   ],
   "source": [
    "# Create training and test sets\n",
    "from sklearn.model_selection import train_test_split\n",
    "X_train, X_test, y_train, y_test = train_test_split(X, y, test_size=0.2, random_state=42)\n",
    "\n",
    "len(X_train), len(X_test), len(y_train), len(y_test)"
   ]
  },
  {
   "cell_type": "code",
   "execution_count": 59,
   "metadata": {},
   "outputs": [
    {
     "name": "stdout",
     "output_type": "stream",
     "text": [
      "Epoch 1/100\n",
      "34/34 [==============================] - 1s 5ms/step - loss: 8664.4678 - mae: 8664.4678\n",
      "Epoch 2/100\n",
      "34/34 [==============================] - 0s 4ms/step - loss: 7852.6250 - mae: 7852.6250\n",
      "Epoch 3/100\n",
      "34/34 [==============================] - 0s 4ms/step - loss: 7597.7544 - mae: 7597.7544\n",
      "Epoch 4/100\n",
      "34/34 [==============================] - 0s 4ms/step - loss: 7737.9629 - mae: 7737.9629\n",
      "Epoch 5/100\n",
      "34/34 [==============================] - 0s 5ms/step - loss: 7762.1528 - mae: 7762.1528\n",
      "Epoch 6/100\n",
      "34/34 [==============================] - 0s 4ms/step - loss: 7624.7539 - mae: 7624.7539\n",
      "Epoch 7/100\n",
      "34/34 [==============================] - 0s 4ms/step - loss: 7576.0737 - mae: 7576.0737\n",
      "Epoch 8/100\n",
      "34/34 [==============================] - 0s 4ms/step - loss: 7788.0933 - mae: 7788.0933\n",
      "Epoch 9/100\n",
      "34/34 [==============================] - 0s 4ms/step - loss: 7511.5366 - mae: 7511.5366\n",
      "Epoch 10/100\n",
      "34/34 [==============================] - 0s 4ms/step - loss: 7723.1587 - mae: 7723.1587\n",
      "Epoch 11/100\n",
      "34/34 [==============================] - 0s 4ms/step - loss: 7520.9116 - mae: 7520.9116\n",
      "Epoch 12/100\n",
      "34/34 [==============================] - 0s 4ms/step - loss: 7555.5679 - mae: 7555.5679\n",
      "Epoch 13/100\n",
      "34/34 [==============================] - 0s 4ms/step - loss: 7707.5693 - mae: 7707.5693\n",
      "Epoch 14/100\n",
      "34/34 [==============================] - 0s 4ms/step - loss: 7747.8184 - mae: 7747.8184\n",
      "Epoch 15/100\n",
      "34/34 [==============================] - 0s 4ms/step - loss: 7659.9136 - mae: 7659.9136\n",
      "Epoch 16/100\n",
      "34/34 [==============================] - 0s 4ms/step - loss: 7743.8604 - mae: 7743.8604\n",
      "Epoch 17/100\n",
      "34/34 [==============================] - 0s 4ms/step - loss: 7611.0947 - mae: 7611.0947\n",
      "Epoch 18/100\n",
      "34/34 [==============================] - 0s 4ms/step - loss: 7736.3086 - mae: 7736.3086\n",
      "Epoch 19/100\n",
      "34/34 [==============================] - 0s 4ms/step - loss: 7742.6255 - mae: 7742.6255\n",
      "Epoch 20/100\n",
      "34/34 [==============================] - 0s 4ms/step - loss: 7929.4878 - mae: 7929.4878\n",
      "Epoch 21/100\n",
      "34/34 [==============================] - 0s 4ms/step - loss: 7482.0469 - mae: 7482.0469\n",
      "Epoch 22/100\n",
      "34/34 [==============================] - 0s 4ms/step - loss: 7780.6655 - mae: 7780.6655\n",
      "Epoch 23/100\n",
      "34/34 [==============================] - 0s 4ms/step - loss: 7648.6709 - mae: 7648.6709\n",
      "Epoch 24/100\n",
      "34/34 [==============================] - 0s 4ms/step - loss: 7562.2139 - mae: 7562.2139\n",
      "Epoch 25/100\n",
      "34/34 [==============================] - 0s 4ms/step - loss: 7681.0361 - mae: 7681.0361\n",
      "Epoch 26/100\n",
      "34/34 [==============================] - 0s 4ms/step - loss: 7642.2720 - mae: 7642.2720\n",
      "Epoch 27/100\n",
      "34/34 [==============================] - 0s 4ms/step - loss: 7575.3174 - mae: 7575.3174\n",
      "Epoch 28/100\n",
      "34/34 [==============================] - 0s 4ms/step - loss: 7552.1807 - mae: 7552.1807\n",
      "Epoch 29/100\n",
      "34/34 [==============================] - 0s 5ms/step - loss: 7664.7324 - mae: 7664.7324\n",
      "Epoch 30/100\n",
      "34/34 [==============================] - 0s 4ms/step - loss: 7714.4751 - mae: 7714.4751\n",
      "Epoch 31/100\n",
      "34/34 [==============================] - 0s 4ms/step - loss: 7542.6313 - mae: 7542.6313\n",
      "Epoch 32/100\n",
      "34/34 [==============================] - 0s 3ms/step - loss: 7531.0254 - mae: 7531.0254\n",
      "Epoch 33/100\n",
      "34/34 [==============================] - 0s 3ms/step - loss: 7406.6357 - mae: 7406.6357\n",
      "Epoch 34/100\n",
      "34/34 [==============================] - 0s 3ms/step - loss: 7579.8857 - mae: 7579.8857\n",
      "Epoch 35/100\n",
      "34/34 [==============================] - 0s 3ms/step - loss: 7617.0073 - mae: 7617.0073\n",
      "Epoch 36/100\n",
      "34/34 [==============================] - 0s 3ms/step - loss: 7594.1367 - mae: 7594.1367\n",
      "Epoch 37/100\n",
      "34/34 [==============================] - 0s 3ms/step - loss: 7615.5625 - mae: 7615.5625\n",
      "Epoch 38/100\n",
      "34/34 [==============================] - 0s 2ms/step - loss: 7380.2217 - mae: 7380.2217\n",
      "Epoch 39/100\n",
      "34/34 [==============================] - 0s 3ms/step - loss: 7350.9512 - mae: 7350.9512\n",
      "Epoch 40/100\n",
      "34/34 [==============================] - 0s 3ms/step - loss: 7411.4111 - mae: 7411.4111\n",
      "Epoch 41/100\n",
      "34/34 [==============================] - 0s 3ms/step - loss: 7723.3335 - mae: 7723.3335\n",
      "Epoch 42/100\n",
      "34/34 [==============================] - 0s 3ms/step - loss: 7785.1812 - mae: 7785.1812\n",
      "Epoch 43/100\n",
      "34/34 [==============================] - 0s 2ms/step - loss: 7673.5713 - mae: 7673.5713\n",
      "Epoch 44/100\n",
      "34/34 [==============================] - 0s 3ms/step - loss: 7509.9463 - mae: 7509.9463\n",
      "Epoch 45/100\n",
      "34/34 [==============================] - 0s 3ms/step - loss: 7519.0771 - mae: 7519.0771\n",
      "Epoch 46/100\n",
      "34/34 [==============================] - 0s 3ms/step - loss: 7425.1709 - mae: 7425.1709\n",
      "Epoch 47/100\n",
      "34/34 [==============================] - 0s 3ms/step - loss: 7498.3804 - mae: 7498.3804\n",
      "Epoch 48/100\n",
      "34/34 [==============================] - 0s 3ms/step - loss: 7498.5586 - mae: 7498.5586\n",
      "Epoch 49/100\n",
      "34/34 [==============================] - 0s 2ms/step - loss: 7543.2949 - mae: 7543.2949\n",
      "Epoch 50/100\n",
      "34/34 [==============================] - 0s 3ms/step - loss: 7510.1460 - mae: 7510.1460\n",
      "Epoch 51/100\n",
      "34/34 [==============================] - 0s 3ms/step - loss: 7411.3750 - mae: 7411.3750\n",
      "Epoch 52/100\n",
      "34/34 [==============================] - 0s 3ms/step - loss: 7570.3281 - mae: 7570.3281\n",
      "Epoch 53/100\n",
      "34/34 [==============================] - 0s 2ms/step - loss: 7572.8003 - mae: 7572.8003\n",
      "Epoch 54/100\n",
      "34/34 [==============================] - 0s 2ms/step - loss: 7221.7476 - mae: 7221.7476\n",
      "Epoch 55/100\n",
      "34/34 [==============================] - 0s 2ms/step - loss: 7382.9453 - mae: 7382.9453\n",
      "Epoch 56/100\n",
      "34/34 [==============================] - 0s 3ms/step - loss: 7403.7642 - mae: 7403.7642\n",
      "Epoch 57/100\n",
      "34/34 [==============================] - 0s 3ms/step - loss: 7356.8296 - mae: 7356.8296\n",
      "Epoch 58/100\n",
      "34/34 [==============================] - 0s 3ms/step - loss: 7593.7085 - mae: 7593.7085\n",
      "Epoch 59/100\n",
      "34/34 [==============================] - 0s 3ms/step - loss: 7547.9951 - mae: 7547.9951\n",
      "Epoch 60/100\n",
      "34/34 [==============================] - 0s 3ms/step - loss: 7330.6943 - mae: 7330.6943\n",
      "Epoch 61/100\n",
      "34/34 [==============================] - 0s 3ms/step - loss: 7448.1025 - mae: 7448.1025\n",
      "Epoch 62/100\n",
      "34/34 [==============================] - 0s 3ms/step - loss: 7495.7817 - mae: 7495.7817\n",
      "Epoch 63/100\n",
      "34/34 [==============================] - 0s 2ms/step - loss: 7390.4004 - mae: 7390.4004\n",
      "Epoch 64/100\n",
      "34/34 [==============================] - 0s 3ms/step - loss: 7411.8530 - mae: 7411.8530\n",
      "Epoch 65/100\n",
      "34/34 [==============================] - 0s 2ms/step - loss: 7544.7798 - mae: 7544.7798\n",
      "Epoch 66/100\n",
      "34/34 [==============================] - 0s 2ms/step - loss: 7284.1489 - mae: 7284.1489\n",
      "Epoch 67/100\n",
      "34/34 [==============================] - 0s 2ms/step - loss: 7366.6182 - mae: 7366.6182\n",
      "Epoch 68/100\n",
      "34/34 [==============================] - 0s 2ms/step - loss: 7467.8311 - mae: 7467.8311\n",
      "Epoch 69/100\n",
      "34/34 [==============================] - 0s 2ms/step - loss: 7650.3511 - mae: 7650.3511\n",
      "Epoch 70/100\n",
      "34/34 [==============================] - 0s 2ms/step - loss: 7522.6104 - mae: 7522.6104\n",
      "Epoch 71/100\n",
      "34/34 [==============================] - 0s 3ms/step - loss: 7250.9854 - mae: 7250.9854\n",
      "Epoch 72/100\n",
      "34/34 [==============================] - 0s 2ms/step - loss: 7450.9282 - mae: 7450.9282\n",
      "Epoch 73/100\n",
      "34/34 [==============================] - 0s 3ms/step - loss: 7297.2578 - mae: 7297.2578\n",
      "Epoch 74/100\n",
      "34/34 [==============================] - 0s 3ms/step - loss: 7501.0278 - mae: 7501.0278\n",
      "Epoch 75/100\n",
      "34/34 [==============================] - 0s 2ms/step - loss: 7276.7759 - mae: 7276.7759\n",
      "Epoch 76/100\n",
      "34/34 [==============================] - 0s 2ms/step - loss: 7135.1836 - mae: 7135.1836\n",
      "Epoch 77/100\n",
      "34/34 [==============================] - 0s 2ms/step - loss: 7498.2051 - mae: 7498.2051\n",
      "Epoch 78/100\n",
      "34/34 [==============================] - 0s 2ms/step - loss: 7074.1235 - mae: 7074.1235\n",
      "Epoch 79/100\n",
      "34/34 [==============================] - 0s 2ms/step - loss: 7626.1328 - mae: 7626.1328\n",
      "Epoch 80/100\n",
      "34/34 [==============================] - 0s 3ms/step - loss: 7355.9678 - mae: 7355.9678\n",
      "Epoch 81/100\n",
      "34/34 [==============================] - 0s 2ms/step - loss: 7186.3633 - mae: 7186.3633\n",
      "Epoch 82/100\n",
      "34/34 [==============================] - 0s 3ms/step - loss: 7289.5620 - mae: 7289.5620\n",
      "Epoch 83/100\n",
      "34/34 [==============================] - 0s 4ms/step - loss: 7546.2510 - mae: 7546.2510\n",
      "Epoch 84/100\n",
      "34/34 [==============================] - 0s 3ms/step - loss: 7163.1489 - mae: 7163.1489\n",
      "Epoch 85/100\n",
      "34/34 [==============================] - 0s 3ms/step - loss: 7299.6133 - mae: 7299.6133\n",
      "Epoch 86/100\n",
      "34/34 [==============================] - 0s 3ms/step - loss: 7513.6987 - mae: 7513.6987\n",
      "Epoch 87/100\n",
      "34/34 [==============================] - 0s 3ms/step - loss: 7249.4849 - mae: 7249.4849\n",
      "Epoch 88/100\n",
      "34/34 [==============================] - 0s 3ms/step - loss: 7284.0708 - mae: 7284.0708\n",
      "Epoch 89/100\n",
      "34/34 [==============================] - 0s 4ms/step - loss: 7321.7637 - mae: 7321.7637\n",
      "Epoch 90/100\n",
      "34/34 [==============================] - 0s 3ms/step - loss: 7063.7129 - mae: 7063.7129\n",
      "Epoch 91/100\n",
      "34/34 [==============================] - 0s 4ms/step - loss: 7278.2490 - mae: 7278.2490\n",
      "Epoch 92/100\n",
      "34/34 [==============================] - 0s 4ms/step - loss: 7306.7085 - mae: 7306.7085\n",
      "Epoch 93/100\n",
      "34/34 [==============================] - 0s 4ms/step - loss: 7451.6860 - mae: 7451.6860\n",
      "Epoch 94/100\n",
      "34/34 [==============================] - 0s 3ms/step - loss: 7242.7979 - mae: 7242.7979\n",
      "Epoch 95/100\n",
      "34/34 [==============================] - 0s 3ms/step - loss: 7399.7578 - mae: 7399.7578\n",
      "Epoch 96/100\n",
      "34/34 [==============================] - 0s 4ms/step - loss: 7346.5708 - mae: 7346.5708\n",
      "Epoch 97/100\n",
      "34/34 [==============================] - 0s 3ms/step - loss: 7152.3022 - mae: 7152.3022\n",
      "Epoch 98/100\n",
      "34/34 [==============================] - 0s 3ms/step - loss: 7468.2334 - mae: 7468.2334\n",
      "Epoch 99/100\n",
      "34/34 [==============================] - 0s 3ms/step - loss: 7256.2095 - mae: 7256.2095\n",
      "Epoch 100/100\n",
      "34/34 [==============================] - 0s 4ms/step - loss: 7227.8979 - mae: 7227.8979\n"
     ]
    },
    {
     "data": {
      "text/plain": [
       "<keras.callbacks.History at 0x7efc4c809990>"
      ]
     },
     "execution_count": 59,
     "metadata": {},
     "output_type": "execute_result"
    }
   ],
   "source": [
    "# Build a neural network\n",
    "tf.random.set_seed(42)\n",
    "\n",
    "# 1. Create a model\n",
    "insurance_model = tf.keras.Sequential([\n",
    "  tf.keras.layers.Dense(10),\n",
    "  tf.keras.layers.Dense(1)\n",
    "])\n",
    "\n",
    "# 2. Compile the model\n",
    "insurance_model.compile(loss=\"mae\",\n",
    "                        optimizer=tf.keras.optimizers.SGD(),\n",
    "                        metrics=[\"mae\"])\n",
    "\n",
    "# 3. Fit the model\n",
    "insurance_model.fit(X_train, y_train, epochs=100)"
   ]
  },
  {
   "cell_type": "code",
   "execution_count": 60,
   "metadata": {},
   "outputs": [
    {
     "name": "stdout",
     "output_type": "stream",
     "text": [
      "9/9 [==============================] - 0s 3ms/step - loss: 7204.8794 - mae: 7204.8794\n"
     ]
    },
    {
     "data": {
      "text/plain": [
       "[7204.87939453125, 7204.87939453125]"
      ]
     },
     "execution_count": 60,
     "metadata": {},
     "output_type": "execute_result"
    }
   ],
   "source": [
    "# Check the results of the insurance model on the test data\n",
    "insurance_model.evaluate(X_test, y_test)"
   ]
  },
  {
   "attachments": {},
   "cell_type": "markdown",
   "metadata": {},
   "source": [
    "Improve the model\n",
    "\n",
    "To try improving the model, run 2 experiments:\n",
    "1. Add an extra layer with more hidden units and change optimizer to Adam\n",
    "2. Train longer for 200 epochs and same as 1st experiment"
   ]
  },
  {
   "cell_type": "code",
   "execution_count": 61,
   "metadata": {},
   "outputs": [
    {
     "name": "stdout",
     "output_type": "stream",
     "text": [
      "Epoch 1/100\n",
      "34/34 [==============================] - 1s 5ms/step - loss: 13287.1650 - mae: 13287.1650\n",
      "Epoch 2/100\n",
      "34/34 [==============================] - 0s 5ms/step - loss: 13107.1680 - mae: 13107.1680\n",
      "Epoch 3/100\n",
      "34/34 [==============================] - 0s 5ms/step - loss: 12729.2500 - mae: 12729.2500\n",
      "Epoch 4/100\n",
      "34/34 [==============================] - 0s 5ms/step - loss: 11985.3867 - mae: 11985.3867\n",
      "Epoch 5/100\n",
      "34/34 [==============================] - 0s 5ms/step - loss: 10765.0859 - mae: 10765.0859\n",
      "Epoch 6/100\n",
      "34/34 [==============================] - 0s 5ms/step - loss: 9272.2002 - mae: 9272.2002\n",
      "Epoch 7/100\n",
      "34/34 [==============================] - 0s 5ms/step - loss: 7991.4785 - mae: 7991.4785\n",
      "Epoch 8/100\n",
      "34/34 [==============================] - 0s 5ms/step - loss: 7486.1470 - mae: 7486.1470\n",
      "Epoch 9/100\n",
      "34/34 [==============================] - 0s 5ms/step - loss: 7418.7090 - mae: 7418.7090\n",
      "Epoch 10/100\n",
      "34/34 [==============================] - 0s 5ms/step - loss: 7398.9321 - mae: 7398.9321\n",
      "Epoch 11/100\n",
      "34/34 [==============================] - 0s 5ms/step - loss: 7379.7354 - mae: 7379.7354\n",
      "Epoch 12/100\n",
      "34/34 [==============================] - 0s 5ms/step - loss: 7357.3618 - mae: 7357.3618\n",
      "Epoch 13/100\n",
      "34/34 [==============================] - 0s 4ms/step - loss: 7336.3486 - mae: 7336.3486\n",
      "Epoch 14/100\n",
      "34/34 [==============================] - 0s 4ms/step - loss: 7313.2207 - mae: 7313.2207\n",
      "Epoch 15/100\n",
      "34/34 [==============================] - 0s 4ms/step - loss: 7293.8027 - mae: 7293.8027\n",
      "Epoch 16/100\n",
      "34/34 [==============================] - 0s 4ms/step - loss: 7271.0127 - mae: 7271.0127\n",
      "Epoch 17/100\n",
      "34/34 [==============================] - 0s 4ms/step - loss: 7249.4688 - mae: 7249.4688\n",
      "Epoch 18/100\n",
      "34/34 [==============================] - 0s 4ms/step - loss: 7225.3779 - mae: 7225.3779\n",
      "Epoch 19/100\n",
      "34/34 [==============================] - 0s 3ms/step - loss: 7201.9810 - mae: 7201.9810\n",
      "Epoch 20/100\n",
      "34/34 [==============================] - 0s 3ms/step - loss: 7177.3115 - mae: 7177.3115\n",
      "Epoch 21/100\n",
      "34/34 [==============================] - 0s 3ms/step - loss: 7156.8296 - mae: 7156.8296\n",
      "Epoch 22/100\n",
      "34/34 [==============================] - 0s 3ms/step - loss: 7128.5049 - mae: 7128.5049\n",
      "Epoch 23/100\n",
      "34/34 [==============================] - 0s 3ms/step - loss: 7102.0420 - mae: 7102.0420\n",
      "Epoch 24/100\n",
      "34/34 [==============================] - 0s 3ms/step - loss: 7075.0801 - mae: 7075.0801\n",
      "Epoch 25/100\n",
      "34/34 [==============================] - 0s 3ms/step - loss: 7054.5156 - mae: 7054.5156\n",
      "Epoch 26/100\n",
      "34/34 [==============================] - 0s 3ms/step - loss: 7022.3945 - mae: 7022.3945\n",
      "Epoch 27/100\n",
      "34/34 [==============================] - 0s 3ms/step - loss: 6992.2769 - mae: 6992.2769\n",
      "Epoch 28/100\n",
      "34/34 [==============================] - 0s 3ms/step - loss: 6962.2407 - mae: 6962.2407\n",
      "Epoch 29/100\n",
      "34/34 [==============================] - 0s 3ms/step - loss: 6932.4058 - mae: 6932.4058\n",
      "Epoch 30/100\n",
      "34/34 [==============================] - 0s 3ms/step - loss: 6904.0415 - mae: 6904.0415\n",
      "Epoch 31/100\n",
      "34/34 [==============================] - 0s 3ms/step - loss: 6871.3315 - mae: 6871.3315\n",
      "Epoch 32/100\n",
      "34/34 [==============================] - 0s 3ms/step - loss: 6841.1938 - mae: 6841.1938\n",
      "Epoch 33/100\n",
      "34/34 [==============================] - 0s 3ms/step - loss: 6807.5986 - mae: 6807.5986\n",
      "Epoch 34/100\n",
      "34/34 [==============================] - 0s 3ms/step - loss: 6774.3335 - mae: 6774.3335\n",
      "Epoch 35/100\n",
      "34/34 [==============================] - 0s 3ms/step - loss: 6738.4897 - mae: 6738.4897\n",
      "Epoch 36/100\n",
      "34/34 [==============================] - 0s 3ms/step - loss: 6703.2773 - mae: 6703.2773\n",
      "Epoch 37/100\n",
      "34/34 [==============================] - 0s 3ms/step - loss: 6666.3765 - mae: 6666.3765\n",
      "Epoch 38/100\n",
      "34/34 [==============================] - 0s 3ms/step - loss: 6636.3057 - mae: 6636.3057\n",
      "Epoch 39/100\n",
      "34/34 [==============================] - 0s 3ms/step - loss: 6597.2661 - mae: 6597.2661\n",
      "Epoch 40/100\n",
      "34/34 [==============================] - 0s 3ms/step - loss: 6565.8384 - mae: 6565.8384\n",
      "Epoch 41/100\n",
      "34/34 [==============================] - 0s 3ms/step - loss: 6541.3789 - mae: 6541.3789\n",
      "Epoch 42/100\n",
      "34/34 [==============================] - 0s 3ms/step - loss: 6518.3599 - mae: 6518.3599\n",
      "Epoch 43/100\n",
      "34/34 [==============================] - 0s 3ms/step - loss: 6497.5020 - mae: 6497.5020\n",
      "Epoch 44/100\n",
      "34/34 [==============================] - 0s 3ms/step - loss: 6477.3564 - mae: 6477.3564\n",
      "Epoch 45/100\n",
      "34/34 [==============================] - 0s 3ms/step - loss: 6470.4707 - mae: 6470.4707\n",
      "Epoch 46/100\n",
      "34/34 [==============================] - 0s 3ms/step - loss: 6452.1694 - mae: 6452.1694\n",
      "Epoch 47/100\n",
      "34/34 [==============================] - 0s 3ms/step - loss: 6436.3325 - mae: 6436.3325\n",
      "Epoch 48/100\n",
      "34/34 [==============================] - 0s 3ms/step - loss: 6422.9585 - mae: 6422.9585\n",
      "Epoch 49/100\n",
      "34/34 [==============================] - 0s 3ms/step - loss: 6411.9961 - mae: 6411.9961\n",
      "Epoch 50/100\n",
      "34/34 [==============================] - 0s 3ms/step - loss: 6397.0435 - mae: 6397.0435\n",
      "Epoch 51/100\n",
      "34/34 [==============================] - 0s 3ms/step - loss: 6383.9517 - mae: 6383.9517\n",
      "Epoch 52/100\n",
      "34/34 [==============================] - 0s 4ms/step - loss: 6371.0752 - mae: 6371.0752\n",
      "Epoch 53/100\n",
      "34/34 [==============================] - 0s 3ms/step - loss: 6356.5596 - mae: 6356.5596\n",
      "Epoch 54/100\n",
      "34/34 [==============================] - 0s 3ms/step - loss: 6342.4648 - mae: 6342.4648\n",
      "Epoch 55/100\n",
      "34/34 [==============================] - 0s 3ms/step - loss: 6328.3408 - mae: 6328.3408\n",
      "Epoch 56/100\n",
      "34/34 [==============================] - 0s 3ms/step - loss: 6314.2432 - mae: 6314.2432\n",
      "Epoch 57/100\n",
      "34/34 [==============================] - 0s 3ms/step - loss: 6300.2051 - mae: 6300.2051\n",
      "Epoch 58/100\n",
      "34/34 [==============================] - 0s 3ms/step - loss: 6286.4922 - mae: 6286.4922\n",
      "Epoch 59/100\n",
      "34/34 [==============================] - 0s 3ms/step - loss: 6269.6807 - mae: 6269.6807\n",
      "Epoch 60/100\n",
      "34/34 [==============================] - 0s 3ms/step - loss: 6258.7852 - mae: 6258.7852\n",
      "Epoch 61/100\n",
      "34/34 [==============================] - 0s 4ms/step - loss: 6237.6753 - mae: 6237.6753\n",
      "Epoch 62/100\n",
      "34/34 [==============================] - 0s 4ms/step - loss: 6225.3916 - mae: 6225.3916\n",
      "Epoch 63/100\n",
      "34/34 [==============================] - 0s 4ms/step - loss: 6206.5273 - mae: 6206.5273\n",
      "Epoch 64/100\n",
      "34/34 [==============================] - 0s 4ms/step - loss: 6188.6929 - mae: 6188.6929\n",
      "Epoch 65/100\n",
      "34/34 [==============================] - 0s 4ms/step - loss: 6170.7505 - mae: 6170.7505\n",
      "Epoch 66/100\n",
      "34/34 [==============================] - 0s 4ms/step - loss: 6152.2373 - mae: 6152.2373\n",
      "Epoch 67/100\n",
      "34/34 [==============================] - 0s 4ms/step - loss: 6139.4634 - mae: 6139.4634\n",
      "Epoch 68/100\n",
      "34/34 [==============================] - 0s 4ms/step - loss: 6116.4404 - mae: 6116.4404\n",
      "Epoch 69/100\n",
      "34/34 [==============================] - 0s 4ms/step - loss: 6098.0342 - mae: 6098.0342\n",
      "Epoch 70/100\n",
      "34/34 [==============================] - 0s 5ms/step - loss: 6076.8574 - mae: 6076.8574\n",
      "Epoch 71/100\n",
      "34/34 [==============================] - 0s 4ms/step - loss: 6056.1382 - mae: 6056.1382\n",
      "Epoch 72/100\n",
      "34/34 [==============================] - 0s 5ms/step - loss: 6035.2646 - mae: 6035.2646\n",
      "Epoch 73/100\n",
      "34/34 [==============================] - 0s 4ms/step - loss: 6019.6602 - mae: 6019.6602\n",
      "Epoch 74/100\n",
      "34/34 [==============================] - 0s 5ms/step - loss: 5989.7266 - mae: 5989.7266\n",
      "Epoch 75/100\n",
      "34/34 [==============================] - 0s 5ms/step - loss: 5968.2856 - mae: 5968.2856\n",
      "Epoch 76/100\n",
      "34/34 [==============================] - 0s 5ms/step - loss: 5950.7339 - mae: 5950.7339\n",
      "Epoch 77/100\n",
      "34/34 [==============================] - 0s 5ms/step - loss: 5917.3911 - mae: 5917.3911\n",
      "Epoch 78/100\n",
      "34/34 [==============================] - 0s 5ms/step - loss: 5891.9692 - mae: 5891.9692\n",
      "Epoch 79/100\n",
      "34/34 [==============================] - 0s 5ms/step - loss: 5865.9546 - mae: 5865.9546\n",
      "Epoch 80/100\n",
      "34/34 [==============================] - 0s 5ms/step - loss: 5835.2539 - mae: 5835.2539\n",
      "Epoch 81/100\n",
      "34/34 [==============================] - 0s 5ms/step - loss: 5808.7593 - mae: 5808.7593\n",
      "Epoch 82/100\n",
      "34/34 [==============================] - 0s 5ms/step - loss: 5776.8218 - mae: 5776.8218\n",
      "Epoch 83/100\n",
      "34/34 [==============================] - 0s 5ms/step - loss: 5746.8745 - mae: 5746.8745\n",
      "Epoch 84/100\n",
      "34/34 [==============================] - 0s 5ms/step - loss: 5711.0918 - mae: 5711.0918\n",
      "Epoch 85/100\n",
      "34/34 [==============================] - 0s 5ms/step - loss: 5680.2661 - mae: 5680.2661\n",
      "Epoch 86/100\n",
      "34/34 [==============================] - 0s 5ms/step - loss: 5644.7192 - mae: 5644.7192\n",
      "Epoch 87/100\n",
      "34/34 [==============================] - 0s 5ms/step - loss: 5605.3481 - mae: 5605.3481\n",
      "Epoch 88/100\n",
      "34/34 [==============================] - 0s 5ms/step - loss: 5566.8521 - mae: 5566.8521\n",
      "Epoch 89/100\n",
      "34/34 [==============================] - 0s 5ms/step - loss: 5524.6338 - mae: 5524.6338\n",
      "Epoch 90/100\n",
      "34/34 [==============================] - 0s 5ms/step - loss: 5478.6597 - mae: 5478.6597\n",
      "Epoch 91/100\n",
      "34/34 [==============================] - 0s 5ms/step - loss: 5436.4141 - mae: 5436.4141\n",
      "Epoch 92/100\n",
      "34/34 [==============================] - 0s 5ms/step - loss: 5386.0591 - mae: 5386.0591\n",
      "Epoch 93/100\n",
      "34/34 [==============================] - 0s 5ms/step - loss: 5338.9263 - mae: 5338.9263\n",
      "Epoch 94/100\n",
      "34/34 [==============================] - 0s 4ms/step - loss: 5287.4526 - mae: 5287.4526\n",
      "Epoch 95/100\n",
      "34/34 [==============================] - 0s 3ms/step - loss: 5231.0337 - mae: 5231.0337\n",
      "Epoch 96/100\n",
      "34/34 [==============================] - 0s 4ms/step - loss: 5181.9912 - mae: 5181.9912\n",
      "Epoch 97/100\n",
      "34/34 [==============================] - 0s 4ms/step - loss: 5122.6748 - mae: 5122.6748\n",
      "Epoch 98/100\n",
      "34/34 [==============================] - 0s 3ms/step - loss: 5054.7466 - mae: 5054.7466\n",
      "Epoch 99/100\n",
      "34/34 [==============================] - 0s 3ms/step - loss: 4988.1597 - mae: 4988.1597\n",
      "Epoch 100/100\n",
      "34/34 [==============================] - 0s 3ms/step - loss: 4930.9780 - mae: 4930.9780\n"
     ]
    },
    {
     "data": {
      "text/plain": [
       "<keras.callbacks.History at 0x7efc2cf622d0>"
      ]
     },
     "execution_count": 61,
     "metadata": {},
     "output_type": "execute_result"
    }
   ],
   "source": [
    "tf.random.set_seed(42)\n",
    "\n",
    "# 1. Create a model\n",
    "insurance_model_2 = tf.keras.Sequential([\n",
    "  tf.keras.layers.Dense(100),\n",
    "  tf.keras.layers.Dense(10),\n",
    "  tf.keras.layers.Dense(1)\n",
    "])\n",
    "\n",
    "# 2. Compile the model\n",
    "insurance_model_2.compile(loss=\"mae\",\n",
    "                        optimizer=tf.keras.optimizers.Adam(),\n",
    "                        metrics=[\"mae\"])\n",
    "\n",
    "# 3. Fit the model\n",
    "insurance_model_2.fit(X_train, y_train, epochs=100)"
   ]
  },
  {
   "cell_type": "code",
   "execution_count": 62,
   "metadata": {},
   "outputs": [
    {
     "name": "stdout",
     "output_type": "stream",
     "text": [
      "9/9 [==============================] - 0s 2ms/step - loss: 4799.6602 - mae: 4799.6602\n"
     ]
    },
    {
     "data": {
      "text/plain": [
       "[4799.66015625, 4799.66015625]"
      ]
     },
     "execution_count": 62,
     "metadata": {},
     "output_type": "execute_result"
    }
   ],
   "source": [
    "# Evaluate the larger model\n",
    "insurance_model_2.evaluate(X_test, y_test)"
   ]
  },
  {
   "cell_type": "code",
   "execution_count": 63,
   "metadata": {},
   "outputs": [
    {
     "name": "stdout",
     "output_type": "stream",
     "text": [
      "Epoch 1/200\n",
      "34/34 [==============================] - 1s 3ms/step - loss: 13281.2061 - mae: 13281.2061\n",
      "Epoch 2/200\n",
      "34/34 [==============================] - 0s 3ms/step - loss: 13094.6318 - mae: 13094.6318\n",
      "Epoch 3/200\n",
      "34/34 [==============================] - 0s 3ms/step - loss: 12700.0479 - mae: 12700.0479\n",
      "Epoch 4/200\n",
      "34/34 [==============================] - 0s 3ms/step - loss: 11939.3301 - mae: 11939.3301\n",
      "Epoch 5/200\n",
      "34/34 [==============================] - 0s 4ms/step - loss: 10713.2715 - mae: 10713.2715\n",
      "Epoch 6/200\n",
      "34/34 [==============================] - 0s 3ms/step - loss: 9233.3291 - mae: 9233.3291\n",
      "Epoch 7/200\n",
      "34/34 [==============================] - 0s 3ms/step - loss: 7980.6450 - mae: 7980.6450\n",
      "Epoch 8/200\n",
      "34/34 [==============================] - 0s 3ms/step - loss: 7489.6626 - mae: 7489.6626\n",
      "Epoch 9/200\n",
      "34/34 [==============================] - 0s 3ms/step - loss: 7422.0405 - mae: 7422.0405\n",
      "Epoch 10/200\n",
      "34/34 [==============================] - 0s 3ms/step - loss: 7402.3247 - mae: 7402.3247\n",
      "Epoch 11/200\n",
      "34/34 [==============================] - 0s 3ms/step - loss: 7383.2285 - mae: 7383.2285\n",
      "Epoch 12/200\n",
      "34/34 [==============================] - 0s 3ms/step - loss: 7360.8364 - mae: 7360.8364\n",
      "Epoch 13/200\n",
      "34/34 [==============================] - 0s 3ms/step - loss: 7339.9312 - mae: 7339.9312\n",
      "Epoch 14/200\n",
      "34/34 [==============================] - 0s 3ms/step - loss: 7317.2236 - mae: 7317.2236\n",
      "Epoch 15/200\n",
      "34/34 [==============================] - 0s 3ms/step - loss: 7298.0708 - mae: 7298.0708\n",
      "Epoch 16/200\n",
      "34/34 [==============================] - 0s 3ms/step - loss: 7275.1538 - mae: 7275.1538\n",
      "Epoch 17/200\n",
      "34/34 [==============================] - 0s 3ms/step - loss: 7254.3042 - mae: 7254.3042\n",
      "Epoch 18/200\n",
      "34/34 [==============================] - 0s 3ms/step - loss: 7230.7627 - mae: 7230.7627\n",
      "Epoch 19/200\n",
      "34/34 [==============================] - 0s 3ms/step - loss: 7207.8115 - mae: 7207.8115\n",
      "Epoch 20/200\n",
      "34/34 [==============================] - 0s 3ms/step - loss: 7183.5381 - mae: 7183.5381\n",
      "Epoch 21/200\n",
      "34/34 [==============================] - 0s 3ms/step - loss: 7164.1748 - mae: 7164.1748\n",
      "Epoch 22/200\n",
      "34/34 [==============================] - 0s 3ms/step - loss: 7135.6641 - mae: 7135.6641\n",
      "Epoch 23/200\n",
      "34/34 [==============================] - 0s 3ms/step - loss: 7110.4204 - mae: 7110.4204\n",
      "Epoch 24/200\n",
      "34/34 [==============================] - 0s 3ms/step - loss: 7084.1069 - mae: 7084.1069\n",
      "Epoch 25/200\n",
      "34/34 [==============================] - 0s 3ms/step - loss: 7064.9565 - mae: 7064.9565\n",
      "Epoch 26/200\n",
      "34/34 [==============================] - 0s 3ms/step - loss: 7032.7446 - mae: 7032.7446\n",
      "Epoch 27/200\n",
      "34/34 [==============================] - 0s 3ms/step - loss: 7003.5762 - mae: 7003.5762\n",
      "Epoch 28/200\n",
      "34/34 [==============================] - 0s 3ms/step - loss: 6974.6270 - mae: 6974.6270\n",
      "Epoch 29/200\n",
      "34/34 [==============================] - 0s 3ms/step - loss: 6945.3970 - mae: 6945.3970\n",
      "Epoch 30/200\n",
      "34/34 [==============================] - 0s 3ms/step - loss: 6917.6221 - mae: 6917.6221\n",
      "Epoch 31/200\n",
      "34/34 [==============================] - 0s 3ms/step - loss: 6886.2524 - mae: 6886.2524\n",
      "Epoch 32/200\n",
      "34/34 [==============================] - 0s 3ms/step - loss: 6857.3882 - mae: 6857.3882\n",
      "Epoch 33/200\n",
      "34/34 [==============================] - 0s 3ms/step - loss: 6825.0171 - mae: 6825.0171\n",
      "Epoch 34/200\n",
      "34/34 [==============================] - 0s 3ms/step - loss: 6792.8237 - mae: 6792.8237\n",
      "Epoch 35/200\n",
      "34/34 [==============================] - 0s 3ms/step - loss: 6758.0161 - mae: 6758.0161\n",
      "Epoch 36/200\n",
      "34/34 [==============================] - 0s 4ms/step - loss: 6723.4458 - mae: 6723.4458\n",
      "Epoch 37/200\n",
      "34/34 [==============================] - 0s 3ms/step - loss: 6686.8101 - mae: 6686.8101\n",
      "Epoch 38/200\n",
      "34/34 [==============================] - 0s 3ms/step - loss: 6656.8755 - mae: 6656.8755\n",
      "Epoch 39/200\n",
      "34/34 [==============================] - 0s 4ms/step - loss: 6618.8818 - mae: 6618.8818\n",
      "Epoch 40/200\n",
      "34/34 [==============================] - 0s 4ms/step - loss: 6584.6724 - mae: 6584.6724\n",
      "Epoch 41/200\n",
      "34/34 [==============================] - 0s 4ms/step - loss: 6554.5229 - mae: 6554.5229\n",
      "Epoch 42/200\n",
      "34/34 [==============================] - 0s 4ms/step - loss: 6531.4136 - mae: 6531.4136\n",
      "Epoch 43/200\n",
      "34/34 [==============================] - 0s 4ms/step - loss: 6506.3540 - mae: 6506.3540\n",
      "Epoch 44/200\n",
      "34/34 [==============================] - 0s 4ms/step - loss: 6484.7700 - mae: 6484.7700\n",
      "Epoch 45/200\n",
      "34/34 [==============================] - 0s 4ms/step - loss: 6475.3613 - mae: 6475.3613\n",
      "Epoch 46/200\n",
      "34/34 [==============================] - 0s 4ms/step - loss: 6457.2676 - mae: 6457.2676\n",
      "Epoch 47/200\n",
      "34/34 [==============================] - 0s 4ms/step - loss: 6440.2466 - mae: 6440.2466\n",
      "Epoch 48/200\n",
      "34/34 [==============================] - 0s 4ms/step - loss: 6426.3979 - mae: 6426.3979\n",
      "Epoch 49/200\n",
      "34/34 [==============================] - 0s 4ms/step - loss: 6413.5688 - mae: 6413.5688\n",
      "Epoch 50/200\n",
      "34/34 [==============================] - 0s 4ms/step - loss: 6398.9731 - mae: 6398.9731\n",
      "Epoch 51/200\n",
      "34/34 [==============================] - 0s 4ms/step - loss: 6385.5308 - mae: 6385.5308\n",
      "Epoch 52/200\n",
      "34/34 [==============================] - 0s 4ms/step - loss: 6373.1479 - mae: 6373.1479\n",
      "Epoch 53/200\n",
      "34/34 [==============================] - 0s 4ms/step - loss: 6358.5459 - mae: 6358.5459\n",
      "Epoch 54/200\n",
      "34/34 [==============================] - 0s 4ms/step - loss: 6344.1899 - mae: 6344.1899\n",
      "Epoch 55/200\n",
      "34/34 [==============================] - 0s 4ms/step - loss: 6329.9834 - mae: 6329.9834\n",
      "Epoch 56/200\n",
      "34/34 [==============================] - 0s 4ms/step - loss: 6315.3931 - mae: 6315.3931\n",
      "Epoch 57/200\n",
      "34/34 [==============================] - 0s 4ms/step - loss: 6301.1909 - mae: 6301.1909\n",
      "Epoch 58/200\n",
      "34/34 [==============================] - 0s 4ms/step - loss: 6287.2261 - mae: 6287.2261\n",
      "Epoch 59/200\n",
      "34/34 [==============================] - 0s 4ms/step - loss: 6270.9810 - mae: 6270.9810\n",
      "Epoch 60/200\n",
      "34/34 [==============================] - 0s 4ms/step - loss: 6259.5005 - mae: 6259.5005\n",
      "Epoch 61/200\n",
      "34/34 [==============================] - 0s 4ms/step - loss: 6238.7417 - mae: 6238.7417\n",
      "Epoch 62/200\n",
      "34/34 [==============================] - 0s 4ms/step - loss: 6226.1748 - mae: 6226.1748\n",
      "Epoch 63/200\n",
      "34/34 [==============================] - 0s 4ms/step - loss: 6206.5132 - mae: 6206.5132\n",
      "Epoch 64/200\n",
      "34/34 [==============================] - 0s 4ms/step - loss: 6189.0249 - mae: 6189.0249\n",
      "Epoch 65/200\n",
      "34/34 [==============================] - 0s 4ms/step - loss: 6170.8091 - mae: 6170.8091\n",
      "Epoch 66/200\n",
      "34/34 [==============================] - 0s 4ms/step - loss: 6152.3179 - mae: 6152.3179\n",
      "Epoch 67/200\n",
      "34/34 [==============================] - 0s 4ms/step - loss: 6139.1333 - mae: 6139.1333\n",
      "Epoch 68/200\n",
      "34/34 [==============================] - 0s 4ms/step - loss: 6116.3965 - mae: 6116.3965\n",
      "Epoch 69/200\n",
      "34/34 [==============================] - 0s 4ms/step - loss: 6097.2783 - mae: 6097.2783\n",
      "Epoch 70/200\n",
      "34/34 [==============================] - 0s 4ms/step - loss: 6075.9062 - mae: 6075.9062\n",
      "Epoch 71/200\n",
      "34/34 [==============================] - 0s 4ms/step - loss: 6054.7686 - mae: 6054.7686\n",
      "Epoch 72/200\n",
      "34/34 [==============================] - 0s 4ms/step - loss: 6034.0161 - mae: 6034.0161\n",
      "Epoch 73/200\n",
      "34/34 [==============================] - 0s 3ms/step - loss: 6018.0186 - mae: 6018.0186\n",
      "Epoch 74/200\n",
      "34/34 [==============================] - 0s 3ms/step - loss: 5987.6997 - mae: 5987.6997\n",
      "Epoch 75/200\n",
      "34/34 [==============================] - 0s 3ms/step - loss: 5966.3848 - mae: 5966.3848\n",
      "Epoch 76/200\n",
      "34/34 [==============================] - 0s 3ms/step - loss: 5948.5454 - mae: 5948.5454\n",
      "Epoch 77/200\n",
      "34/34 [==============================] - 0s 3ms/step - loss: 5914.1851 - mae: 5914.1851\n",
      "Epoch 78/200\n",
      "34/34 [==============================] - 0s 3ms/step - loss: 5888.8643 - mae: 5888.8643\n",
      "Epoch 79/200\n",
      "34/34 [==============================] - 0s 3ms/step - loss: 5862.0566 - mae: 5862.0566\n",
      "Epoch 80/200\n",
      "34/34 [==============================] - 0s 3ms/step - loss: 5831.4526 - mae: 5831.4526\n",
      "Epoch 81/200\n",
      "34/34 [==============================] - 0s 3ms/step - loss: 5803.9111 - mae: 5803.9111\n",
      "Epoch 82/200\n",
      "34/34 [==============================] - 0s 3ms/step - loss: 5771.7559 - mae: 5771.7559\n",
      "Epoch 83/200\n",
      "34/34 [==============================] - 0s 3ms/step - loss: 5741.2817 - mae: 5741.2817\n",
      "Epoch 84/200\n",
      "34/34 [==============================] - 0s 3ms/step - loss: 5704.4141 - mae: 5704.4141\n",
      "Epoch 85/200\n",
      "34/34 [==============================] - 0s 3ms/step - loss: 5675.3564 - mae: 5675.3564\n",
      "Epoch 86/200\n",
      "34/34 [==============================] - 0s 3ms/step - loss: 5637.4863 - mae: 5637.4863\n",
      "Epoch 87/200\n",
      "34/34 [==============================] - 0s 3ms/step - loss: 5596.6543 - mae: 5596.6543\n",
      "Epoch 88/200\n",
      "34/34 [==============================] - 0s 3ms/step - loss: 5557.9238 - mae: 5557.9238\n",
      "Epoch 89/200\n",
      "34/34 [==============================] - 0s 3ms/step - loss: 5514.1099 - mae: 5514.1099\n",
      "Epoch 90/200\n",
      "34/34 [==============================] - 0s 3ms/step - loss: 5468.2549 - mae: 5468.2549\n",
      "Epoch 91/200\n",
      "34/34 [==============================] - 0s 3ms/step - loss: 5424.9736 - mae: 5424.9736\n",
      "Epoch 92/200\n",
      "34/34 [==============================] - 0s 3ms/step - loss: 5373.8218 - mae: 5373.8218\n",
      "Epoch 93/200\n",
      "34/34 [==============================] - 0s 3ms/step - loss: 5325.8618 - mae: 5325.8618\n",
      "Epoch 94/200\n",
      "34/34 [==============================] - 0s 3ms/step - loss: 5273.4917 - mae: 5273.4917\n",
      "Epoch 95/200\n",
      "34/34 [==============================] - 0s 3ms/step - loss: 5216.3779 - mae: 5216.3779\n",
      "Epoch 96/200\n",
      "34/34 [==============================] - 0s 3ms/step - loss: 5165.6533 - mae: 5165.6533\n",
      "Epoch 97/200\n",
      "34/34 [==============================] - 0s 3ms/step - loss: 5104.3853 - mae: 5104.3853\n",
      "Epoch 98/200\n",
      "34/34 [==============================] - 0s 3ms/step - loss: 5035.6470 - mae: 5035.6470\n",
      "Epoch 99/200\n",
      "34/34 [==============================] - 0s 3ms/step - loss: 4968.7310 - mae: 4968.7310\n",
      "Epoch 100/200\n",
      "34/34 [==============================] - 0s 3ms/step - loss: 4909.5488 - mae: 4909.5488\n",
      "Epoch 101/200\n",
      "34/34 [==============================] - 0s 3ms/step - loss: 4829.5391 - mae: 4829.5391\n",
      "Epoch 102/200\n",
      "34/34 [==============================] - 0s 3ms/step - loss: 4747.5337 - mae: 4747.5337\n",
      "Epoch 103/200\n",
      "34/34 [==============================] - 0s 3ms/step - loss: 4671.2573 - mae: 4671.2573\n",
      "Epoch 104/200\n",
      "34/34 [==============================] - 0s 3ms/step - loss: 4583.4307 - mae: 4583.4307\n",
      "Epoch 105/200\n",
      "34/34 [==============================] - 0s 3ms/step - loss: 4489.5298 - mae: 4489.5298\n",
      "Epoch 106/200\n",
      "34/34 [==============================] - 0s 3ms/step - loss: 4405.7725 - mae: 4405.7725\n",
      "Epoch 107/200\n",
      "34/34 [==============================] - 0s 3ms/step - loss: 4321.8462 - mae: 4321.8462\n",
      "Epoch 108/200\n",
      "34/34 [==============================] - 0s 2ms/step - loss: 4237.0864 - mae: 4237.0864\n",
      "Epoch 109/200\n",
      "34/34 [==============================] - 0s 2ms/step - loss: 4156.2534 - mae: 4156.2534\n",
      "Epoch 110/200\n",
      "34/34 [==============================] - 0s 2ms/step - loss: 4082.3169 - mae: 4082.3169\n",
      "Epoch 111/200\n",
      "34/34 [==============================] - 0s 3ms/step - loss: 4018.0752 - mae: 4018.0752\n",
      "Epoch 112/200\n",
      "34/34 [==============================] - 0s 2ms/step - loss: 3973.0037 - mae: 3973.0037\n",
      "Epoch 113/200\n",
      "34/34 [==============================] - 0s 2ms/step - loss: 3934.7178 - mae: 3934.7178\n",
      "Epoch 114/200\n",
      "34/34 [==============================] - 0s 2ms/step - loss: 3916.4277 - mae: 3916.4277\n",
      "Epoch 115/200\n",
      "34/34 [==============================] - 0s 2ms/step - loss: 3879.5493 - mae: 3879.5493\n",
      "Epoch 116/200\n",
      "34/34 [==============================] - 0s 2ms/step - loss: 3868.5100 - mae: 3868.5100\n",
      "Epoch 117/200\n",
      "34/34 [==============================] - 0s 2ms/step - loss: 3859.3567 - mae: 3859.3567\n",
      "Epoch 118/200\n",
      "34/34 [==============================] - 0s 2ms/step - loss: 3844.8669 - mae: 3844.8669\n",
      "Epoch 119/200\n",
      "34/34 [==============================] - 0s 2ms/step - loss: 3828.3359 - mae: 3828.3359\n",
      "Epoch 120/200\n",
      "34/34 [==============================] - 0s 2ms/step - loss: 3818.6492 - mae: 3818.6492\n",
      "Epoch 121/200\n",
      "34/34 [==============================] - 0s 2ms/step - loss: 3811.5308 - mae: 3811.5308\n",
      "Epoch 122/200\n",
      "34/34 [==============================] - 0s 3ms/step - loss: 3808.3933 - mae: 3808.3933\n",
      "Epoch 123/200\n",
      "34/34 [==============================] - 0s 3ms/step - loss: 3802.2539 - mae: 3802.2539\n",
      "Epoch 124/200\n",
      "34/34 [==============================] - 0s 2ms/step - loss: 3796.6123 - mae: 3796.6123\n",
      "Epoch 125/200\n",
      "34/34 [==============================] - 0s 2ms/step - loss: 3787.0164 - mae: 3787.0164\n",
      "Epoch 126/200\n",
      "34/34 [==============================] - 0s 2ms/step - loss: 3797.2610 - mae: 3797.2610\n",
      "Epoch 127/200\n",
      "34/34 [==============================] - 0s 3ms/step - loss: 3791.3745 - mae: 3791.3745\n",
      "Epoch 128/200\n",
      "34/34 [==============================] - 0s 3ms/step - loss: 3785.4683 - mae: 3785.4683\n",
      "Epoch 129/200\n",
      "34/34 [==============================] - 0s 4ms/step - loss: 3798.6599 - mae: 3798.6599\n",
      "Epoch 130/200\n",
      "34/34 [==============================] - 0s 4ms/step - loss: 3784.1875 - mae: 3784.1875\n",
      "Epoch 131/200\n",
      "34/34 [==============================] - 0s 4ms/step - loss: 3776.9966 - mae: 3776.9966\n",
      "Epoch 132/200\n",
      "34/34 [==============================] - 0s 4ms/step - loss: 3771.0735 - mae: 3771.0735\n",
      "Epoch 133/200\n",
      "34/34 [==============================] - 0s 4ms/step - loss: 3766.3977 - mae: 3766.3977\n",
      "Epoch 134/200\n",
      "34/34 [==============================] - 0s 4ms/step - loss: 3767.9062 - mae: 3767.9062\n",
      "Epoch 135/200\n",
      "34/34 [==============================] - 0s 4ms/step - loss: 3763.5271 - mae: 3763.5271\n",
      "Epoch 136/200\n",
      "34/34 [==============================] - 0s 4ms/step - loss: 3762.9114 - mae: 3762.9114\n",
      "Epoch 137/200\n",
      "34/34 [==============================] - 0s 4ms/step - loss: 3768.6687 - mae: 3768.6687\n",
      "Epoch 138/200\n",
      "34/34 [==============================] - 0s 3ms/step - loss: 3778.3384 - mae: 3778.3384\n",
      "Epoch 139/200\n",
      "34/34 [==============================] - 0s 4ms/step - loss: 3757.6221 - mae: 3757.6221\n",
      "Epoch 140/200\n",
      "34/34 [==============================] - 0s 4ms/step - loss: 3758.7051 - mae: 3758.7051\n",
      "Epoch 141/200\n",
      "34/34 [==============================] - 0s 4ms/step - loss: 3760.3572 - mae: 3760.3572\n",
      "Epoch 142/200\n",
      "34/34 [==============================] - 0s 4ms/step - loss: 3761.5310 - mae: 3761.5310\n",
      "Epoch 143/200\n",
      "34/34 [==============================] - 0s 4ms/step - loss: 3750.7600 - mae: 3750.7600\n",
      "Epoch 144/200\n",
      "34/34 [==============================] - 0s 4ms/step - loss: 3746.9570 - mae: 3746.9570\n",
      "Epoch 145/200\n",
      "34/34 [==============================] - 0s 4ms/step - loss: 3747.3657 - mae: 3747.3657\n",
      "Epoch 146/200\n",
      "34/34 [==============================] - 0s 4ms/step - loss: 3754.0007 - mae: 3754.0007\n",
      "Epoch 147/200\n",
      "34/34 [==============================] - 0s 4ms/step - loss: 3747.6182 - mae: 3747.6182\n",
      "Epoch 148/200\n",
      "34/34 [==============================] - 0s 4ms/step - loss: 3753.1936 - mae: 3753.1936\n",
      "Epoch 149/200\n",
      "34/34 [==============================] - 0s 4ms/step - loss: 3740.3867 - mae: 3740.3867\n",
      "Epoch 150/200\n",
      "34/34 [==============================] - 0s 4ms/step - loss: 3735.7939 - mae: 3735.7939\n",
      "Epoch 151/200\n",
      "34/34 [==============================] - 0s 4ms/step - loss: 3737.0217 - mae: 3737.0217\n",
      "Epoch 152/200\n",
      "34/34 [==============================] - 0s 4ms/step - loss: 3739.2998 - mae: 3739.2998\n",
      "Epoch 153/200\n",
      "34/34 [==============================] - 0s 4ms/step - loss: 3740.1282 - mae: 3740.1282\n",
      "Epoch 154/200\n",
      "34/34 [==============================] - 0s 3ms/step - loss: 3733.5776 - mae: 3733.5776\n",
      "Epoch 155/200\n",
      "34/34 [==============================] - 0s 4ms/step - loss: 3736.0220 - mae: 3736.0220\n",
      "Epoch 156/200\n",
      "34/34 [==============================] - 0s 4ms/step - loss: 3734.8208 - mae: 3734.8208\n",
      "Epoch 157/200\n",
      "34/34 [==============================] - 0s 4ms/step - loss: 3730.6277 - mae: 3730.6277\n",
      "Epoch 158/200\n",
      "34/34 [==============================] - 0s 4ms/step - loss: 3726.1238 - mae: 3726.1238\n",
      "Epoch 159/200\n",
      "34/34 [==============================] - 0s 4ms/step - loss: 3722.8655 - mae: 3722.8655\n",
      "Epoch 160/200\n",
      "34/34 [==============================] - 0s 4ms/step - loss: 3730.0334 - mae: 3730.0334\n",
      "Epoch 161/200\n",
      "34/34 [==============================] - 0s 4ms/step - loss: 3725.1118 - mae: 3725.1118\n",
      "Epoch 162/200\n",
      "34/34 [==============================] - 0s 4ms/step - loss: 3722.1248 - mae: 3722.1248\n",
      "Epoch 163/200\n",
      "34/34 [==============================] - 0s 4ms/step - loss: 3718.1929 - mae: 3718.1929\n",
      "Epoch 164/200\n",
      "34/34 [==============================] - 0s 4ms/step - loss: 3723.2908 - mae: 3723.2908\n",
      "Epoch 165/200\n",
      "34/34 [==============================] - 0s 4ms/step - loss: 3713.1570 - mae: 3713.1570\n",
      "Epoch 166/200\n",
      "34/34 [==============================] - 0s 3ms/step - loss: 3717.8457 - mae: 3717.8457\n",
      "Epoch 167/200\n",
      "34/34 [==============================] - 0s 3ms/step - loss: 3717.1809 - mae: 3717.1809\n",
      "Epoch 168/200\n",
      "34/34 [==============================] - 0s 3ms/step - loss: 3711.9507 - mae: 3711.9507\n",
      "Epoch 169/200\n",
      "34/34 [==============================] - 0s 3ms/step - loss: 3710.4753 - mae: 3710.4753\n",
      "Epoch 170/200\n",
      "34/34 [==============================] - 0s 2ms/step - loss: 3704.6370 - mae: 3704.6370\n",
      "Epoch 171/200\n",
      "34/34 [==============================] - 0s 2ms/step - loss: 3703.9578 - mae: 3703.9578\n",
      "Epoch 172/200\n",
      "34/34 [==============================] - 0s 3ms/step - loss: 3707.3418 - mae: 3707.3418\n",
      "Epoch 173/200\n",
      "34/34 [==============================] - 0s 2ms/step - loss: 3700.2920 - mae: 3700.2920\n",
      "Epoch 174/200\n",
      "34/34 [==============================] - 0s 2ms/step - loss: 3707.4919 - mae: 3707.4919\n",
      "Epoch 175/200\n",
      "34/34 [==============================] - 0s 3ms/step - loss: 3708.0569 - mae: 3708.0569\n",
      "Epoch 176/200\n",
      "34/34 [==============================] - 0s 2ms/step - loss: 3703.6113 - mae: 3703.6113\n",
      "Epoch 177/200\n",
      "34/34 [==============================] - 0s 2ms/step - loss: 3697.6299 - mae: 3697.6299\n",
      "Epoch 178/200\n",
      "34/34 [==============================] - 0s 4ms/step - loss: 3693.5278 - mae: 3693.5278\n",
      "Epoch 179/200\n",
      "34/34 [==============================] - 0s 3ms/step - loss: 3703.7500 - mae: 3703.7500\n",
      "Epoch 180/200\n",
      "34/34 [==============================] - 0s 2ms/step - loss: 3708.2495 - mae: 3708.2495\n",
      "Epoch 181/200\n",
      "34/34 [==============================] - 0s 2ms/step - loss: 3692.7432 - mae: 3692.7432\n",
      "Epoch 182/200\n",
      "34/34 [==============================] - 0s 2ms/step - loss: 3689.9495 - mae: 3689.9495\n",
      "Epoch 183/200\n",
      "34/34 [==============================] - 0s 2ms/step - loss: 3688.3374 - mae: 3688.3374\n",
      "Epoch 184/200\n",
      "34/34 [==============================] - 0s 2ms/step - loss: 3694.3682 - mae: 3694.3682\n",
      "Epoch 185/200\n",
      "34/34 [==============================] - 0s 3ms/step - loss: 3689.6099 - mae: 3689.6099\n",
      "Epoch 186/200\n",
      "34/34 [==============================] - 0s 3ms/step - loss: 3693.4619 - mae: 3693.4619\n",
      "Epoch 187/200\n",
      "34/34 [==============================] - 0s 2ms/step - loss: 3685.0398 - mae: 3685.0398\n",
      "Epoch 188/200\n",
      "34/34 [==============================] - 0s 3ms/step - loss: 3691.5344 - mae: 3691.5344\n",
      "Epoch 189/200\n",
      "34/34 [==============================] - 0s 3ms/step - loss: 3679.9570 - mae: 3679.9570\n",
      "Epoch 190/200\n",
      "34/34 [==============================] - 0s 3ms/step - loss: 3679.6357 - mae: 3679.6357\n",
      "Epoch 191/200\n",
      "34/34 [==============================] - 0s 3ms/step - loss: 3694.8547 - mae: 3694.8547\n",
      "Epoch 192/200\n",
      "34/34 [==============================] - 0s 3ms/step - loss: 3681.5190 - mae: 3681.5190\n",
      "Epoch 193/200\n",
      "34/34 [==============================] - 0s 3ms/step - loss: 3671.5625 - mae: 3671.5625\n",
      "Epoch 194/200\n",
      "34/34 [==============================] - 0s 3ms/step - loss: 3672.5488 - mae: 3672.5488\n",
      "Epoch 195/200\n",
      "34/34 [==============================] - 0s 3ms/step - loss: 3668.6111 - mae: 3668.6111\n",
      "Epoch 196/200\n",
      "34/34 [==============================] - 0s 3ms/step - loss: 3679.1128 - mae: 3679.1128\n",
      "Epoch 197/200\n",
      "34/34 [==============================] - 0s 3ms/step - loss: 3662.6396 - mae: 3662.6396\n",
      "Epoch 198/200\n",
      "34/34 [==============================] - 0s 3ms/step - loss: 3668.0354 - mae: 3668.0354\n",
      "Epoch 199/200\n",
      "34/34 [==============================] - 0s 3ms/step - loss: 3677.2351 - mae: 3677.2351\n",
      "Epoch 200/200\n",
      "34/34 [==============================] - 0s 2ms/step - loss: 3662.6750 - mae: 3662.6750\n"
     ]
    }
   ],
   "source": [
    "tf.random.set_seed(42)\n",
    "\n",
    "# 1. Create a model (same as above)\n",
    "insurance_model_3 = tf.keras.Sequential([\n",
    "  tf.keras.layers.Dense(100),\n",
    "  tf.keras.layers.Dense(10),\n",
    "  tf.keras.layers.Dense(1)\n",
    "])\n",
    "\n",
    "# 2. Compile the model\n",
    "insurance_model_3.compile(loss=\"mae\",\n",
    "                        optimizer=tf.keras.optimizers.Adam(),\n",
    "                        metrics=[\"mae\"])\n",
    "\n",
    "# 3. Fit the model\n",
    "history = insurance_model_3.fit(X_train, y_train, epochs=200)"
   ]
  },
  {
   "cell_type": "code",
   "execution_count": 64,
   "metadata": {},
   "outputs": [
    {
     "name": "stdout",
     "output_type": "stream",
     "text": [
      "9/9 [==============================] - 0s 2ms/step - loss: 3484.0059 - mae: 3484.0059\n"
     ]
    },
    {
     "data": {
      "text/plain": [
       "[3484.005859375, 3484.005859375]"
      ]
     },
     "execution_count": 64,
     "metadata": {},
     "output_type": "execute_result"
    }
   ],
   "source": [
    "# Evaluate the third model\n",
    "insurance_model_3.evaluate(X_test, y_test)"
   ]
  },
  {
   "cell_type": "code",
   "execution_count": 65,
   "metadata": {},
   "outputs": [
    {
     "data": {
      "text/plain": [
       "Text(0.5, 0, 'epochs')"
      ]
     },
     "execution_count": 65,
     "metadata": {},
     "output_type": "execute_result"
    },
    {
     "data": {
      "image/png": "[encoded data removed]",
      "text/plain": [
       "<Figure size 640x480 with 1 Axes>"
      ]
     },
     "metadata": {},
     "output_type": "display_data"
    }
   ],
   "source": [
    "# Plot history (also known as a loss curver or training curve)\n",
    "plt.plot(pl.DataFrame(history.history).select(\"loss\"))\n",
    "plt.ylabel(\"loss\")\n",
    "plt.xlabel(\"epochs\")"
   ]
  },
  {
   "attachments": {},
   "cell_type": "markdown",
   "metadata": {},
   "source": [
    "Check on [EarlyStoppingCallback](https://www.tensorflow.org/api_docs/python/tf/keras/callbacks/EarlyStopping) which is a TensorFlow component that can be added to the model to stop training once it stops improving a certain metric"
   ]
  },
  {
   "attachments": {},
   "cell_type": "markdown",
   "metadata": {},
   "source": [
    "## Preprocessing data (normalization and standardization)\n",
    "\n",
    "In terms of scaling values, neural networks tend to prefer normalization.\n",
    "\n",
    "It is possible to try both to see which performs better."
   ]
  },
  {
   "cell_type": "code",
   "execution_count": 69,
   "metadata": {},
   "outputs": [
    {
     "data": {
      "text/html": [
       "<div><style>\n",
       ".dataframe > thead > tr > th,\n",
       ".dataframe > tbody > tr > td {\n",
       "  text-align: right;\n",
       "}\n",
       "</style>\n",
       "<small>shape: (1_338, 7)</small><table border=\"1\" class=\"dataframe\"><thead><tr><th>age</th><th>sex</th><th>bmi</th><th>children</th><th>smoker</th><th>region</th><th>charges</th></tr><tr><td>i64</td><td>str</td><td>f64</td><td>i64</td><td>str</td><td>str</td><td>f64</td></tr></thead><tbody><tr><td>19</td><td>&quot;female&quot;</td><td>27.9</td><td>0</td><td>&quot;yes&quot;</td><td>&quot;southwest&quot;</td><td>16884.924</td></tr><tr><td>18</td><td>&quot;male&quot;</td><td>33.77</td><td>1</td><td>&quot;no&quot;</td><td>&quot;southeast&quot;</td><td>1725.5523</td></tr><tr><td>28</td><td>&quot;male&quot;</td><td>33.0</td><td>3</td><td>&quot;no&quot;</td><td>&quot;southeast&quot;</td><td>4449.462</td></tr><tr><td>33</td><td>&quot;male&quot;</td><td>22.705</td><td>0</td><td>&quot;no&quot;</td><td>&quot;northwest&quot;</td><td>21984.47061</td></tr><tr><td>32</td><td>&quot;male&quot;</td><td>28.88</td><td>0</td><td>&quot;no&quot;</td><td>&quot;northwest&quot;</td><td>3866.8552</td></tr><tr><td>31</td><td>&quot;female&quot;</td><td>25.74</td><td>0</td><td>&quot;no&quot;</td><td>&quot;southeast&quot;</td><td>3756.6216</td></tr><tr><td>46</td><td>&quot;female&quot;</td><td>33.44</td><td>1</td><td>&quot;no&quot;</td><td>&quot;southeast&quot;</td><td>8240.5896</td></tr><tr><td>37</td><td>&quot;female&quot;</td><td>27.74</td><td>3</td><td>&quot;no&quot;</td><td>&quot;northwest&quot;</td><td>7281.5056</td></tr><tr><td>37</td><td>&quot;male&quot;</td><td>29.83</td><td>2</td><td>&quot;no&quot;</td><td>&quot;northeast&quot;</td><td>6406.4107</td></tr><tr><td>60</td><td>&quot;female&quot;</td><td>25.84</td><td>0</td><td>&quot;no&quot;</td><td>&quot;northwest&quot;</td><td>28923.13692</td></tr><tr><td>25</td><td>&quot;male&quot;</td><td>26.22</td><td>0</td><td>&quot;no&quot;</td><td>&quot;northeast&quot;</td><td>2721.3208</td></tr><tr><td>62</td><td>&quot;female&quot;</td><td>26.29</td><td>0</td><td>&quot;yes&quot;</td><td>&quot;southeast&quot;</td><td>27808.7251</td></tr><tr><td>&hellip;</td><td>&hellip;</td><td>&hellip;</td><td>&hellip;</td><td>&hellip;</td><td>&hellip;</td><td>&hellip;</td></tr><tr><td>42</td><td>&quot;female&quot;</td><td>32.87</td><td>0</td><td>&quot;no&quot;</td><td>&quot;northeast&quot;</td><td>7050.0213</td></tr><tr><td>51</td><td>&quot;male&quot;</td><td>30.03</td><td>1</td><td>&quot;no&quot;</td><td>&quot;southeast&quot;</td><td>9377.9047</td></tr><tr><td>23</td><td>&quot;female&quot;</td><td>24.225</td><td>2</td><td>&quot;no&quot;</td><td>&quot;northeast&quot;</td><td>22395.74424</td></tr><tr><td>52</td><td>&quot;male&quot;</td><td>38.6</td><td>2</td><td>&quot;no&quot;</td><td>&quot;southwest&quot;</td><td>10325.206</td></tr><tr><td>57</td><td>&quot;female&quot;</td><td>25.74</td><td>2</td><td>&quot;no&quot;</td><td>&quot;southeast&quot;</td><td>12629.1656</td></tr><tr><td>23</td><td>&quot;female&quot;</td><td>33.4</td><td>0</td><td>&quot;no&quot;</td><td>&quot;southwest&quot;</td><td>10795.93733</td></tr><tr><td>52</td><td>&quot;female&quot;</td><td>44.7</td><td>3</td><td>&quot;no&quot;</td><td>&quot;southwest&quot;</td><td>11411.685</td></tr><tr><td>50</td><td>&quot;male&quot;</td><td>30.97</td><td>3</td><td>&quot;no&quot;</td><td>&quot;northwest&quot;</td><td>10600.5483</td></tr><tr><td>18</td><td>&quot;female&quot;</td><td>31.92</td><td>0</td><td>&quot;no&quot;</td><td>&quot;northeast&quot;</td><td>2205.9808</td></tr><tr><td>18</td><td>&quot;female&quot;</td><td>36.85</td><td>0</td><td>&quot;no&quot;</td><td>&quot;southeast&quot;</td><td>1629.8335</td></tr><tr><td>21</td><td>&quot;female&quot;</td><td>25.8</td><td>0</td><td>&quot;no&quot;</td><td>&quot;southwest&quot;</td><td>2007.945</td></tr><tr><td>61</td><td>&quot;female&quot;</td><td>29.07</td><td>0</td><td>&quot;yes&quot;</td><td>&quot;northwest&quot;</td><td>29141.3603</td></tr></tbody></table></div>"
      ],
      "text/plain": [
       "shape: (1_338, 7)\n",
       "┌─────┬────────┬────────┬──────────┬────────┬───────────┬─────────────┐\n",
       "│ age ┆ sex    ┆ bmi    ┆ children ┆ smoker ┆ region    ┆ charges     │\n",
       "│ --- ┆ ---    ┆ ---    ┆ ---      ┆ ---    ┆ ---       ┆ ---         │\n",
       "│ i64 ┆ str    ┆ f64    ┆ i64      ┆ str    ┆ str       ┆ f64         │\n",
       "╞═════╪════════╪════════╪══════════╪════════╪═══════════╪═════════════╡\n",
       "│ 19  ┆ female ┆ 27.9   ┆ 0        ┆ yes    ┆ southwest ┆ 16884.924   │\n",
       "│ 18  ┆ male   ┆ 33.77  ┆ 1        ┆ no     ┆ southeast ┆ 1725.5523   │\n",
       "│ 28  ┆ male   ┆ 33.0   ┆ 3        ┆ no     ┆ southeast ┆ 4449.462    │\n",
       "│ 33  ┆ male   ┆ 22.705 ┆ 0        ┆ no     ┆ northwest ┆ 21984.47061 │\n",
       "│ …   ┆ …      ┆ …      ┆ …        ┆ …      ┆ …         ┆ …           │\n",
       "│ 18  ┆ female ┆ 31.92  ┆ 0        ┆ no     ┆ northeast ┆ 2205.9808   │\n",
       "│ 18  ┆ female ┆ 36.85  ┆ 0        ┆ no     ┆ southeast ┆ 1629.8335   │\n",
       "│ 21  ┆ female ┆ 25.8   ┆ 0        ┆ no     ┆ southwest ┆ 2007.945    │\n",
       "│ 61  ┆ female ┆ 29.07  ┆ 0        ┆ yes    ┆ northwest ┆ 29141.3603  │\n",
       "└─────┴────────┴────────┴──────────┴────────┴───────────┴─────────────┘"
      ]
     },
     "execution_count": 69,
     "metadata": {},
     "output_type": "execute_result"
    }
   ],
   "source": [
    "import polars as pl\n",
    "import matplotlib.pyplot as plt\n",
    "import tensorflow as tf\n",
    "\n",
    "# Read the insurance dataframe\n",
    "insurance = pl.read_csv(\"data/insurance.csv\")\n",
    "insurance"
   ]
  },
  {
   "cell_type": "code",
   "execution_count": 70,
   "metadata": {},
   "outputs": [
    {
     "data": {
      "text/plain": [
       "(array([222., 140., 109., 128., 102., 137., 144., 114., 128., 114.]),\n",
       " array([18. , 22.6, 27.2, 31.8, 36.4, 41. , 45.6, 50.2, 54.8, 59.4, 64. ]),\n",
       " <BarContainer object of 10 artists>)"
      ]
     },
     "execution_count": 70,
     "metadata": {},
     "output_type": "execute_result"
    },
    {
     "data": {
      "image/png": "[encoded data removed]",
      "text/plain": [
       "<Figure size 640x480 with 1 Axes>"
      ]
     },
     "metadata": {},
     "output_type": "display_data"
    }
   ],
   "source": [
    "plt.hist(insurance_one_hot.select(\"age\"))"
   ]
  },
  {
   "cell_type": "code",
   "execution_count": 71,
   "metadata": {},
   "outputs": [
    {
     "data": {
      "text/plain": [
       "(array([ 30., 127., 234., 319., 288., 195.,  96.,  32.,  14.,   3.]),\n",
       " array([15.96 , 19.677, 23.394, 27.111, 30.828, 34.545, 38.262, 41.979,\n",
       "        45.696, 49.413, 53.13 ]),\n",
       " <BarContainer object of 10 artists>)"
      ]
     },
     "execution_count": 71,
     "metadata": {},
     "output_type": "execute_result"
    },
    {
     "data": {
      "image/png": "[encoded data removed]",
      "text/plain": [
       "<Figure size 640x480 with 1 Axes>"
      ]
     },
     "metadata": {},
     "output_type": "display_data"
    }
   ],
   "source": [
    "plt.hist(insurance_one_hot.select(\"bmi\"))"
   ]
  },
  {
   "attachments": {},
   "cell_type": "markdown",
   "metadata": {},
   "source": [
    "To prepare data, borrow some classes from Scikit-Learn."
   ]
  },
  {
   "cell_type": "code",
   "execution_count": 80,
   "metadata": {},
   "outputs": [],
   "source": [
    "from sklearn.compose import make_column_transformer\n",
    "from sklearn.preprocessing import MinMaxScaler, OneHotEncoder\n",
    "from sklearn.model_selection import train_test_split\n",
    "\n",
    "# Create a column transformer\n",
    "ct = make_column_transformer(\n",
    "    (MinMaxScaler(), [\"age\", \"bmi\", \"children\"]), # turns values in these columns between 0 and 1\n",
    "    (OneHotEncoder(handle_unknown=\"ignore\"), [\"sex\", \"smoker\", \"region\"])\n",
    ")\n",
    "\n",
    "# Create X and y\n",
    "X = insurance.drop(\"charges\").to_pandas()\n",
    "y = insurance.select(\"charges\").to_pandas()\n",
    "\n",
    "# Build train and test sets\n",
    "X_train, X_test, y_train, y_test = train_test_split(X, \n",
    "                                                    y.to_numpy(), \n",
    "                                                    test_size=0.2, \n",
    "                                                    random_state=42)\n",
    "\n",
    "# Fit the column transformer to training data\n",
    "ct.fit(X_train)\n",
    "\n",
    "# Transform training and test data with normalization(MinMaxScaler) and OneHotEncoder\n",
    "X_train_normal = ct.transform(X_train)\n",
    "X_test_normal = ct.transform(X_test)"
   ]
  },
  {
   "cell_type": "code",
   "execution_count": 81,
   "metadata": {},
   "outputs": [
    {
     "data": {
      "text/plain": [
       "array([[0.60869565, 0.10734463, 0.4       , ..., 1.        , 0.        ,\n",
       "        0.        ],\n",
       "       [0.63043478, 0.22491256, 0.        , ..., 0.        , 0.        ,\n",
       "        0.        ],\n",
       "       [0.73913043, 0.23944041, 0.        , ..., 0.        , 1.        ,\n",
       "        0.        ],\n",
       "       ...,\n",
       "       [0.86956522, 0.24791499, 0.        , ..., 0.        , 0.        ,\n",
       "        0.        ],\n",
       "       [0.41304348, 0.85122411, 0.4       , ..., 0.        , 0.        ,\n",
       "        1.        ],\n",
       "       [0.80434783, 0.37503363, 0.        , ..., 0.        , 0.        ,\n",
       "        1.        ]])"
      ]
     },
     "execution_count": 81,
     "metadata": {},
     "output_type": "execute_result"
    }
   ],
   "source": [
    "X_train_normal"
   ]
  },
  {
   "cell_type": "code",
   "execution_count": 82,
   "metadata": {},
   "outputs": [
    {
     "data": {
      "text/plain": [
       "(1070, 11)"
      ]
     },
     "execution_count": 82,
     "metadata": {},
     "output_type": "execute_result"
    }
   ],
   "source": [
    "X_train_normal.shape"
   ]
  },
  {
   "cell_type": "code",
   "execution_count": 86,
   "metadata": {},
   "outputs": [
    {
     "name": "stdout",
     "output_type": "stream",
     "text": [
      "Epoch 1/100\n",
      "34/34 [==============================] - 1s 4ms/step - loss: 13342.8174 - mae: 13342.8174\n",
      "Epoch 2/100\n",
      "34/34 [==============================] - 0s 4ms/step - loss: 13331.5566 - mae: 13331.5566\n",
      "Epoch 3/100\n",
      "34/34 [==============================] - 0s 4ms/step - loss: 13304.9258 - mae: 13304.9258\n",
      "Epoch 4/100\n",
      "34/34 [==============================] - 0s 4ms/step - loss: 13251.9121 - mae: 13251.9121\n",
      "Epoch 5/100\n",
      "34/34 [==============================] - 0s 4ms/step - loss: 13161.1846 - mae: 13161.1846\n",
      "Epoch 6/100\n",
      "34/34 [==============================] - 0s 4ms/step - loss: 13021.9639 - mae: 13021.9639\n",
      "Epoch 7/100\n",
      "34/34 [==============================] - 0s 4ms/step - loss: 12824.4365 - mae: 12824.4365\n",
      "Epoch 8/100\n",
      "34/34 [==============================] - 0s 5ms/step - loss: 12558.7793 - mae: 12558.7793\n",
      "Epoch 9/100\n",
      "34/34 [==============================] - 0s 4ms/step - loss: 12215.0068 - mae: 12215.0068\n",
      "Epoch 10/100\n",
      "34/34 [==============================] - 0s 5ms/step - loss: 11793.0391 - mae: 11793.0391\n",
      "Epoch 11/100\n",
      "34/34 [==============================] - 0s 5ms/step - loss: 11307.3477 - mae: 11307.3477\n",
      "Epoch 12/100\n",
      "34/34 [==============================] - 0s 5ms/step - loss: 10803.0215 - mae: 10803.0215\n",
      "Epoch 13/100\n",
      "34/34 [==============================] - 0s 5ms/step - loss: 10305.3516 - mae: 10305.3516\n",
      "Epoch 14/100\n",
      "34/34 [==============================] - 0s 4ms/step - loss: 9818.7871 - mae: 9818.7871\n",
      "Epoch 15/100\n",
      "34/34 [==============================] - 0s 4ms/step - loss: 9363.6758 - mae: 9363.6758\n",
      "Epoch 16/100\n",
      "34/34 [==============================] - 0s 5ms/step - loss: 8963.4082 - mae: 8963.4082\n",
      "Epoch 17/100\n",
      "34/34 [==============================] - 0s 4ms/step - loss: 8635.1094 - mae: 8635.1094\n",
      "Epoch 18/100\n",
      "34/34 [==============================] - 0s 4ms/step - loss: 8371.0479 - mae: 8371.0479\n",
      "Epoch 19/100\n",
      "34/34 [==============================] - 0s 4ms/step - loss: 8177.5439 - mae: 8177.5439\n",
      "Epoch 20/100\n",
      "34/34 [==============================] - 0s 4ms/step - loss: 8042.7656 - mae: 8042.7656\n",
      "Epoch 21/100\n",
      "34/34 [==============================] - 0s 4ms/step - loss: 7943.1030 - mae: 7943.1030\n",
      "Epoch 22/100\n",
      "34/34 [==============================] - 0s 4ms/step - loss: 7873.9365 - mae: 7873.9365\n",
      "Epoch 23/100\n",
      "34/34 [==============================] - 0s 5ms/step - loss: 7817.4771 - mae: 7817.4771\n",
      "Epoch 24/100\n",
      "34/34 [==============================] - 0s 5ms/step - loss: 7766.4297 - mae: 7766.4297\n",
      "Epoch 25/100\n",
      "34/34 [==============================] - 0s 5ms/step - loss: 7727.2773 - mae: 7727.2773\n",
      "Epoch 26/100\n",
      "34/34 [==============================] - 0s 5ms/step - loss: 7675.8945 - mae: 7675.8945\n",
      "Epoch 27/100\n",
      "34/34 [==============================] - 0s 5ms/step - loss: 7633.2031 - mae: 7633.2031\n",
      "Epoch 28/100\n",
      "34/34 [==============================] - 0s 5ms/step - loss: 7589.7793 - mae: 7589.7793\n",
      "Epoch 29/100\n",
      "34/34 [==============================] - 0s 4ms/step - loss: 7546.1895 - mae: 7546.1895\n",
      "Epoch 30/100\n",
      "34/34 [==============================] - 0s 4ms/step - loss: 7501.3188 - mae: 7501.3188\n",
      "Epoch 31/100\n",
      "34/34 [==============================] - 0s 4ms/step - loss: 7456.0459 - mae: 7456.0459\n",
      "Epoch 32/100\n",
      "34/34 [==============================] - 0s 4ms/step - loss: 7410.5093 - mae: 7410.5093\n",
      "Epoch 33/100\n",
      "34/34 [==============================] - 0s 4ms/step - loss: 7364.4580 - mae: 7364.4580\n",
      "Epoch 34/100\n",
      "34/34 [==============================] - 0s 4ms/step - loss: 7314.5112 - mae: 7314.5112\n",
      "Epoch 35/100\n",
      "34/34 [==============================] - 0s 3ms/step - loss: 7265.7563 - mae: 7265.7563\n",
      "Epoch 36/100\n",
      "34/34 [==============================] - 0s 3ms/step - loss: 7213.5859 - mae: 7213.5859\n",
      "Epoch 37/100\n",
      "34/34 [==============================] - 0s 3ms/step - loss: 7160.9927 - mae: 7160.9927\n",
      "Epoch 38/100\n",
      "34/34 [==============================] - 0s 3ms/step - loss: 7107.9258 - mae: 7107.9258\n",
      "Epoch 39/100\n",
      "34/34 [==============================] - 0s 3ms/step - loss: 7050.6890 - mae: 7050.6890\n",
      "Epoch 40/100\n",
      "34/34 [==============================] - 0s 3ms/step - loss: 6992.7988 - mae: 6992.7988\n",
      "Epoch 41/100\n",
      "34/34 [==============================] - 0s 3ms/step - loss: 6933.5845 - mae: 6933.5845\n",
      "Epoch 42/100\n",
      "34/34 [==============================] - 0s 3ms/step - loss: 6871.5854 - mae: 6871.5854\n",
      "Epoch 43/100\n",
      "34/34 [==============================] - 0s 3ms/step - loss: 6805.7773 - mae: 6805.7773\n",
      "Epoch 44/100\n",
      "34/34 [==============================] - 0s 3ms/step - loss: 6735.8701 - mae: 6735.8701\n",
      "Epoch 45/100\n",
      "34/34 [==============================] - 0s 3ms/step - loss: 6664.9727 - mae: 6664.9727\n",
      "Epoch 46/100\n",
      "34/34 [==============================] - 0s 3ms/step - loss: 6591.8726 - mae: 6591.8726\n",
      "Epoch 47/100\n",
      "34/34 [==============================] - 0s 3ms/step - loss: 6516.0190 - mae: 6516.0190\n",
      "Epoch 48/100\n",
      "34/34 [==============================] - 0s 3ms/step - loss: 6433.0420 - mae: 6433.0420\n",
      "Epoch 49/100\n",
      "34/34 [==============================] - 0s 3ms/step - loss: 6349.4048 - mae: 6349.4048\n",
      "Epoch 50/100\n",
      "34/34 [==============================] - 0s 3ms/step - loss: 6258.3594 - mae: 6258.3594\n",
      "Epoch 51/100\n",
      "34/34 [==============================] - 0s 3ms/step - loss: 6168.3721 - mae: 6168.3721\n",
      "Epoch 52/100\n",
      "34/34 [==============================] - 0s 3ms/step - loss: 6069.4595 - mae: 6069.4595\n",
      "Epoch 53/100\n",
      "34/34 [==============================] - 0s 3ms/step - loss: 5967.3828 - mae: 5967.3828\n",
      "Epoch 54/100\n",
      "34/34 [==============================] - 0s 3ms/step - loss: 5862.2896 - mae: 5862.2896\n",
      "Epoch 55/100\n",
      "34/34 [==============================] - 0s 3ms/step - loss: 5749.1987 - mae: 5749.1987\n",
      "Epoch 56/100\n",
      "34/34 [==============================] - 0s 3ms/step - loss: 5634.8408 - mae: 5634.8408\n",
      "Epoch 57/100\n",
      "34/34 [==============================] - 0s 3ms/step - loss: 5515.6001 - mae: 5515.6001\n",
      "Epoch 58/100\n",
      "34/34 [==============================] - 0s 3ms/step - loss: 5394.9458 - mae: 5394.9458\n",
      "Epoch 59/100\n",
      "34/34 [==============================] - 0s 3ms/step - loss: 5268.9912 - mae: 5268.9912\n",
      "Epoch 60/100\n",
      "34/34 [==============================] - 0s 3ms/step - loss: 5143.5815 - mae: 5143.5815\n",
      "Epoch 61/100\n",
      "34/34 [==============================] - 0s 3ms/step - loss: 5014.3252 - mae: 5014.3252\n",
      "Epoch 62/100\n",
      "34/34 [==============================] - 0s 3ms/step - loss: 4880.9331 - mae: 4880.9331\n",
      "Epoch 63/100\n",
      "34/34 [==============================] - 0s 3ms/step - loss: 4752.0488 - mae: 4752.0488\n",
      "Epoch 64/100\n",
      "34/34 [==============================] - 0s 3ms/step - loss: 4621.5015 - mae: 4621.5015\n",
      "Epoch 65/100\n",
      "34/34 [==============================] - 0s 3ms/step - loss: 4502.7324 - mae: 4502.7324\n",
      "Epoch 66/100\n",
      "34/34 [==============================] - 0s 3ms/step - loss: 4391.9868 - mae: 4391.9868\n",
      "Epoch 67/100\n",
      "34/34 [==============================] - 0s 3ms/step - loss: 4289.3789 - mae: 4289.3789\n",
      "Epoch 68/100\n",
      "34/34 [==============================] - 0s 3ms/step - loss: 4187.7803 - mae: 4187.7803\n",
      "Epoch 69/100\n",
      "34/34 [==============================] - 0s 3ms/step - loss: 4095.8015 - mae: 4095.8015\n",
      "Epoch 70/100\n",
      "34/34 [==============================] - 0s 3ms/step - loss: 4012.5562 - mae: 4012.5562\n",
      "Epoch 71/100\n",
      "34/34 [==============================] - 0s 3ms/step - loss: 3937.4192 - mae: 3937.4192\n",
      "Epoch 72/100\n",
      "34/34 [==============================] - 0s 3ms/step - loss: 3873.6042 - mae: 3873.6042\n",
      "Epoch 73/100\n",
      "34/34 [==============================] - 0s 3ms/step - loss: 3821.8174 - mae: 3821.8174\n",
      "Epoch 74/100\n",
      "34/34 [==============================] - 0s 3ms/step - loss: 3777.8315 - mae: 3777.8315\n",
      "Epoch 75/100\n",
      "34/34 [==============================] - 0s 3ms/step - loss: 3747.0867 - mae: 3747.0867\n",
      "Epoch 76/100\n",
      "34/34 [==============================] - 0s 3ms/step - loss: 3724.2458 - mae: 3724.2458\n",
      "Epoch 77/100\n",
      "34/34 [==============================] - 0s 3ms/step - loss: 3705.0244 - mae: 3705.0244\n",
      "Epoch 78/100\n",
      "34/34 [==============================] - 0s 3ms/step - loss: 3692.8577 - mae: 3692.8577\n",
      "Epoch 79/100\n",
      "34/34 [==============================] - 0s 3ms/step - loss: 3684.0525 - mae: 3684.0525\n",
      "Epoch 80/100\n",
      "34/34 [==============================] - 0s 3ms/step - loss: 3676.2925 - mae: 3676.2925\n",
      "Epoch 81/100\n",
      "34/34 [==============================] - 0s 3ms/step - loss: 3671.2527 - mae: 3671.2527\n",
      "Epoch 82/100\n",
      "34/34 [==============================] - 0s 3ms/step - loss: 3669.0083 - mae: 3669.0083\n",
      "Epoch 83/100\n",
      "34/34 [==============================] - 0s 4ms/step - loss: 3663.7734 - mae: 3663.7734\n",
      "Epoch 84/100\n",
      "34/34 [==============================] - 0s 4ms/step - loss: 3661.2935 - mae: 3661.2935\n",
      "Epoch 85/100\n",
      "34/34 [==============================] - 0s 4ms/step - loss: 3658.8184 - mae: 3658.8184\n",
      "Epoch 86/100\n",
      "34/34 [==============================] - 0s 4ms/step - loss: 3657.8555 - mae: 3657.8555\n",
      "Epoch 87/100\n",
      "34/34 [==============================] - 0s 4ms/step - loss: 3654.7319 - mae: 3654.7319\n",
      "Epoch 88/100\n",
      "34/34 [==============================] - 0s 4ms/step - loss: 3652.2246 - mae: 3652.2246\n",
      "Epoch 89/100\n",
      "34/34 [==============================] - 0s 4ms/step - loss: 3651.2495 - mae: 3651.2495\n",
      "Epoch 90/100\n",
      "34/34 [==============================] - 0s 4ms/step - loss: 3649.3320 - mae: 3649.3320\n",
      "Epoch 91/100\n",
      "34/34 [==============================] - 0s 4ms/step - loss: 3646.2163 - mae: 3646.2163\n",
      "Epoch 92/100\n",
      "34/34 [==============================] - 0s 4ms/step - loss: 3645.5662 - mae: 3645.5662\n",
      "Epoch 93/100\n",
      "34/34 [==============================] - 0s 4ms/step - loss: 3643.2791 - mae: 3643.2791\n",
      "Epoch 94/100\n",
      "34/34 [==============================] - 0s 4ms/step - loss: 3641.6396 - mae: 3641.6396\n",
      "Epoch 95/100\n",
      "34/34 [==============================] - 0s 4ms/step - loss: 3642.7332 - mae: 3642.7332\n",
      "Epoch 96/100\n",
      "34/34 [==============================] - 0s 4ms/step - loss: 3639.3130 - mae: 3639.3130\n",
      "Epoch 97/100\n",
      "34/34 [==============================] - 0s 4ms/step - loss: 3637.1672 - mae: 3637.1672\n",
      "Epoch 98/100\n",
      "34/34 [==============================] - 0s 4ms/step - loss: 3634.8911 - mae: 3634.8911\n",
      "Epoch 99/100\n",
      "34/34 [==============================] - 0s 4ms/step - loss: 3634.3921 - mae: 3634.3921\n",
      "Epoch 100/100\n",
      "34/34 [==============================] - 0s 4ms/step - loss: 3632.8806 - mae: 3632.8806\n"
     ]
    },
    {
     "data": {
      "text/plain": [
       "<keras.callbacks.History at 0x7efbdc61a750>"
      ]
     },
     "execution_count": 86,
     "metadata": {},
     "output_type": "execute_result"
    }
   ],
   "source": [
    "# Build neural network model to fit on normalized data\n",
    "tf.random.set_seed(42)\n",
    "\n",
    "# 1. Create a model\n",
    "insurance_model_4 = tf.keras.Sequential([\n",
    "    tf.keras.layers.Dense(100),\n",
    "    tf.keras.layers.Dense(10),\n",
    "    tf.keras.layers.Dense(1)\n",
    "])\n",
    "\n",
    "# 2. Compile the model\n",
    "insurance_model_4.compile(loss=tf.keras.losses.mae,\n",
    "                          optimizer=tf.keras.optimizers.Adam(),\n",
    "                          metrics=[\"mae\"])\n",
    "\n",
    "# 3. Fit the model\n",
    "insurance_model_4.fit(X_train_normal, y_train, epochs=100)"
   ]
  },
  {
   "cell_type": "code",
   "execution_count": 84,
   "metadata": {},
   "outputs": [
    {
     "name": "stdout",
     "output_type": "stream",
     "text": [
      "9/9 [==============================] - 0s 3ms/step - loss: 3436.5859 - mae: 3436.5859\n"
     ]
    },
    {
     "data": {
      "text/plain": [
       "[3436.5859375, 3436.5859375]"
      ]
     },
     "execution_count": 84,
     "metadata": {},
     "output_type": "execute_result"
    }
   ],
   "source": [
    "# Evaluate insurance model trained on normalized data\n",
    "insurance_model_4.evaluate(X_test_normal, y_test)"
   ]
  },
  {
   "cell_type": "code",
   "execution_count": null,
   "metadata": {},
   "outputs": [],
   "source": []
  }
 ],
 "metadata": {
  "kernelspec": {
   "display_name": "tf",
   "language": "python",
   "name": "python3"
  },
  "language_info": {
   "codemirror_mode": {
    "name": "ipython",
    "version": 3
   },
   "file_extension": ".py",
   "mimetype": "text/x-python",
   "name": "python",
   "nbconvert_exporter": "python",
   "pygments_lexer": "ipython3",
   "version": "3.11.3"
  },
  "orig_nbformat": 4
 },
 "nbformat": 4,
 "nbformat_minor": 2
}
