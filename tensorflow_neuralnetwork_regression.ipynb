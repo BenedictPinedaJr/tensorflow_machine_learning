{
 "cells": [
  {
   "attachments": {},
   "cell_type": "markdown",
   "metadata": {},
   "source": [
    "# Introduction to Regression with Neural Networks in TensorFlow\n",
    "\n",
    "A regression problem is predicting a numerical variable based on some other combination of variables."
   ]
  },
  {
   "cell_type": "code",
   "execution_count": 1,
   "metadata": {},
   "outputs": [
    {
     "name": "stderr",
     "output_type": "stream",
     "text": [
      "2023-06-06 20:09:22.397204: I tensorflow/core/util/port.cc:110] oneDNN custom operations are on. You may see slightly different numerical results due to floating-point round-off errors from different computation orders. To turn them off, set the environment variable `TF_ENABLE_ONEDNN_OPTS=0`.\n",
      "2023-06-06 20:09:22.437874: I tensorflow/core/platform/cpu_feature_guard.cc:182] This TensorFlow binary is optimized to use available CPU instructions in performance-critical operations.\n",
      "To enable the following instructions: AVX2 AVX_VNNI FMA, in other operations, rebuild TensorFlow with the appropriate compiler flags.\n",
      "2023-06-06 20:09:23.025848: W tensorflow/compiler/tf2tensorrt/utils/py_utils.cc:38] TF-TRT Warning: Could not find TensorRT\n"
     ]
    },
    {
     "name": "stdout",
     "output_type": "stream",
     "text": [
      "2.12.0\n"
     ]
    }
   ],
   "source": [
    "# Import TensorFlow\n",
    "import tensorflow as tf\n",
    "print(tf.__version__)"
   ]
  },
  {
   "attachments": {},
   "cell_type": "markdown",
   "metadata": {},
   "source": [
    "## Creating data to view and fit"
   ]
  },
  {
   "cell_type": "code",
   "execution_count": 2,
   "metadata": {},
   "outputs": [
    {
     "data": {
      "text/plain": [
       "<matplotlib.collections.PathCollection at 0x7f4e08fbc290>"
      ]
     },
     "execution_count": 2,
     "metadata": {},
     "output_type": "execute_result"
    },
    {
     "data": {
      "image/png": "[encoded data removed]",
      "text/plain": [
       "<Figure size 640x480 with 1 Axes>"
      ]
     },
     "metadata": {},
     "output_type": "display_data"
    }
   ],
   "source": [
    "import numpy as np\n",
    "import matplotlib.pyplot as plt\n",
    "\n",
    "# Create features\n",
    "X = np.array([-7.0, -4.0, -1.0, 2.0, 5.0, 8.0, 11.0, 14.0])\n",
    "\n",
    "# Create labels\n",
    "y = np.array([3.0, 6.0, 9.0, 12.0, 15.0, 18.0, 21.0, 24.0])\n",
    "\n",
    "# Visualize it\n",
    "plt.scatter(X, y)"
   ]
  },
  {
   "cell_type": "code",
   "execution_count": 3,
   "metadata": {},
   "outputs": [
    {
     "data": {
      "text/plain": [
       "array([ True,  True,  True,  True,  True,  True,  True,  True])"
      ]
     },
     "execution_count": 3,
     "metadata": {},
     "output_type": "execute_result"
    }
   ],
   "source": [
    "y == X + 10"
   ]
  },
  {
   "attachments": {},
   "cell_type": "markdown",
   "metadata": {},
   "source": [
    "### Input and Output Shapes"
   ]
  },
  {
   "cell_type": "code",
   "execution_count": 4,
   "metadata": {},
   "outputs": [
    {
     "name": "stderr",
     "output_type": "stream",
     "text": [
      "2023-06-06 20:09:24.780149: I tensorflow/compiler/xla/stream_executor/cuda/cuda_gpu_executor.cc:982] could not open file to read NUMA node: /sys/bus/pci/devices/0000:01:00.0/numa_node\n",
      "Your kernel may have been built without NUMA support.\n",
      "2023-06-06 20:09:24.807118: I tensorflow/compiler/xla/stream_executor/cuda/cuda_gpu_executor.cc:982] could not open file to read NUMA node: /sys/bus/pci/devices/0000:01:00.0/numa_node\n",
      "Your kernel may have been built without NUMA support.\n",
      "2023-06-06 20:09:24.807171: I tensorflow/compiler/xla/stream_executor/cuda/cuda_gpu_executor.cc:982] could not open file to read NUMA node: /sys/bus/pci/devices/0000:01:00.0/numa_node\n",
      "Your kernel may have been built without NUMA support.\n",
      "2023-06-06 20:09:24.811655: I tensorflow/compiler/xla/stream_executor/cuda/cuda_gpu_executor.cc:982] could not open file to read NUMA node: /sys/bus/pci/devices/0000:01:00.0/numa_node\n",
      "Your kernel may have been built without NUMA support.\n",
      "2023-06-06 20:09:24.811797: I tensorflow/compiler/xla/stream_executor/cuda/cuda_gpu_executor.cc:982] could not open file to read NUMA node: /sys/bus/pci/devices/0000:01:00.0/numa_node\n",
      "Your kernel may have been built without NUMA support.\n",
      "2023-06-06 20:09:24.811816: I tensorflow/compiler/xla/stream_executor/cuda/cuda_gpu_executor.cc:982] could not open file to read NUMA node: /sys/bus/pci/devices/0000:01:00.0/numa_node\n",
      "Your kernel may have been built without NUMA support.\n",
      "2023-06-06 20:09:25.526441: I tensorflow/compiler/xla/stream_executor/cuda/cuda_gpu_executor.cc:982] could not open file to read NUMA node: /sys/bus/pci/devices/0000:01:00.0/numa_node\n",
      "Your kernel may have been built without NUMA support.\n",
      "2023-06-06 20:09:25.526533: I tensorflow/compiler/xla/stream_executor/cuda/cuda_gpu_executor.cc:982] could not open file to read NUMA node: /sys/bus/pci/devices/0000:01:00.0/numa_node\n",
      "Your kernel may have been built without NUMA support.\n",
      "2023-06-06 20:09:25.526540: I tensorflow/core/common_runtime/gpu/gpu_device.cc:1722] Could not identify NUMA node of platform GPU id 0, defaulting to 0.  Your kernel may not have been built with NUMA support.\n",
      "2023-06-06 20:09:25.526566: I tensorflow/compiler/xla/stream_executor/cuda/cuda_gpu_executor.cc:982] could not open file to read NUMA node: /sys/bus/pci/devices/0000:01:00.0/numa_node\n",
      "Your kernel may have been built without NUMA support.\n",
      "2023-06-06 20:09:25.526596: I tensorflow/core/common_runtime/gpu/gpu_device.cc:1635] Created device /job:localhost/replica:0/task:0/device:GPU:0 with 3383 MB memory:  -> device: 0, name: NVIDIA GeForce RTX 3060 Laptop GPU, pci bus id: 0000:01:00.0, compute capability: 8.6\n"
     ]
    },
    {
     "data": {
      "text/plain": [
       "(<tf.Tensor: shape=(3,), dtype=string, numpy=array([b'bedroom', b'bathroom', b'garage'], dtype=object)>,\n",
       " <tf.Tensor: shape=(1,), dtype=int32, numpy=array([939700], dtype=int32)>)"
      ]
     },
     "execution_count": 4,
     "metadata": {},
     "output_type": "execute_result"
    }
   ],
   "source": [
    "# Create a demo tensor for housing price prediction problem\n",
    "house_info = tf.constant([\"bedroom\", \"bathroom\", \"garage\"])\n",
    "house_price = tf.constant([939700])\n",
    "house_info, house_price"
   ]
  },
  {
   "cell_type": "code",
   "execution_count": 5,
   "metadata": {},
   "outputs": [
    {
     "data": {
      "text/plain": [
       "((), ())"
      ]
     },
     "execution_count": 5,
     "metadata": {},
     "output_type": "execute_result"
    }
   ],
   "source": [
    "input_shape = X[0].shape\n",
    "output_shape = y[0].shape\n",
    "input_shape, output_shape"
   ]
  },
  {
   "cell_type": "code",
   "execution_count": 6,
   "metadata": {},
   "outputs": [
    {
     "data": {
      "text/plain": [
       "(<tf.Tensor: shape=(8,), dtype=float32, numpy=array([-7., -4., -1.,  2.,  5.,  8., 11., 14.], dtype=float32)>,\n",
       " <tf.Tensor: shape=(8,), dtype=float32, numpy=array([ 3.,  6.,  9., 12., 15., 18., 21., 24.], dtype=float32)>)"
      ]
     },
     "execution_count": 6,
     "metadata": {},
     "output_type": "execute_result"
    }
   ],
   "source": [
    "# Turn NumPy arrays into tensors with dtype float32\n",
    "X = tf.cast(tf.constant(X), tf.float32)\n",
    "y = tf.cast(tf.constant(y), tf.float32)\n",
    "X, y"
   ]
  },
  {
   "cell_type": "code",
   "execution_count": 7,
   "metadata": {},
   "outputs": [
    {
     "data": {
      "text/plain": [
       "(TensorShape([]), TensorShape([]))"
      ]
     },
     "execution_count": 7,
     "metadata": {},
     "output_type": "execute_result"
    }
   ],
   "source": [
    "input_shape = X[0].shape\n",
    "output_shape = y[0].shape\n",
    "input_shape, output_shape"
   ]
  },
  {
   "cell_type": "code",
   "execution_count": 8,
   "metadata": {},
   "outputs": [
    {
     "data": {
      "text/plain": [
       "<matplotlib.collections.PathCollection at 0x7f4e08c535d0>"
      ]
     },
     "execution_count": 8,
     "metadata": {},
     "output_type": "execute_result"
    },
    {
     "data": {
      "image/png": "[encoded data removed]",
      "text/plain": [
       "<Figure size 640x480 with 1 Axes>"
      ]
     },
     "metadata": {},
     "output_type": "display_data"
    }
   ],
   "source": [
    "plt.scatter(X, y)"
   ]
  },
  {
   "attachments": {},
   "cell_type": "markdown",
   "metadata": {},
   "source": [
    "## Steps in modelling with TensorFlow\n",
    "\n",
    "1. **Creating a model** - define the input and outpu layers, as well as the hidden layers of a deep learning model.\n",
    "2. **Compiling a model** - define the loss function (in other words, the function which tells the model how wrong it is) and the optimizer (tells the model how to improve the patterns its learning) and evaluation metrics (what can be used to interpret the performance of the model).\n",
    "3. **Fitting a model** - letting the model try to find patterns between X & y (features and labels)."
   ]
  },
  {
   "cell_type": "code",
   "execution_count": 9,
   "metadata": {},
   "outputs": [
    {
     "name": "stdout",
     "output_type": "stream",
     "text": [
      "Epoch 1/5\n"
     ]
    },
    {
     "name": "stderr",
     "output_type": "stream",
     "text": [
      "2023-06-06 20:09:37.290477: I tensorflow/compiler/xla/service/service.cc:169] XLA service 0x7f4bdf1c27f0 initialized for platform CUDA (this does not guarantee that XLA will be used). Devices:\n",
      "2023-06-06 20:09:37.290552: I tensorflow/compiler/xla/service/service.cc:177]   StreamExecutor device (0): NVIDIA GeForce RTX 3060 Laptop GPU, Compute Capability 8.6\n",
      "2023-06-06 20:09:39.611558: I tensorflow/compiler/xla/stream_executor/cuda/cuda_dnn.cc:424] Loaded cuDNN version 8600\n",
      "2023-06-06 20:09:40.105846: I tensorflow/tsl/platform/default/subprocess.cc:304] Start cannot spawn child process: No such file or directory\n"
     ]
    },
    {
     "name": "stdout",
     "output_type": "stream",
     "text": [
      "1/1 [==============================] - 11s 11s/step - loss: 13.0302 - mae: 13.0302\n",
      "Epoch 2/5\n",
      "1/1 [==============================] - 0s 9ms/step - loss: 12.8977 - mae: 12.8977\n",
      "Epoch 3/5\n",
      "1/1 [==============================] - 0s 9ms/step - loss: 12.7652 - mae: 12.7652\n",
      "Epoch 4/5\n",
      "1/1 [==============================] - 0s 8ms/step - loss: 12.6327 - mae: 12.6327\n",
      "Epoch 5/5\n",
      "1/1 [==============================] - 0s 8ms/step - loss: 12.5002 - mae: 12.5002\n"
     ]
    },
    {
     "name": "stderr",
     "output_type": "stream",
     "text": [
      "2023-06-06 20:09:40.411744: I ./tensorflow/compiler/jit/device_compiler.h:180] Compiled cluster using XLA!  This line is logged at most once for the lifetime of the process.\n"
     ]
    },
    {
     "data": {
      "text/plain": [
       "<keras.callbacks.History at 0x7f4e0896e250>"
      ]
     },
     "execution_count": 9,
     "metadata": {},
     "output_type": "execute_result"
    }
   ],
   "source": [
    "# Set random seed\n",
    "tf.random.set_seed(42)\n",
    "\n",
    "# 1. Create a model using the Sequential API\n",
    "model = tf.keras.Sequential([\n",
    "    tf.keras.layers.Dense(1, input_shape=[1]) # Remember to place the input shape\n",
    "])\n",
    "\n",
    "# 2. Compile the model\n",
    "model.compile(loss=tf.keras.losses.mae, # mae is short for mean absolute error\n",
    "              optimizer=tf.keras.optimizers.SGD(), # SGD is short for stochastic gradient descent\n",
    "              metrics=[\"mae\"])\n",
    "\n",
    "# 3. Fit the model\n",
    "model.fit(X, y, epochs=5) \n"
   ]
  },
  {
   "cell_type": "code",
   "execution_count": 10,
   "metadata": {},
   "outputs": [
    {
     "data": {
      "text/plain": [
       "(<tf.Tensor: shape=(8,), dtype=float32, numpy=array([-7., -4., -1.,  2.,  5.,  8., 11., 14.], dtype=float32)>,\n",
       " <tf.Tensor: shape=(8,), dtype=float32, numpy=array([ 3.,  6.,  9., 12., 15., 18., 21., 24.], dtype=float32)>)"
      ]
     },
     "execution_count": 10,
     "metadata": {},
     "output_type": "execute_result"
    }
   ],
   "source": [
    "# Check out X and y\n",
    "X, y"
   ]
  },
  {
   "cell_type": "code",
   "execution_count": 11,
   "metadata": {},
   "outputs": [
    {
     "name": "stdout",
     "output_type": "stream",
     "text": [
      "1/1 [==============================] - 0s 58ms/step\n"
     ]
    },
    {
     "data": {
      "text/plain": [
       "array([[5.307121]], dtype=float32)"
      ]
     },
     "execution_count": 11,
     "metadata": {},
     "output_type": "execute_result"
    }
   ],
   "source": [
    "# Try and make a prediction using the model\n",
    "y_pred = model.predict([17.0])\n",
    "y_pred"
   ]
  },
  {
   "cell_type": "code",
   "execution_count": 12,
   "metadata": {},
   "outputs": [
    {
     "data": {
      "text/plain": [
       "array([[16.307121]], dtype=float32)"
      ]
     },
     "execution_count": 12,
     "metadata": {},
     "output_type": "execute_result"
    }
   ],
   "source": [
    "y_pred + 11"
   ]
  },
  {
   "attachments": {},
   "cell_type": "markdown",
   "metadata": {},
   "source": [
    "### Improving the model\n",
    "\n",
    "1. **Creating a model** - Add more layers, increase the number of hidden units (also called neurons) within each hidden layers, change the activation funciotn of each layer.\n",
    "2. **Compiling a model** - Change the optimization funciton or perhaps the **learning rate** of the opitimization function.\n",
    "3. **Fitting a model** - Fit a model for more **epochs**  or on more data"
   ]
  },
  {
   "cell_type": "code",
   "execution_count": 13,
   "metadata": {},
   "outputs": [
    {
     "name": "stdout",
     "output_type": "stream",
     "text": [
      "Epoch 1/100\n",
      "1/1 [==============================] - 0s 266ms/step - loss: 18.7780 - mae: 18.7780\n",
      "Epoch 2/100\n",
      "1/1 [==============================] - 0s 9ms/step - loss: 18.4968 - mae: 18.4968\n",
      "Epoch 3/100\n",
      "1/1 [==============================] - 0s 9ms/step - loss: 18.2155 - mae: 18.2155\n",
      "Epoch 4/100\n",
      "1/1 [==============================] - 0s 10ms/step - loss: 17.9343 - mae: 17.9343\n",
      "Epoch 5/100\n",
      "1/1 [==============================] - 0s 8ms/step - loss: 17.6530 - mae: 17.6530\n",
      "Epoch 6/100\n",
      "1/1 [==============================] - 0s 8ms/step - loss: 17.3718 - mae: 17.3718\n",
      "Epoch 7/100\n",
      "1/1 [==============================] - 0s 8ms/step - loss: 17.0905 - mae: 17.0905\n",
      "Epoch 8/100\n",
      "1/1 [==============================] - 0s 8ms/step - loss: 16.8093 - mae: 16.8093\n",
      "Epoch 9/100\n",
      "1/1 [==============================] - 0s 10ms/step - loss: 16.5280 - mae: 16.5280\n",
      "Epoch 10/100\n",
      "1/1 [==============================] - 0s 10ms/step - loss: 16.2468 - mae: 16.2468\n",
      "Epoch 11/100\n",
      "1/1 [==============================] - 0s 9ms/step - loss: 15.9655 - mae: 15.9655\n",
      "Epoch 12/100\n",
      "1/1 [==============================] - 0s 7ms/step - loss: 15.6843 - mae: 15.6843\n",
      "Epoch 13/100\n",
      "1/1 [==============================] - 0s 8ms/step - loss: 15.4030 - mae: 15.4030\n",
      "Epoch 14/100\n",
      "1/1 [==============================] - 0s 7ms/step - loss: 15.1218 - mae: 15.1218\n",
      "Epoch 15/100\n",
      "1/1 [==============================] - 0s 10ms/step - loss: 14.8412 - mae: 14.8412\n",
      "Epoch 16/100\n",
      "1/1 [==============================] - 0s 8ms/step - loss: 14.7087 - mae: 14.7087\n",
      "Epoch 17/100\n",
      "1/1 [==============================] - 0s 7ms/step - loss: 14.5762 - mae: 14.5762\n",
      "Epoch 18/100\n",
      "1/1 [==============================] - 0s 8ms/step - loss: 14.4437 - mae: 14.4437\n",
      "Epoch 19/100\n",
      "1/1 [==============================] - 0s 8ms/step - loss: 14.3112 - mae: 14.3112\n",
      "Epoch 20/100\n",
      "1/1 [==============================] - 0s 10ms/step - loss: 14.1787 - mae: 14.1787\n",
      "Epoch 21/100\n",
      "1/1 [==============================] - 0s 8ms/step - loss: 14.0462 - mae: 14.0462\n",
      "Epoch 22/100\n",
      "1/1 [==============================] - 0s 10ms/step - loss: 13.9137 - mae: 13.9137\n",
      "Epoch 23/100\n",
      "1/1 [==============================] - 0s 8ms/step - loss: 13.7812 - mae: 13.7812\n",
      "Epoch 24/100\n",
      "1/1 [==============================] - 0s 8ms/step - loss: 13.6487 - mae: 13.6487\n",
      "Epoch 25/100\n",
      "1/1 [==============================] - 0s 6ms/step - loss: 13.5162 - mae: 13.5162\n",
      "Epoch 26/100\n",
      "1/1 [==============================] - 0s 7ms/step - loss: 13.3837 - mae: 13.3837\n",
      "Epoch 27/100\n",
      "1/1 [==============================] - 0s 7ms/step - loss: 13.2512 - mae: 13.2512\n",
      "Epoch 28/100\n",
      "1/1 [==============================] - 0s 7ms/step - loss: 13.1187 - mae: 13.1187\n",
      "Epoch 29/100\n",
      "1/1 [==============================] - 0s 7ms/step - loss: 12.9862 - mae: 12.9862\n",
      "Epoch 30/100\n",
      "1/1 [==============================] - 0s 7ms/step - loss: 12.8537 - mae: 12.8537\n",
      "Epoch 31/100\n",
      "1/1 [==============================] - 0s 6ms/step - loss: 12.7212 - mae: 12.7212\n",
      "Epoch 32/100\n",
      "1/1 [==============================] - 0s 7ms/step - loss: 12.5887 - mae: 12.5887\n",
      "Epoch 33/100\n",
      "1/1 [==============================] - 0s 7ms/step - loss: 12.4562 - mae: 12.4562\n",
      "Epoch 34/100\n",
      "1/1 [==============================] - 0s 8ms/step - loss: 12.3237 - mae: 12.3237\n",
      "Epoch 35/100\n",
      "1/1 [==============================] - 0s 6ms/step - loss: 12.1912 - mae: 12.1912\n",
      "Epoch 36/100\n",
      "1/1 [==============================] - 0s 7ms/step - loss: 12.0587 - mae: 12.0587\n",
      "Epoch 37/100\n",
      "1/1 [==============================] - 0s 8ms/step - loss: 11.9262 - mae: 11.9262\n",
      "Epoch 38/100\n",
      "1/1 [==============================] - 0s 7ms/step - loss: 11.7937 - mae: 11.7937\n",
      "Epoch 39/100\n",
      "1/1 [==============================] - 0s 9ms/step - loss: 11.6612 - mae: 11.6612\n",
      "Epoch 40/100\n",
      "1/1 [==============================] - 0s 8ms/step - loss: 11.5287 - mae: 11.5287\n",
      "Epoch 41/100\n",
      "1/1 [==============================] - 0s 7ms/step - loss: 11.3962 - mae: 11.3962\n",
      "Epoch 42/100\n",
      "1/1 [==============================] - 0s 7ms/step - loss: 11.2637 - mae: 11.2637\n",
      "Epoch 43/100\n",
      "1/1 [==============================] - 0s 6ms/step - loss: 11.1312 - mae: 11.1312\n",
      "Epoch 44/100\n",
      "1/1 [==============================] - 0s 10ms/step - loss: 10.9987 - mae: 10.9987\n",
      "Epoch 45/100\n",
      "1/1 [==============================] - 0s 9ms/step - loss: 10.8662 - mae: 10.8662\n",
      "Epoch 46/100\n",
      "1/1 [==============================] - 0s 8ms/step - loss: 10.7337 - mae: 10.7337\n",
      "Epoch 47/100\n",
      "1/1 [==============================] - 0s 7ms/step - loss: 10.6012 - mae: 10.6012\n",
      "Epoch 48/100\n",
      "1/1 [==============================] - 0s 6ms/step - loss: 10.4687 - mae: 10.4687\n",
      "Epoch 49/100\n",
      "1/1 [==============================] - 0s 6ms/step - loss: 10.3362 - mae: 10.3362\n",
      "Epoch 50/100\n",
      "1/1 [==============================] - 0s 6ms/step - loss: 10.2037 - mae: 10.2037\n",
      "Epoch 51/100\n",
      "1/1 [==============================] - 0s 6ms/step - loss: 10.0712 - mae: 10.0712\n",
      "Epoch 52/100\n",
      "1/1 [==============================] - 0s 6ms/step - loss: 9.9387 - mae: 9.9387\n",
      "Epoch 53/100\n",
      "1/1 [==============================] - 0s 7ms/step - loss: 9.8062 - mae: 9.8062\n",
      "Epoch 54/100\n",
      "1/1 [==============================] - 0s 6ms/step - loss: 9.6737 - mae: 9.6737\n",
      "Epoch 55/100\n",
      "1/1 [==============================] - 0s 6ms/step - loss: 9.5412 - mae: 9.5412\n",
      "Epoch 56/100\n",
      "1/1 [==============================] - 0s 6ms/step - loss: 9.4087 - mae: 9.4087\n",
      "Epoch 57/100\n",
      "1/1 [==============================] - 0s 6ms/step - loss: 9.2762 - mae: 9.2762\n",
      "Epoch 58/100\n",
      "1/1 [==============================] - 0s 6ms/step - loss: 9.1437 - mae: 9.1437\n",
      "Epoch 59/100\n",
      "1/1 [==============================] - 0s 6ms/step - loss: 9.0112 - mae: 9.0112\n",
      "Epoch 60/100\n",
      "1/1 [==============================] - 0s 7ms/step - loss: 8.8787 - mae: 8.8787\n",
      "Epoch 61/100\n",
      "1/1 [==============================] - 0s 6ms/step - loss: 8.7462 - mae: 8.7462\n",
      "Epoch 62/100\n",
      "1/1 [==============================] - 0s 7ms/step - loss: 8.6137 - mae: 8.6137\n",
      "Epoch 63/100\n",
      "1/1 [==============================] - 0s 6ms/step - loss: 8.4812 - mae: 8.4812\n",
      "Epoch 64/100\n",
      "1/1 [==============================] - 0s 7ms/step - loss: 8.3487 - mae: 8.3487\n",
      "Epoch 65/100\n",
      "1/1 [==============================] - 0s 6ms/step - loss: 8.2162 - mae: 8.2162\n",
      "Epoch 66/100\n",
      "1/1 [==============================] - 0s 7ms/step - loss: 8.0837 - mae: 8.0837\n",
      "Epoch 67/100\n",
      "1/1 [==============================] - 0s 6ms/step - loss: 7.9512 - mae: 7.9512\n",
      "Epoch 68/100\n",
      "1/1 [==============================] - 0s 7ms/step - loss: 7.8187 - mae: 7.8187\n",
      "Epoch 69/100\n",
      "1/1 [==============================] - 0s 6ms/step - loss: 7.6862 - mae: 7.6862\n",
      "Epoch 70/100\n",
      "1/1 [==============================] - 0s 6ms/step - loss: 7.5537 - mae: 7.5537\n",
      "Epoch 71/100\n",
      "1/1 [==============================] - 0s 7ms/step - loss: 7.4212 - mae: 7.4212\n",
      "Epoch 72/100\n",
      "1/1 [==============================] - 0s 7ms/step - loss: 7.2887 - mae: 7.2887\n",
      "Epoch 73/100\n",
      "1/1 [==============================] - 0s 7ms/step - loss: 7.1562 - mae: 7.1562\n",
      "Epoch 74/100\n",
      "1/1 [==============================] - 0s 6ms/step - loss: 7.0237 - mae: 7.0237\n",
      "Epoch 75/100\n",
      "1/1 [==============================] - 0s 6ms/step - loss: 6.9713 - mae: 6.9713\n",
      "Epoch 76/100\n",
      "1/1 [==============================] - 0s 7ms/step - loss: 6.9656 - mae: 6.9656\n",
      "Epoch 77/100\n",
      "1/1 [==============================] - 0s 6ms/step - loss: 6.9600 - mae: 6.9600\n",
      "Epoch 78/100\n",
      "1/1 [==============================] - 0s 6ms/step - loss: 6.9544 - mae: 6.9544\n",
      "Epoch 79/100\n",
      "1/1 [==============================] - 0s 7ms/step - loss: 6.9488 - mae: 6.9488\n",
      "Epoch 80/100\n",
      "1/1 [==============================] - 0s 7ms/step - loss: 6.9431 - mae: 6.9431\n",
      "Epoch 81/100\n",
      "1/1 [==============================] - 0s 7ms/step - loss: 6.9375 - mae: 6.9375\n",
      "Epoch 82/100\n",
      "1/1 [==============================] - 0s 6ms/step - loss: 6.9319 - mae: 6.9319\n",
      "Epoch 83/100\n",
      "1/1 [==============================] - 0s 7ms/step - loss: 6.9263 - mae: 6.9263\n",
      "Epoch 84/100\n",
      "1/1 [==============================] - 0s 8ms/step - loss: 6.9206 - mae: 6.9206\n",
      "Epoch 85/100\n",
      "1/1 [==============================] - 0s 7ms/step - loss: 6.9150 - mae: 6.9150\n",
      "Epoch 86/100\n",
      "1/1 [==============================] - 0s 6ms/step - loss: 6.9094 - mae: 6.9094\n",
      "Epoch 87/100\n",
      "1/1 [==============================] - 0s 7ms/step - loss: 6.9038 - mae: 6.9038\n",
      "Epoch 88/100\n",
      "1/1 [==============================] - 0s 6ms/step - loss: 6.8981 - mae: 6.8981\n",
      "Epoch 89/100\n",
      "1/1 [==============================] - 0s 5ms/step - loss: 6.8925 - mae: 6.8925\n",
      "Epoch 90/100\n",
      "1/1 [==============================] - 0s 7ms/step - loss: 6.8869 - mae: 6.8869\n",
      "Epoch 91/100\n",
      "1/1 [==============================] - 0s 9ms/step - loss: 6.8813 - mae: 6.8813\n",
      "Epoch 92/100\n",
      "1/1 [==============================] - 0s 6ms/step - loss: 6.8756 - mae: 6.8756\n",
      "Epoch 93/100\n",
      "1/1 [==============================] - 0s 6ms/step - loss: 6.8700 - mae: 6.8700\n",
      "Epoch 94/100\n",
      "1/1 [==============================] - 0s 7ms/step - loss: 6.8644 - mae: 6.8644\n",
      "Epoch 95/100\n",
      "1/1 [==============================] - 0s 6ms/step - loss: 6.8588 - mae: 6.8588\n",
      "Epoch 96/100\n",
      "1/1 [==============================] - 0s 5ms/step - loss: 6.8531 - mae: 6.8531\n",
      "Epoch 97/100\n",
      "1/1 [==============================] - 0s 5ms/step - loss: 6.8475 - mae: 6.8475\n",
      "Epoch 98/100\n",
      "1/1 [==============================] - 0s 7ms/step - loss: 6.8419 - mae: 6.8419\n",
      "Epoch 99/100\n",
      "1/1 [==============================] - 0s 5ms/step - loss: 6.8363 - mae: 6.8363\n",
      "Epoch 100/100\n",
      "1/1 [==============================] - 0s 7ms/step - loss: 6.8306 - mae: 6.8306\n"
     ]
    },
    {
     "data": {
      "text/plain": [
       "<keras.callbacks.History at 0x7f4df9f2c250>"
      ]
     },
     "execution_count": 13,
     "metadata": {},
     "output_type": "execute_result"
    }
   ],
   "source": [
    "# Rebuild the model\n",
    "\n",
    "# 1. Create the model\n",
    "model = tf.keras.Sequential([\n",
    "    tf.keras.layers.Dense(1, input_shape=[1]),\n",
    "])\n",
    "\n",
    "# 2. Compile the model\n",
    "model.compile(loss=tf.keras.losses.mae,\n",
    "              optimizer=tf.keras.optimizers.SGD(), \n",
    "              metrics=[\"mae\"])\n",
    "\n",
    "# 3. Fit the model (train longer)\n",
    "model.fit(X, y, epochs=100) "
   ]
  },
  {
   "cell_type": "code",
   "execution_count": 14,
   "metadata": {},
   "outputs": [
    {
     "data": {
      "text/plain": [
       "(<tf.Tensor: shape=(8,), dtype=float32, numpy=array([-7., -4., -1.,  2.,  5.,  8., 11., 14.], dtype=float32)>,\n",
       " <tf.Tensor: shape=(8,), dtype=float32, numpy=array([ 3.,  6.,  9., 12., 15., 18., 21., 24.], dtype=float32)>)"
      ]
     },
     "execution_count": 14,
     "metadata": {},
     "output_type": "execute_result"
    }
   ],
   "source": [
    "X, y"
   ]
  },
  {
   "cell_type": "code",
   "execution_count": 15,
   "metadata": {},
   "outputs": [
    {
     "name": "stdout",
     "output_type": "stream",
     "text": [
      "1/1 [==============================] - 0s 43ms/step\n"
     ]
    },
    {
     "data": {
      "text/plain": [
       "array([[29.575619]], dtype=float32)"
      ]
     },
     "execution_count": 15,
     "metadata": {},
     "output_type": "execute_result"
    }
   ],
   "source": [
    "# Check if model prediction improved\n",
    "model.predict([17.0])"
   ]
  },
  {
   "cell_type": "code",
   "execution_count": 16,
   "metadata": {},
   "outputs": [
    {
     "name": "stdout",
     "output_type": "stream",
     "text": [
      "Epoch 1/100\n"
     ]
    },
    {
     "name": "stderr",
     "output_type": "stream",
     "text": [
      "2023-06-06 20:09:42.777268: I tensorflow/compiler/xla/stream_executor/cuda/cuda_blas.cc:637] TensorFloat-32 will be used for the matrix multiplication. This will only be logged once.\n",
      "2023-06-06 20:09:42.796726: I tensorflow/compiler/mlir/tensorflow/utils/dump_mlir_util.cc:269] disabling MLIR crash reproducer, set env var `MLIR_CRASH_REPRODUCER_DIRECTORY` to enable.\n"
     ]
    },
    {
     "name": "stdout",
     "output_type": "stream",
     "text": [
      "1/1 [==============================] - 1s 1s/step - loss: 13.7963 - mae: 13.7963\n",
      "Epoch 2/100\n",
      "1/1 [==============================] - 0s 9ms/step - loss: 13.1714 - mae: 13.1714\n",
      "Epoch 3/100\n",
      "1/1 [==============================] - 0s 6ms/step - loss: 12.5478 - mae: 12.5478\n",
      "Epoch 4/100\n",
      "1/1 [==============================] - 0s 7ms/step - loss: 11.9221 - mae: 11.9221\n",
      "Epoch 5/100\n",
      "1/1 [==============================] - 0s 6ms/step - loss: 11.2907 - mae: 11.2907\n",
      "Epoch 6/100\n",
      "1/1 [==============================] - 0s 8ms/step - loss: 10.6508 - mae: 10.6508\n",
      "Epoch 7/100\n",
      "1/1 [==============================] - 0s 6ms/step - loss: 9.9995 - mae: 9.9995\n",
      "Epoch 8/100\n",
      "1/1 [==============================] - 0s 8ms/step - loss: 9.3339 - mae: 9.3339\n",
      "Epoch 9/100\n",
      "1/1 [==============================] - 0s 8ms/step - loss: 8.6511 - mae: 8.6511\n",
      "Epoch 10/100\n",
      "1/1 [==============================] - 0s 7ms/step - loss: 7.9481 - mae: 7.9481\n",
      "Epoch 11/100\n",
      "1/1 [==============================] - 0s 7ms/step - loss: 7.2218 - mae: 7.2218\n",
      "Epoch 12/100\n",
      "1/1 [==============================] - 0s 7ms/step - loss: 6.6552 - mae: 6.6552\n",
      "Epoch 13/100\n",
      "1/1 [==============================] - 0s 8ms/step - loss: 6.7203 - mae: 6.7203\n",
      "Epoch 14/100\n",
      "1/1 [==============================] - 0s 8ms/step - loss: 6.9966 - mae: 6.9966\n",
      "Epoch 15/100\n",
      "1/1 [==============================] - 0s 8ms/step - loss: 7.1675 - mae: 7.1675\n",
      "Epoch 16/100\n",
      "1/1 [==============================] - 0s 7ms/step - loss: 7.3648 - mae: 7.3648\n",
      "Epoch 17/100\n",
      "1/1 [==============================] - 0s 10ms/step - loss: 7.3423 - mae: 7.3423\n",
      "Epoch 18/100\n",
      "1/1 [==============================] - 0s 10ms/step - loss: 7.1510 - mae: 7.1510\n",
      "Epoch 19/100\n",
      "1/1 [==============================] - 0s 8ms/step - loss: 6.8525 - mae: 6.8525\n",
      "Epoch 20/100\n",
      "1/1 [==============================] - 0s 7ms/step - loss: 6.6194 - mae: 6.6194\n",
      "Epoch 21/100\n",
      "1/1 [==============================] - 0s 8ms/step - loss: 6.3671 - mae: 6.3671\n",
      "Epoch 22/100\n",
      "1/1 [==============================] - 0s 9ms/step - loss: 6.1003 - mae: 6.1003\n",
      "Epoch 23/100\n",
      "1/1 [==============================] - 0s 7ms/step - loss: 5.9424 - mae: 5.9424\n",
      "Epoch 24/100\n",
      "1/1 [==============================] - 0s 7ms/step - loss: 5.8986 - mae: 5.8986\n",
      "Epoch 25/100\n",
      "1/1 [==============================] - 0s 7ms/step - loss: 5.9507 - mae: 5.9507\n",
      "Epoch 26/100\n",
      "1/1 [==============================] - 0s 6ms/step - loss: 6.0039 - mae: 6.0039\n",
      "Epoch 27/100\n",
      "1/1 [==============================] - 0s 7ms/step - loss: 5.9520 - mae: 5.9520\n",
      "Epoch 28/100\n",
      "1/1 [==============================] - 0s 8ms/step - loss: 5.8084 - mae: 5.8084\n",
      "Epoch 29/100\n",
      "1/1 [==============================] - 0s 7ms/step - loss: 5.5824 - mae: 5.5824\n",
      "Epoch 30/100\n",
      "1/1 [==============================] - 0s 6ms/step - loss: 5.4114 - mae: 5.4114\n",
      "Epoch 31/100\n",
      "1/1 [==============================] - 0s 8ms/step - loss: 5.2976 - mae: 5.2976\n",
      "Epoch 32/100\n",
      "1/1 [==============================] - 0s 9ms/step - loss: 5.2027 - mae: 5.2027\n",
      "Epoch 33/100\n",
      "1/1 [==============================] - 0s 7ms/step - loss: 5.1926 - mae: 5.1926\n",
      "Epoch 34/100\n",
      "1/1 [==============================] - 0s 6ms/step - loss: 5.1410 - mae: 5.1410\n",
      "Epoch 35/100\n",
      "1/1 [==============================] - 0s 7ms/step - loss: 5.0511 - mae: 5.0511\n",
      "Epoch 36/100\n",
      "1/1 [==============================] - 0s 9ms/step - loss: 4.9262 - mae: 4.9262\n",
      "Epoch 37/100\n",
      "1/1 [==============================] - 0s 8ms/step - loss: 4.7697 - mae: 4.7697\n",
      "Epoch 38/100\n",
      "1/1 [==============================] - 0s 6ms/step - loss: 4.5933 - mae: 4.5933\n",
      "Epoch 39/100\n",
      "1/1 [==============================] - 0s 6ms/step - loss: 4.4991 - mae: 4.4991\n",
      "Epoch 40/100\n",
      "1/1 [==============================] - 0s 7ms/step - loss: 4.3973 - mae: 4.3973\n",
      "Epoch 41/100\n",
      "1/1 [==============================] - 0s 7ms/step - loss: 4.2878 - mae: 4.2878\n",
      "Epoch 42/100\n",
      "1/1 [==============================] - 0s 7ms/step - loss: 4.1704 - mae: 4.1704\n",
      "Epoch 43/100\n",
      "1/1 [==============================] - 0s 6ms/step - loss: 4.0452 - mae: 4.0452\n",
      "Epoch 44/100\n",
      "1/1 [==============================] - 0s 7ms/step - loss: 3.9118 - mae: 3.9118\n",
      "Epoch 45/100\n",
      "1/1 [==============================] - 0s 9ms/step - loss: 3.7703 - mae: 3.7703\n",
      "Epoch 46/100\n",
      "1/1 [==============================] - 0s 9ms/step - loss: 3.6204 - mae: 3.6204\n",
      "Epoch 47/100\n",
      "1/1 [==============================] - 0s 7ms/step - loss: 3.4619 - mae: 3.4619\n",
      "Epoch 48/100\n",
      "1/1 [==============================] - 0s 6ms/step - loss: 3.2946 - mae: 3.2946\n",
      "Epoch 49/100\n",
      "1/1 [==============================] - 0s 6ms/step - loss: 3.1182 - mae: 3.1182\n",
      "Epoch 50/100\n",
      "1/1 [==============================] - 0s 6ms/step - loss: 2.9327 - mae: 2.9327\n",
      "Epoch 51/100\n",
      "1/1 [==============================] - 0s 9ms/step - loss: 2.7376 - mae: 2.7376\n",
      "Epoch 52/100\n",
      "1/1 [==============================] - 0s 8ms/step - loss: 2.5957 - mae: 2.5957\n",
      "Epoch 53/100\n",
      "1/1 [==============================] - 0s 7ms/step - loss: 2.3991 - mae: 2.3991\n",
      "Epoch 54/100\n",
      "1/1 [==============================] - 0s 7ms/step - loss: 2.1436 - mae: 2.1436\n",
      "Epoch 55/100\n",
      "1/1 [==============================] - 0s 8ms/step - loss: 1.9403 - mae: 1.9403\n",
      "Epoch 56/100\n",
      "1/1 [==============================] - 0s 10ms/step - loss: 1.8331 - mae: 1.8331\n",
      "Epoch 57/100\n",
      "1/1 [==============================] - 0s 11ms/step - loss: 1.5801 - mae: 1.5801\n",
      "Epoch 58/100\n",
      "1/1 [==============================] - 0s 10ms/step - loss: 1.2340 - mae: 1.2340\n",
      "Epoch 59/100\n",
      "1/1 [==============================] - 0s 9ms/step - loss: 1.0794 - mae: 1.0794\n",
      "Epoch 60/100\n",
      "1/1 [==============================] - 0s 10ms/step - loss: 0.9461 - mae: 0.9461\n",
      "Epoch 61/100\n",
      "1/1 [==============================] - 0s 9ms/step - loss: 0.5955 - mae: 0.5955\n",
      "Epoch 62/100\n",
      "1/1 [==============================] - 0s 7ms/step - loss: 0.2823 - mae: 0.2823\n",
      "Epoch 63/100\n",
      "1/1 [==============================] - 0s 8ms/step - loss: 0.3268 - mae: 0.3268\n",
      "Epoch 64/100\n",
      "1/1 [==============================] - 0s 7ms/step - loss: 0.3308 - mae: 0.3308\n",
      "Epoch 65/100\n",
      "1/1 [==============================] - 0s 8ms/step - loss: 0.6550 - mae: 0.6550\n",
      "Epoch 66/100\n",
      "1/1 [==============================] - 0s 7ms/step - loss: 0.7371 - mae: 0.7371\n",
      "Epoch 67/100\n",
      "1/1 [==============================] - 0s 6ms/step - loss: 0.7156 - mae: 0.7156\n",
      "Epoch 68/100\n",
      "1/1 [==============================] - 0s 7ms/step - loss: 0.7898 - mae: 0.7898\n",
      "Epoch 69/100\n",
      "1/1 [==============================] - 0s 7ms/step - loss: 0.7671 - mae: 0.7671\n",
      "Epoch 70/100\n",
      "1/1 [==============================] - 0s 7ms/step - loss: 0.6641 - mae: 0.6641\n",
      "Epoch 71/100\n",
      "1/1 [==============================] - 0s 6ms/step - loss: 0.6091 - mae: 0.6091\n",
      "Epoch 72/100\n",
      "1/1 [==============================] - 0s 8ms/step - loss: 0.4922 - mae: 0.4922\n",
      "Epoch 73/100\n",
      "1/1 [==============================] - 0s 6ms/step - loss: 0.3681 - mae: 0.3681\n",
      "Epoch 74/100\n",
      "1/1 [==============================] - 0s 7ms/step - loss: 0.2349 - mae: 0.2349\n",
      "Epoch 75/100\n",
      "1/1 [==============================] - 0s 7ms/step - loss: 0.0887 - mae: 0.0887\n",
      "Epoch 76/100\n",
      "1/1 [==============================] - 0s 8ms/step - loss: 0.2009 - mae: 0.2009\n",
      "Epoch 77/100\n",
      "1/1 [==============================] - 0s 6ms/step - loss: 0.2433 - mae: 0.2433\n",
      "Epoch 78/100\n",
      "1/1 [==============================] - 0s 6ms/step - loss: 0.3623 - mae: 0.3623\n",
      "Epoch 79/100\n",
      "1/1 [==============================] - 0s 9ms/step - loss: 0.3730 - mae: 0.3730\n",
      "Epoch 80/100\n",
      "1/1 [==============================] - 0s 7ms/step - loss: 0.3858 - mae: 0.3858\n",
      "Epoch 81/100\n",
      "1/1 [==============================] - 0s 6ms/step - loss: 0.3599 - mae: 0.3599\n",
      "Epoch 82/100\n",
      "1/1 [==============================] - 0s 7ms/step - loss: 0.3279 - mae: 0.3279\n",
      "Epoch 83/100\n",
      "1/1 [==============================] - 0s 6ms/step - loss: 0.2599 - mae: 0.2599\n",
      "Epoch 84/100\n",
      "1/1 [==============================] - 0s 7ms/step - loss: 0.2286 - mae: 0.2286\n",
      "Epoch 85/100\n",
      "1/1 [==============================] - 0s 6ms/step - loss: 0.1233 - mae: 0.1233\n",
      "Epoch 86/100\n",
      "1/1 [==============================] - 0s 5ms/step - loss: 0.1897 - mae: 0.1897\n",
      "Epoch 87/100\n",
      "1/1 [==============================] - 0s 6ms/step - loss: 0.2591 - mae: 0.2591\n",
      "Epoch 88/100\n",
      "1/1 [==============================] - 0s 7ms/step - loss: 0.2288 - mae: 0.2288\n",
      "Epoch 89/100\n",
      "1/1 [==============================] - 0s 6ms/step - loss: 0.3049 - mae: 0.3049\n",
      "Epoch 90/100\n",
      "1/1 [==============================] - 0s 6ms/step - loss: 0.2155 - mae: 0.2155\n",
      "Epoch 91/100\n",
      "1/1 [==============================] - 0s 6ms/step - loss: 0.2822 - mae: 0.2822\n",
      "Epoch 92/100\n",
      "1/1 [==============================] - 0s 7ms/step - loss: 0.2121 - mae: 0.2121\n",
      "Epoch 93/100\n",
      "1/1 [==============================] - 0s 6ms/step - loss: 0.0331 - mae: 0.0331\n",
      "Epoch 94/100\n",
      "1/1 [==============================] - 0s 7ms/step - loss: 0.1311 - mae: 0.1311\n",
      "Epoch 95/100\n",
      "1/1 [==============================] - 0s 7ms/step - loss: 0.1910 - mae: 0.1910\n",
      "Epoch 96/100\n",
      "1/1 [==============================] - 0s 6ms/step - loss: 0.1865 - mae: 0.1865\n",
      "Epoch 97/100\n",
      "1/1 [==============================] - 0s 7ms/step - loss: 0.2953 - mae: 0.2953\n",
      "Epoch 98/100\n",
      "1/1 [==============================] - 0s 7ms/step - loss: 0.2396 - mae: 0.2396\n",
      "Epoch 99/100\n",
      "1/1 [==============================] - 0s 6ms/step - loss: 0.2029 - mae: 0.2029\n",
      "Epoch 100/100\n",
      "1/1 [==============================] - 0s 6ms/step - loss: 0.2164 - mae: 0.2164\n"
     ]
    },
    {
     "data": {
      "text/plain": [
       "<keras.callbacks.History at 0x7f4e01fa23d0>"
      ]
     },
     "execution_count": 16,
     "metadata": {},
     "output_type": "execute_result"
    }
   ],
   "source": [
    "# Rebuild the model\n",
    "\n",
    "# 1. Create the model (add extra layer)\n",
    "model = tf.keras.Sequential([\n",
    "    tf.keras.layers.Dense(50, input_shape=[1]),\n",
    "    tf.keras.layers.Dense(1),\n",
    "])\n",
    "\n",
    "# 2. Compile the model (adjust optimizer learning rate)\n",
    "model.compile(loss=\"mae\",\n",
    "              optimizer=tf.keras.optimizers.Adam(learning_rate=0.01), # important for neural network improvement \n",
    "              metrics=[\"mae\"])\n",
    "\n",
    "# 3. Fit the model (train longer)\n",
    "model.fit(X, y, epochs=100) "
   ]
  },
  {
   "cell_type": "code",
   "execution_count": 17,
   "metadata": {},
   "outputs": [
    {
     "data": {
      "text/plain": [
       "(<tf.Tensor: shape=(8,), dtype=float32, numpy=array([-7., -4., -1.,  2.,  5.,  8., 11., 14.], dtype=float32)>,\n",
       " <tf.Tensor: shape=(8,), dtype=float32, numpy=array([ 3.,  6.,  9., 12., 15., 18., 21., 24.], dtype=float32)>)"
      ]
     },
     "execution_count": 17,
     "metadata": {},
     "output_type": "execute_result"
    }
   ],
   "source": [
    "X, y"
   ]
  },
  {
   "cell_type": "code",
   "execution_count": 18,
   "metadata": {},
   "outputs": [
    {
     "name": "stdout",
     "output_type": "stream",
     "text": [
      "1/1 [==============================] - 0s 46ms/step\n"
     ]
    },
    {
     "data": {
      "text/plain": [
       "array([[26.89591]], dtype=float32)"
      ]
     },
     "execution_count": 18,
     "metadata": {},
     "output_type": "execute_result"
    }
   ],
   "source": [
    "# Predict\n",
    "model.predict([17.0])"
   ]
  },
  {
   "attachments": {},
   "cell_type": "markdown",
   "metadata": {},
   "source": [
    "## Evaluating a model\n",
    "\n",
    "In practice, a typical workflow when building neural networks is:\n",
    "\n",
    "Build a model -> fit it -> evaluate it -> tweak the model -> fit it -> evaluate it -> tweak the model -> ...\n",
    "\n",
    "When evaluating the model, it is good practice to visualize:\n",
    "* The data\n",
    "* The model\n",
    "* The predictions of the model"
   ]
  },
  {
   "cell_type": "code",
   "execution_count": 19,
   "metadata": {},
   "outputs": [
    {
     "data": {
      "text/plain": [
       "<tf.Tensor: shape=(50,), dtype=int32, numpy=\n",
       "array([-100,  -96,  -92,  -88,  -84,  -80,  -76,  -72,  -68,  -64,  -60,\n",
       "        -56,  -52,  -48,  -44,  -40,  -36,  -32,  -28,  -24,  -20,  -16,\n",
       "        -12,   -8,   -4,    0,    4,    8,   12,   16,   20,   24,   28,\n",
       "         32,   36,   40,   44,   48,   52,   56,   60,   64,   68,   72,\n",
       "         76,   80,   84,   88,   92,   96], dtype=int32)>"
      ]
     },
     "execution_count": 19,
     "metadata": {},
     "output_type": "execute_result"
    }
   ],
   "source": [
    "# Make a bigger dataset\n",
    "X = tf.range(-100, 100, 4)\n",
    "X"
   ]
  },
  {
   "cell_type": "code",
   "execution_count": 20,
   "metadata": {},
   "outputs": [
    {
     "data": {
      "text/plain": [
       "<tf.Tensor: shape=(50,), dtype=int32, numpy=\n",
       "array([-90, -86, -82, -78, -74, -70, -66, -62, -58, -54, -50, -46, -42,\n",
       "       -38, -34, -30, -26, -22, -18, -14, -10,  -6,  -2,   2,   6,  10,\n",
       "        14,  18,  22,  26,  30,  34,  38,  42,  46,  50,  54,  58,  62,\n",
       "        66,  70,  74,  78,  82,  86,  90,  94,  98, 102, 106], dtype=int32)>"
      ]
     },
     "execution_count": 20,
     "metadata": {},
     "output_type": "execute_result"
    }
   ],
   "source": [
    "# Make labels for the dataset\n",
    "y = X + 10\n",
    "y"
   ]
  },
  {
   "cell_type": "code",
   "execution_count": 21,
   "metadata": {},
   "outputs": [
    {
     "data": {
      "text/plain": [
       "<matplotlib.collections.PathCollection at 0x7f4df41ca2d0>"
      ]
     },
     "execution_count": 21,
     "metadata": {},
     "output_type": "execute_result"
    },
    {
     "data": {
      "image/png": "[encoded data removed]",
      "text/plain": [
       "<Figure size 640x480 with 1 Axes>"
      ]
     },
     "metadata": {},
     "output_type": "display_data"
    }
   ],
   "source": [
    "# Visualize the data\n",
    "import matplotlib.pyplot as plt\n",
    "plt.scatter(X, y)"
   ]
  },
  {
   "attachments": {},
   "cell_type": "markdown",
   "metadata": {},
   "source": [
    "### The 3 sets\n",
    "\n",
    "* **Training set** - the model learns from this data, which is typically 70-80% of the total dataset\n",
    "* **Validation set** - the model gets tuned on this data, which is 10-15% of the total dataset\n",
    "* **Test set** - the model gets evaluated on this data to test what it has learned, this set is typically 10-15% of the total dataset"
   ]
  },
  {
   "cell_type": "code",
   "execution_count": 22,
   "metadata": {},
   "outputs": [
    {
     "data": {
      "text/plain": [
       "50"
      ]
     },
     "execution_count": 22,
     "metadata": {},
     "output_type": "execute_result"
    }
   ],
   "source": [
    "# Check the length of how the samples\n",
    "len(X)"
   ]
  },
  {
   "cell_type": "code",
   "execution_count": 23,
   "metadata": {},
   "outputs": [
    {
     "data": {
      "text/plain": [
       "(40, 10, 40, 10)"
      ]
     },
     "execution_count": 23,
     "metadata": {},
     "output_type": "execute_result"
    }
   ],
   "source": [
    "# Split the data into train and test sets\n",
    "X_train = X[:40] # first 40 samples for training\n",
    "y_train = y[:40]\n",
    "X_test = X[40:] # last 10 samples for testing\n",
    "y_test = y[40:]\n",
    "\n",
    "len(X_train), len(X_test), len(y_train), len(y_test)"
   ]
  },
  {
   "attachments": {},
   "cell_type": "markdown",
   "metadata": {},
   "source": [
    "### Visualizing the data"
   ]
  },
  {
   "cell_type": "code",
   "execution_count": 24,
   "metadata": {},
   "outputs": [
    {
     "data": {
      "text/plain": [
       "<matplotlib.legend.Legend at 0x7f4df4135ed0>"
      ]
     },
     "execution_count": 24,
     "metadata": {},
     "output_type": "execute_result"
    },
    {
     "data": {
      "image/png": "[encoded data removed]",
      "text/plain": [
       "<Figure size 1000x700 with 1 Axes>"
      ]
     },
     "metadata": {},
     "output_type": "display_data"
    }
   ],
   "source": [
    "plt.figure(figsize=(10, 7))\n",
    "\n",
    "# Plot training data in blue\n",
    "plt.scatter(X_train, y_train, c=\"b\", label=\"Training data\")\n",
    "#Plot test data in green\n",
    "plt.scatter(X_test, y_test, c=\"g\", label=\"Testing data\")\n",
    "# Show legend\n",
    "plt.legend()"
   ]
  },
  {
   "cell_type": "code",
   "execution_count": 25,
   "metadata": {},
   "outputs": [
    {
     "data": {
      "text/plain": [
       "<keras.callbacks.History at 0x7f4df01d7ad0>"
      ]
     },
     "execution_count": 25,
     "metadata": {},
     "output_type": "execute_result"
    }
   ],
   "source": [
    "# How to build a neural network for the above data\n",
    "tf.random.set_seed(42)\n",
    "\n",
    "# 1. Create a model\n",
    "model = tf.keras.Sequential([\n",
    "    tf.keras.layers.Dense(10, input_shape=[1], name=\"input_layer\"),\n",
    "    tf.keras.layers.Dense(1, name=\"output_layer\")\n",
    "], name=\"Model_1\")\n",
    "\n",
    "# 2. Compile the model\n",
    "model.compile(loss=tf.keras.losses.mae,\n",
    "              optimizer=tf.keras.optimizers.SGD(),\n",
    "              metrics=[\"mae\"])\n",
    "\n",
    "# 3. Fit the model\n",
    "model.fit(X_train, y_train, epochs=100, verbose=0)"
   ]
  },
  {
   "cell_type": "code",
   "execution_count": 26,
   "metadata": {},
   "outputs": [
    {
     "name": "stdout",
     "output_type": "stream",
     "text": [
      "Model: \"Model_1\"\n",
      "_________________________________________________________________\n",
      " Layer (type)                Output Shape              Param #   \n",
      "=================================================================\n",
      " input_layer (Dense)         (None, 10)                20        \n",
      "                                                                 \n",
      " output_layer (Dense)        (None, 1)                 11        \n",
      "                                                                 \n",
      "=================================================================\n",
      "Total params: 31\n",
      "Trainable params: 31\n",
      "Non-trainable params: 0\n",
      "_________________________________________________________________\n"
     ]
    }
   ],
   "source": [
    "model.summary()"
   ]
  },
  {
   "attachments": {},
   "cell_type": "markdown",
   "metadata": {},
   "source": [
    "* Total params - the total number of parameters in the model\n",
    "* Trainable params - these are the parameters (patterns) the model can update as it trains\n",
    "* Non-trainable params - these parameters aren't updated during training (typical use for reinforcement learning when bringing trained parameters from other models)"
   ]
  },
  {
   "cell_type": "code",
   "execution_count": 27,
   "metadata": {},
   "outputs": [
    {
     "data": {
      "image/png": "[encoded data removed]",
      "text/plain": [
       "<IPython.core.display.Image object>"
      ]
     },
     "execution_count": 27,
     "metadata": {},
     "output_type": "execute_result"
    }
   ],
   "source": [
    "from tensorflow.keras.utils import plot_model\n",
    "\n",
    "plot_model(model=model, show_shapes=True, to_file='models/model_test_plot.png')"
   ]
  },
  {
   "attachments": {},
   "cell_type": "markdown",
   "metadata": {},
   "source": [
    "### Visualizing model's predictions\n",
    "\n",
    "To visualize predictions, it's a good idea to plot them against the ground truth labels\n",
    "\n",
    "Often seen in the form of `y_test` versus `y_pred`"
   ]
  },
  {
   "cell_type": "code",
   "execution_count": 28,
   "metadata": {},
   "outputs": [
    {
     "name": "stdout",
     "output_type": "stream",
     "text": [
      "1/1 [==============================] - 0s 33ms/step\n"
     ]
    },
    {
     "data": {
      "text/plain": [
       "array([[ 91.05635 ],\n",
       "       [ 97.00387 ],\n",
       "       [102.95139 ],\n",
       "       [108.8989  ],\n",
       "       [114.84643 ],\n",
       "       [120.793945],\n",
       "       [126.74147 ],\n",
       "       [132.68898 ],\n",
       "       [138.63649 ],\n",
       "       [144.58401 ]], dtype=float32)"
      ]
     },
     "execution_count": 28,
     "metadata": {},
     "output_type": "execute_result"
    }
   ],
   "source": [
    "# Make some predictions\n",
    "y_pred = model.predict([X_test])\n",
    "y_pred"
   ]
  },
  {
   "cell_type": "code",
   "execution_count": 29,
   "metadata": {},
   "outputs": [
    {
     "data": {
      "text/plain": [
       "<tf.Tensor: shape=(10,), dtype=int32, numpy=array([ 70,  74,  78,  82,  86,  90,  94,  98, 102, 106], dtype=int32)>"
      ]
     },
     "execution_count": 29,
     "metadata": {},
     "output_type": "execute_result"
    }
   ],
   "source": [
    "y_test"
   ]
  },
  {
   "attachments": {},
   "cell_type": "markdown",
   "metadata": {},
   "source": [
    "Create a Python function when there is a reusable functionality"
   ]
  },
  {
   "cell_type": "code",
   "execution_count": 30,
   "metadata": {},
   "outputs": [],
   "source": [
    "# Create a plotting function\n",
    "def plot_predictions(train_data=X_train,\n",
    "                     train_labels=y_train,\n",
    "                     test_data=X_test,\n",
    "                     test_labels=y_test,\n",
    "                     predictions=y_pred):\n",
    "    \"\"\"\n",
    "    Plots training data, test data, and compare predictions to ground truth labels\n",
    "    \"\"\"\n",
    "\n",
    "    plt.figure(figsize=(10,7))\n",
    "    # Plot training data in blue\n",
    "    plt.scatter(train_data, train_labels, c=\"b\", label=\"Training data\")\n",
    "    # Plot testing data in green\n",
    "    plt.scatter(test_data, test_labels, c=\"g\", label=\"Testing data\")\n",
    "    # Plot model's predictions in red\n",
    "    plt.scatter(test_data, predictions, c=\"r\", label=\"Predictions\")\n",
    "    # Show the legend\n",
    "    plt.legend(); "
   ]
  },
  {
   "cell_type": "code",
   "execution_count": 31,
   "metadata": {},
   "outputs": [
    {
     "data": {
      "image/png": "[encoded data removed]",
      "text/plain": [
       "<Figure size 1000x700 with 1 Axes>"
      ]
     },
     "metadata": {},
     "output_type": "display_data"
    }
   ],
   "source": [
    "plot_predictions()"
   ]
  },
  {
   "attachments": {},
   "cell_type": "markdown",
   "metadata": {},
   "source": [
    "### Evaluating model's predictions with regression evaluation metrics\n",
    "\n",
    "Depending on the problem, there will be different evaluation metrics to evaluate model's performance.\n",
    "\n",
    "Regression 2 main metrics:\n",
    "* MAE - mean absolute error, how wrong is each of model's predictions\n",
    "* MSE - mean square error, square the average errors"
   ]
  },
  {
   "cell_type": "code",
   "execution_count": 32,
   "metadata": {},
   "outputs": [
    {
     "name": "stdout",
     "output_type": "stream",
     "text": [
      "1/1 [==============================] - 0s 87ms/step - loss: 29.8202 - mae: 29.8202\n"
     ]
    },
    {
     "data": {
      "text/plain": [
       "[29.8201847076416, 29.8201847076416]"
      ]
     },
     "execution_count": 32,
     "metadata": {},
     "output_type": "execute_result"
    }
   ],
   "source": [
    "# Evaluate the model on the test set\n",
    "model.evaluate(X_test, y_test)"
   ]
  },
  {
   "cell_type": "code",
   "execution_count": 33,
   "metadata": {},
   "outputs": [
    {
     "data": {
      "text/plain": [
       "<tf.Tensor: shape=(), dtype=float32, numpy=29.820185>"
      ]
     },
     "execution_count": 33,
     "metadata": {},
     "output_type": "execute_result"
    }
   ],
   "source": [
    "# Calculate the mean absolute error \n",
    "mae = tf.metrics.mean_absolute_error(y_true=y_test, \n",
    "                                     y_pred=tf.squeeze(y_pred)) # remove extra dimension with squeeze()\n",
    "mae"
   ]
  },
  {
   "cell_type": "code",
   "execution_count": 34,
   "metadata": {},
   "outputs": [
    {
     "data": {
      "text/plain": [
       "<tf.Tensor: shape=(), dtype=float32, numpy=920.5342>"
      ]
     },
     "execution_count": 34,
     "metadata": {},
     "output_type": "execute_result"
    }
   ],
   "source": [
    "# Calcullate the mean squared error\n",
    "mse = tf.metrics.mean_squared_error(y_true=y_test, \n",
    "                                     y_pred=tf.squeeze(y_pred)) # remove extra dimension with squeeze()\n",
    "mse"
   ]
  },
  {
   "cell_type": "code",
   "execution_count": 35,
   "metadata": {},
   "outputs": [],
   "source": [
    "# Make some functions to reuse MAE and MSE\n",
    "def mae(y_true, y_pred):\n",
    "    return tf.metrics.mean_absolute_error(y_true=y_true,\n",
    "                                          y_pred=tf.squeeze(y_pred))\n",
    "\n",
    "def mse(y_true, y_pred):\n",
    "    return tf.metrics.mean_squared_error(y_true=y_true,\n",
    "                                          y_pred=tf.squeeze(y_pred))"
   ]
  },
  {
   "attachments": {},
   "cell_type": "markdown",
   "metadata": {},
   "source": [
    "### Running experiments to improve model\n",
    "\n",
    "Build a model -> fit it -> evaluate it -> tweak model -> fit it -> evaluate it -> tweak model -> ...\n",
    "\n",
    "1. Get more data - get more examples for model to train on (more opportunites to learn patterns or relationships between features and labels)\n",
    "2. Make model larger (using more complex model) - this might come in the form of more layers or more hidden units in each layer.\n",
    "3. Train for longer - give the model more chances to find patterns in the data\n",
    "\n",
    "Do 3 modelling experiments:\n",
    "1. `model_1` - same as original model, 1 layer, trained for 100 epochs \n",
    "2. `model_2`- 2 layers, trained for 100 epochs\n",
    "3. `model_3` - 2 layers, trained for 500 epochs"
   ]
  },
  {
   "attachments": {},
   "cell_type": "markdown",
   "metadata": {},
   "source": [
    "**Build `model_1`**"
   ]
  },
  {
   "cell_type": "code",
   "execution_count": 36,
   "metadata": {},
   "outputs": [
    {
     "name": "stdout",
     "output_type": "stream",
     "text": [
      "Epoch 1/100\n",
      "2/2 [==============================] - 0s 10ms/step - loss: 68.4870 - mae: 68.4870\n",
      "Epoch 2/100\n",
      "2/2 [==============================] - 0s 6ms/step - loss: 33.3153 - mae: 33.3153\n",
      "Epoch 3/100\n",
      "2/2 [==============================] - 0s 5ms/step - loss: 9.4204 - mae: 9.4204\n",
      "Epoch 4/100\n",
      "2/2 [==============================] - 0s 6ms/step - loss: 11.4717 - mae: 11.4717\n",
      "Epoch 5/100\n",
      "2/2 [==============================] - 0s 5ms/step - loss: 12.7693 - mae: 12.7693\n",
      "Epoch 6/100\n",
      "2/2 [==============================] - 0s 6ms/step - loss: 7.9089 - mae: 7.9089\n",
      "Epoch 7/100\n",
      "2/2 [==============================] - 0s 6ms/step - loss: 12.1642 - mae: 12.1642\n",
      "Epoch 8/100\n",
      "2/2 [==============================] - 0s 5ms/step - loss: 7.8633 - mae: 7.8633\n",
      "Epoch 9/100\n",
      "2/2 [==============================] - 0s 6ms/step - loss: 19.1807 - mae: 19.1807\n",
      "Epoch 10/100\n",
      "2/2 [==============================] - 0s 6ms/step - loss: 14.0983 - mae: 14.0983\n",
      "Epoch 11/100\n",
      "2/2 [==============================] - 0s 6ms/step - loss: 8.2962 - mae: 8.2962\n",
      "Epoch 12/100\n",
      "2/2 [==============================] - 0s 6ms/step - loss: 10.4353 - mae: 10.4353\n",
      "Epoch 13/100\n",
      "2/2 [==============================] - 0s 6ms/step - loss: 9.7180 - mae: 9.7180\n",
      "Epoch 14/100\n",
      "2/2 [==============================] - 0s 6ms/step - loss: 15.5433 - mae: 15.5433\n",
      "Epoch 15/100\n",
      "2/2 [==============================] - 0s 6ms/step - loss: 11.3747 - mae: 11.3747\n",
      "Epoch 16/100\n",
      "2/2 [==============================] - 0s 6ms/step - loss: 8.5693 - mae: 8.5693\n",
      "Epoch 17/100\n",
      "2/2 [==============================] - 0s 6ms/step - loss: 13.6851 - mae: 13.6851\n",
      "Epoch 18/100\n",
      "2/2 [==============================] - 0s 6ms/step - loss: 11.5212 - mae: 11.5212\n",
      "Epoch 19/100\n",
      "2/2 [==============================] - 0s 6ms/step - loss: 17.8787 - mae: 17.8787\n",
      "Epoch 20/100\n",
      "2/2 [==============================] - 0s 7ms/step - loss: 15.0136 - mae: 15.0136\n",
      "Epoch 21/100\n",
      "2/2 [==============================] - 0s 5ms/step - loss: 10.8886 - mae: 10.8886\n",
      "Epoch 22/100\n",
      "2/2 [==============================] - 0s 6ms/step - loss: 8.6435 - mae: 8.6435\n",
      "Epoch 23/100\n",
      "2/2 [==============================] - 0s 6ms/step - loss: 9.7042 - mae: 9.7042\n",
      "Epoch 24/100\n",
      "2/2 [==============================] - 0s 6ms/step - loss: 8.5986 - mae: 8.5986\n",
      "Epoch 25/100\n",
      "2/2 [==============================] - 0s 6ms/step - loss: 11.6083 - mae: 11.6083\n",
      "Epoch 26/100\n",
      "2/2 [==============================] - 0s 6ms/step - loss: 15.1500 - mae: 15.1500\n",
      "Epoch 27/100\n",
      "2/2 [==============================] - 0s 8ms/step - loss: 11.8965 - mae: 11.8965\n",
      "Epoch 28/100\n",
      "2/2 [==============================] - 0s 5ms/step - loss: 13.9421 - mae: 13.9421\n",
      "Epoch 29/100\n",
      "2/2 [==============================] - 0s 5ms/step - loss: 9.6236 - mae: 9.6236\n",
      "Epoch 30/100\n",
      "2/2 [==============================] - 0s 6ms/step - loss: 17.1994 - mae: 17.1994\n",
      "Epoch 31/100\n",
      "2/2 [==============================] - 0s 5ms/step - loss: 22.8755 - mae: 22.8755\n",
      "Epoch 32/100\n",
      "2/2 [==============================] - 0s 6ms/step - loss: 7.9318 - mae: 7.9318\n",
      "Epoch 33/100\n",
      "2/2 [==============================] - 0s 6ms/step - loss: 14.1474 - mae: 14.1474\n",
      "Epoch 34/100\n",
      "2/2 [==============================] - 0s 6ms/step - loss: 12.3942 - mae: 12.3942\n",
      "Epoch 35/100\n",
      "2/2 [==============================] - 0s 6ms/step - loss: 8.2753 - mae: 8.2753\n",
      "Epoch 36/100\n",
      "2/2 [==============================] - 0s 6ms/step - loss: 10.4953 - mae: 10.4953\n",
      "Epoch 37/100\n",
      "2/2 [==============================] - 0s 5ms/step - loss: 10.1407 - mae: 10.1407\n",
      "Epoch 38/100\n",
      "2/2 [==============================] - 0s 6ms/step - loss: 11.3337 - mae: 11.3337\n",
      "Epoch 39/100\n",
      "2/2 [==============================] - 0s 5ms/step - loss: 14.7708 - mae: 14.7708\n",
      "Epoch 40/100\n",
      "2/2 [==============================] - 0s 5ms/step - loss: 12.9010 - mae: 12.9010\n",
      "Epoch 41/100\n",
      "2/2 [==============================] - 0s 5ms/step - loss: 9.2920 - mae: 9.2920\n",
      "Epoch 42/100\n",
      "2/2 [==============================] - 0s 5ms/step - loss: 11.0158 - mae: 11.0158\n",
      "Epoch 43/100\n",
      "2/2 [==============================] - 0s 5ms/step - loss: 8.3478 - mae: 8.3478\n",
      "Epoch 44/100\n",
      "2/2 [==============================] - 0s 5ms/step - loss: 13.0531 - mae: 13.0531\n",
      "Epoch 45/100\n",
      "2/2 [==============================] - 0s 5ms/step - loss: 13.6919 - mae: 13.6919\n",
      "Epoch 46/100\n",
      "2/2 [==============================] - 0s 5ms/step - loss: 8.3036 - mae: 8.3036\n",
      "Epoch 47/100\n",
      "2/2 [==============================] - 0s 5ms/step - loss: 8.7367 - mae: 8.7367\n",
      "Epoch 48/100\n",
      "2/2 [==============================] - 0s 5ms/step - loss: 10.0361 - mae: 10.0361\n",
      "Epoch 49/100\n",
      "2/2 [==============================] - 0s 5ms/step - loss: 8.5215 - mae: 8.5215\n",
      "Epoch 50/100\n",
      "2/2 [==============================] - 0s 5ms/step - loss: 9.0258 - mae: 9.0258\n",
      "Epoch 51/100\n",
      "2/2 [==============================] - 0s 5ms/step - loss: 9.3874 - mae: 9.3874\n",
      "Epoch 52/100\n",
      "2/2 [==============================] - 0s 5ms/step - loss: 14.1698 - mae: 14.1698\n",
      "Epoch 53/100\n",
      "2/2 [==============================] - 0s 5ms/step - loss: 14.9010 - mae: 14.9010\n",
      "Epoch 54/100\n",
      "2/2 [==============================] - 0s 5ms/step - loss: 14.8401 - mae: 14.8401\n",
      "Epoch 55/100\n",
      "2/2 [==============================] - 0s 5ms/step - loss: 12.6234 - mae: 12.6234\n",
      "Epoch 56/100\n",
      "2/2 [==============================] - 0s 5ms/step - loss: 7.6119 - mae: 7.6119\n",
      "Epoch 57/100\n",
      "2/2 [==============================] - 0s 5ms/step - loss: 8.8015 - mae: 8.8015\n",
      "Epoch 58/100\n",
      "2/2 [==============================] - 0s 5ms/step - loss: 8.3908 - mae: 8.3908\n",
      "Epoch 59/100\n",
      "2/2 [==============================] - 0s 5ms/step - loss: 9.1856 - mae: 9.1856\n",
      "Epoch 60/100\n",
      "2/2 [==============================] - 0s 5ms/step - loss: 9.1302 - mae: 9.1302\n",
      "Epoch 61/100\n",
      "2/2 [==============================] - 0s 6ms/step - loss: 10.6674 - mae: 10.6674\n",
      "Epoch 62/100\n",
      "2/2 [==============================] - 0s 5ms/step - loss: 7.4526 - mae: 7.4526\n",
      "Epoch 63/100\n",
      "2/2 [==============================] - 0s 5ms/step - loss: 10.5469 - mae: 10.5469\n",
      "Epoch 64/100\n",
      "2/2 [==============================] - 0s 5ms/step - loss: 12.1550 - mae: 12.1550\n",
      "Epoch 65/100\n",
      "2/2 [==============================] - 0s 5ms/step - loss: 9.4778 - mae: 9.4778\n",
      "Epoch 66/100\n",
      "2/2 [==============================] - 0s 5ms/step - loss: 11.5618 - mae: 11.5618\n",
      "Epoch 67/100\n",
      "2/2 [==============================] - 0s 5ms/step - loss: 8.0351 - mae: 8.0351\n",
      "Epoch 68/100\n",
      "2/2 [==============================] - 0s 5ms/step - loss: 8.5695 - mae: 8.5695\n",
      "Epoch 69/100\n",
      "2/2 [==============================] - 0s 5ms/step - loss: 12.2330 - mae: 12.2330\n",
      "Epoch 70/100\n",
      "2/2 [==============================] - 0s 6ms/step - loss: 8.9523 - mae: 8.9523\n",
      "Epoch 71/100\n",
      "2/2 [==============================] - 0s 5ms/step - loss: 9.9250 - mae: 9.9250\n",
      "Epoch 72/100\n",
      "2/2 [==============================] - 0s 5ms/step - loss: 9.9687 - mae: 9.9687\n",
      "Epoch 73/100\n",
      "2/2 [==============================] - 0s 4ms/step - loss: 12.4165 - mae: 12.4165\n",
      "Epoch 74/100\n",
      "2/2 [==============================] - 0s 5ms/step - loss: 10.6235 - mae: 10.6235\n",
      "Epoch 75/100\n",
      "2/2 [==============================] - 0s 5ms/step - loss: 9.6248 - mae: 9.6248\n",
      "Epoch 76/100\n",
      "2/2 [==============================] - 0s 5ms/step - loss: 11.0841 - mae: 11.0841\n",
      "Epoch 77/100\n",
      "2/2 [==============================] - 0s 5ms/step - loss: 8.2741 - mae: 8.2741\n",
      "Epoch 78/100\n",
      "2/2 [==============================] - 0s 5ms/step - loss: 8.9513 - mae: 8.9513\n",
      "Epoch 79/100\n",
      "2/2 [==============================] - 0s 6ms/step - loss: 19.8516 - mae: 19.8516\n",
      "Epoch 80/100\n",
      "2/2 [==============================] - 0s 5ms/step - loss: 17.7797 - mae: 17.7797\n",
      "Epoch 81/100\n",
      "2/2 [==============================] - 0s 5ms/step - loss: 7.1128 - mae: 7.1128\n",
      "Epoch 82/100\n",
      "2/2 [==============================] - 0s 5ms/step - loss: 10.3992 - mae: 10.3992\n",
      "Epoch 83/100\n",
      "2/2 [==============================] - 0s 5ms/step - loss: 9.8173 - mae: 9.8173\n",
      "Epoch 84/100\n",
      "2/2 [==============================] - 0s 6ms/step - loss: 7.9641 - mae: 7.9641\n",
      "Epoch 85/100\n",
      "2/2 [==============================] - 0s 5ms/step - loss: 9.4811 - mae: 9.4811\n",
      "Epoch 86/100\n",
      "2/2 [==============================] - 0s 5ms/step - loss: 9.5220 - mae: 9.5220\n",
      "Epoch 87/100\n",
      "2/2 [==============================] - 0s 5ms/step - loss: 11.4748 - mae: 11.4748\n",
      "Epoch 88/100\n",
      "2/2 [==============================] - 0s 5ms/step - loss: 9.9741 - mae: 9.9741\n",
      "Epoch 89/100\n",
      "2/2 [==============================] - 0s 5ms/step - loss: 7.2679 - mae: 7.2679\n",
      "Epoch 90/100\n",
      "2/2 [==============================] - 0s 6ms/step - loss: 12.7392 - mae: 12.7392\n",
      "Epoch 91/100\n",
      "2/2 [==============================] - 0s 5ms/step - loss: 7.3369 - mae: 7.3369\n",
      "Epoch 92/100\n",
      "2/2 [==============================] - 0s 5ms/step - loss: 7.7032 - mae: 7.7032\n",
      "Epoch 93/100\n",
      "2/2 [==============================] - 0s 5ms/step - loss: 7.1313 - mae: 7.1313\n",
      "Epoch 94/100\n",
      "2/2 [==============================] - 0s 8ms/step - loss: 12.5840 - mae: 12.5840\n",
      "Epoch 95/100\n",
      "2/2 [==============================] - 0s 8ms/step - loss: 9.9602 - mae: 9.9602\n",
      "Epoch 96/100\n",
      "2/2 [==============================] - 0s 5ms/step - loss: 9.1411 - mae: 9.1411\n",
      "Epoch 97/100\n",
      "2/2 [==============================] - 0s 5ms/step - loss: 12.0666 - mae: 12.0666\n",
      "Epoch 98/100\n",
      "2/2 [==============================] - 0s 5ms/step - loss: 9.1055 - mae: 9.1055\n",
      "Epoch 99/100\n",
      "2/2 [==============================] - 0s 5ms/step - loss: 8.5024 - mae: 8.5024\n",
      "Epoch 100/100\n",
      "2/2 [==============================] - 0s 5ms/step - loss: 14.4279 - mae: 14.4279\n"
     ]
    },
    {
     "data": {
      "text/plain": [
       "<keras.callbacks.History at 0x7f4daa924b90>"
      ]
     },
     "execution_count": 36,
     "metadata": {},
     "output_type": "execute_result"
    }
   ],
   "source": [
    "# Set random seed\n",
    "tf.random.set_seed(42)\n",
    "\n",
    "# 1. Create the model\n",
    "model_1 = tf.keras.Sequential([\n",
    "    tf.keras.layers.Dense(1, input_shape=[1])\n",
    "])\n",
    "\n",
    "# 2. Compile the model\n",
    "model_1.compile(loss=\"mae\",\n",
    "                optimizer=tf.keras.optimizers.SGD(),\n",
    "                metrics=[\"mae\"])\n",
    "\n",
    "# 3. Fit the model\n",
    "model_1.fit(X_train, y_train, epochs=100)"
   ]
  },
  {
   "cell_type": "code",
   "execution_count": 37,
   "metadata": {},
   "outputs": [
    {
     "name": "stdout",
     "output_type": "stream",
     "text": [
      "WARNING:tensorflow:5 out of the last 5 calls to <function Model.make_predict_function.<locals>.predict_function at 0x7f4dbb9cef20> triggered tf.function retracing. Tracing is expensive and the excessive number of tracings could be due to (1) creating @tf.function repeatedly in a loop, (2) passing tensors with different shapes, (3) passing Python objects instead of tensors. For (1), please define your @tf.function outside of the loop. For (2), @tf.function has reduce_retracing=True option that can avoid unnecessary retracing. For (3), please refer to https://www.tensorflow.org/guide/function#controlling_retracing and https://www.tensorflow.org/api_docs/python/tf/function for  more details.\n",
      "1/1 [==============================] - 0s 30ms/step\n"
     ]
    },
    {
     "data": {
      "image/png": "[encoded data removed]",
      "text/plain": [
       "<Figure size 1000x700 with 1 Axes>"
      ]
     },
     "metadata": {},
     "output_type": "display_data"
    }
   ],
   "source": [
    "# Make and plot predictions for model_1\n",
    "y_preds_1 = model_1.predict(X_test) \n",
    "plot_predictions(predictions=y_preds_1)"
   ]
  },
  {
   "cell_type": "code",
   "execution_count": 38,
   "metadata": {},
   "outputs": [
    {
     "data": {
      "text/plain": [
       "(<tf.Tensor: shape=(), dtype=float32, numpy=30.72521>,\n",
       " <tf.Tensor: shape=(), dtype=float32, numpy=954.5469>)"
      ]
     },
     "execution_count": 38,
     "metadata": {},
     "output_type": "execute_result"
    }
   ],
   "source": [
    "# Calculate model_1 evaluation metrics\n",
    "mae_1 = mae(y_test, y_preds_1)\n",
    "mse_1 = mse(y_test, y_preds_1)\n",
    "mae_1, mse_1"
   ]
  },
  {
   "attachments": {},
   "cell_type": "markdown",
   "metadata": {},
   "source": [
    "**Build `model_2`**\n",
    "\n",
    "* 2 dense layers, trained for 100 epochs"
   ]
  },
  {
   "cell_type": "code",
   "execution_count": 39,
   "metadata": {},
   "outputs": [
    {
     "name": "stdout",
     "output_type": "stream",
     "text": [
      "Epoch 1/100\n",
      "2/2 [==============================] - 0s 8ms/step - loss: 54.5645 - mse: 4707.7646\n",
      "Epoch 2/100\n",
      "2/2 [==============================] - 0s 5ms/step - loss: 11.4387 - mse: 209.2728\n",
      "Epoch 3/100\n",
      "2/2 [==============================] - 0s 5ms/step - loss: 29.7126 - mse: 1296.9337\n",
      "Epoch 4/100\n",
      "2/2 [==============================] - 0s 5ms/step - loss: 14.7794 - mse: 291.3212\n",
      "Epoch 5/100\n",
      "2/2 [==============================] - 0s 6ms/step - loss: 17.6069 - mse: 417.3940\n",
      "Epoch 6/100\n",
      "2/2 [==============================] - 0s 5ms/step - loss: 10.2828 - mse: 123.0845\n",
      "Epoch 7/100\n",
      "2/2 [==============================] - 0s 5ms/step - loss: 11.3125 - mse: 155.9858\n",
      "Epoch 8/100\n",
      "2/2 [==============================] - 0s 6ms/step - loss: 11.1995 - mse: 166.7796\n",
      "Epoch 9/100\n",
      "2/2 [==============================] - 0s 5ms/step - loss: 41.4921 - mse: 2733.6177\n",
      "Epoch 10/100\n",
      "2/2 [==============================] - 0s 5ms/step - loss: 28.7556 - mse: 1167.6731\n",
      "Epoch 11/100\n",
      "2/2 [==============================] - 0s 6ms/step - loss: 9.4069 - mse: 118.8226\n",
      "Epoch 12/100\n",
      "2/2 [==============================] - 0s 5ms/step - loss: 26.3049 - mse: 957.7620\n",
      "Epoch 13/100\n",
      "2/2 [==============================] - 0s 5ms/step - loss: 14.5224 - mse: 283.5852\n",
      "Epoch 14/100\n",
      "2/2 [==============================] - 0s 6ms/step - loss: 30.0828 - mse: 1447.9097\n",
      "Epoch 15/100\n",
      "2/2 [==============================] - 0s 6ms/step - loss: 19.8858 - mse: 554.0260\n",
      "Epoch 16/100\n",
      "2/2 [==============================] - 0s 7ms/step - loss: 9.8841 - mse: 125.7391\n",
      "Epoch 17/100\n",
      "2/2 [==============================] - 0s 6ms/step - loss: 17.7635 - mse: 417.6184\n",
      "Epoch 18/100\n",
      "2/2 [==============================] - 0s 7ms/step - loss: 14.2394 - mse: 320.6096\n",
      "Epoch 19/100\n",
      "2/2 [==============================] - 0s 6ms/step - loss: 14.0827 - mse: 310.0757\n",
      "Epoch 20/100\n",
      "2/2 [==============================] - 0s 7ms/step - loss: 11.2628 - mse: 146.9660\n",
      "Epoch 21/100\n",
      "2/2 [==============================] - 0s 6ms/step - loss: 17.4141 - mse: 430.7419\n",
      "Epoch 22/100\n",
      "2/2 [==============================] - 0s 7ms/step - loss: 15.9384 - mse: 353.8283\n",
      "Epoch 23/100\n",
      "2/2 [==============================] - 0s 8ms/step - loss: 9.8456 - mse: 140.9979\n",
      "Epoch 24/100\n",
      "2/2 [==============================] - 0s 6ms/step - loss: 16.4443 - mse: 364.8513\n",
      "Epoch 25/100\n",
      "2/2 [==============================] - 0s 7ms/step - loss: 15.3763 - mse: 308.1683\n",
      "Epoch 26/100\n",
      "2/2 [==============================] - 0s 6ms/step - loss: 20.5976 - mse: 630.1663\n",
      "Epoch 27/100\n",
      "2/2 [==============================] - 0s 6ms/step - loss: 26.3008 - mse: 1082.6750\n",
      "Epoch 28/100\n",
      "2/2 [==============================] - 0s 6ms/step - loss: 18.7538 - mse: 557.4080\n",
      "Epoch 29/100\n",
      "2/2 [==============================] - 0s 6ms/step - loss: 9.2500 - mse: 96.2569\n",
      "Epoch 30/100\n",
      "2/2 [==============================] - 0s 6ms/step - loss: 29.3908 - mse: 1552.1254\n",
      "Epoch 31/100\n",
      "2/2 [==============================] - 0s 6ms/step - loss: 53.2665 - mse: 5078.9106\n",
      "Epoch 32/100\n",
      "2/2 [==============================] - 0s 5ms/step - loss: 9.4672 - mse: 100.4033\n",
      "Epoch 33/100\n",
      "2/2 [==============================] - 0s 6ms/step - loss: 12.0416 - mse: 173.1832\n",
      "Epoch 34/100\n",
      "2/2 [==============================] - 0s 7ms/step - loss: 23.2526 - mse: 820.6084\n",
      "Epoch 35/100\n",
      "2/2 [==============================] - 0s 7ms/step - loss: 11.8460 - mse: 217.2468\n",
      "Epoch 36/100\n",
      "2/2 [==============================] - 0s 6ms/step - loss: 21.8268 - mse: 679.2474\n",
      "Epoch 37/100\n",
      "2/2 [==============================] - 0s 7ms/step - loss: 11.1267 - mse: 145.0923\n",
      "Epoch 38/100\n",
      "2/2 [==============================] - 0s 8ms/step - loss: 12.7182 - mse: 234.1607\n",
      "Epoch 39/100\n",
      "2/2 [==============================] - 0s 7ms/step - loss: 11.5925 - mse: 191.8080\n",
      "Epoch 40/100\n",
      "2/2 [==============================] - 0s 6ms/step - loss: 19.2243 - mse: 531.7070\n",
      "Epoch 41/100\n",
      "2/2 [==============================] - 0s 7ms/step - loss: 10.9554 - mse: 180.0706\n",
      "Epoch 42/100\n",
      "2/2 [==============================] - 0s 9ms/step - loss: 9.2870 - mse: 115.4151\n",
      "Epoch 43/100\n",
      "2/2 [==============================] - 0s 6ms/step - loss: 9.5916 - mse: 111.3524\n",
      "Epoch 44/100\n",
      "2/2 [==============================] - 0s 7ms/step - loss: 27.9158 - mse: 1249.3428\n",
      "Epoch 45/100\n",
      "2/2 [==============================] - 0s 9ms/step - loss: 11.2685 - mse: 146.4059\n",
      "Epoch 46/100\n",
      "2/2 [==============================] - 0s 7ms/step - loss: 13.8615 - mse: 281.2161\n",
      "Epoch 47/100\n",
      "2/2 [==============================] - 0s 6ms/step - loss: 11.9234 - mse: 212.0756\n",
      "Epoch 48/100\n",
      "2/2 [==============================] - 0s 6ms/step - loss: 16.9585 - mse: 389.4268\n",
      "Epoch 49/100\n",
      "2/2 [==============================] - 0s 6ms/step - loss: 9.7767 - mse: 104.9383\n",
      "Epoch 50/100\n",
      "2/2 [==============================] - 0s 6ms/step - loss: 14.1673 - mse: 280.6435\n",
      "Epoch 51/100\n",
      "2/2 [==============================] - 0s 7ms/step - loss: 11.7386 - mse: 161.2110\n",
      "Epoch 52/100\n",
      "2/2 [==============================] - 0s 6ms/step - loss: 31.3694 - mse: 1709.7141\n",
      "Epoch 53/100\n",
      "2/2 [==============================] - 0s 5ms/step - loss: 14.7191 - mse: 320.8162\n",
      "Epoch 54/100\n",
      "2/2 [==============================] - 0s 5ms/step - loss: 24.6015 - mse: 910.6665\n",
      "Epoch 55/100\n",
      "2/2 [==============================] - 0s 5ms/step - loss: 23.8842 - mse: 857.6017\n",
      "Epoch 56/100\n",
      "2/2 [==============================] - 0s 5ms/step - loss: 11.1202 - mse: 171.1526\n",
      "Epoch 57/100\n",
      "2/2 [==============================] - 0s 6ms/step - loss: 13.0565 - mse: 211.2324\n",
      "Epoch 58/100\n",
      "2/2 [==============================] - 0s 6ms/step - loss: 9.7794 - mse: 105.5876\n",
      "Epoch 59/100\n",
      "2/2 [==============================] - 0s 6ms/step - loss: 13.2314 - mse: 244.9763\n",
      "Epoch 60/100\n",
      "2/2 [==============================] - 0s 5ms/step - loss: 10.8306 - mse: 137.7431\n",
      "Epoch 61/100\n",
      "2/2 [==============================] - 0s 6ms/step - loss: 13.4084 - mse: 237.8351\n",
      "Epoch 62/100\n",
      "2/2 [==============================] - 0s 5ms/step - loss: 17.3656 - mse: 459.8019\n",
      "Epoch 63/100\n",
      "2/2 [==============================] - 0s 5ms/step - loss: 9.1359 - mse: 87.7195\n",
      "Epoch 64/100\n",
      "2/2 [==============================] - 0s 5ms/step - loss: 17.9849 - mse: 469.3665\n",
      "Epoch 65/100\n",
      "2/2 [==============================] - 0s 5ms/step - loss: 10.6220 - mse: 138.6742\n",
      "Epoch 66/100\n",
      "2/2 [==============================] - 0s 6ms/step - loss: 21.5084 - mse: 684.6071\n",
      "Epoch 67/100\n",
      "2/2 [==============================] - 0s 5ms/step - loss: 10.6345 - mse: 132.8047\n",
      "Epoch 68/100\n",
      "2/2 [==============================] - 0s 6ms/step - loss: 14.8843 - mse: 336.5005\n",
      "Epoch 69/100\n",
      "2/2 [==============================] - 0s 5ms/step - loss: 10.7816 - mse: 134.6967\n",
      "Epoch 70/100\n",
      "2/2 [==============================] - 0s 6ms/step - loss: 12.8841 - mse: 211.7163\n",
      "Epoch 71/100\n",
      "2/2 [==============================] - 0s 5ms/step - loss: 13.3041 - mse: 241.7641\n",
      "Epoch 72/100\n",
      "2/2 [==============================] - 0s 5ms/step - loss: 20.1699 - mse: 578.7695\n",
      "Epoch 73/100\n",
      "2/2 [==============================] - 0s 6ms/step - loss: 9.7382 - mse: 149.5645\n",
      "Epoch 74/100\n",
      "2/2 [==============================] - 0s 5ms/step - loss: 27.4826 - mse: 1202.6121\n",
      "Epoch 75/100\n",
      "2/2 [==============================] - 0s 5ms/step - loss: 10.0288 - mse: 145.8683\n",
      "Epoch 76/100\n",
      "2/2 [==============================] - 0s 6ms/step - loss: 12.9496 - mse: 209.1908\n",
      "Epoch 77/100\n",
      "2/2 [==============================] - 0s 5ms/step - loss: 17.9609 - mse: 503.1837\n",
      "Epoch 78/100\n",
      "2/2 [==============================] - 0s 5ms/step - loss: 8.9637 - mse: 88.1801\n",
      "Epoch 79/100\n",
      "2/2 [==============================] - 0s 6ms/step - loss: 28.8137 - mse: 1312.4988\n",
      "Epoch 80/100\n",
      "2/2 [==============================] - 0s 6ms/step - loss: 31.1669 - mse: 1543.5499\n",
      "Epoch 81/100\n",
      "2/2 [==============================] - 0s 6ms/step - loss: 13.5825 - mse: 259.8685\n",
      "Epoch 82/100\n",
      "2/2 [==============================] - 0s 5ms/step - loss: 15.8624 - mse: 346.1127\n",
      "Epoch 83/100\n",
      "2/2 [==============================] - 0s 5ms/step - loss: 9.1353 - mse: 92.8445\n",
      "Epoch 84/100\n",
      "2/2 [==============================] - 0s 5ms/step - loss: 8.2031 - mse: 108.5000\n",
      "Epoch 85/100\n",
      "2/2 [==============================] - 0s 10ms/step - loss: 18.8749 - mse: 555.0936\n",
      "Epoch 86/100\n",
      "2/2 [==============================] - 0s 8ms/step - loss: 21.9780 - mse: 691.7339\n",
      "Epoch 87/100\n",
      "2/2 [==============================] - 0s 6ms/step - loss: 11.2132 - mse: 150.6606\n",
      "Epoch 88/100\n",
      "2/2 [==============================] - 0s 6ms/step - loss: 25.9359 - mse: 958.9652\n",
      "Epoch 89/100\n",
      "2/2 [==============================] - 0s 5ms/step - loss: 9.5203 - mse: 132.2419\n",
      "Epoch 90/100\n",
      "2/2 [==============================] - 0s 5ms/step - loss: 18.2450 - mse: 477.5340\n",
      "Epoch 91/100\n",
      "2/2 [==============================] - 0s 5ms/step - loss: 10.3233 - mse: 166.6431\n",
      "Epoch 92/100\n",
      "2/2 [==============================] - 0s 6ms/step - loss: 17.4948 - mse: 418.0660\n",
      "Epoch 93/100\n",
      "2/2 [==============================] - 0s 6ms/step - loss: 6.8244 - mse: 64.6012\n",
      "Epoch 94/100\n",
      "2/2 [==============================] - 0s 5ms/step - loss: 17.6576 - mse: 474.7094\n",
      "Epoch 95/100\n",
      "2/2 [==============================] - 0s 6ms/step - loss: 17.3734 - mse: 419.1201\n",
      "Epoch 96/100\n",
      "2/2 [==============================] - 0s 6ms/step - loss: 11.5403 - mse: 209.2565\n",
      "Epoch 97/100\n",
      "2/2 [==============================] - 0s 6ms/step - loss: 18.3138 - mse: 454.5964\n",
      "Epoch 98/100\n",
      "2/2 [==============================] - 0s 5ms/step - loss: 9.7565 - mse: 177.7971\n",
      "Epoch 99/100\n",
      "2/2 [==============================] - 0s 5ms/step - loss: 16.9441 - mse: 450.2336\n",
      "Epoch 100/100\n",
      "2/2 [==============================] - 0s 5ms/step - loss: 17.8165 - mse: 468.6730\n"
     ]
    },
    {
     "data": {
      "text/plain": [
       "<keras.callbacks.History at 0x7f4daa9d9990>"
      ]
     },
     "execution_count": 39,
     "metadata": {},
     "output_type": "execute_result"
    }
   ],
   "source": [
    "# Set random seed\n",
    "tf.random.set_seed(42)\n",
    "\n",
    "# 1. Create the model\n",
    "model_2 = tf.keras.Sequential([\n",
    "    tf.keras.layers.Dense(10, input_shape=[1]),\n",
    "    tf.keras.layers.Dense(1)\n",
    "])\n",
    "\n",
    "# 2. Compile the model\n",
    "model_2.compile(loss=\"mae\",\n",
    "                optimizer=tf.keras.optimizers.SGD(),\n",
    "                metrics=[\"mse\"])\n",
    "\n",
    "# 3. Fit the model\n",
    "model_2.fit(X_train, y_train, epochs=100)"
   ]
  },
  {
   "cell_type": "code",
   "execution_count": 40,
   "metadata": {},
   "outputs": [
    {
     "name": "stdout",
     "output_type": "stream",
     "text": [
      "WARNING:tensorflow:6 out of the last 6 calls to <function Model.make_predict_function.<locals>.predict_function at 0x7f4daa91f060> triggered tf.function retracing. Tracing is expensive and the excessive number of tracings could be due to (1) creating @tf.function repeatedly in a loop, (2) passing tensors with different shapes, (3) passing Python objects instead of tensors. For (1), please define your @tf.function outside of the loop. For (2), @tf.function has reduce_retracing=True option that can avoid unnecessary retracing. For (3), please refer to https://www.tensorflow.org/guide/function#controlling_retracing and https://www.tensorflow.org/api_docs/python/tf/function for  more details.\n",
      "1/1 [==============================] - 0s 36ms/step\n"
     ]
    },
    {
     "data": {
      "image/png": "[encoded data removed]",
      "text/plain": [
       "<Figure size 1000x700 with 1 Axes>"
      ]
     },
     "metadata": {},
     "output_type": "display_data"
    }
   ],
   "source": [
    "# Make and plot predictions of model_2\n",
    "y_preds_2 = model_2.predict(X_test)\n",
    "plot_predictions(predictions=y_preds_2)"
   ]
  },
  {
   "cell_type": "code",
   "execution_count": 41,
   "metadata": {},
   "outputs": [
    {
     "data": {
      "text/plain": [
       "(<tf.Tensor: shape=(), dtype=float32, numpy=43.094734>,\n",
       " <tf.Tensor: shape=(), dtype=float32, numpy=1883.0367>)"
      ]
     },
     "execution_count": 41,
     "metadata": {},
     "output_type": "execute_result"
    }
   ],
   "source": [
    "# Calculate model_2 evaluation metrics\n",
    "mae_2 = mae(y_test, y_preds_2)\n",
    "mse_2 = mse(y_test, y_preds_2)\n",
    "mae_2, mse_2"
   ]
  },
  {
   "attachments": {},
   "cell_type": "markdown",
   "metadata": {},
   "source": [
    "**Build `model_3`**\n",
    "\n",
    "* 2 layers, train for 500 epochs"
   ]
  },
  {
   "cell_type": "code",
   "execution_count": 42,
   "metadata": {},
   "outputs": [
    {
     "name": "stdout",
     "output_type": "stream",
     "text": [
      "Epoch 1/500\n",
      "2/2 [==============================] - 0s 8ms/step - loss: 44.3628 - mae: 44.3628\n",
      "Epoch 2/500\n",
      "2/2 [==============================] - 0s 5ms/step - loss: 25.9970 - mae: 25.9970\n",
      "Epoch 3/500\n",
      "2/2 [==============================] - 0s 5ms/step - loss: 31.0400 - mae: 31.0400\n",
      "Epoch 4/500\n",
      "2/2 [==============================] - 0s 6ms/step - loss: 28.1747 - mae: 28.1747\n",
      "Epoch 5/500\n",
      "2/2 [==============================] - 0s 6ms/step - loss: 15.3093 - mae: 15.3093\n",
      "Epoch 6/500\n",
      "2/2 [==============================] - 0s 5ms/step - loss: 12.1499 - mae: 12.1499\n",
      "Epoch 7/500\n",
      "2/2 [==============================] - 0s 5ms/step - loss: 11.4394 - mae: 11.4394\n",
      "Epoch 8/500\n",
      "2/2 [==============================] - 0s 5ms/step - loss: 11.1730 - mae: 11.1730\n",
      "Epoch 9/500\n",
      "2/2 [==============================] - 0s 5ms/step - loss: 41.5624 - mae: 41.5624\n",
      "Epoch 10/500\n",
      "2/2 [==============================] - 0s 5ms/step - loss: 28.8170 - mae: 28.8170\n",
      "Epoch 11/500\n",
      "2/2 [==============================] - 0s 5ms/step - loss: 8.5273 - mae: 8.5273\n",
      "Epoch 12/500\n",
      "2/2 [==============================] - 0s 6ms/step - loss: 27.4402 - mae: 27.4402\n",
      "Epoch 13/500\n",
      "2/2 [==============================] - 0s 7ms/step - loss: 12.1014 - mae: 12.1014\n",
      "Epoch 14/500\n",
      "2/2 [==============================] - 0s 6ms/step - loss: 34.7500 - mae: 34.7500\n",
      "Epoch 15/500\n",
      "2/2 [==============================] - 0s 5ms/step - loss: 22.6033 - mae: 22.6033\n",
      "Epoch 16/500\n",
      "2/2 [==============================] - 0s 5ms/step - loss: 9.9211 - mae: 9.9211\n",
      "Epoch 17/500\n",
      "2/2 [==============================] - 0s 8ms/step - loss: 17.8615 - mae: 17.8615\n",
      "Epoch 18/500\n",
      "2/2 [==============================] - 0s 7ms/step - loss: 14.3401 - mae: 14.3401\n",
      "Epoch 19/500\n",
      "2/2 [==============================] - 0s 5ms/step - loss: 14.4459 - mae: 14.4459\n",
      "Epoch 20/500\n",
      "2/2 [==============================] - 0s 9ms/step - loss: 10.4658 - mae: 10.4658\n",
      "Epoch 21/500\n",
      "2/2 [==============================] - 0s 7ms/step - loss: 15.2254 - mae: 15.2254\n",
      "Epoch 22/500\n",
      "2/2 [==============================] - 0s 6ms/step - loss: 15.5667 - mae: 15.5667\n",
      "Epoch 23/500\n",
      "2/2 [==============================] - 0s 6ms/step - loss: 9.2322 - mae: 9.2322\n",
      "Epoch 24/500\n",
      "2/2 [==============================] - 0s 5ms/step - loss: 17.2414 - mae: 17.2414\n",
      "Epoch 25/500\n",
      "2/2 [==============================] - 0s 5ms/step - loss: 15.9210 - mae: 15.9210\n",
      "Epoch 26/500\n",
      "2/2 [==============================] - 0s 6ms/step - loss: 20.8915 - mae: 20.8915\n",
      "Epoch 27/500\n",
      "2/2 [==============================] - 0s 6ms/step - loss: 26.0497 - mae: 26.0497\n",
      "Epoch 28/500\n",
      "2/2 [==============================] - 0s 5ms/step - loss: 18.5359 - mae: 18.5359\n",
      "Epoch 29/500\n",
      "2/2 [==============================] - 0s 6ms/step - loss: 9.2417 - mae: 9.2417\n",
      "Epoch 30/500\n",
      "2/2 [==============================] - 0s 6ms/step - loss: 29.1593 - mae: 29.1593\n",
      "Epoch 31/500\n",
      "2/2 [==============================] - 0s 6ms/step - loss: 52.8208 - mae: 52.8208\n",
      "Epoch 32/500\n",
      "2/2 [==============================] - 0s 7ms/step - loss: 11.9523 - mae: 11.9523\n",
      "Epoch 33/500\n",
      "2/2 [==============================] - 0s 7ms/step - loss: 15.5665 - mae: 15.5665\n",
      "Epoch 34/500\n",
      "2/2 [==============================] - 0s 8ms/step - loss: 12.6436 - mae: 12.6436\n",
      "Epoch 35/500\n",
      "2/2 [==============================] - 0s 6ms/step - loss: 9.2169 - mae: 9.2169\n",
      "Epoch 36/500\n",
      "2/2 [==============================] - 0s 6ms/step - loss: 16.5671 - mae: 16.5671\n",
      "Epoch 37/500\n",
      "2/2 [==============================] - 0s 9ms/step - loss: 11.0587 - mae: 11.0587\n",
      "Epoch 38/500\n",
      "2/2 [==============================] - 0s 7ms/step - loss: 18.1859 - mae: 18.1859\n",
      "Epoch 39/500\n",
      "2/2 [==============================] - 0s 6ms/step - loss: 19.1208 - mae: 19.1208\n",
      "Epoch 40/500\n",
      "2/2 [==============================] - 0s 5ms/step - loss: 20.4682 - mae: 20.4682\n",
      "Epoch 41/500\n",
      "2/2 [==============================] - 0s 6ms/step - loss: 14.8619 - mae: 14.8619\n",
      "Epoch 42/500\n",
      "2/2 [==============================] - 0s 6ms/step - loss: 12.2446 - mae: 12.2446\n",
      "Epoch 43/500\n",
      "2/2 [==============================] - 0s 6ms/step - loss: 10.7124 - mae: 10.7124\n",
      "Epoch 44/500\n",
      "2/2 [==============================] - 0s 6ms/step - loss: 22.9346 - mae: 22.9346\n",
      "Epoch 45/500\n",
      "2/2 [==============================] - 0s 5ms/step - loss: 10.3608 - mae: 10.3608\n",
      "Epoch 46/500\n",
      "2/2 [==============================] - 0s 6ms/step - loss: 11.7489 - mae: 11.7489\n",
      "Epoch 47/500\n",
      "2/2 [==============================] - 0s 6ms/step - loss: 9.6575 - mae: 9.6575\n",
      "Epoch 48/500\n",
      "2/2 [==============================] - 0s 5ms/step - loss: 17.2651 - mae: 17.2651\n",
      "Epoch 49/500\n",
      "2/2 [==============================] - 0s 7ms/step - loss: 9.5490 - mae: 9.5490\n",
      "Epoch 50/500\n",
      "2/2 [==============================] - 0s 4ms/step - loss: 13.7781 - mae: 13.7781\n",
      "Epoch 51/500\n",
      "2/2 [==============================] - 0s 6ms/step - loss: 11.5791 - mae: 11.5791\n",
      "Epoch 52/500\n",
      "2/2 [==============================] - 0s 6ms/step - loss: 30.4629 - mae: 30.4629\n",
      "Epoch 53/500\n",
      "2/2 [==============================] - 0s 5ms/step - loss: 14.3131 - mae: 14.3131\n",
      "Epoch 54/500\n",
      "2/2 [==============================] - 0s 6ms/step - loss: 23.9011 - mae: 23.9011\n",
      "Epoch 55/500\n",
      "2/2 [==============================] - 0s 5ms/step - loss: 23.1169 - mae: 23.1169\n",
      "Epoch 56/500\n",
      "2/2 [==============================] - 0s 5ms/step - loss: 10.8571 - mae: 10.8571\n",
      "Epoch 57/500\n",
      "2/2 [==============================] - 0s 5ms/step - loss: 12.7101 - mae: 12.7101\n",
      "Epoch 58/500\n",
      "2/2 [==============================] - 0s 5ms/step - loss: 9.5799 - mae: 9.5799\n",
      "Epoch 59/500\n",
      "2/2 [==============================] - 0s 5ms/step - loss: 12.4871 - mae: 12.4871\n",
      "Epoch 60/500\n",
      "2/2 [==============================] - 0s 5ms/step - loss: 11.8973 - mae: 11.8973\n",
      "Epoch 61/500\n",
      "2/2 [==============================] - 0s 5ms/step - loss: 16.9854 - mae: 16.9854\n",
      "Epoch 62/500\n",
      "2/2 [==============================] - 0s 6ms/step - loss: 10.3949 - mae: 10.3949\n",
      "Epoch 63/500\n",
      "2/2 [==============================] - 0s 5ms/step - loss: 10.3481 - mae: 10.3481\n",
      "Epoch 64/500\n",
      "2/2 [==============================] - 0s 5ms/step - loss: 24.2182 - mae: 24.2182\n",
      "Epoch 65/500\n",
      "2/2 [==============================] - 0s 5ms/step - loss: 10.5288 - mae: 10.5288\n",
      "Epoch 66/500\n",
      "2/2 [==============================] - 0s 6ms/step - loss: 21.2289 - mae: 21.2289\n",
      "Epoch 67/500\n",
      "2/2 [==============================] - 0s 5ms/step - loss: 10.5281 - mae: 10.5281\n",
      "Epoch 68/500\n",
      "2/2 [==============================] - 0s 6ms/step - loss: 14.3879 - mae: 14.3879\n",
      "Epoch 69/500\n",
      "2/2 [==============================] - 0s 5ms/step - loss: 10.6217 - mae: 10.6217\n",
      "Epoch 70/500\n",
      "2/2 [==============================] - 0s 5ms/step - loss: 12.7081 - mae: 12.7081\n",
      "Epoch 71/500\n",
      "2/2 [==============================] - 0s 5ms/step - loss: 13.1384 - mae: 13.1384\n",
      "Epoch 72/500\n",
      "2/2 [==============================] - 0s 5ms/step - loss: 19.6624 - mae: 19.6624\n",
      "Epoch 73/500\n",
      "2/2 [==============================] - 0s 5ms/step - loss: 11.2008 - mae: 11.2008\n",
      "Epoch 74/500\n",
      "2/2 [==============================] - 0s 5ms/step - loss: 21.9565 - mae: 21.9565\n",
      "Epoch 75/500\n",
      "2/2 [==============================] - 0s 8ms/step - loss: 7.1855 - mae: 7.1855\n",
      "Epoch 76/500\n",
      "2/2 [==============================] - 0s 6ms/step - loss: 9.4110 - mae: 9.4110\n",
      "Epoch 77/500\n",
      "2/2 [==============================] - 0s 6ms/step - loss: 22.0275 - mae: 22.0275\n",
      "Epoch 78/500\n",
      "2/2 [==============================] - 0s 6ms/step - loss: 17.7391 - mae: 17.7391\n",
      "Epoch 79/500\n",
      "2/2 [==============================] - 0s 5ms/step - loss: 14.8872 - mae: 14.8872\n",
      "Epoch 80/500\n",
      "2/2 [==============================] - 0s 5ms/step - loss: 25.2363 - mae: 25.2363\n",
      "Epoch 81/500\n",
      "2/2 [==============================] - 0s 6ms/step - loss: 10.9522 - mae: 10.9522\n",
      "Epoch 82/500\n",
      "2/2 [==============================] - 0s 5ms/step - loss: 12.7245 - mae: 12.7245\n",
      "Epoch 83/500\n",
      "2/2 [==============================] - 0s 5ms/step - loss: 17.4874 - mae: 17.4874\n",
      "Epoch 84/500\n",
      "2/2 [==============================] - 0s 5ms/step - loss: 7.2794 - mae: 7.2794\n",
      "Epoch 85/500\n",
      "2/2 [==============================] - 0s 6ms/step - loss: 15.0153 - mae: 15.0153\n",
      "Epoch 86/500\n",
      "2/2 [==============================] - 0s 5ms/step - loss: 15.3267 - mae: 15.3267\n",
      "Epoch 87/500\n",
      "2/2 [==============================] - 0s 5ms/step - loss: 19.1885 - mae: 19.1885\n",
      "Epoch 88/500\n",
      "2/2 [==============================] - 0s 5ms/step - loss: 29.6140 - mae: 29.6140\n",
      "Epoch 89/500\n",
      "2/2 [==============================] - 0s 6ms/step - loss: 10.1480 - mae: 10.1480\n",
      "Epoch 90/500\n",
      "2/2 [==============================] - 0s 5ms/step - loss: 21.3521 - mae: 21.3521\n",
      "Epoch 91/500\n",
      "2/2 [==============================] - 0s 6ms/step - loss: 10.5343 - mae: 10.5343\n",
      "Epoch 92/500\n",
      "2/2 [==============================] - 0s 5ms/step - loss: 18.2433 - mae: 18.2433\n",
      "Epoch 93/500\n",
      "2/2 [==============================] - 0s 5ms/step - loss: 6.8127 - mae: 6.8127\n",
      "Epoch 94/500\n",
      "2/2 [==============================] - 0s 6ms/step - loss: 13.0278 - mae: 13.0278\n",
      "Epoch 95/500\n",
      "2/2 [==============================] - 0s 5ms/step - loss: 18.4349 - mae: 18.4349\n",
      "Epoch 96/500\n",
      "2/2 [==============================] - 0s 5ms/step - loss: 10.3598 - mae: 10.3598\n",
      "Epoch 97/500\n",
      "2/2 [==============================] - 0s 6ms/step - loss: 14.4454 - mae: 14.4454\n",
      "Epoch 98/500\n",
      "2/2 [==============================] - 0s 5ms/step - loss: 6.5743 - mae: 6.5743\n",
      "Epoch 99/500\n",
      "2/2 [==============================] - 0s 5ms/step - loss: 12.5892 - mae: 12.5892\n",
      "Epoch 100/500\n",
      "2/2 [==============================] - 0s 5ms/step - loss: 19.3975 - mae: 19.3975\n",
      "Epoch 101/500\n",
      "2/2 [==============================] - 0s 5ms/step - loss: 16.0840 - mae: 16.0840\n",
      "Epoch 102/500\n",
      "2/2 [==============================] - 0s 5ms/step - loss: 11.1898 - mae: 11.1898\n",
      "Epoch 103/500\n",
      "2/2 [==============================] - 0s 5ms/step - loss: 9.3189 - mae: 9.3189\n",
      "Epoch 104/500\n",
      "2/2 [==============================] - 0s 5ms/step - loss: 24.9846 - mae: 24.9846\n",
      "Epoch 105/500\n",
      "2/2 [==============================] - 0s 6ms/step - loss: 11.9893 - mae: 11.9893\n",
      "Epoch 106/500\n",
      "2/2 [==============================] - 0s 5ms/step - loss: 10.0820 - mae: 10.0820\n",
      "Epoch 107/500\n",
      "2/2 [==============================] - 0s 5ms/step - loss: 22.5511 - mae: 22.5511\n",
      "Epoch 108/500\n",
      "2/2 [==============================] - 0s 5ms/step - loss: 8.1273 - mae: 8.1273\n",
      "Epoch 109/500\n",
      "2/2 [==============================] - 0s 5ms/step - loss: 13.3519 - mae: 13.3519\n",
      "Epoch 110/500\n",
      "2/2 [==============================] - 0s 5ms/step - loss: 7.9771 - mae: 7.9771\n",
      "Epoch 111/500\n",
      "2/2 [==============================] - 0s 5ms/step - loss: 15.7401 - mae: 15.7401\n",
      "Epoch 112/500\n",
      "2/2 [==============================] - 0s 6ms/step - loss: 8.7499 - mae: 8.7499\n",
      "Epoch 113/500\n",
      "2/2 [==============================] - 0s 6ms/step - loss: 22.7095 - mae: 22.7095\n",
      "Epoch 114/500\n",
      "2/2 [==============================] - 0s 6ms/step - loss: 19.0550 - mae: 19.0550\n",
      "Epoch 115/500\n",
      "2/2 [==============================] - 0s 6ms/step - loss: 11.0949 - mae: 11.0949\n",
      "Epoch 116/500\n",
      "2/2 [==============================] - 0s 5ms/step - loss: 23.1602 - mae: 23.1602\n",
      "Epoch 117/500\n",
      "2/2 [==============================] - 0s 5ms/step - loss: 9.5805 - mae: 9.5805\n",
      "Epoch 118/500\n",
      "2/2 [==============================] - 0s 10ms/step - loss: 10.6457 - mae: 10.6457\n",
      "Epoch 119/500\n",
      "2/2 [==============================] - 0s 6ms/step - loss: 8.0413 - mae: 8.0413\n",
      "Epoch 120/500\n",
      "2/2 [==============================] - 0s 5ms/step - loss: 29.4789 - mae: 29.4789\n",
      "Epoch 121/500\n",
      "2/2 [==============================] - 0s 5ms/step - loss: 8.0776 - mae: 8.0776\n",
      "Epoch 122/500\n",
      "2/2 [==============================] - 0s 5ms/step - loss: 28.1329 - mae: 28.1329\n",
      "Epoch 123/500\n",
      "2/2 [==============================] - 0s 5ms/step - loss: 32.6832 - mae: 32.6832\n",
      "Epoch 124/500\n",
      "2/2 [==============================] - 0s 6ms/step - loss: 19.4688 - mae: 19.4688\n",
      "Epoch 125/500\n",
      "2/2 [==============================] - 0s 5ms/step - loss: 9.5589 - mae: 9.5589\n",
      "Epoch 126/500\n",
      "2/2 [==============================] - 0s 5ms/step - loss: 9.6260 - mae: 9.6260\n",
      "Epoch 127/500\n",
      "2/2 [==============================] - 0s 6ms/step - loss: 12.7916 - mae: 12.7916\n",
      "Epoch 128/500\n",
      "2/2 [==============================] - 0s 6ms/step - loss: 13.3343 - mae: 13.3343\n",
      "Epoch 129/500\n",
      "2/2 [==============================] - 0s 6ms/step - loss: 10.1878 - mae: 10.1878\n",
      "Epoch 130/500\n",
      "2/2 [==============================] - 0s 6ms/step - loss: 17.4839 - mae: 17.4839\n",
      "Epoch 131/500\n",
      "2/2 [==============================] - 0s 5ms/step - loss: 9.5053 - mae: 9.5053\n",
      "Epoch 132/500\n",
      "2/2 [==============================] - 0s 5ms/step - loss: 17.3802 - mae: 17.3802\n",
      "Epoch 133/500\n",
      "2/2 [==============================] - 0s 5ms/step - loss: 7.1003 - mae: 7.1003\n",
      "Epoch 134/500\n",
      "2/2 [==============================] - 0s 6ms/step - loss: 23.8459 - mae: 23.8459\n",
      "Epoch 135/500\n",
      "2/2 [==============================] - 0s 5ms/step - loss: 16.6396 - mae: 16.6396\n",
      "Epoch 136/500\n",
      "2/2 [==============================] - 0s 5ms/step - loss: 14.8574 - mae: 14.8574\n",
      "Epoch 137/500\n",
      "2/2 [==============================] - 0s 5ms/step - loss: 23.1269 - mae: 23.1269\n",
      "Epoch 138/500\n",
      "2/2 [==============================] - 0s 5ms/step - loss: 9.1249 - mae: 9.1249\n",
      "Epoch 139/500\n",
      "2/2 [==============================] - 0s 6ms/step - loss: 8.9124 - mae: 8.9124\n",
      "Epoch 140/500\n",
      "2/2 [==============================] - 0s 6ms/step - loss: 16.4410 - mae: 16.4410\n",
      "Epoch 141/500\n",
      "2/2 [==============================] - 0s 6ms/step - loss: 8.4247 - mae: 8.4247\n",
      "Epoch 142/500\n",
      "2/2 [==============================] - 0s 5ms/step - loss: 36.8818 - mae: 36.8818\n",
      "Epoch 143/500\n",
      "2/2 [==============================] - 0s 6ms/step - loss: 25.5270 - mae: 25.5270\n",
      "Epoch 144/500\n",
      "2/2 [==============================] - 0s 6ms/step - loss: 9.5459 - mae: 9.5459\n",
      "Epoch 145/500\n",
      "2/2 [==============================] - 0s 6ms/step - loss: 26.6242 - mae: 26.6242\n",
      "Epoch 146/500\n",
      "2/2 [==============================] - 0s 5ms/step - loss: 8.7047 - mae: 8.7047\n",
      "Epoch 147/500\n",
      "2/2 [==============================] - 0s 6ms/step - loss: 15.6368 - mae: 15.6368\n",
      "Epoch 148/500\n",
      "2/2 [==============================] - 0s 5ms/step - loss: 18.3319 - mae: 18.3319\n",
      "Epoch 149/500\n",
      "2/2 [==============================] - 0s 6ms/step - loss: 8.1841 - mae: 8.1841\n",
      "Epoch 150/500\n",
      "2/2 [==============================] - 0s 5ms/step - loss: 7.4940 - mae: 7.4940\n",
      "Epoch 151/500\n",
      "2/2 [==============================] - 0s 6ms/step - loss: 18.2829 - mae: 18.2829\n",
      "Epoch 152/500\n",
      "2/2 [==============================] - 0s 5ms/step - loss: 10.2805 - mae: 10.2805\n",
      "Epoch 153/500\n",
      "2/2 [==============================] - 0s 6ms/step - loss: 29.5531 - mae: 29.5531\n",
      "Epoch 154/500\n",
      "2/2 [==============================] - 0s 5ms/step - loss: 10.5759 - mae: 10.5759\n",
      "Epoch 155/500\n",
      "2/2 [==============================] - 0s 6ms/step - loss: 15.4723 - mae: 15.4723\n",
      "Epoch 156/500\n",
      "2/2 [==============================] - 0s 6ms/step - loss: 17.0570 - mae: 17.0570\n",
      "Epoch 157/500\n",
      "2/2 [==============================] - 0s 5ms/step - loss: 32.7194 - mae: 32.7194\n",
      "Epoch 158/500\n",
      "2/2 [==============================] - 0s 6ms/step - loss: 10.6792 - mae: 10.6792\n",
      "Epoch 159/500\n",
      "2/2 [==============================] - 0s 9ms/step - loss: 8.8964 - mae: 8.8964\n",
      "Epoch 160/500\n",
      "2/2 [==============================] - 0s 9ms/step - loss: 22.0555 - mae: 22.0555\n",
      "Epoch 161/500\n",
      "2/2 [==============================] - 0s 5ms/step - loss: 11.6852 - mae: 11.6852\n",
      "Epoch 162/500\n",
      "2/2 [==============================] - 0s 6ms/step - loss: 21.5005 - mae: 21.5005\n",
      "Epoch 163/500\n",
      "2/2 [==============================] - 0s 6ms/step - loss: 19.1798 - mae: 19.1798\n",
      "Epoch 164/500\n",
      "2/2 [==============================] - 0s 5ms/step - loss: 10.9760 - mae: 10.9760\n",
      "Epoch 165/500\n",
      "2/2 [==============================] - 0s 5ms/step - loss: 9.6341 - mae: 9.6341\n",
      "Epoch 166/500\n",
      "2/2 [==============================] - 0s 5ms/step - loss: 21.6304 - mae: 21.6304\n",
      "Epoch 167/500\n",
      "2/2 [==============================] - 0s 6ms/step - loss: 26.1860 - mae: 26.1860\n",
      "Epoch 168/500\n",
      "2/2 [==============================] - 0s 6ms/step - loss: 9.8391 - mae: 9.8391\n",
      "Epoch 169/500\n",
      "2/2 [==============================] - 0s 5ms/step - loss: 22.4602 - mae: 22.4602\n",
      "Epoch 170/500\n",
      "2/2 [==============================] - 0s 5ms/step - loss: 10.1694 - mae: 10.1694\n",
      "Epoch 171/500\n",
      "2/2 [==============================] - 0s 6ms/step - loss: 18.0921 - mae: 18.0921\n",
      "Epoch 172/500\n",
      "2/2 [==============================] - 0s 6ms/step - loss: 28.7282 - mae: 28.7282\n",
      "Epoch 173/500\n",
      "2/2 [==============================] - 0s 5ms/step - loss: 16.4431 - mae: 16.4431\n",
      "Epoch 174/500\n",
      "2/2 [==============================] - 0s 6ms/step - loss: 11.7290 - mae: 11.7290\n",
      "Epoch 175/500\n",
      "2/2 [==============================] - 0s 5ms/step - loss: 27.1648 - mae: 27.1648\n",
      "Epoch 176/500\n",
      "2/2 [==============================] - 0s 5ms/step - loss: 8.7565 - mae: 8.7565\n",
      "Epoch 177/500\n",
      "2/2 [==============================] - 0s 5ms/step - loss: 8.7710 - mae: 8.7710\n",
      "Epoch 178/500\n",
      "2/2 [==============================] - 0s 5ms/step - loss: 16.2246 - mae: 16.2246\n",
      "Epoch 179/500\n",
      "2/2 [==============================] - 0s 6ms/step - loss: 10.3871 - mae: 10.3871\n",
      "Epoch 180/500\n",
      "2/2 [==============================] - 0s 5ms/step - loss: 7.9898 - mae: 7.9898\n",
      "Epoch 181/500\n",
      "2/2 [==============================] - 0s 5ms/step - loss: 17.8008 - mae: 17.8008\n",
      "Epoch 182/500\n",
      "2/2 [==============================] - 0s 5ms/step - loss: 11.1983 - mae: 11.1983\n",
      "Epoch 183/500\n",
      "2/2 [==============================] - 0s 5ms/step - loss: 12.4151 - mae: 12.4151\n",
      "Epoch 184/500\n",
      "2/2 [==============================] - 0s 6ms/step - loss: 27.4301 - mae: 27.4301\n",
      "Epoch 185/500\n",
      "2/2 [==============================] - 0s 5ms/step - loss: 7.5483 - mae: 7.5483\n",
      "Epoch 186/500\n",
      "2/2 [==============================] - 0s 6ms/step - loss: 15.9235 - mae: 15.9235\n",
      "Epoch 187/500\n",
      "2/2 [==============================] - 0s 6ms/step - loss: 8.5904 - mae: 8.5904\n",
      "Epoch 188/500\n",
      "2/2 [==============================] - 0s 5ms/step - loss: 28.9441 - mae: 28.9441\n",
      "Epoch 189/500\n",
      "2/2 [==============================] - 0s 6ms/step - loss: 13.1297 - mae: 13.1297\n",
      "Epoch 190/500\n",
      "2/2 [==============================] - 0s 5ms/step - loss: 18.2672 - mae: 18.2672\n",
      "Epoch 191/500\n",
      "2/2 [==============================] - 0s 5ms/step - loss: 13.6876 - mae: 13.6876\n",
      "Epoch 192/500\n",
      "2/2 [==============================] - 0s 5ms/step - loss: 13.6946 - mae: 13.6946\n",
      "Epoch 193/500\n",
      "2/2 [==============================] - 0s 5ms/step - loss: 28.5422 - mae: 28.5422\n",
      "Epoch 194/500\n",
      "2/2 [==============================] - 0s 5ms/step - loss: 7.1267 - mae: 7.1267\n",
      "Epoch 195/500\n",
      "2/2 [==============================] - 0s 6ms/step - loss: 7.0607 - mae: 7.0607\n",
      "Epoch 196/500\n",
      "2/2 [==============================] - 0s 5ms/step - loss: 21.9496 - mae: 21.9496\n",
      "Epoch 197/500\n",
      "2/2 [==============================] - 0s 6ms/step - loss: 20.9644 - mae: 20.9644\n",
      "Epoch 198/500\n",
      "2/2 [==============================] - 0s 6ms/step - loss: 12.5440 - mae: 12.5440\n",
      "Epoch 199/500\n",
      "2/2 [==============================] - 0s 6ms/step - loss: 18.0125 - mae: 18.0125\n",
      "Epoch 200/500\n",
      "2/2 [==============================] - 0s 6ms/step - loss: 13.8449 - mae: 13.8449\n",
      "Epoch 201/500\n",
      "2/2 [==============================] - 0s 5ms/step - loss: 6.0403 - mae: 6.0403\n",
      "Epoch 202/500\n",
      "2/2 [==============================] - 0s 5ms/step - loss: 22.8595 - mae: 22.8595\n",
      "Epoch 203/500\n",
      "2/2 [==============================] - 0s 6ms/step - loss: 8.9563 - mae: 8.9563\n",
      "Epoch 204/500\n",
      "2/2 [==============================] - 0s 6ms/step - loss: 18.8340 - mae: 18.8340\n",
      "Epoch 205/500\n",
      "2/2 [==============================] - 0s 5ms/step - loss: 9.3609 - mae: 9.3609\n",
      "Epoch 206/500\n",
      "2/2 [==============================] - 0s 6ms/step - loss: 10.4286 - mae: 10.4286\n",
      "Epoch 207/500\n",
      "2/2 [==============================] - 0s 5ms/step - loss: 21.1081 - mae: 21.1081\n",
      "Epoch 208/500\n",
      "2/2 [==============================] - 0s 5ms/step - loss: 16.4740 - mae: 16.4740\n",
      "Epoch 209/500\n",
      "2/2 [==============================] - 0s 5ms/step - loss: 14.3741 - mae: 14.3741\n",
      "Epoch 210/500\n",
      "2/2 [==============================] - 0s 5ms/step - loss: 19.3861 - mae: 19.3861\n",
      "Epoch 211/500\n",
      "2/2 [==============================] - 0s 6ms/step - loss: 10.3103 - mae: 10.3103\n",
      "Epoch 212/500\n",
      "2/2 [==============================] - 0s 5ms/step - loss: 20.1690 - mae: 20.1690\n",
      "Epoch 213/500\n",
      "2/2 [==============================] - 0s 10ms/step - loss: 15.0667 - mae: 15.0667\n",
      "Epoch 214/500\n",
      "2/2 [==============================] - 0s 6ms/step - loss: 14.6074 - mae: 14.6074\n",
      "Epoch 215/500\n",
      "2/2 [==============================] - 0s 5ms/step - loss: 23.3341 - mae: 23.3341\n",
      "Epoch 216/500\n",
      "2/2 [==============================] - 0s 6ms/step - loss: 13.3128 - mae: 13.3128\n",
      "Epoch 217/500\n",
      "2/2 [==============================] - 0s 5ms/step - loss: 9.8272 - mae: 9.8272\n",
      "Epoch 218/500\n",
      "2/2 [==============================] - 0s 6ms/step - loss: 12.5916 - mae: 12.5916\n",
      "Epoch 219/500\n",
      "2/2 [==============================] - 0s 6ms/step - loss: 5.3454 - mae: 5.3454\n",
      "Epoch 220/500\n",
      "2/2 [==============================] - 0s 9ms/step - loss: 14.6978 - mae: 14.6978\n",
      "Epoch 221/500\n",
      "2/2 [==============================] - 0s 6ms/step - loss: 33.5395 - mae: 33.5395\n",
      "Epoch 222/500\n",
      "2/2 [==============================] - 0s 7ms/step - loss: 13.8889 - mae: 13.8889\n",
      "Epoch 223/500\n",
      "2/2 [==============================] - 0s 6ms/step - loss: 10.9911 - mae: 10.9911\n",
      "Epoch 224/500\n",
      "2/2 [==============================] - 0s 5ms/step - loss: 14.9455 - mae: 14.9455\n",
      "Epoch 225/500\n",
      "2/2 [==============================] - 0s 6ms/step - loss: 16.9929 - mae: 16.9929\n",
      "Epoch 226/500\n",
      "2/2 [==============================] - 0s 5ms/step - loss: 16.1822 - mae: 16.1822\n",
      "Epoch 227/500\n",
      "2/2 [==============================] - 0s 6ms/step - loss: 16.4993 - mae: 16.4993\n",
      "Epoch 228/500\n",
      "2/2 [==============================] - 0s 6ms/step - loss: 9.9410 - mae: 9.9410\n",
      "Epoch 229/500\n",
      "2/2 [==============================] - 0s 6ms/step - loss: 17.8380 - mae: 17.8380\n",
      "Epoch 230/500\n",
      "2/2 [==============================] - 0s 5ms/step - loss: 15.4595 - mae: 15.4595\n",
      "Epoch 231/500\n",
      "2/2 [==============================] - 0s 5ms/step - loss: 20.8848 - mae: 20.8848\n",
      "Epoch 232/500\n",
      "2/2 [==============================] - 0s 6ms/step - loss: 20.4142 - mae: 20.4142\n",
      "Epoch 233/500\n",
      "2/2 [==============================] - 0s 6ms/step - loss: 15.0754 - mae: 15.0754\n",
      "Epoch 234/500\n",
      "2/2 [==============================] - 0s 5ms/step - loss: 6.9672 - mae: 6.9672\n",
      "Epoch 235/500\n",
      "2/2 [==============================] - 0s 5ms/step - loss: 15.7254 - mae: 15.7254\n",
      "Epoch 236/500\n",
      "2/2 [==============================] - 0s 6ms/step - loss: 6.6876 - mae: 6.6876\n",
      "Epoch 237/500\n",
      "2/2 [==============================] - 0s 5ms/step - loss: 8.5990 - mae: 8.5990\n",
      "Epoch 238/500\n",
      "2/2 [==============================] - 0s 6ms/step - loss: 7.7646 - mae: 7.7646\n",
      "Epoch 239/500\n",
      "2/2 [==============================] - 0s 5ms/step - loss: 15.6414 - mae: 15.6414\n",
      "Epoch 240/500\n",
      "2/2 [==============================] - 0s 5ms/step - loss: 9.0032 - mae: 9.0032\n",
      "Epoch 241/500\n",
      "2/2 [==============================] - 0s 5ms/step - loss: 13.4140 - mae: 13.4140\n",
      "Epoch 242/500\n",
      "2/2 [==============================] - 0s 5ms/step - loss: 8.8941 - mae: 8.8941\n",
      "Epoch 243/500\n",
      "2/2 [==============================] - 0s 5ms/step - loss: 19.2857 - mae: 19.2857\n",
      "Epoch 244/500\n",
      "2/2 [==============================] - 0s 5ms/step - loss: 13.8929 - mae: 13.8929\n",
      "Epoch 245/500\n",
      "2/2 [==============================] - 0s 5ms/step - loss: 14.5416 - mae: 14.5416\n",
      "Epoch 246/500\n",
      "2/2 [==============================] - 0s 6ms/step - loss: 15.6804 - mae: 15.6804\n",
      "Epoch 247/500\n",
      "2/2 [==============================] - 0s 5ms/step - loss: 17.5170 - mae: 17.5170\n",
      "Epoch 248/500\n",
      "2/2 [==============================] - 0s 5ms/step - loss: 13.0839 - mae: 13.0839\n",
      "Epoch 249/500\n",
      "2/2 [==============================] - 0s 5ms/step - loss: 14.4250 - mae: 14.4250\n",
      "Epoch 250/500\n",
      "2/2 [==============================] - 0s 5ms/step - loss: 27.8234 - mae: 27.8234\n",
      "Epoch 251/500\n",
      "2/2 [==============================] - 0s 6ms/step - loss: 7.5055 - mae: 7.5055\n",
      "Epoch 252/500\n",
      "2/2 [==============================] - 0s 5ms/step - loss: 38.1792 - mae: 38.1792\n",
      "Epoch 253/500\n",
      "2/2 [==============================] - 0s 5ms/step - loss: 23.0860 - mae: 23.0860\n",
      "Epoch 254/500\n",
      "2/2 [==============================] - 0s 6ms/step - loss: 7.2893 - mae: 7.2893\n",
      "Epoch 255/500\n",
      "2/2 [==============================] - 0s 5ms/step - loss: 24.5927 - mae: 24.5927\n",
      "Epoch 256/500\n",
      "2/2 [==============================] - 0s 6ms/step - loss: 12.3756 - mae: 12.3756\n",
      "Epoch 257/500\n",
      "2/2 [==============================] - 0s 5ms/step - loss: 10.5496 - mae: 10.5496\n",
      "Epoch 258/500\n",
      "2/2 [==============================] - 0s 6ms/step - loss: 14.1602 - mae: 14.1602\n",
      "Epoch 259/500\n",
      "2/2 [==============================] - 0s 5ms/step - loss: 11.2375 - mae: 11.2375\n",
      "Epoch 260/500\n",
      "2/2 [==============================] - 0s 5ms/step - loss: 31.5451 - mae: 31.5451\n",
      "Epoch 261/500\n",
      "2/2 [==============================] - 0s 5ms/step - loss: 11.1485 - mae: 11.1485\n",
      "Epoch 262/500\n",
      "2/2 [==============================] - 0s 5ms/step - loss: 10.0074 - mae: 10.0074\n",
      "Epoch 263/500\n",
      "2/2 [==============================] - 0s 5ms/step - loss: 8.9298 - mae: 8.9298\n",
      "Epoch 264/500\n",
      "2/2 [==============================] - 0s 5ms/step - loss: 21.4533 - mae: 21.4533\n",
      "Epoch 265/500\n",
      "2/2 [==============================] - 0s 5ms/step - loss: 11.4581 - mae: 11.4581\n",
      "Epoch 266/500\n",
      "2/2 [==============================] - 0s 5ms/step - loss: 13.2955 - mae: 13.2955\n",
      "Epoch 267/500\n",
      "2/2 [==============================] - 0s 5ms/step - loss: 11.0805 - mae: 11.0805\n",
      "Epoch 268/500\n",
      "2/2 [==============================] - 0s 11ms/step - loss: 19.1654 - mae: 19.1654\n",
      "Epoch 269/500\n",
      "2/2 [==============================] - 0s 6ms/step - loss: 40.6838 - mae: 40.6838\n",
      "Epoch 270/500\n",
      "2/2 [==============================] - 0s 5ms/step - loss: 12.9076 - mae: 12.9076\n",
      "Epoch 271/500\n",
      "2/2 [==============================] - 0s 6ms/step - loss: 14.7605 - mae: 14.7605\n",
      "Epoch 272/500\n",
      "2/2 [==============================] - 0s 6ms/step - loss: 28.5092 - mae: 28.5092\n",
      "Epoch 273/500\n",
      "2/2 [==============================] - 0s 5ms/step - loss: 7.3565 - mae: 7.3565\n",
      "Epoch 274/500\n",
      "2/2 [==============================] - 0s 6ms/step - loss: 6.3422 - mae: 6.3422\n",
      "Epoch 275/500\n",
      "2/2 [==============================] - 0s 5ms/step - loss: 36.9330 - mae: 36.9330\n",
      "Epoch 276/500\n",
      "2/2 [==============================] - 0s 6ms/step - loss: 8.2769 - mae: 8.2769\n",
      "Epoch 277/500\n",
      "2/2 [==============================] - 0s 6ms/step - loss: 27.7524 - mae: 27.7524\n",
      "Epoch 278/500\n",
      "2/2 [==============================] - 0s 6ms/step - loss: 10.6609 - mae: 10.6609\n",
      "Epoch 279/500\n",
      "2/2 [==============================] - 0s 5ms/step - loss: 16.0957 - mae: 16.0957\n",
      "Epoch 280/500\n",
      "2/2 [==============================] - 0s 5ms/step - loss: 21.2126 - mae: 21.2126\n",
      "Epoch 281/500\n",
      "2/2 [==============================] - 0s 6ms/step - loss: 23.8502 - mae: 23.8502\n",
      "Epoch 282/500\n",
      "2/2 [==============================] - 0s 6ms/step - loss: 8.2632 - mae: 8.2632\n",
      "Epoch 283/500\n",
      "2/2 [==============================] - 0s 5ms/step - loss: 8.4387 - mae: 8.4387\n",
      "Epoch 284/500\n",
      "2/2 [==============================] - 0s 6ms/step - loss: 26.7028 - mae: 26.7028\n",
      "Epoch 285/500\n",
      "2/2 [==============================] - 0s 5ms/step - loss: 14.2844 - mae: 14.2844\n",
      "Epoch 286/500\n",
      "2/2 [==============================] - 0s 5ms/step - loss: 5.2491 - mae: 5.2491\n",
      "Epoch 287/500\n",
      "2/2 [==============================] - 0s 6ms/step - loss: 20.7815 - mae: 20.7815\n",
      "Epoch 288/500\n",
      "2/2 [==============================] - 0s 6ms/step - loss: 27.7744 - mae: 27.7744\n",
      "Epoch 289/500\n",
      "2/2 [==============================] - 0s 7ms/step - loss: 10.9837 - mae: 10.9837\n",
      "Epoch 290/500\n",
      "2/2 [==============================] - 0s 5ms/step - loss: 16.1774 - mae: 16.1774\n",
      "Epoch 291/500\n",
      "2/2 [==============================] - 0s 5ms/step - loss: 16.3424 - mae: 16.3424\n",
      "Epoch 292/500\n",
      "2/2 [==============================] - 0s 5ms/step - loss: 14.6086 - mae: 14.6086\n",
      "Epoch 293/500\n",
      "2/2 [==============================] - 0s 5ms/step - loss: 15.9284 - mae: 15.9284\n",
      "Epoch 294/500\n",
      "2/2 [==============================] - 0s 5ms/step - loss: 24.0581 - mae: 24.0581\n",
      "Epoch 295/500\n",
      "2/2 [==============================] - 0s 6ms/step - loss: 14.7687 - mae: 14.7687\n",
      "Epoch 296/500\n",
      "2/2 [==============================] - 0s 6ms/step - loss: 4.3587 - mae: 4.3587\n",
      "Epoch 297/500\n",
      "2/2 [==============================] - 0s 5ms/step - loss: 11.8662 - mae: 11.8662\n",
      "Epoch 298/500\n",
      "2/2 [==============================] - 0s 5ms/step - loss: 23.7643 - mae: 23.7643\n",
      "Epoch 299/500\n",
      "2/2 [==============================] - 0s 5ms/step - loss: 19.0096 - mae: 19.0096\n",
      "Epoch 300/500\n",
      "2/2 [==============================] - 0s 5ms/step - loss: 8.8099 - mae: 8.8099\n",
      "Epoch 301/500\n",
      "2/2 [==============================] - 0s 5ms/step - loss: 15.8735 - mae: 15.8735\n",
      "Epoch 302/500\n",
      "2/2 [==============================] - 0s 5ms/step - loss: 5.7417 - mae: 5.7417\n",
      "Epoch 303/500\n",
      "2/2 [==============================] - 0s 6ms/step - loss: 22.9902 - mae: 22.9902\n",
      "Epoch 304/500\n",
      "2/2 [==============================] - 0s 9ms/step - loss: 26.0395 - mae: 26.0395\n",
      "Epoch 305/500\n",
      "2/2 [==============================] - 0s 6ms/step - loss: 9.5809 - mae: 9.5809\n",
      "Epoch 306/500\n",
      "2/2 [==============================] - 0s 5ms/step - loss: 17.8008 - mae: 17.8008\n",
      "Epoch 307/500\n",
      "2/2 [==============================] - 0s 10ms/step - loss: 9.7968 - mae: 9.7968\n",
      "Epoch 308/500\n",
      "2/2 [==============================] - 0s 8ms/step - loss: 20.5505 - mae: 20.5505\n",
      "Epoch 309/500\n",
      "2/2 [==============================] - 0s 5ms/step - loss: 13.6575 - mae: 13.6575\n",
      "Epoch 310/500\n",
      "2/2 [==============================] - 0s 6ms/step - loss: 6.6499 - mae: 6.6499\n",
      "Epoch 311/500\n",
      "2/2 [==============================] - 0s 5ms/step - loss: 13.3874 - mae: 13.3874\n",
      "Epoch 312/500\n",
      "2/2 [==============================] - 0s 5ms/step - loss: 30.1898 - mae: 30.1898\n",
      "Epoch 313/500\n",
      "2/2 [==============================] - 0s 6ms/step - loss: 7.2560 - mae: 7.2560\n",
      "Epoch 314/500\n",
      "2/2 [==============================] - 0s 6ms/step - loss: 10.5515 - mae: 10.5515\n",
      "Epoch 315/500\n",
      "2/2 [==============================] - 0s 6ms/step - loss: 23.5584 - mae: 23.5584\n",
      "Epoch 316/500\n",
      "2/2 [==============================] - 0s 6ms/step - loss: 14.4404 - mae: 14.4404\n",
      "Epoch 317/500\n",
      "2/2 [==============================] - 0s 6ms/step - loss: 19.9937 - mae: 19.9937\n",
      "Epoch 318/500\n",
      "2/2 [==============================] - 0s 6ms/step - loss: 8.0061 - mae: 8.0061\n",
      "Epoch 319/500\n",
      "2/2 [==============================] - 0s 5ms/step - loss: 18.1248 - mae: 18.1248\n",
      "Epoch 320/500\n",
      "2/2 [==============================] - 0s 6ms/step - loss: 10.6512 - mae: 10.6512\n",
      "Epoch 321/500\n",
      "2/2 [==============================] - 0s 5ms/step - loss: 7.0329 - mae: 7.0329\n",
      "Epoch 322/500\n",
      "2/2 [==============================] - 0s 6ms/step - loss: 8.6721 - mae: 8.6721\n",
      "Epoch 323/500\n",
      "2/2 [==============================] - 0s 6ms/step - loss: 18.3360 - mae: 18.3360\n",
      "Epoch 324/500\n",
      "2/2 [==============================] - 0s 6ms/step - loss: 6.3101 - mae: 6.3101\n",
      "Epoch 325/500\n",
      "2/2 [==============================] - 0s 6ms/step - loss: 14.6172 - mae: 14.6172\n",
      "Epoch 326/500\n",
      "2/2 [==============================] - 0s 6ms/step - loss: 6.9919 - mae: 6.9919\n",
      "Epoch 327/500\n",
      "2/2 [==============================] - 0s 6ms/step - loss: 17.6270 - mae: 17.6270\n",
      "Epoch 328/500\n",
      "2/2 [==============================] - 0s 5ms/step - loss: 14.3742 - mae: 14.3742\n",
      "Epoch 329/500\n",
      "2/2 [==============================] - 0s 5ms/step - loss: 17.6866 - mae: 17.6866\n",
      "Epoch 330/500\n",
      "2/2 [==============================] - 0s 5ms/step - loss: 6.7827 - mae: 6.7827\n",
      "Epoch 331/500\n",
      "2/2 [==============================] - 0s 5ms/step - loss: 19.7389 - mae: 19.7389\n",
      "Epoch 332/500\n",
      "2/2 [==============================] - 0s 5ms/step - loss: 10.5500 - mae: 10.5500\n",
      "Epoch 333/500\n",
      "2/2 [==============================] - 0s 6ms/step - loss: 16.3367 - mae: 16.3367\n",
      "Epoch 334/500\n",
      "2/2 [==============================] - 0s 6ms/step - loss: 9.7201 - mae: 9.7201\n",
      "Epoch 335/500\n",
      "2/2 [==============================] - 0s 6ms/step - loss: 13.0570 - mae: 13.0570\n",
      "Epoch 336/500\n",
      "2/2 [==============================] - 0s 5ms/step - loss: 32.4950 - mae: 32.4950\n",
      "Epoch 337/500\n",
      "2/2 [==============================] - 0s 5ms/step - loss: 11.0394 - mae: 11.0394\n",
      "Epoch 338/500\n",
      "2/2 [==============================] - 0s 5ms/step - loss: 19.9549 - mae: 19.9549\n",
      "Epoch 339/500\n",
      "2/2 [==============================] - 0s 5ms/step - loss: 34.3136 - mae: 34.3136\n",
      "Epoch 340/500\n",
      "2/2 [==============================] - 0s 6ms/step - loss: 8.7206 - mae: 8.7206\n",
      "Epoch 341/500\n",
      "2/2 [==============================] - 0s 5ms/step - loss: 21.9551 - mae: 21.9551\n",
      "Epoch 342/500\n",
      "2/2 [==============================] - 0s 10ms/step - loss: 13.8462 - mae: 13.8462\n",
      "Epoch 343/500\n",
      "2/2 [==============================] - 0s 8ms/step - loss: 11.6917 - mae: 11.6917\n",
      "Epoch 344/500\n",
      "2/2 [==============================] - 0s 5ms/step - loss: 10.6909 - mae: 10.6909\n",
      "Epoch 345/500\n",
      "2/2 [==============================] - 0s 6ms/step - loss: 30.9069 - mae: 30.9069\n",
      "Epoch 346/500\n",
      "2/2 [==============================] - 0s 7ms/step - loss: 10.6412 - mae: 10.6412\n",
      "Epoch 347/500\n",
      "2/2 [==============================] - 0s 5ms/step - loss: 25.5664 - mae: 25.5664\n",
      "Epoch 348/500\n",
      "2/2 [==============================] - 0s 6ms/step - loss: 13.2799 - mae: 13.2799\n",
      "Epoch 349/500\n",
      "2/2 [==============================] - 0s 5ms/step - loss: 13.0373 - mae: 13.0373\n",
      "Epoch 350/500\n",
      "2/2 [==============================] - 0s 5ms/step - loss: 15.4010 - mae: 15.4010\n",
      "Epoch 351/500\n",
      "2/2 [==============================] - 0s 6ms/step - loss: 32.8771 - mae: 32.8771\n",
      "Epoch 352/500\n",
      "2/2 [==============================] - 0s 5ms/step - loss: 14.0868 - mae: 14.0868\n",
      "Epoch 353/500\n",
      "2/2 [==============================] - 0s 6ms/step - loss: 17.7821 - mae: 17.7821\n",
      "Epoch 354/500\n",
      "2/2 [==============================] - 0s 5ms/step - loss: 11.3445 - mae: 11.3445\n",
      "Epoch 355/500\n",
      "2/2 [==============================] - 0s 6ms/step - loss: 26.7742 - mae: 26.7742\n",
      "Epoch 356/500\n",
      "2/2 [==============================] - 0s 6ms/step - loss: 10.1448 - mae: 10.1448\n",
      "Epoch 357/500\n",
      "2/2 [==============================] - 0s 5ms/step - loss: 14.7018 - mae: 14.7018\n",
      "Epoch 358/500\n",
      "2/2 [==============================] - 0s 5ms/step - loss: 14.5735 - mae: 14.5735\n",
      "Epoch 359/500\n",
      "2/2 [==============================] - 0s 6ms/step - loss: 12.3534 - mae: 12.3534\n",
      "Epoch 360/500\n",
      "2/2 [==============================] - 0s 5ms/step - loss: 20.3704 - mae: 20.3704\n",
      "Epoch 361/500\n",
      "2/2 [==============================] - 0s 6ms/step - loss: 10.8668 - mae: 10.8668\n",
      "Epoch 362/500\n",
      "2/2 [==============================] - 0s 5ms/step - loss: 6.8152 - mae: 6.8152\n",
      "Epoch 363/500\n",
      "2/2 [==============================] - 0s 6ms/step - loss: 23.7671 - mae: 23.7671\n",
      "Epoch 364/500\n",
      "2/2 [==============================] - 0s 5ms/step - loss: 29.4516 - mae: 29.4516\n",
      "Epoch 365/500\n",
      "2/2 [==============================] - 0s 6ms/step - loss: 8.2652 - mae: 8.2652\n",
      "Epoch 366/500\n",
      "2/2 [==============================] - 0s 5ms/step - loss: 6.1080 - mae: 6.1080\n",
      "Epoch 367/500\n",
      "2/2 [==============================] - 0s 6ms/step - loss: 34.5251 - mae: 34.5251\n",
      "Epoch 368/500\n",
      "2/2 [==============================] - 0s 6ms/step - loss: 7.3423 - mae: 7.3423\n",
      "Epoch 369/500\n",
      "2/2 [==============================] - 0s 6ms/step - loss: 8.6898 - mae: 8.6898\n",
      "Epoch 370/500\n",
      "2/2 [==============================] - 0s 6ms/step - loss: 14.2302 - mae: 14.2302\n",
      "Epoch 371/500\n",
      "2/2 [==============================] - 0s 6ms/step - loss: 6.8412 - mae: 6.8412\n",
      "Epoch 372/500\n",
      "2/2 [==============================] - 0s 6ms/step - loss: 6.5548 - mae: 6.5548\n",
      "Epoch 373/500\n",
      "2/2 [==============================] - 0s 6ms/step - loss: 24.1617 - mae: 24.1617\n",
      "Epoch 374/500\n",
      "2/2 [==============================] - 0s 9ms/step - loss: 10.2324 - mae: 10.2324\n",
      "Epoch 375/500\n",
      "2/2 [==============================] - 0s 6ms/step - loss: 12.8561 - mae: 12.8561\n",
      "Epoch 376/500\n",
      "2/2 [==============================] - 0s 5ms/step - loss: 14.7294 - mae: 14.7294\n",
      "Epoch 377/500\n",
      "2/2 [==============================] - 0s 5ms/step - loss: 14.6581 - mae: 14.6581\n",
      "Epoch 378/500\n",
      "2/2 [==============================] - 0s 6ms/step - loss: 16.1816 - mae: 16.1816\n",
      "Epoch 379/500\n",
      "2/2 [==============================] - 0s 5ms/step - loss: 20.6170 - mae: 20.6170\n",
      "Epoch 380/500\n",
      "2/2 [==============================] - 0s 5ms/step - loss: 34.1690 - mae: 34.1690\n",
      "Epoch 381/500\n",
      "2/2 [==============================] - 0s 5ms/step - loss: 8.8466 - mae: 8.8466\n",
      "Epoch 382/500\n",
      "2/2 [==============================] - 0s 6ms/step - loss: 9.6003 - mae: 9.6003\n",
      "Epoch 383/500\n",
      "2/2 [==============================] - 0s 5ms/step - loss: 5.7541 - mae: 5.7541\n",
      "Epoch 384/500\n",
      "2/2 [==============================] - 0s 6ms/step - loss: 8.7264 - mae: 8.7264\n",
      "Epoch 385/500\n",
      "2/2 [==============================] - 0s 5ms/step - loss: 4.9619 - mae: 4.9619\n",
      "Epoch 386/500\n",
      "2/2 [==============================] - 0s 5ms/step - loss: 25.1325 - mae: 25.1325\n",
      "Epoch 387/500\n",
      "2/2 [==============================] - 0s 5ms/step - loss: 15.1003 - mae: 15.1003\n",
      "Epoch 388/500\n",
      "2/2 [==============================] - 0s 5ms/step - loss: 6.6510 - mae: 6.6510\n",
      "Epoch 389/500\n",
      "2/2 [==============================] - 0s 6ms/step - loss: 17.5697 - mae: 17.5697\n",
      "Epoch 390/500\n",
      "2/2 [==============================] - 0s 6ms/step - loss: 23.8646 - mae: 23.8646\n",
      "Epoch 391/500\n",
      "2/2 [==============================] - 0s 5ms/step - loss: 16.5041 - mae: 16.5041\n",
      "Epoch 392/500\n",
      "2/2 [==============================] - 0s 5ms/step - loss: 8.3760 - mae: 8.3760\n",
      "Epoch 393/500\n",
      "2/2 [==============================] - 0s 5ms/step - loss: 18.1483 - mae: 18.1483\n",
      "Epoch 394/500\n",
      "2/2 [==============================] - 0s 6ms/step - loss: 14.2032 - mae: 14.2032\n",
      "Epoch 395/500\n",
      "2/2 [==============================] - 0s 6ms/step - loss: 28.6770 - mae: 28.6770\n",
      "Epoch 396/500\n",
      "2/2 [==============================] - 0s 6ms/step - loss: 8.2140 - mae: 8.2140\n",
      "Epoch 397/500\n",
      "2/2 [==============================] - 0s 5ms/step - loss: 10.5008 - mae: 10.5008\n",
      "Epoch 398/500\n",
      "2/2 [==============================] - 0s 5ms/step - loss: 7.3886 - mae: 7.3886\n",
      "Epoch 399/500\n",
      "2/2 [==============================] - 0s 6ms/step - loss: 15.5705 - mae: 15.5705\n",
      "Epoch 400/500\n",
      "2/2 [==============================] - 0s 5ms/step - loss: 6.7328 - mae: 6.7328\n",
      "Epoch 401/500\n",
      "2/2 [==============================] - 0s 5ms/step - loss: 7.9967 - mae: 7.9967\n",
      "Epoch 402/500\n",
      "2/2 [==============================] - 0s 5ms/step - loss: 16.4117 - mae: 16.4117\n",
      "Epoch 403/500\n",
      "2/2 [==============================] - 0s 5ms/step - loss: 12.3744 - mae: 12.3744\n",
      "Epoch 404/500\n",
      "2/2 [==============================] - 0s 5ms/step - loss: 22.9622 - mae: 22.9622\n",
      "Epoch 405/500\n",
      "2/2 [==============================] - 0s 6ms/step - loss: 18.0358 - mae: 18.0358\n",
      "Epoch 406/500\n",
      "2/2 [==============================] - 0s 5ms/step - loss: 7.0499 - mae: 7.0499\n",
      "Epoch 407/500\n",
      "2/2 [==============================] - 0s 5ms/step - loss: 12.6008 - mae: 12.6008\n",
      "Epoch 408/500\n",
      "2/2 [==============================] - 0s 9ms/step - loss: 5.6760 - mae: 5.6760\n",
      "Epoch 409/500\n",
      "2/2 [==============================] - 0s 9ms/step - loss: 31.1032 - mae: 31.1032\n",
      "Epoch 410/500\n",
      "2/2 [==============================] - 0s 6ms/step - loss: 9.2878 - mae: 9.2878\n",
      "Epoch 411/500\n",
      "2/2 [==============================] - 0s 5ms/step - loss: 14.8975 - mae: 14.8975\n",
      "Epoch 412/500\n",
      "2/2 [==============================] - 0s 5ms/step - loss: 21.7906 - mae: 21.7906\n",
      "Epoch 413/500\n",
      "2/2 [==============================] - 0s 5ms/step - loss: 12.5315 - mae: 12.5315\n",
      "Epoch 414/500\n",
      "2/2 [==============================] - 0s 5ms/step - loss: 6.0892 - mae: 6.0892\n",
      "Epoch 415/500\n",
      "2/2 [==============================] - 0s 5ms/step - loss: 13.2479 - mae: 13.2479\n",
      "Epoch 416/500\n",
      "2/2 [==============================] - 0s 5ms/step - loss: 27.4799 - mae: 27.4799\n",
      "Epoch 417/500\n",
      "2/2 [==============================] - 0s 5ms/step - loss: 10.5094 - mae: 10.5094\n",
      "Epoch 418/500\n",
      "2/2 [==============================] - 0s 6ms/step - loss: 12.8664 - mae: 12.8664\n",
      "Epoch 419/500\n",
      "2/2 [==============================] - 0s 5ms/step - loss: 15.9078 - mae: 15.9078\n",
      "Epoch 420/500\n",
      "2/2 [==============================] - 0s 5ms/step - loss: 24.8112 - mae: 24.8112\n",
      "Epoch 421/500\n",
      "2/2 [==============================] - 0s 5ms/step - loss: 17.2305 - mae: 17.2305\n",
      "Epoch 422/500\n",
      "2/2 [==============================] - 0s 5ms/step - loss: 7.8209 - mae: 7.8209\n",
      "Epoch 423/500\n",
      "2/2 [==============================] - 0s 6ms/step - loss: 25.4348 - mae: 25.4348\n",
      "Epoch 424/500\n",
      "2/2 [==============================] - 0s 5ms/step - loss: 14.9808 - mae: 14.9808\n",
      "Epoch 425/500\n",
      "2/2 [==============================] - 0s 5ms/step - loss: 7.1135 - mae: 7.1135\n",
      "Epoch 426/500\n",
      "2/2 [==============================] - 0s 6ms/step - loss: 20.1833 - mae: 20.1833\n",
      "Epoch 427/500\n",
      "2/2 [==============================] - 0s 6ms/step - loss: 6.2750 - mae: 6.2750\n",
      "Epoch 428/500\n",
      "2/2 [==============================] - 0s 5ms/step - loss: 12.6740 - mae: 12.6740\n",
      "Epoch 429/500\n",
      "2/2 [==============================] - 0s 5ms/step - loss: 12.1141 - mae: 12.1141\n",
      "Epoch 430/500\n",
      "2/2 [==============================] - 0s 5ms/step - loss: 11.1108 - mae: 11.1108\n",
      "Epoch 431/500\n",
      "2/2 [==============================] - 0s 5ms/step - loss: 10.0320 - mae: 10.0320\n",
      "Epoch 432/500\n",
      "2/2 [==============================] - 0s 5ms/step - loss: 13.3857 - mae: 13.3857\n",
      "Epoch 433/500\n",
      "2/2 [==============================] - 0s 5ms/step - loss: 11.3815 - mae: 11.3815\n",
      "Epoch 434/500\n",
      "2/2 [==============================] - 0s 5ms/step - loss: 30.4108 - mae: 30.4108\n",
      "Epoch 435/500\n",
      "2/2 [==============================] - 0s 5ms/step - loss: 10.4998 - mae: 10.4998\n",
      "Epoch 436/500\n",
      "2/2 [==============================] - 0s 10ms/step - loss: 28.8946 - mae: 28.8946\n",
      "Epoch 437/500\n",
      "2/2 [==============================] - 0s 7ms/step - loss: 8.5978 - mae: 8.5978\n",
      "Epoch 438/500\n",
      "2/2 [==============================] - 0s 5ms/step - loss: 12.7351 - mae: 12.7351\n",
      "Epoch 439/500\n",
      "2/2 [==============================] - 0s 5ms/step - loss: 33.6851 - mae: 33.6851\n",
      "Epoch 440/500\n",
      "2/2 [==============================] - 0s 6ms/step - loss: 15.1013 - mae: 15.1013\n",
      "Epoch 441/500\n",
      "2/2 [==============================] - 0s 7ms/step - loss: 17.4850 - mae: 17.4850\n",
      "Epoch 442/500\n",
      "2/2 [==============================] - 0s 5ms/step - loss: 22.3219 - mae: 22.3219\n",
      "Epoch 443/500\n",
      "2/2 [==============================] - 0s 6ms/step - loss: 23.5445 - mae: 23.5445\n",
      "Epoch 444/500\n",
      "2/2 [==============================] - 0s 5ms/step - loss: 10.9628 - mae: 10.9628\n",
      "Epoch 445/500\n",
      "2/2 [==============================] - 0s 6ms/step - loss: 14.9245 - mae: 14.9245\n",
      "Epoch 446/500\n",
      "2/2 [==============================] - 0s 5ms/step - loss: 18.0095 - mae: 18.0095\n",
      "Epoch 447/500\n",
      "2/2 [==============================] - 0s 5ms/step - loss: 5.4203 - mae: 5.4203\n",
      "Epoch 448/500\n",
      "2/2 [==============================] - 0s 5ms/step - loss: 10.0613 - mae: 10.0613\n",
      "Epoch 449/500\n",
      "2/2 [==============================] - 0s 5ms/step - loss: 14.0126 - mae: 14.0126\n",
      "Epoch 450/500\n",
      "2/2 [==============================] - 0s 6ms/step - loss: 16.7844 - mae: 16.7844\n",
      "Epoch 451/500\n",
      "2/2 [==============================] - 0s 5ms/step - loss: 14.2932 - mae: 14.2932\n",
      "Epoch 452/500\n",
      "2/2 [==============================] - 0s 5ms/step - loss: 30.6302 - mae: 30.6302\n",
      "Epoch 453/500\n",
      "2/2 [==============================] - 0s 6ms/step - loss: 7.6462 - mae: 7.6462\n",
      "Epoch 454/500\n",
      "2/2 [==============================] - 0s 5ms/step - loss: 28.1541 - mae: 28.1541\n",
      "Epoch 455/500\n",
      "2/2 [==============================] - 0s 5ms/step - loss: 7.9726 - mae: 7.9726\n",
      "Epoch 456/500\n",
      "2/2 [==============================] - 0s 5ms/step - loss: 10.3967 - mae: 10.3967\n",
      "Epoch 457/500\n",
      "2/2 [==============================] - 0s 5ms/step - loss: 15.0332 - mae: 15.0332\n",
      "Epoch 458/500\n",
      "2/2 [==============================] - 0s 5ms/step - loss: 16.5656 - mae: 16.5656\n",
      "Epoch 459/500\n",
      "2/2 [==============================] - 0s 5ms/step - loss: 26.8692 - mae: 26.8692\n",
      "Epoch 460/500\n",
      "2/2 [==============================] - 0s 5ms/step - loss: 12.4564 - mae: 12.4564\n",
      "Epoch 461/500\n",
      "2/2 [==============================] - 0s 5ms/step - loss: 12.4855 - mae: 12.4855\n",
      "Epoch 462/500\n",
      "2/2 [==============================] - 0s 6ms/step - loss: 13.3220 - mae: 13.3220\n",
      "Epoch 463/500\n",
      "2/2 [==============================] - 0s 8ms/step - loss: 29.5632 - mae: 29.5632\n",
      "Epoch 464/500\n",
      "2/2 [==============================] - 0s 8ms/step - loss: 3.4548 - mae: 3.4548\n",
      "Epoch 465/500\n",
      "2/2 [==============================] - 0s 5ms/step - loss: 15.2220 - mae: 15.2220\n",
      "Epoch 466/500\n",
      "2/2 [==============================] - 0s 6ms/step - loss: 20.8473 - mae: 20.8473\n",
      "Epoch 467/500\n",
      "2/2 [==============================] - 0s 7ms/step - loss: 30.4749 - mae: 30.4749\n",
      "Epoch 468/500\n",
      "2/2 [==============================] - 0s 5ms/step - loss: 11.0367 - mae: 11.0367\n",
      "Epoch 469/500\n",
      "2/2 [==============================] - 0s 5ms/step - loss: 12.8116 - mae: 12.8116\n",
      "Epoch 470/500\n",
      "2/2 [==============================] - 0s 5ms/step - loss: 3.2227 - mae: 3.2227\n",
      "Epoch 471/500\n",
      "2/2 [==============================] - 0s 6ms/step - loss: 16.7037 - mae: 16.7037\n",
      "Epoch 472/500\n",
      "2/2 [==============================] - 0s 5ms/step - loss: 13.3959 - mae: 13.3959\n",
      "Epoch 473/500\n",
      "2/2 [==============================] - 0s 6ms/step - loss: 15.2824 - mae: 15.2824\n",
      "Epoch 474/500\n",
      "2/2 [==============================] - 0s 6ms/step - loss: 11.7499 - mae: 11.7499\n",
      "Epoch 475/500\n",
      "2/2 [==============================] - 0s 5ms/step - loss: 16.4213 - mae: 16.4213\n",
      "Epoch 476/500\n",
      "2/2 [==============================] - 0s 5ms/step - loss: 13.8793 - mae: 13.8793\n",
      "Epoch 477/500\n",
      "2/2 [==============================] - 0s 5ms/step - loss: 30.6796 - mae: 30.6796\n",
      "Epoch 478/500\n",
      "2/2 [==============================] - 0s 5ms/step - loss: 8.5993 - mae: 8.5993\n",
      "Epoch 479/500\n",
      "2/2 [==============================] - 0s 5ms/step - loss: 10.7402 - mae: 10.7402\n",
      "Epoch 480/500\n",
      "2/2 [==============================] - 0s 6ms/step - loss: 17.9092 - mae: 17.9092\n",
      "Epoch 481/500\n",
      "2/2 [==============================] - 0s 5ms/step - loss: 15.8122 - mae: 15.8122\n",
      "Epoch 482/500\n",
      "2/2 [==============================] - 0s 5ms/step - loss: 21.3183 - mae: 21.3183\n",
      "Epoch 483/500\n",
      "2/2 [==============================] - 0s 6ms/step - loss: 25.3596 - mae: 25.3596\n",
      "Epoch 484/500\n",
      "2/2 [==============================] - 0s 7ms/step - loss: 23.9484 - mae: 23.9484\n",
      "Epoch 485/500\n",
      "2/2 [==============================] - 0s 5ms/step - loss: 5.7549 - mae: 5.7549\n",
      "Epoch 486/500\n",
      "2/2 [==============================] - 0s 6ms/step - loss: 19.9679 - mae: 19.9679\n",
      "Epoch 487/500\n",
      "2/2 [==============================] - 0s 5ms/step - loss: 14.0446 - mae: 14.0446\n",
      "Epoch 488/500\n",
      "2/2 [==============================] - 0s 9ms/step - loss: 30.6177 - mae: 30.6177\n",
      "Epoch 489/500\n",
      "2/2 [==============================] - 0s 8ms/step - loss: 11.9507 - mae: 11.9507\n",
      "Epoch 490/500\n",
      "2/2 [==============================] - 0s 6ms/step - loss: 12.7393 - mae: 12.7393\n",
      "Epoch 491/500\n",
      "2/2 [==============================] - 0s 5ms/step - loss: 23.6260 - mae: 23.6260\n",
      "Epoch 492/500\n",
      "2/2 [==============================] - 0s 6ms/step - loss: 20.5103 - mae: 20.5103\n",
      "Epoch 493/500\n",
      "2/2 [==============================] - 0s 5ms/step - loss: 4.9753 - mae: 4.9753\n",
      "Epoch 494/500\n",
      "2/2 [==============================] - 0s 5ms/step - loss: 12.7699 - mae: 12.7699\n",
      "Epoch 495/500\n",
      "2/2 [==============================] - 0s 6ms/step - loss: 13.3863 - mae: 13.3863\n",
      "Epoch 496/500\n",
      "2/2 [==============================] - 0s 6ms/step - loss: 12.6787 - mae: 12.6787\n",
      "Epoch 497/500\n",
      "2/2 [==============================] - 0s 5ms/step - loss: 17.6282 - mae: 17.6282\n",
      "Epoch 498/500\n",
      "2/2 [==============================] - 0s 6ms/step - loss: 23.5378 - mae: 23.5378\n",
      "Epoch 499/500\n",
      "2/2 [==============================] - 0s 5ms/step - loss: 9.3540 - mae: 9.3540\n",
      "Epoch 500/500\n",
      "2/2 [==============================] - 0s 6ms/step - loss: 14.6298 - mae: 14.6298\n"
     ]
    },
    {
     "data": {
      "text/plain": [
       "<keras.callbacks.History at 0x7f4da3f27e50>"
      ]
     },
     "execution_count": 42,
     "metadata": {},
     "output_type": "execute_result"
    }
   ],
   "source": [
    "# Set random seed\n",
    "tf.random.set_seed(42)\n",
    "\n",
    "# 1. Create the model\n",
    "model_3 = tf.keras.Sequential([\n",
    "    tf.keras.layers.Dense(10, input_shape=[1]),\n",
    "    tf.keras.layers.Dense(1)\n",
    "])\n",
    "\n",
    "# 2. Compile the model\n",
    "model_3.compile(loss=\"mae\",\n",
    "                optimizer=tf.keras.optimizers.SGD(),\n",
    "                metrics=[\"mae\"])\n",
    "\n",
    "# 3. Fit the model\n",
    "model_3.fit(X_train, y_train, epochs=500)"
   ]
  },
  {
   "cell_type": "code",
   "execution_count": 43,
   "metadata": {},
   "outputs": [
    {
     "name": "stdout",
     "output_type": "stream",
     "text": [
      "1/1 [==============================] - 0s 39ms/step\n"
     ]
    },
    {
     "data": {
      "image/png": "[encoded data removed]",
      "text/plain": [
       "<Figure size 1000x700 with 1 Axes>"
      ]
     },
     "metadata": {},
     "output_type": "display_data"
    }
   ],
   "source": [
    "# Make and plot predictions of model_3\n",
    "y_preds_3 = model_3.predict(X_test)\n",
    "plot_predictions(predictions=y_preds_3)"
   ]
  },
  {
   "cell_type": "code",
   "execution_count": 44,
   "metadata": {},
   "outputs": [
    {
     "data": {
      "text/plain": [
       "(<tf.Tensor: shape=(), dtype=float32, numpy=68.700775>,\n",
       " <tf.Tensor: shape=(), dtype=float32, numpy=4806.2803>)"
      ]
     },
     "execution_count": 44,
     "metadata": {},
     "output_type": "execute_result"
    }
   ],
   "source": [
    "# Calculate model_2 evaluation metrics\n",
    "mae_3 = mae(y_test, y_preds_3)\n",
    "mse_3 = mse(y_test, y_preds_3)\n",
    "mae_3, mse_3"
   ]
  },
  {
   "attachments": {},
   "cell_type": "markdown",
   "metadata": {},
   "source": [
    "**Note:** Start with a small model first then add complexity when needed"
   ]
  },
  {
   "attachments": {},
   "cell_type": "markdown",
   "metadata": {},
   "source": [
    "### Comparing the results of experiments"
   ]
  },
  {
   "cell_type": "code",
   "execution_count": 45,
   "metadata": {},
   "outputs": [
    {
     "data": {
      "text/html": [
       "<div><style>\n",
       ".dataframe > thead > tr > th,\n",
       ".dataframe > tbody > tr > td {\n",
       "  text-align: right;\n",
       "}\n",
       "</style>\n",
       "<small>shape: (3, 3)</small><table border=\"1\" class=\"dataframe\"><thead><tr><th>model</th><th>mae</th><th>mse</th></tr><tr><td>str</td><td>f64</td><td>f64</td></tr></thead><tbody><tr><td>&quot;model_1&quot;</td><td>30.72521</td><td>954.546875</td></tr><tr><td>&quot;model_2&quot;</td><td>43.094734</td><td>1883.036743</td></tr><tr><td>&quot;model_3&quot;</td><td>68.700775</td><td>4806.280273</td></tr></tbody></table></div>"
      ],
      "text/plain": [
       "shape: (3, 3)\n",
       "┌─────────┬───────────┬─────────────┐\n",
       "│ model   ┆ mae       ┆ mse         │\n",
       "│ ---     ┆ ---       ┆ ---         │\n",
       "│ str     ┆ f64       ┆ f64         │\n",
       "╞═════════╪═══════════╪═════════════╡\n",
       "│ model_1 ┆ 30.72521  ┆ 954.546875  │\n",
       "│ model_2 ┆ 43.094734 ┆ 1883.036743 │\n",
       "│ model_3 ┆ 68.700775 ┆ 4806.280273 │\n",
       "└─────────┴───────────┴─────────────┘"
      ]
     },
     "execution_count": 45,
     "metadata": {},
     "output_type": "execute_result"
    }
   ],
   "source": [
    "# Create a dataframe and compare model results\n",
    "import polars as pl\n",
    "\n",
    "model_results = [[\"model_1\", mae_1, mse_1],\n",
    "                 [\"model_2\", mae_2, mse_2],\n",
    "                 [\"model_3\", mae_3, mse_3]]\n",
    "\n",
    "all_results = pl.DataFrame(model_results, schema=[\"model\", \"mae\", \"mse\"])\n",
    "all_results"
   ]
  },
  {
   "cell_type": "code",
   "execution_count": 46,
   "metadata": {},
   "outputs": [
    {
     "name": "stdout",
     "output_type": "stream",
     "text": [
      "Model: \"sequential_4\"\n",
      "_________________________________________________________________\n",
      " Layer (type)                Output Shape              Param #   \n",
      "=================================================================\n",
      " dense_5 (Dense)             (None, 10)                20        \n",
      "                                                                 \n",
      " dense_6 (Dense)             (None, 1)                 11        \n",
      "                                                                 \n",
      "=================================================================\n",
      "Total params: 31\n",
      "Trainable params: 31\n",
      "Non-trainable params: 0\n",
      "_________________________________________________________________\n"
     ]
    }
   ],
   "source": [
    "model_2.summary()"
   ]
  },
  {
   "attachments": {},
   "cell_type": "markdown",
   "metadata": {},
   "source": [
    "**Note:** One of the main goals should be to minimize the time between experiments. The more experiments, the more things will be figured out."
   ]
  },
  {
   "attachments": {},
   "cell_type": "markdown",
   "metadata": {},
   "source": [
    "## Tracking experiments\n",
    "\n",
    "One really good habit in machine learning modelling is to track the results of experiments.\n",
    "\n",
    "* TensorBoard - component of the TensorFlow library to help track modelling experiments.\n",
    "* Weights & Biases - a tool for tracking all kinds of machine learning experiments (plugs straight into TensorBoard)"
   ]
  },
  {
   "attachments": {},
   "cell_type": "markdown",
   "metadata": {},
   "source": [
    "## Saving Models\n",
    "\n",
    "Saving models allows them to be used outside of the current environment.\n",
    "\n",
    "2 main formats for saving model:\n",
    "\n",
    "1. The SavedModel format\n",
    "2. The HDF5 format"
   ]
  },
  {
   "cell_type": "code",
   "execution_count": 47,
   "metadata": {},
   "outputs": [
    {
     "name": "stdout",
     "output_type": "stream",
     "text": [
      "INFO:tensorflow:Assets written to: models/best_model_SaveModel_format/assets\n"
     ]
    }
   ],
   "source": [
    "# Save model with SaveModel format\n",
    "model_2.save(\"models/best_model_SaveModel_format\")"
   ]
  },
  {
   "cell_type": "code",
   "execution_count": 48,
   "metadata": {},
   "outputs": [],
   "source": [
    "# Save model with HDF5 format\n",
    "model_2.save(\"models/best_model_SaveModel_format.h5\")"
   ]
  },
  {
   "attachments": {},
   "cell_type": "markdown",
   "metadata": {},
   "source": [
    "## Loading a saved model"
   ]
  },
  {
   "cell_type": "code",
   "execution_count": 49,
   "metadata": {},
   "outputs": [
    {
     "name": "stdout",
     "output_type": "stream",
     "text": [
      "Model: \"sequential_4\"\n",
      "_________________________________________________________________\n",
      " Layer (type)                Output Shape              Param #   \n",
      "=================================================================\n",
      " dense_5 (Dense)             (None, 10)                20        \n",
      "                                                                 \n",
      " dense_6 (Dense)             (None, 1)                 11        \n",
      "                                                                 \n",
      "=================================================================\n",
      "Total params: 31\n",
      "Trainable params: 31\n",
      "Non-trainable params: 0\n",
      "_________________________________________________________________\n"
     ]
    }
   ],
   "source": [
    "# Load the SaveModel format model\n",
    "loaded_SaveModel_format = tf.keras.models.load_model(\"models/best_model_SaveModel_format\")\n",
    "loaded_SaveModel_format.summary()"
   ]
  },
  {
   "cell_type": "code",
   "execution_count": 50,
   "metadata": {},
   "outputs": [
    {
     "name": "stdout",
     "output_type": "stream",
     "text": [
      "1/1 [==============================] - 0s 27ms/step\n",
      "1/1 [==============================] - 0s 41ms/step\n"
     ]
    },
    {
     "data": {
      "text/plain": [
       "array([[ True],\n",
       "       [ True],\n",
       "       [ True],\n",
       "       [ True],\n",
       "       [ True],\n",
       "       [ True],\n",
       "       [ True],\n",
       "       [ True],\n",
       "       [ True],\n",
       "       [ True]])"
      ]
     },
     "execution_count": 50,
     "metadata": {},
     "output_type": "execute_result"
    }
   ],
   "source": [
    "# Compare model_2 predictions with SaveModel format model predictions\n",
    "model_2_preds = model_2.predict(X_test)\n",
    "loaded_SaveModel_format_preds = loaded_SaveModel_format.predict(X_test)\n",
    "model_2_preds == loaded_SaveModel_format_preds"
   ]
  },
  {
   "cell_type": "code",
   "execution_count": 51,
   "metadata": {},
   "outputs": [
    {
     "name": "stdout",
     "output_type": "stream",
     "text": [
      "Model: \"sequential_4\"\n",
      "_________________________________________________________________\n",
      " Layer (type)                Output Shape              Param #   \n",
      "=================================================================\n",
      " dense_5 (Dense)             (None, 10)                20        \n",
      "                                                                 \n",
      " dense_6 (Dense)             (None, 1)                 11        \n",
      "                                                                 \n",
      "=================================================================\n",
      "Total params: 31\n",
      "Trainable params: 31\n",
      "Non-trainable params: 0\n",
      "_________________________________________________________________\n"
     ]
    }
   ],
   "source": [
    "# Load model using .h5 format\n",
    "loaded_h5_model = tf.keras.models.load_model(\"models/best_model_SaveModel_format.h5\")\n",
    "loaded_h5_model.summary()"
   ]
  },
  {
   "cell_type": "code",
   "execution_count": 52,
   "metadata": {},
   "outputs": [
    {
     "name": "stdout",
     "output_type": "stream",
     "text": [
      "1/1 [==============================] - 0s 15ms/step\n",
      "1/1 [==============================] - 0s 41ms/step\n"
     ]
    },
    {
     "data": {
      "text/plain": [
       "array([[ True],\n",
       "       [ True],\n",
       "       [ True],\n",
       "       [ True],\n",
       "       [ True],\n",
       "       [ True],\n",
       "       [ True],\n",
       "       [ True],\n",
       "       [ True],\n",
       "       [ True]])"
      ]
     },
     "execution_count": 52,
     "metadata": {},
     "output_type": "execute_result"
    }
   ],
   "source": [
    "# Compare model_2 predictions with .h5 format model predictions\n",
    "model_2_preds = model_2.predict(X_test)\n",
    "loaded_h5_model_preds = loaded_h5_model.predict(X_test)\n",
    "model_2_preds == loaded_h5_model_preds"
   ]
  },
  {
   "attachments": {},
   "cell_type": "markdown",
   "metadata": {},
   "source": [
    "### A larger example"
   ]
  },
  {
   "cell_type": "code",
   "execution_count": 53,
   "metadata": {},
   "outputs": [],
   "source": [
    "# Import required libraries\n",
    "import tensorflow as tf\n",
    "import polars as pl\n",
    "import matplotlib.pyplot as plt"
   ]
  },
  {
   "cell_type": "code",
   "execution_count": 54,
   "metadata": {},
   "outputs": [
    {
     "data": {
      "text/html": [
       "<div><style>\n",
       ".dataframe > thead > tr > th,\n",
       ".dataframe > tbody > tr > td {\n",
       "  text-align: right;\n",
       "}\n",
       "</style>\n",
       "<small>shape: (1_338, 7)</small><table border=\"1\" class=\"dataframe\"><thead><tr><th>age</th><th>sex</th><th>bmi</th><th>children</th><th>smoker</th><th>region</th><th>charges</th></tr><tr><td>i64</td><td>str</td><td>f64</td><td>i64</td><td>str</td><td>str</td><td>f64</td></tr></thead><tbody><tr><td>19</td><td>&quot;female&quot;</td><td>27.9</td><td>0</td><td>&quot;yes&quot;</td><td>&quot;southwest&quot;</td><td>16884.924</td></tr><tr><td>18</td><td>&quot;male&quot;</td><td>33.77</td><td>1</td><td>&quot;no&quot;</td><td>&quot;southeast&quot;</td><td>1725.5523</td></tr><tr><td>28</td><td>&quot;male&quot;</td><td>33.0</td><td>3</td><td>&quot;no&quot;</td><td>&quot;southeast&quot;</td><td>4449.462</td></tr><tr><td>33</td><td>&quot;male&quot;</td><td>22.705</td><td>0</td><td>&quot;no&quot;</td><td>&quot;northwest&quot;</td><td>21984.47061</td></tr><tr><td>32</td><td>&quot;male&quot;</td><td>28.88</td><td>0</td><td>&quot;no&quot;</td><td>&quot;northwest&quot;</td><td>3866.8552</td></tr><tr><td>31</td><td>&quot;female&quot;</td><td>25.74</td><td>0</td><td>&quot;no&quot;</td><td>&quot;southeast&quot;</td><td>3756.6216</td></tr><tr><td>46</td><td>&quot;female&quot;</td><td>33.44</td><td>1</td><td>&quot;no&quot;</td><td>&quot;southeast&quot;</td><td>8240.5896</td></tr><tr><td>37</td><td>&quot;female&quot;</td><td>27.74</td><td>3</td><td>&quot;no&quot;</td><td>&quot;northwest&quot;</td><td>7281.5056</td></tr><tr><td>37</td><td>&quot;male&quot;</td><td>29.83</td><td>2</td><td>&quot;no&quot;</td><td>&quot;northeast&quot;</td><td>6406.4107</td></tr><tr><td>60</td><td>&quot;female&quot;</td><td>25.84</td><td>0</td><td>&quot;no&quot;</td><td>&quot;northwest&quot;</td><td>28923.13692</td></tr><tr><td>25</td><td>&quot;male&quot;</td><td>26.22</td><td>0</td><td>&quot;no&quot;</td><td>&quot;northeast&quot;</td><td>2721.3208</td></tr><tr><td>62</td><td>&quot;female&quot;</td><td>26.29</td><td>0</td><td>&quot;yes&quot;</td><td>&quot;southeast&quot;</td><td>27808.7251</td></tr><tr><td>&hellip;</td><td>&hellip;</td><td>&hellip;</td><td>&hellip;</td><td>&hellip;</td><td>&hellip;</td><td>&hellip;</td></tr><tr><td>42</td><td>&quot;female&quot;</td><td>32.87</td><td>0</td><td>&quot;no&quot;</td><td>&quot;northeast&quot;</td><td>7050.0213</td></tr><tr><td>51</td><td>&quot;male&quot;</td><td>30.03</td><td>1</td><td>&quot;no&quot;</td><td>&quot;southeast&quot;</td><td>9377.9047</td></tr><tr><td>23</td><td>&quot;female&quot;</td><td>24.225</td><td>2</td><td>&quot;no&quot;</td><td>&quot;northeast&quot;</td><td>22395.74424</td></tr><tr><td>52</td><td>&quot;male&quot;</td><td>38.6</td><td>2</td><td>&quot;no&quot;</td><td>&quot;southwest&quot;</td><td>10325.206</td></tr><tr><td>57</td><td>&quot;female&quot;</td><td>25.74</td><td>2</td><td>&quot;no&quot;</td><td>&quot;southeast&quot;</td><td>12629.1656</td></tr><tr><td>23</td><td>&quot;female&quot;</td><td>33.4</td><td>0</td><td>&quot;no&quot;</td><td>&quot;southwest&quot;</td><td>10795.93733</td></tr><tr><td>52</td><td>&quot;female&quot;</td><td>44.7</td><td>3</td><td>&quot;no&quot;</td><td>&quot;southwest&quot;</td><td>11411.685</td></tr><tr><td>50</td><td>&quot;male&quot;</td><td>30.97</td><td>3</td><td>&quot;no&quot;</td><td>&quot;northwest&quot;</td><td>10600.5483</td></tr><tr><td>18</td><td>&quot;female&quot;</td><td>31.92</td><td>0</td><td>&quot;no&quot;</td><td>&quot;northeast&quot;</td><td>2205.9808</td></tr><tr><td>18</td><td>&quot;female&quot;</td><td>36.85</td><td>0</td><td>&quot;no&quot;</td><td>&quot;southeast&quot;</td><td>1629.8335</td></tr><tr><td>21</td><td>&quot;female&quot;</td><td>25.8</td><td>0</td><td>&quot;no&quot;</td><td>&quot;southwest&quot;</td><td>2007.945</td></tr><tr><td>61</td><td>&quot;female&quot;</td><td>29.07</td><td>0</td><td>&quot;yes&quot;</td><td>&quot;northwest&quot;</td><td>29141.3603</td></tr></tbody></table></div>"
      ],
      "text/plain": [
       "shape: (1_338, 7)\n",
       "┌─────┬────────┬────────┬──────────┬────────┬───────────┬─────────────┐\n",
       "│ age ┆ sex    ┆ bmi    ┆ children ┆ smoker ┆ region    ┆ charges     │\n",
       "│ --- ┆ ---    ┆ ---    ┆ ---      ┆ ---    ┆ ---       ┆ ---         │\n",
       "│ i64 ┆ str    ┆ f64    ┆ i64      ┆ str    ┆ str       ┆ f64         │\n",
       "╞═════╪════════╪════════╪══════════╪════════╪═══════════╪═════════════╡\n",
       "│ 19  ┆ female ┆ 27.9   ┆ 0        ┆ yes    ┆ southwest ┆ 16884.924   │\n",
       "│ 18  ┆ male   ┆ 33.77  ┆ 1        ┆ no     ┆ southeast ┆ 1725.5523   │\n",
       "│ 28  ┆ male   ┆ 33.0   ┆ 3        ┆ no     ┆ southeast ┆ 4449.462    │\n",
       "│ 33  ┆ male   ┆ 22.705 ┆ 0        ┆ no     ┆ northwest ┆ 21984.47061 │\n",
       "│ …   ┆ …      ┆ …      ┆ …        ┆ …      ┆ …         ┆ …           │\n",
       "│ 18  ┆ female ┆ 31.92  ┆ 0        ┆ no     ┆ northeast ┆ 2205.9808   │\n",
       "│ 18  ┆ female ┆ 36.85  ┆ 0        ┆ no     ┆ southeast ┆ 1629.8335   │\n",
       "│ 21  ┆ female ┆ 25.8   ┆ 0        ┆ no     ┆ southwest ┆ 2007.945    │\n",
       "│ 61  ┆ female ┆ 29.07  ┆ 0        ┆ yes    ┆ northwest ┆ 29141.3603  │\n",
       "└─────┴────────┴────────┴──────────┴────────┴───────────┴─────────────┘"
      ]
     },
     "execution_count": 54,
     "metadata": {},
     "output_type": "execute_result"
    }
   ],
   "source": [
    "# Read the insurance dataset\n",
    "insurance = pl.read_csv(\"data/insurance.csv\")\n",
    "insurance"
   ]
  },
  {
   "cell_type": "code",
   "execution_count": 55,
   "metadata": {},
   "outputs": [
    {
     "data": {
      "text/html": [
       "<div><style>\n",
       ".dataframe > thead > tr > th,\n",
       ".dataframe > tbody > tr > td {\n",
       "  text-align: right;\n",
       "}\n",
       "</style>\n",
       "<small>shape: (1_338, 1)</small><table border=\"1\" class=\"dataframe\"><thead><tr><th>smoker</th></tr><tr><td>str</td></tr></thead><tbody><tr><td>&quot;yes&quot;</td></tr><tr><td>&quot;no&quot;</td></tr><tr><td>&quot;no&quot;</td></tr><tr><td>&quot;no&quot;</td></tr><tr><td>&quot;no&quot;</td></tr><tr><td>&quot;no&quot;</td></tr><tr><td>&quot;no&quot;</td></tr><tr><td>&quot;no&quot;</td></tr><tr><td>&quot;no&quot;</td></tr><tr><td>&quot;no&quot;</td></tr><tr><td>&quot;no&quot;</td></tr><tr><td>&quot;yes&quot;</td></tr><tr><td>&hellip;</td></tr><tr><td>&quot;no&quot;</td></tr><tr><td>&quot;no&quot;</td></tr><tr><td>&quot;no&quot;</td></tr><tr><td>&quot;no&quot;</td></tr><tr><td>&quot;no&quot;</td></tr><tr><td>&quot;no&quot;</td></tr><tr><td>&quot;no&quot;</td></tr><tr><td>&quot;no&quot;</td></tr><tr><td>&quot;no&quot;</td></tr><tr><td>&quot;no&quot;</td></tr><tr><td>&quot;no&quot;</td></tr><tr><td>&quot;yes&quot;</td></tr></tbody></table></div>"
      ],
      "text/plain": [
       "shape: (1_338, 1)\n",
       "┌────────┐\n",
       "│ smoker │\n",
       "│ ---    │\n",
       "│ str    │\n",
       "╞════════╡\n",
       "│ yes    │\n",
       "│ no     │\n",
       "│ no     │\n",
       "│ no     │\n",
       "│ …      │\n",
       "│ no     │\n",
       "│ no     │\n",
       "│ no     │\n",
       "│ yes    │\n",
       "└────────┘"
      ]
     },
     "execution_count": 55,
     "metadata": {},
     "output_type": "execute_result"
    }
   ],
   "source": [
    "insurance.select(\"smoker\")"
   ]
  },
  {
   "cell_type": "code",
   "execution_count": 56,
   "metadata": {},
   "outputs": [
    {
     "data": {
      "text/html": [
       "<div><style>\n",
       ".dataframe > thead > tr > th,\n",
       ".dataframe > tbody > tr > td {\n",
       "  text-align: right;\n",
       "}\n",
       "</style>\n",
       "<small>shape: (1_338, 12)</small><table border=\"1\" class=\"dataframe\"><thead><tr><th>age</th><th>sex_female</th><th>sex_male</th><th>bmi</th><th>children</th><th>smoker_no</th><th>smoker_yes</th><th>region_northeast</th><th>region_northwest</th><th>region_southeast</th><th>region_southwest</th><th>charges</th></tr><tr><td>i64</td><td>u8</td><td>u8</td><td>f64</td><td>i64</td><td>u8</td><td>u8</td><td>u8</td><td>u8</td><td>u8</td><td>u8</td><td>f64</td></tr></thead><tbody><tr><td>19</td><td>1</td><td>0</td><td>27.9</td><td>0</td><td>0</td><td>1</td><td>0</td><td>0</td><td>0</td><td>1</td><td>16884.924</td></tr><tr><td>18</td><td>0</td><td>1</td><td>33.77</td><td>1</td><td>1</td><td>0</td><td>0</td><td>0</td><td>1</td><td>0</td><td>1725.5523</td></tr><tr><td>28</td><td>0</td><td>1</td><td>33.0</td><td>3</td><td>1</td><td>0</td><td>0</td><td>0</td><td>1</td><td>0</td><td>4449.462</td></tr><tr><td>33</td><td>0</td><td>1</td><td>22.705</td><td>0</td><td>1</td><td>0</td><td>0</td><td>1</td><td>0</td><td>0</td><td>21984.47061</td></tr><tr><td>32</td><td>0</td><td>1</td><td>28.88</td><td>0</td><td>1</td><td>0</td><td>0</td><td>1</td><td>0</td><td>0</td><td>3866.8552</td></tr><tr><td>31</td><td>1</td><td>0</td><td>25.74</td><td>0</td><td>1</td><td>0</td><td>0</td><td>0</td><td>1</td><td>0</td><td>3756.6216</td></tr><tr><td>46</td><td>1</td><td>0</td><td>33.44</td><td>1</td><td>1</td><td>0</td><td>0</td><td>0</td><td>1</td><td>0</td><td>8240.5896</td></tr><tr><td>37</td><td>1</td><td>0</td><td>27.74</td><td>3</td><td>1</td><td>0</td><td>0</td><td>1</td><td>0</td><td>0</td><td>7281.5056</td></tr><tr><td>37</td><td>0</td><td>1</td><td>29.83</td><td>2</td><td>1</td><td>0</td><td>1</td><td>0</td><td>0</td><td>0</td><td>6406.4107</td></tr><tr><td>60</td><td>1</td><td>0</td><td>25.84</td><td>0</td><td>1</td><td>0</td><td>0</td><td>1</td><td>0</td><td>0</td><td>28923.13692</td></tr><tr><td>25</td><td>0</td><td>1</td><td>26.22</td><td>0</td><td>1</td><td>0</td><td>1</td><td>0</td><td>0</td><td>0</td><td>2721.3208</td></tr><tr><td>62</td><td>1</td><td>0</td><td>26.29</td><td>0</td><td>0</td><td>1</td><td>0</td><td>0</td><td>1</td><td>0</td><td>27808.7251</td></tr><tr><td>&hellip;</td><td>&hellip;</td><td>&hellip;</td><td>&hellip;</td><td>&hellip;</td><td>&hellip;</td><td>&hellip;</td><td>&hellip;</td><td>&hellip;</td><td>&hellip;</td><td>&hellip;</td><td>&hellip;</td></tr><tr><td>42</td><td>1</td><td>0</td><td>32.87</td><td>0</td><td>1</td><td>0</td><td>1</td><td>0</td><td>0</td><td>0</td><td>7050.0213</td></tr><tr><td>51</td><td>0</td><td>1</td><td>30.03</td><td>1</td><td>1</td><td>0</td><td>0</td><td>0</td><td>1</td><td>0</td><td>9377.9047</td></tr><tr><td>23</td><td>1</td><td>0</td><td>24.225</td><td>2</td><td>1</td><td>0</td><td>1</td><td>0</td><td>0</td><td>0</td><td>22395.74424</td></tr><tr><td>52</td><td>0</td><td>1</td><td>38.6</td><td>2</td><td>1</td><td>0</td><td>0</td><td>0</td><td>0</td><td>1</td><td>10325.206</td></tr><tr><td>57</td><td>1</td><td>0</td><td>25.74</td><td>2</td><td>1</td><td>0</td><td>0</td><td>0</td><td>1</td><td>0</td><td>12629.1656</td></tr><tr><td>23</td><td>1</td><td>0</td><td>33.4</td><td>0</td><td>1</td><td>0</td><td>0</td><td>0</td><td>0</td><td>1</td><td>10795.93733</td></tr><tr><td>52</td><td>1</td><td>0</td><td>44.7</td><td>3</td><td>1</td><td>0</td><td>0</td><td>0</td><td>0</td><td>1</td><td>11411.685</td></tr><tr><td>50</td><td>0</td><td>1</td><td>30.97</td><td>3</td><td>1</td><td>0</td><td>0</td><td>1</td><td>0</td><td>0</td><td>10600.5483</td></tr><tr><td>18</td><td>1</td><td>0</td><td>31.92</td><td>0</td><td>1</td><td>0</td><td>1</td><td>0</td><td>0</td><td>0</td><td>2205.9808</td></tr><tr><td>18</td><td>1</td><td>0</td><td>36.85</td><td>0</td><td>1</td><td>0</td><td>0</td><td>0</td><td>1</td><td>0</td><td>1629.8335</td></tr><tr><td>21</td><td>1</td><td>0</td><td>25.8</td><td>0</td><td>1</td><td>0</td><td>0</td><td>0</td><td>0</td><td>1</td><td>2007.945</td></tr><tr><td>61</td><td>1</td><td>0</td><td>29.07</td><td>0</td><td>0</td><td>1</td><td>0</td><td>1</td><td>0</td><td>0</td><td>29141.3603</td></tr></tbody></table></div>"
      ],
      "text/plain": [
       "shape: (1_338, 12)\n",
       "┌─────┬────────────┬──────────┬────────┬───┬────────────┬────────────┬───────────────┬─────────────┐\n",
       "│ age ┆ sex_female ┆ sex_male ┆ bmi    ┆ … ┆ region_nor ┆ region_sou ┆ region_southw ┆ charges     │\n",
       "│ --- ┆ ---        ┆ ---      ┆ ---    ┆   ┆ thwest     ┆ theast     ┆ est           ┆ ---         │\n",
       "│ i64 ┆ u8         ┆ u8       ┆ f64    ┆   ┆ ---        ┆ ---        ┆ ---           ┆ f64         │\n",
       "│     ┆            ┆          ┆        ┆   ┆ u8         ┆ u8         ┆ u8            ┆             │\n",
       "╞═════╪════════════╪══════════╪════════╪═══╪════════════╪════════════╪═══════════════╪═════════════╡\n",
       "│ 19  ┆ 1          ┆ 0        ┆ 27.9   ┆ … ┆ 0          ┆ 0          ┆ 1             ┆ 16884.924   │\n",
       "│ 18  ┆ 0          ┆ 1        ┆ 33.77  ┆ … ┆ 0          ┆ 1          ┆ 0             ┆ 1725.5523   │\n",
       "│ 28  ┆ 0          ┆ 1        ┆ 33.0   ┆ … ┆ 0          ┆ 1          ┆ 0             ┆ 4449.462    │\n",
       "│ 33  ┆ 0          ┆ 1        ┆ 22.705 ┆ … ┆ 1          ┆ 0          ┆ 0             ┆ 21984.47061 │\n",
       "│ …   ┆ …          ┆ …        ┆ …      ┆ … ┆ …          ┆ …          ┆ …             ┆ …           │\n",
       "│ 18  ┆ 1          ┆ 0        ┆ 31.92  ┆ … ┆ 0          ┆ 0          ┆ 0             ┆ 2205.9808   │\n",
       "│ 18  ┆ 1          ┆ 0        ┆ 36.85  ┆ … ┆ 0          ┆ 1          ┆ 0             ┆ 1629.8335   │\n",
       "│ 21  ┆ 1          ┆ 0        ┆ 25.8   ┆ … ┆ 0          ┆ 0          ┆ 1             ┆ 2007.945    │\n",
       "│ 61  ┆ 1          ┆ 0        ┆ 29.07  ┆ … ┆ 1          ┆ 0          ┆ 0             ┆ 29141.3603  │\n",
       "└─────┴────────────┴──────────┴────────┴───┴────────────┴────────────┴───────────────┴─────────────┘"
      ]
     },
     "execution_count": 56,
     "metadata": {},
     "output_type": "execute_result"
    }
   ],
   "source": [
    "# One-hot encode dataframe to turn categorical variables into numerical\n",
    "insurance_one_hot = insurance.to_dummies(columns=[\"smoker\",\"sex\",\"region\"])\n",
    "insurance_one_hot"
   ]
  },
  {
   "cell_type": "code",
   "execution_count": 57,
   "metadata": {},
   "outputs": [
    {
     "data": {
      "text/plain": [
       "(array([[19.,  1.,  0., ...,  0.,  0.,  1.],\n",
       "        [18.,  0.,  1., ...,  0.,  1.,  0.],\n",
       "        [28.,  0.,  1., ...,  0.,  1.,  0.],\n",
       "        ...,\n",
       "        [18.,  1.,  0., ...,  0.,  1.,  0.],\n",
       "        [21.,  1.,  0., ...,  0.,  0.,  1.],\n",
       "        [61.,  1.,  0., ...,  1.,  0.,  0.]]),\n",
       " array([[16884.924 ],\n",
       "        [ 1725.5523],\n",
       "        [ 4449.462 ],\n",
       "        ...,\n",
       "        [ 1629.8335],\n",
       "        [ 2007.945 ],\n",
       "        [29141.3603]]))"
      ]
     },
     "execution_count": 57,
     "metadata": {},
     "output_type": "execute_result"
    }
   ],
   "source": [
    "# Create X and y values (features and labels)\n",
    "X = insurance_one_hot.drop(\"charges\").to_numpy()\n",
    "y = insurance_one_hot.select(\"charges\").to_numpy()\n",
    "X, y"
   ]
  },
  {
   "cell_type": "code",
   "execution_count": 58,
   "metadata": {},
   "outputs": [
    {
     "data": {
      "text/plain": [
       "(1070, 268, 1070, 268)"
      ]
     },
     "execution_count": 58,
     "metadata": {},
     "output_type": "execute_result"
    }
   ],
   "source": [
    "# Create training and test sets\n",
    "from sklearn.model_selection import train_test_split\n",
    "X_train, X_test, y_train, y_test = train_test_split(X, y, test_size=0.2, random_state=42)\n",
    "\n",
    "len(X_train), len(X_test), len(y_train), len(y_test)"
   ]
  },
  {
   "cell_type": "code",
   "execution_count": 59,
   "metadata": {},
   "outputs": [
    {
     "name": "stdout",
     "output_type": "stream",
     "text": [
      "Epoch 1/100\n",
      "34/34 [==============================] - 1s 4ms/step - loss: 8617.2803 - mae: 8617.2803\n",
      "Epoch 2/100\n",
      "34/34 [==============================] - 0s 4ms/step - loss: 7884.0391 - mae: 7884.0391\n",
      "Epoch 3/100\n",
      "34/34 [==============================] - 0s 5ms/step - loss: 7578.6782 - mae: 7578.6782\n",
      "Epoch 4/100\n",
      "34/34 [==============================] - 0s 4ms/step - loss: 7667.5718 - mae: 7667.5718\n",
      "Epoch 5/100\n",
      "34/34 [==============================] - 0s 4ms/step - loss: 7736.6113 - mae: 7736.6113\n",
      "Epoch 6/100\n",
      "34/34 [==============================] - 0s 3ms/step - loss: 7623.0869 - mae: 7623.0869\n",
      "Epoch 7/100\n",
      "34/34 [==============================] - 0s 4ms/step - loss: 7569.8643 - mae: 7569.8643\n",
      "Epoch 8/100\n",
      "34/34 [==============================] - 0s 3ms/step - loss: 7807.2363 - mae: 7807.2363\n",
      "Epoch 9/100\n",
      "34/34 [==============================] - 0s 3ms/step - loss: 7585.3169 - mae: 7585.3169\n",
      "Epoch 10/100\n",
      "34/34 [==============================] - 0s 3ms/step - loss: 7716.5562 - mae: 7716.5562\n",
      "Epoch 11/100\n",
      "34/34 [==============================] - 0s 3ms/step - loss: 7550.9214 - mae: 7550.9214\n",
      "Epoch 12/100\n",
      "34/34 [==============================] - 0s 3ms/step - loss: 7575.5986 - mae: 7575.5986\n",
      "Epoch 13/100\n",
      "34/34 [==============================] - 0s 3ms/step - loss: 7783.1538 - mae: 7783.1538\n",
      "Epoch 14/100\n",
      "34/34 [==============================] - 0s 3ms/step - loss: 7689.3223 - mae: 7689.3223\n",
      "Epoch 15/100\n",
      "34/34 [==============================] - 0s 3ms/step - loss: 7523.2466 - mae: 7523.2466\n",
      "Epoch 16/100\n",
      "34/34 [==============================] - 0s 3ms/step - loss: 7828.2388 - mae: 7828.2388\n",
      "Epoch 17/100\n",
      "34/34 [==============================] - 0s 3ms/step - loss: 7518.5151 - mae: 7518.5151\n",
      "Epoch 18/100\n",
      "34/34 [==============================] - 0s 3ms/step - loss: 7849.1470 - mae: 7849.1470\n",
      "Epoch 19/100\n",
      "34/34 [==============================] - 0s 3ms/step - loss: 7755.6743 - mae: 7755.6743\n",
      "Epoch 20/100\n",
      "34/34 [==============================] - 0s 3ms/step - loss: 7869.9019 - mae: 7869.9019\n",
      "Epoch 21/100\n",
      "34/34 [==============================] - 0s 3ms/step - loss: 7454.8130 - mae: 7454.8130\n",
      "Epoch 22/100\n",
      "34/34 [==============================] - 0s 3ms/step - loss: 7860.2056 - mae: 7860.2056\n",
      "Epoch 23/100\n",
      "34/34 [==============================] - 0s 3ms/step - loss: 7557.8770 - mae: 7557.8770\n",
      "Epoch 24/100\n",
      "34/34 [==============================] - 0s 3ms/step - loss: 7598.5610 - mae: 7598.5610\n",
      "Epoch 25/100\n",
      "34/34 [==============================] - 0s 3ms/step - loss: 7420.7539 - mae: 7420.7539\n",
      "Epoch 26/100\n",
      "34/34 [==============================] - 0s 3ms/step - loss: 7701.7119 - mae: 7701.7119\n",
      "Epoch 27/100\n",
      "34/34 [==============================] - 0s 3ms/step - loss: 7696.3276 - mae: 7696.3276\n",
      "Epoch 28/100\n",
      "34/34 [==============================] - 0s 3ms/step - loss: 7470.9556 - mae: 7470.9556\n",
      "Epoch 29/100\n",
      "34/34 [==============================] - 0s 3ms/step - loss: 7679.3345 - mae: 7679.3345\n",
      "Epoch 30/100\n",
      "34/34 [==============================] - 0s 3ms/step - loss: 7625.2349 - mae: 7625.2349\n",
      "Epoch 31/100\n",
      "34/34 [==============================] - 0s 3ms/step - loss: 7540.4077 - mae: 7540.4077\n",
      "Epoch 32/100\n",
      "34/34 [==============================] - 0s 3ms/step - loss: 7371.2886 - mae: 7371.2886\n",
      "Epoch 33/100\n",
      "34/34 [==============================] - 0s 3ms/step - loss: 7392.8696 - mae: 7392.8696\n",
      "Epoch 34/100\n",
      "34/34 [==============================] - 0s 3ms/step - loss: 7443.2422 - mae: 7443.2422\n",
      "Epoch 35/100\n",
      "34/34 [==============================] - 0s 3ms/step - loss: 7596.0356 - mae: 7596.0356\n",
      "Epoch 36/100\n",
      "34/34 [==============================] - 0s 3ms/step - loss: 7570.3418 - mae: 7570.3418\n",
      "Epoch 37/100\n",
      "34/34 [==============================] - 0s 3ms/step - loss: 7575.0547 - mae: 7575.0547\n",
      "Epoch 38/100\n",
      "34/34 [==============================] - 0s 3ms/step - loss: 7411.8872 - mae: 7411.8872\n",
      "Epoch 39/100\n",
      "34/34 [==============================] - 0s 3ms/step - loss: 7539.7388 - mae: 7539.7388\n",
      "Epoch 40/100\n",
      "34/34 [==============================] - 0s 3ms/step - loss: 7553.2554 - mae: 7553.2554\n",
      "Epoch 41/100\n",
      "34/34 [==============================] - 0s 3ms/step - loss: 7725.3584 - mae: 7725.3584\n",
      "Epoch 42/100\n",
      "34/34 [==============================] - 0s 3ms/step - loss: 7356.9741 - mae: 7356.9741\n",
      "Epoch 43/100\n",
      "34/34 [==============================] - 0s 3ms/step - loss: 7656.8989 - mae: 7656.8989\n",
      "Epoch 44/100\n",
      "34/34 [==============================] - 0s 3ms/step - loss: 7341.8252 - mae: 7341.8252\n",
      "Epoch 45/100\n",
      "34/34 [==============================] - 0s 3ms/step - loss: 7546.9814 - mae: 7546.9814\n",
      "Epoch 46/100\n",
      "34/34 [==============================] - 0s 3ms/step - loss: 7451.5654 - mae: 7451.5654\n",
      "Epoch 47/100\n",
      "34/34 [==============================] - 0s 3ms/step - loss: 7399.5039 - mae: 7399.5039\n",
      "Epoch 48/100\n",
      "34/34 [==============================] - 0s 3ms/step - loss: 7524.9458 - mae: 7524.9458\n",
      "Epoch 49/100\n",
      "34/34 [==============================] - 0s 3ms/step - loss: 7518.2974 - mae: 7518.2974\n",
      "Epoch 50/100\n",
      "34/34 [==============================] - 0s 3ms/step - loss: 7513.0034 - mae: 7513.0034\n",
      "Epoch 51/100\n",
      "34/34 [==============================] - 0s 3ms/step - loss: 7310.4580 - mae: 7310.4580\n",
      "Epoch 52/100\n",
      "34/34 [==============================] - 0s 3ms/step - loss: 7628.2041 - mae: 7628.2041\n",
      "Epoch 53/100\n",
      "34/34 [==============================] - 0s 3ms/step - loss: 7350.2695 - mae: 7350.2695\n",
      "Epoch 54/100\n",
      "34/34 [==============================] - 0s 3ms/step - loss: 7123.3779 - mae: 7123.3779\n",
      "Epoch 55/100\n",
      "34/34 [==============================] - 0s 3ms/step - loss: 7404.0488 - mae: 7404.0488\n",
      "Epoch 56/100\n",
      "34/34 [==============================] - 0s 3ms/step - loss: 7406.0020 - mae: 7406.0020\n",
      "Epoch 57/100\n",
      "34/34 [==============================] - 0s 3ms/step - loss: 7351.5225 - mae: 7351.5225\n",
      "Epoch 58/100\n",
      "34/34 [==============================] - 0s 3ms/step - loss: 7587.2251 - mae: 7587.2251\n",
      "Epoch 59/100\n",
      "34/34 [==============================] - 0s 3ms/step - loss: 7521.0625 - mae: 7521.0625\n",
      "Epoch 60/100\n",
      "34/34 [==============================] - 0s 3ms/step - loss: 7330.2227 - mae: 7330.2227\n",
      "Epoch 61/100\n",
      "34/34 [==============================] - 0s 3ms/step - loss: 7560.7231 - mae: 7560.7231\n",
      "Epoch 62/100\n",
      "34/34 [==============================] - 0s 3ms/step - loss: 7386.0103 - mae: 7386.0103\n",
      "Epoch 63/100\n",
      "34/34 [==============================] - 0s 3ms/step - loss: 7399.5488 - mae: 7399.5488\n",
      "Epoch 64/100\n",
      "34/34 [==============================] - 0s 3ms/step - loss: 7468.3315 - mae: 7468.3315\n",
      "Epoch 65/100\n",
      "34/34 [==============================] - 0s 3ms/step - loss: 7532.6729 - mae: 7532.6729\n",
      "Epoch 66/100\n",
      "34/34 [==============================] - 0s 3ms/step - loss: 7448.1880 - mae: 7448.1880\n",
      "Epoch 67/100\n",
      "34/34 [==============================] - 0s 3ms/step - loss: 7496.5117 - mae: 7496.5117\n",
      "Epoch 68/100\n",
      "34/34 [==============================] - 0s 3ms/step - loss: 7503.9707 - mae: 7503.9707\n",
      "Epoch 69/100\n",
      "34/34 [==============================] - 0s 3ms/step - loss: 7440.0303 - mae: 7440.0303\n",
      "Epoch 70/100\n",
      "34/34 [==============================] - 0s 3ms/step - loss: 7662.7749 - mae: 7662.7749\n",
      "Epoch 71/100\n",
      "34/34 [==============================] - 0s 3ms/step - loss: 7164.0068 - mae: 7164.0068\n",
      "Epoch 72/100\n",
      "34/34 [==============================] - 0s 3ms/step - loss: 7040.2339 - mae: 7040.2339\n",
      "Epoch 73/100\n",
      "34/34 [==============================] - 0s 3ms/step - loss: 7580.7622 - mae: 7580.7622\n",
      "Epoch 74/100\n",
      "34/34 [==============================] - 0s 3ms/step - loss: 7517.1499 - mae: 7517.1499\n",
      "Epoch 75/100\n",
      "34/34 [==============================] - 0s 3ms/step - loss: 7286.1270 - mae: 7286.1270\n",
      "Epoch 76/100\n",
      "34/34 [==============================] - 0s 3ms/step - loss: 7182.4385 - mae: 7182.4385\n",
      "Epoch 77/100\n",
      "34/34 [==============================] - 0s 3ms/step - loss: 7367.4512 - mae: 7367.4512\n",
      "Epoch 78/100\n",
      "34/34 [==============================] - 0s 3ms/step - loss: 7367.5093 - mae: 7367.5093\n",
      "Epoch 79/100\n",
      "34/34 [==============================] - 0s 3ms/step - loss: 7505.0928 - mae: 7505.0928\n",
      "Epoch 80/100\n",
      "34/34 [==============================] - 0s 3ms/step - loss: 7206.2915 - mae: 7206.2915\n",
      "Epoch 81/100\n",
      "34/34 [==============================] - 0s 3ms/step - loss: 7195.3110 - mae: 7195.3110\n",
      "Epoch 82/100\n",
      "34/34 [==============================] - 0s 3ms/step - loss: 7187.9912 - mae: 7187.9912\n",
      "Epoch 83/100\n",
      "34/34 [==============================] - 0s 3ms/step - loss: 7536.4824 - mae: 7536.4824\n",
      "Epoch 84/100\n",
      "34/34 [==============================] - 0s 3ms/step - loss: 7350.0952 - mae: 7350.0952\n",
      "Epoch 85/100\n",
      "34/34 [==============================] - 0s 3ms/step - loss: 7350.9546 - mae: 7350.9546\n",
      "Epoch 86/100\n",
      "34/34 [==============================] - 0s 3ms/step - loss: 7503.3940 - mae: 7503.3940\n",
      "Epoch 87/100\n",
      "34/34 [==============================] - 0s 3ms/step - loss: 7092.3374 - mae: 7092.3374\n",
      "Epoch 88/100\n",
      "34/34 [==============================] - 0s 3ms/step - loss: 7236.8579 - mae: 7236.8579\n",
      "Epoch 89/100\n",
      "34/34 [==============================] - 0s 3ms/step - loss: 7197.8608 - mae: 7197.8608\n",
      "Epoch 90/100\n",
      "34/34 [==============================] - 0s 3ms/step - loss: 7192.6782 - mae: 7192.6782\n",
      "Epoch 91/100\n",
      "34/34 [==============================] - 0s 3ms/step - loss: 7221.8159 - mae: 7221.8159\n",
      "Epoch 92/100\n",
      "34/34 [==============================] - 0s 3ms/step - loss: 7311.9043 - mae: 7311.9043\n",
      "Epoch 93/100\n",
      "34/34 [==============================] - 0s 3ms/step - loss: 7357.0356 - mae: 7357.0356\n",
      "Epoch 94/100\n",
      "34/34 [==============================] - 0s 3ms/step - loss: 7092.9907 - mae: 7092.9907\n",
      "Epoch 95/100\n",
      "34/34 [==============================] - 0s 3ms/step - loss: 7184.8418 - mae: 7184.8418\n",
      "Epoch 96/100\n",
      "34/34 [==============================] - 0s 3ms/step - loss: 7218.5503 - mae: 7218.5503\n",
      "Epoch 97/100\n",
      "34/34 [==============================] - 0s 3ms/step - loss: 7289.3672 - mae: 7289.3672\n",
      "Epoch 98/100\n",
      "34/34 [==============================] - 0s 3ms/step - loss: 7428.1567 - mae: 7428.1567\n",
      "Epoch 99/100\n",
      "34/34 [==============================] - 0s 3ms/step - loss: 7374.0366 - mae: 7374.0366\n",
      "Epoch 100/100\n",
      "34/34 [==============================] - 0s 3ms/step - loss: 7426.2559 - mae: 7426.2559\n"
     ]
    },
    {
     "data": {
      "text/plain": [
       "<keras.callbacks.History at 0x7f4c5eb280d0>"
      ]
     },
     "execution_count": 59,
     "metadata": {},
     "output_type": "execute_result"
    }
   ],
   "source": [
    "# Build a neural network\n",
    "tf.random.set_seed(42)\n",
    "\n",
    "# 1. Create a model\n",
    "insurance_model = tf.keras.Sequential([\n",
    "  tf.keras.layers.Dense(10),\n",
    "  tf.keras.layers.Dense(1)\n",
    "])\n",
    "\n",
    "# 2. Compile the model\n",
    "insurance_model.compile(loss=\"mae\",\n",
    "                        optimizer=tf.keras.optimizers.SGD(),\n",
    "                        metrics=[\"mae\"])\n",
    "\n",
    "# 3. Fit the model\n",
    "insurance_model.fit(X_train, y_train, epochs=100)"
   ]
  },
  {
   "cell_type": "code",
   "execution_count": 60,
   "metadata": {},
   "outputs": [
    {
     "name": "stdout",
     "output_type": "stream",
     "text": [
      "9/9 [==============================] - 0s 3ms/step - loss: 8829.2598 - mae: 8829.2598\n"
     ]
    },
    {
     "data": {
      "text/plain": [
       "[8829.259765625, 8829.259765625]"
      ]
     },
     "execution_count": 60,
     "metadata": {},
     "output_type": "execute_result"
    }
   ],
   "source": [
    "# Check the results of the insurance model on the test data\n",
    "insurance_model.evaluate(X_test, y_test)"
   ]
  },
  {
   "attachments": {},
   "cell_type": "markdown",
   "metadata": {},
   "source": [
    "Improve the model\n",
    "\n",
    "To try improving the model, run 2 experiments:\n",
    "1. Add an extra layer with more hidden units and change optimizer to Adam\n",
    "2. Train longer for 200 epochs and same as 1st experiment"
   ]
  },
  {
   "cell_type": "code",
   "execution_count": 61,
   "metadata": {},
   "outputs": [
    {
     "name": "stdout",
     "output_type": "stream",
     "text": [
      "Epoch 1/100\n",
      "34/34 [==============================] - 1s 6ms/step - loss: 13271.5098 - mae: 13271.5098\n",
      "Epoch 2/100\n",
      "34/34 [==============================] - 0s 5ms/step - loss: 13061.3740 - mae: 13061.3740\n",
      "Epoch 3/100\n",
      "34/34 [==============================] - 0s 4ms/step - loss: 12628.9141 - mae: 12628.9141\n",
      "Epoch 4/100\n",
      "34/34 [==============================] - 0s 4ms/step - loss: 11812.7871 - mae: 11812.7871\n",
      "Epoch 5/100\n",
      "34/34 [==============================] - 0s 4ms/step - loss: 10530.0391 - mae: 10530.0391\n",
      "Epoch 6/100\n",
      "34/34 [==============================] - 0s 4ms/step - loss: 9031.9004 - mae: 9031.9004\n",
      "Epoch 7/100\n",
      "34/34 [==============================] - 0s 4ms/step - loss: 7841.0776 - mae: 7841.0776\n",
      "Epoch 8/100\n",
      "34/34 [==============================] - 0s 4ms/step - loss: 7445.9941 - mae: 7445.9941\n",
      "Epoch 9/100\n",
      "34/34 [==============================] - 0s 4ms/step - loss: 7394.6372 - mae: 7394.6372\n",
      "Epoch 10/100\n",
      "34/34 [==============================] - 0s 3ms/step - loss: 7375.0742 - mae: 7375.0742\n",
      "Epoch 11/100\n",
      "34/34 [==============================] - 0s 3ms/step - loss: 7355.9834 - mae: 7355.9834\n",
      "Epoch 12/100\n",
      "34/34 [==============================] - 0s 3ms/step - loss: 7333.0645 - mae: 7333.0645\n",
      "Epoch 13/100\n",
      "34/34 [==============================] - 0s 3ms/step - loss: 7312.2173 - mae: 7312.2173\n",
      "Epoch 14/100\n",
      "34/34 [==============================] - 0s 3ms/step - loss: 7289.1792 - mae: 7289.1792\n",
      "Epoch 15/100\n",
      "34/34 [==============================] - 0s 3ms/step - loss: 7269.8545 - mae: 7269.8545\n",
      "Epoch 16/100\n",
      "34/34 [==============================] - 0s 3ms/step - loss: 7247.0435 - mae: 7247.0435\n",
      "Epoch 17/100\n",
      "34/34 [==============================] - 0s 3ms/step - loss: 7224.4561 - mae: 7224.4561\n",
      "Epoch 18/100\n",
      "34/34 [==============================] - 0s 3ms/step - loss: 7200.1997 - mae: 7200.1997\n",
      "Epoch 19/100\n",
      "34/34 [==============================] - 0s 3ms/step - loss: 7176.3735 - mae: 7176.3735\n",
      "Epoch 20/100\n",
      "34/34 [==============================] - 0s 3ms/step - loss: 7150.9087 - mae: 7150.9087\n",
      "Epoch 21/100\n",
      "34/34 [==============================] - 0s 3ms/step - loss: 7129.8179 - mae: 7129.8179\n",
      "Epoch 22/100\n",
      "34/34 [==============================] - 0s 3ms/step - loss: 7101.2656 - mae: 7101.2656\n",
      "Epoch 23/100\n",
      "34/34 [==============================] - 0s 3ms/step - loss: 7073.7588 - mae: 7073.7588\n",
      "Epoch 24/100\n",
      "34/34 [==============================] - 0s 3ms/step - loss: 7046.7310 - mae: 7046.7310\n",
      "Epoch 25/100\n",
      "34/34 [==============================] - 0s 3ms/step - loss: 7025.0601 - mae: 7025.0601\n",
      "Epoch 26/100\n",
      "34/34 [==============================] - 0s 4ms/step - loss: 6992.4619 - mae: 6992.4619\n",
      "Epoch 27/100\n",
      "34/34 [==============================] - 0s 4ms/step - loss: 6961.3955 - mae: 6961.3955\n",
      "Epoch 28/100\n",
      "34/34 [==============================] - 0s 3ms/step - loss: 6929.9468 - mae: 6929.9468\n",
      "Epoch 29/100\n",
      "34/34 [==============================] - 0s 3ms/step - loss: 6899.2710 - mae: 6899.2710\n",
      "Epoch 30/100\n",
      "34/34 [==============================] - 0s 3ms/step - loss: 6870.8501 - mae: 6870.8501\n",
      "Epoch 31/100\n",
      "34/34 [==============================] - 0s 3ms/step - loss: 6836.1899 - mae: 6836.1899\n",
      "Epoch 32/100\n",
      "34/34 [==============================] - 0s 3ms/step - loss: 6803.9849 - mae: 6803.9849\n",
      "Epoch 33/100\n",
      "34/34 [==============================] - 0s 3ms/step - loss: 6768.2109 - mae: 6768.2109\n",
      "Epoch 34/100\n",
      "34/34 [==============================] - 0s 3ms/step - loss: 6733.1353 - mae: 6733.1353\n",
      "Epoch 35/100\n",
      "34/34 [==============================] - 0s 3ms/step - loss: 6697.7988 - mae: 6697.7988\n",
      "Epoch 36/100\n",
      "34/34 [==============================] - 0s 3ms/step - loss: 6661.1899 - mae: 6661.1899\n",
      "Epoch 37/100\n",
      "34/34 [==============================] - 0s 3ms/step - loss: 6624.8809 - mae: 6624.8809\n",
      "Epoch 38/100\n",
      "34/34 [==============================] - 0s 3ms/step - loss: 6594.2319 - mae: 6594.2319\n",
      "Epoch 39/100\n",
      "34/34 [==============================] - 0s 3ms/step - loss: 6558.9639 - mae: 6558.9639\n",
      "Epoch 40/100\n",
      "34/34 [==============================] - 0s 3ms/step - loss: 6532.6792 - mae: 6532.6792\n",
      "Epoch 41/100\n",
      "34/34 [==============================] - 0s 3ms/step - loss: 6511.7197 - mae: 6511.7197\n",
      "Epoch 42/100\n",
      "34/34 [==============================] - 0s 3ms/step - loss: 6492.7178 - mae: 6492.7178\n",
      "Epoch 43/100\n",
      "34/34 [==============================] - 0s 3ms/step - loss: 6476.6758 - mae: 6476.6758\n",
      "Epoch 44/100\n",
      "34/34 [==============================] - 0s 3ms/step - loss: 6458.2070 - mae: 6458.2070\n",
      "Epoch 45/100\n",
      "34/34 [==============================] - 0s 3ms/step - loss: 6451.6562 - mae: 6451.6562\n",
      "Epoch 46/100\n",
      "34/34 [==============================] - 0s 3ms/step - loss: 6432.4272 - mae: 6432.4272\n",
      "Epoch 47/100\n",
      "34/34 [==============================] - 0s 3ms/step - loss: 6417.6743 - mae: 6417.6743\n",
      "Epoch 48/100\n",
      "34/34 [==============================] - 0s 3ms/step - loss: 6403.5112 - mae: 6403.5112\n",
      "Epoch 49/100\n",
      "34/34 [==============================] - 0s 3ms/step - loss: 6391.9253 - mae: 6391.9253\n",
      "Epoch 50/100\n",
      "34/34 [==============================] - 0s 3ms/step - loss: 6376.9644 - mae: 6376.9644\n",
      "Epoch 51/100\n",
      "34/34 [==============================] - 0s 3ms/step - loss: 6362.7012 - mae: 6362.7012\n",
      "Epoch 52/100\n",
      "34/34 [==============================] - 0s 3ms/step - loss: 6348.9614 - mae: 6348.9614\n",
      "Epoch 53/100\n",
      "34/34 [==============================] - 0s 3ms/step - loss: 6333.9365 - mae: 6333.9365\n",
      "Epoch 54/100\n",
      "34/34 [==============================] - 0s 3ms/step - loss: 6319.1641 - mae: 6319.1641\n",
      "Epoch 55/100\n",
      "34/34 [==============================] - 0s 3ms/step - loss: 6304.0396 - mae: 6304.0396\n",
      "Epoch 56/100\n",
      "34/34 [==============================] - 0s 3ms/step - loss: 6289.2798 - mae: 6289.2798\n",
      "Epoch 57/100\n",
      "34/34 [==============================] - 0s 3ms/step - loss: 6273.9404 - mae: 6273.9404\n",
      "Epoch 58/100\n",
      "34/34 [==============================] - 0s 3ms/step - loss: 6259.6440 - mae: 6259.6440\n",
      "Epoch 59/100\n",
      "34/34 [==============================] - 0s 3ms/step - loss: 6241.9619 - mae: 6241.9619\n",
      "Epoch 60/100\n",
      "34/34 [==============================] - 0s 3ms/step - loss: 6229.7339 - mae: 6229.7339\n",
      "Epoch 61/100\n",
      "34/34 [==============================] - 0s 3ms/step - loss: 6207.5640 - mae: 6207.5640\n",
      "Epoch 62/100\n",
      "34/34 [==============================] - 0s 3ms/step - loss: 6194.1821 - mae: 6194.1821\n",
      "Epoch 63/100\n",
      "34/34 [==============================] - 0s 3ms/step - loss: 6173.4331 - mae: 6173.4331\n",
      "Epoch 64/100\n",
      "34/34 [==============================] - 0s 3ms/step - loss: 6153.9331 - mae: 6153.9331\n",
      "Epoch 65/100\n",
      "34/34 [==============================] - 0s 3ms/step - loss: 6135.3574 - mae: 6135.3574\n",
      "Epoch 66/100\n",
      "34/34 [==============================] - 0s 3ms/step - loss: 6114.8022 - mae: 6114.8022\n",
      "Epoch 67/100\n",
      "34/34 [==============================] - 0s 3ms/step - loss: 6100.5000 - mae: 6100.5000\n",
      "Epoch 68/100\n",
      "34/34 [==============================] - 0s 3ms/step - loss: 6074.6885 - mae: 6074.6885\n",
      "Epoch 69/100\n",
      "34/34 [==============================] - 0s 3ms/step - loss: 6055.8047 - mae: 6055.8047\n",
      "Epoch 70/100\n",
      "34/34 [==============================] - 0s 3ms/step - loss: 6032.7471 - mae: 6032.7471\n",
      "Epoch 71/100\n",
      "34/34 [==============================] - 0s 3ms/step - loss: 6009.6777 - mae: 6009.6777\n",
      "Epoch 72/100\n",
      "34/34 [==============================] - 0s 4ms/step - loss: 5986.7627 - mae: 5986.7627\n",
      "Epoch 73/100\n",
      "34/34 [==============================] - 0s 3ms/step - loss: 5970.6890 - mae: 5970.6890\n",
      "Epoch 74/100\n",
      "34/34 [==============================] - 0s 3ms/step - loss: 5936.7563 - mae: 5936.7563\n",
      "Epoch 75/100\n",
      "34/34 [==============================] - 0s 3ms/step - loss: 5911.1787 - mae: 5911.1787\n",
      "Epoch 76/100\n",
      "34/34 [==============================] - 0s 3ms/step - loss: 5890.7549 - mae: 5890.7549\n",
      "Epoch 77/100\n",
      "34/34 [==============================] - 0s 3ms/step - loss: 5856.6216 - mae: 5856.6216\n",
      "Epoch 78/100\n",
      "34/34 [==============================] - 0s 3ms/step - loss: 5827.9810 - mae: 5827.9810\n",
      "Epoch 79/100\n",
      "34/34 [==============================] - 0s 3ms/step - loss: 5797.7070 - mae: 5797.7070\n",
      "Epoch 80/100\n",
      "34/34 [==============================] - 0s 3ms/step - loss: 5764.7539 - mae: 5764.7539\n",
      "Epoch 81/100\n",
      "34/34 [==============================] - 0s 3ms/step - loss: 5734.0898 - mae: 5734.0898\n",
      "Epoch 82/100\n",
      "34/34 [==============================] - 0s 3ms/step - loss: 5698.5815 - mae: 5698.5815\n",
      "Epoch 83/100\n",
      "34/34 [==============================] - 0s 3ms/step - loss: 5665.3257 - mae: 5665.3257\n",
      "Epoch 84/100\n",
      "34/34 [==============================] - 0s 3ms/step - loss: 5624.8647 - mae: 5624.8647\n",
      "Epoch 85/100\n",
      "34/34 [==============================] - 0s 3ms/step - loss: 5591.9380 - mae: 5591.9380\n",
      "Epoch 86/100\n",
      "34/34 [==============================] - 0s 3ms/step - loss: 5550.6265 - mae: 5550.6265\n",
      "Epoch 87/100\n",
      "34/34 [==============================] - 0s 3ms/step - loss: 5507.1704 - mae: 5507.1704\n",
      "Epoch 88/100\n",
      "34/34 [==============================] - 0s 3ms/step - loss: 5461.7231 - mae: 5461.7231\n",
      "Epoch 89/100\n",
      "34/34 [==============================] - 0s 3ms/step - loss: 5414.9888 - mae: 5414.9888\n",
      "Epoch 90/100\n",
      "34/34 [==============================] - 0s 3ms/step - loss: 5363.4492 - mae: 5363.4492\n",
      "Epoch 91/100\n",
      "34/34 [==============================] - 0s 3ms/step - loss: 5315.1709 - mae: 5315.1709\n",
      "Epoch 92/100\n",
      "34/34 [==============================] - 0s 3ms/step - loss: 5261.9668 - mae: 5261.9668\n",
      "Epoch 93/100\n",
      "34/34 [==============================] - 0s 3ms/step - loss: 5207.2334 - mae: 5207.2334\n",
      "Epoch 94/100\n",
      "34/34 [==============================] - 0s 3ms/step - loss: 5148.2290 - mae: 5148.2290\n",
      "Epoch 95/100\n",
      "34/34 [==============================] - 0s 3ms/step - loss: 5086.4907 - mae: 5086.4912\n",
      "Epoch 96/100\n",
      "34/34 [==============================] - 0s 3ms/step - loss: 5030.2739 - mae: 5030.2739\n",
      "Epoch 97/100\n",
      "34/34 [==============================] - 0s 3ms/step - loss: 4963.5879 - mae: 4963.5879\n",
      "Epoch 98/100\n",
      "34/34 [==============================] - 0s 3ms/step - loss: 4893.9009 - mae: 4893.9009\n",
      "Epoch 99/100\n",
      "34/34 [==============================] - 0s 3ms/step - loss: 4813.1313 - mae: 4813.1313\n",
      "Epoch 100/100\n",
      "34/34 [==============================] - 0s 3ms/step - loss: 4748.8535 - mae: 4748.8535\n"
     ]
    },
    {
     "data": {
      "text/plain": [
       "<keras.callbacks.History at 0x7f4c5ea82f90>"
      ]
     },
     "execution_count": 61,
     "metadata": {},
     "output_type": "execute_result"
    }
   ],
   "source": [
    "tf.random.set_seed(42)\n",
    "\n",
    "# 1. Create a model\n",
    "insurance_model_2 = tf.keras.Sequential([\n",
    "  tf.keras.layers.Dense(100),\n",
    "  tf.keras.layers.Dense(10),\n",
    "  tf.keras.layers.Dense(1)\n",
    "])\n",
    "\n",
    "# 2. Compile the model\n",
    "insurance_model_2.compile(loss=\"mae\",\n",
    "                        optimizer=tf.keras.optimizers.Adam(),\n",
    "                        metrics=[\"mae\"])\n",
    "\n",
    "# 3. Fit the model\n",
    "insurance_model_2.fit(X_train, y_train, epochs=100)"
   ]
  },
  {
   "cell_type": "code",
   "execution_count": 62,
   "metadata": {},
   "outputs": [
    {
     "name": "stdout",
     "output_type": "stream",
     "text": [
      "9/9 [==============================] - 0s 3ms/step - loss: 4629.8442 - mae: 4629.8442\n"
     ]
    },
    {
     "data": {
      "text/plain": [
       "[4629.84423828125, 4629.84423828125]"
      ]
     },
     "execution_count": 62,
     "metadata": {},
     "output_type": "execute_result"
    }
   ],
   "source": [
    "# Evaluate the larger model\n",
    "insurance_model_2.evaluate(X_test, y_test)"
   ]
  },
  {
   "cell_type": "code",
   "execution_count": 63,
   "metadata": {},
   "outputs": [
    {
     "name": "stdout",
     "output_type": "stream",
     "text": [
      "Epoch 1/200\n",
      "34/34 [==============================] - 1s 4ms/step - loss: 13276.5107 - mae: 13276.5107\n",
      "Epoch 2/200\n",
      "34/34 [==============================] - 0s 4ms/step - loss: 13085.6211 - mae: 13085.6211\n",
      "Epoch 3/200\n",
      "34/34 [==============================] - 0s 4ms/step - loss: 12700.1934 - mae: 12700.1934\n",
      "Epoch 4/200\n",
      "34/34 [==============================] - 0s 4ms/step - loss: 11973.6318 - mae: 11973.6318\n",
      "Epoch 5/200\n",
      "34/34 [==============================] - 0s 4ms/step - loss: 10793.6211 - mae: 10793.6211\n",
      "Epoch 6/200\n",
      "34/34 [==============================] - 0s 3ms/step - loss: 9326.8105 - mae: 9326.8105\n",
      "Epoch 7/200\n",
      "34/34 [==============================] - 0s 3ms/step - loss: 8037.6587 - mae: 8037.6587\n",
      "Epoch 8/200\n",
      "34/34 [==============================] - 0s 3ms/step - loss: 7492.0293 - mae: 7492.0293\n",
      "Epoch 9/200\n",
      "34/34 [==============================] - 0s 4ms/step - loss: 7413.0669 - mae: 7413.0669\n",
      "Epoch 10/200\n",
      "34/34 [==============================] - 0s 4ms/step - loss: 7393.1807 - mae: 7393.1807\n",
      "Epoch 11/200\n",
      "34/34 [==============================] - 0s 4ms/step - loss: 7373.6763 - mae: 7373.6763\n",
      "Epoch 12/200\n",
      "34/34 [==============================] - 0s 4ms/step - loss: 7350.7661 - mae: 7350.7661\n",
      "Epoch 13/200\n",
      "34/34 [==============================] - 0s 3ms/step - loss: 7329.3442 - mae: 7329.3442\n",
      "Epoch 14/200\n",
      "34/34 [==============================] - 0s 3ms/step - loss: 7306.0430 - mae: 7306.0430\n",
      "Epoch 15/200\n",
      "34/34 [==============================] - 0s 3ms/step - loss: 7286.0400 - mae: 7286.0400\n",
      "Epoch 16/200\n",
      "34/34 [==============================] - 0s 3ms/step - loss: 7262.9878 - mae: 7262.9878\n",
      "Epoch 17/200\n",
      "34/34 [==============================] - 0s 3ms/step - loss: 7240.4541 - mae: 7240.4541\n",
      "Epoch 18/200\n",
      "34/34 [==============================] - 0s 3ms/step - loss: 7215.8262 - mae: 7215.8262\n",
      "Epoch 19/200\n",
      "34/34 [==============================] - 0s 3ms/step - loss: 7191.7100 - mae: 7191.7100\n",
      "Epoch 20/200\n",
      "34/34 [==============================] - 0s 4ms/step - loss: 7165.9258 - mae: 7165.9258\n",
      "Epoch 21/200\n",
      "34/34 [==============================] - 0s 3ms/step - loss: 7143.9023 - mae: 7143.9023\n",
      "Epoch 22/200\n",
      "34/34 [==============================] - 0s 3ms/step - loss: 7115.2432 - mae: 7115.2432\n",
      "Epoch 23/200\n",
      "34/34 [==============================] - 0s 3ms/step - loss: 7087.7246 - mae: 7087.7246\n",
      "Epoch 24/200\n",
      "34/34 [==============================] - 0s 3ms/step - loss: 7059.4888 - mae: 7059.4888\n",
      "Epoch 25/200\n",
      "34/34 [==============================] - 0s 3ms/step - loss: 7038.0054 - mae: 7038.0054\n",
      "Epoch 26/200\n",
      "34/34 [==============================] - 0s 3ms/step - loss: 7002.9185 - mae: 7002.9185\n",
      "Epoch 27/200\n",
      "34/34 [==============================] - 0s 4ms/step - loss: 6971.9478 - mae: 6971.9478\n",
      "Epoch 28/200\n",
      "34/34 [==============================] - 0s 4ms/step - loss: 6939.9883 - mae: 6939.9883\n",
      "Epoch 29/200\n",
      "34/34 [==============================] - 0s 4ms/step - loss: 6907.6704 - mae: 6907.6704\n",
      "Epoch 30/200\n",
      "34/34 [==============================] - 0s 4ms/step - loss: 6878.7139 - mae: 6878.7139\n",
      "Epoch 31/200\n",
      "34/34 [==============================] - 0s 3ms/step - loss: 6842.9048 - mae: 6842.9048\n",
      "Epoch 32/200\n",
      "34/34 [==============================] - 0s 3ms/step - loss: 6809.6831 - mae: 6809.6831\n",
      "Epoch 33/200\n",
      "34/34 [==============================] - 0s 3ms/step - loss: 6773.5508 - mae: 6773.5508\n",
      "Epoch 34/200\n",
      "34/34 [==============================] - 0s 3ms/step - loss: 6737.8823 - mae: 6737.8823\n",
      "Epoch 35/200\n",
      "34/34 [==============================] - 0s 3ms/step - loss: 6700.2598 - mae: 6700.2598\n",
      "Epoch 36/200\n",
      "34/34 [==============================] - 0s 3ms/step - loss: 6663.3018 - mae: 6663.3018\n",
      "Epoch 37/200\n",
      "34/34 [==============================] - 0s 3ms/step - loss: 6625.8823 - mae: 6625.8823\n",
      "Epoch 38/200\n",
      "34/34 [==============================] - 0s 3ms/step - loss: 6592.7070 - mae: 6592.7070\n",
      "Epoch 39/200\n",
      "34/34 [==============================] - 0s 3ms/step - loss: 6558.2676 - mae: 6558.2676\n",
      "Epoch 40/200\n",
      "34/34 [==============================] - 0s 3ms/step - loss: 6532.1411 - mae: 6532.1411\n",
      "Epoch 41/200\n",
      "34/34 [==============================] - 0s 3ms/step - loss: 6513.1768 - mae: 6513.1768\n",
      "Epoch 42/200\n",
      "34/34 [==============================] - 0s 3ms/step - loss: 6495.4155 - mae: 6495.4155\n",
      "Epoch 43/200\n",
      "34/34 [==============================] - 0s 3ms/step - loss: 6478.1641 - mae: 6478.1641\n",
      "Epoch 44/200\n",
      "34/34 [==============================] - 0s 3ms/step - loss: 6459.9614 - mae: 6459.9614\n",
      "Epoch 45/200\n",
      "34/34 [==============================] - 0s 3ms/step - loss: 6453.0269 - mae: 6453.0269\n",
      "Epoch 46/200\n",
      "34/34 [==============================] - 0s 4ms/step - loss: 6435.3154 - mae: 6435.3154\n",
      "Epoch 47/200\n",
      "34/34 [==============================] - 0s 3ms/step - loss: 6421.2041 - mae: 6421.2041\n",
      "Epoch 48/200\n",
      "34/34 [==============================] - 0s 4ms/step - loss: 6407.8486 - mae: 6407.8486\n",
      "Epoch 49/200\n",
      "34/34 [==============================] - 0s 3ms/step - loss: 6396.3481 - mae: 6396.3481\n",
      "Epoch 50/200\n",
      "34/34 [==============================] - 0s 3ms/step - loss: 6382.3770 - mae: 6382.3770\n",
      "Epoch 51/200\n",
      "34/34 [==============================] - 0s 3ms/step - loss: 6368.7056 - mae: 6368.7056\n",
      "Epoch 52/200\n",
      "34/34 [==============================] - 0s 3ms/step - loss: 6356.1660 - mae: 6356.1660\n",
      "Epoch 53/200\n",
      "34/34 [==============================] - 0s 3ms/step - loss: 6341.0552 - mae: 6341.0552\n",
      "Epoch 54/200\n",
      "34/34 [==============================] - 0s 3ms/step - loss: 6326.7202 - mae: 6326.7202\n",
      "Epoch 55/200\n",
      "34/34 [==============================] - 0s 3ms/step - loss: 6311.8760 - mae: 6311.8760\n",
      "Epoch 56/200\n",
      "34/34 [==============================] - 0s 3ms/step - loss: 6297.4868 - mae: 6297.4868\n",
      "Epoch 57/200\n",
      "34/34 [==============================] - 0s 3ms/step - loss: 6282.5503 - mae: 6282.5503\n",
      "Epoch 58/200\n",
      "34/34 [==============================] - 0s 3ms/step - loss: 6268.5708 - mae: 6268.5708\n",
      "Epoch 59/200\n",
      "34/34 [==============================] - 0s 3ms/step - loss: 6251.9106 - mae: 6251.9106\n",
      "Epoch 60/200\n",
      "34/34 [==============================] - 0s 3ms/step - loss: 6240.3911 - mae: 6240.3911\n",
      "Epoch 61/200\n",
      "34/34 [==============================] - 0s 3ms/step - loss: 6219.1392 - mae: 6219.1392\n",
      "Epoch 62/200\n",
      "34/34 [==============================] - 0s 3ms/step - loss: 6206.6182 - mae: 6206.6182\n",
      "Epoch 63/200\n",
      "34/34 [==============================] - 0s 3ms/step - loss: 6186.5386 - mae: 6186.5386\n",
      "Epoch 64/200\n",
      "34/34 [==============================] - 0s 3ms/step - loss: 6167.8345 - mae: 6167.8345\n",
      "Epoch 65/200\n",
      "34/34 [==============================] - 0s 3ms/step - loss: 6149.6470 - mae: 6149.6470\n",
      "Epoch 66/200\n",
      "34/34 [==============================] - 0s 3ms/step - loss: 6130.1787 - mae: 6130.1787\n",
      "Epoch 67/200\n",
      "34/34 [==============================] - 0s 3ms/step - loss: 6117.0830 - mae: 6117.0830\n",
      "Epoch 68/200\n",
      "34/34 [==============================] - 0s 3ms/step - loss: 6092.6567 - mae: 6092.6567\n",
      "Epoch 69/200\n",
      "34/34 [==============================] - 0s 3ms/step - loss: 6074.0767 - mae: 6074.0767\n",
      "Epoch 70/200\n",
      "34/34 [==============================] - 0s 3ms/step - loss: 6052.3848 - mae: 6052.3848\n",
      "Epoch 71/200\n",
      "34/34 [==============================] - 0s 3ms/step - loss: 6030.4370 - mae: 6030.4370\n",
      "Epoch 72/200\n",
      "34/34 [==============================] - 0s 4ms/step - loss: 6008.4082 - mae: 6008.4082\n",
      "Epoch 73/200\n",
      "34/34 [==============================] - 0s 3ms/step - loss: 5992.7241 - mae: 5992.7241\n",
      "Epoch 74/200\n",
      "34/34 [==============================] - 0s 3ms/step - loss: 5961.2715 - mae: 5961.2715\n",
      "Epoch 75/200\n",
      "34/34 [==============================] - 0s 3ms/step - loss: 5937.6108 - mae: 5937.6108\n",
      "Epoch 76/200\n",
      "34/34 [==============================] - 0s 3ms/step - loss: 5919.6250 - mae: 5919.6250\n",
      "Epoch 77/200\n",
      "34/34 [==============================] - 0s 4ms/step - loss: 5885.3403 - mae: 5885.3403\n",
      "Epoch 78/200\n",
      "34/34 [==============================] - 0s 3ms/step - loss: 5859.2754 - mae: 5859.2754\n",
      "Epoch 79/200\n",
      "34/34 [==============================] - 0s 3ms/step - loss: 5831.6074 - mae: 5831.6074\n",
      "Epoch 80/200\n",
      "34/34 [==============================] - 0s 3ms/step - loss: 5800.4033 - mae: 5800.4033\n",
      "Epoch 81/200\n",
      "34/34 [==============================] - 0s 3ms/step - loss: 5771.3521 - mae: 5771.3521\n",
      "Epoch 82/200\n",
      "34/34 [==============================] - 0s 3ms/step - loss: 5738.9556 - mae: 5738.9556\n",
      "Epoch 83/200\n",
      "34/34 [==============================] - 0s 3ms/step - loss: 5707.5713 - mae: 5707.5713\n",
      "Epoch 84/200\n",
      "34/34 [==============================] - 0s 3ms/step - loss: 5670.5190 - mae: 5670.5190\n",
      "Epoch 85/200\n",
      "34/34 [==============================] - 0s 3ms/step - loss: 5640.1333 - mae: 5640.1333\n",
      "Epoch 86/200\n",
      "34/34 [==============================] - 0s 3ms/step - loss: 5601.1694 - mae: 5601.1694\n",
      "Epoch 87/200\n",
      "34/34 [==============================] - 0s 3ms/step - loss: 5559.4346 - mae: 5559.4346\n",
      "Epoch 88/200\n",
      "34/34 [==============================] - 0s 3ms/step - loss: 5518.5625 - mae: 5518.5625\n",
      "Epoch 89/200\n",
      "34/34 [==============================] - 0s 3ms/step - loss: 5473.4292 - mae: 5473.4292\n",
      "Epoch 90/200\n",
      "34/34 [==============================] - 0s 3ms/step - loss: 5425.4619 - mae: 5425.4619\n",
      "Epoch 91/200\n",
      "34/34 [==============================] - 0s 3ms/step - loss: 5382.6055 - mae: 5382.6055\n",
      "Epoch 92/200\n",
      "34/34 [==============================] - 0s 3ms/step - loss: 5330.9487 - mae: 5330.9487\n",
      "Epoch 93/200\n",
      "34/34 [==============================] - 0s 3ms/step - loss: 5280.7178 - mae: 5280.7178\n",
      "Epoch 94/200\n",
      "34/34 [==============================] - 0s 3ms/step - loss: 5226.4429 - mae: 5226.4429\n",
      "Epoch 95/200\n",
      "34/34 [==============================] - 0s 3ms/step - loss: 5167.6113 - mae: 5167.6113\n",
      "Epoch 96/200\n",
      "34/34 [==============================] - 0s 3ms/step - loss: 5115.4009 - mae: 5115.4009\n",
      "Epoch 97/200\n",
      "34/34 [==============================] - 0s 3ms/step - loss: 5053.7798 - mae: 5053.7798\n",
      "Epoch 98/200\n",
      "34/34 [==============================] - 0s 3ms/step - loss: 4986.5708 - mae: 4986.5708\n",
      "Epoch 99/200\n",
      "34/34 [==============================] - 0s 3ms/step - loss: 4913.7363 - mae: 4913.7363\n",
      "Epoch 100/200\n",
      "34/34 [==============================] - 0s 3ms/step - loss: 4856.2485 - mae: 4856.2485\n",
      "Epoch 101/200\n",
      "34/34 [==============================] - 0s 3ms/step - loss: 4774.6719 - mae: 4774.6719\n",
      "Epoch 102/200\n",
      "34/34 [==============================] - 0s 3ms/step - loss: 4692.1484 - mae: 4692.1484\n",
      "Epoch 103/200\n",
      "34/34 [==============================] - 0s 3ms/step - loss: 4615.0234 - mae: 4615.0234\n",
      "Epoch 104/200\n",
      "34/34 [==============================] - 0s 3ms/step - loss: 4526.0552 - mae: 4526.0552\n",
      "Epoch 105/200\n",
      "34/34 [==============================] - 0s 3ms/step - loss: 4437.1494 - mae: 4437.1494\n",
      "Epoch 106/200\n",
      "34/34 [==============================] - 0s 3ms/step - loss: 4357.0874 - mae: 4357.0874\n",
      "Epoch 107/200\n",
      "34/34 [==============================] - 0s 3ms/step - loss: 4274.4297 - mae: 4274.4297\n",
      "Epoch 108/200\n",
      "34/34 [==============================] - 0s 3ms/step - loss: 4195.2578 - mae: 4195.2578\n",
      "Epoch 109/200\n",
      "34/34 [==============================] - 0s 3ms/step - loss: 4119.0073 - mae: 4119.0073\n",
      "Epoch 110/200\n",
      "34/34 [==============================] - 0s 3ms/step - loss: 4051.0537 - mae: 4051.0537\n",
      "Epoch 111/200\n",
      "34/34 [==============================] - 0s 3ms/step - loss: 3994.9561 - mae: 3994.9561\n",
      "Epoch 112/200\n",
      "34/34 [==============================] - 0s 3ms/step - loss: 3958.9734 - mae: 3958.9734\n",
      "Epoch 113/200\n",
      "34/34 [==============================] - 0s 3ms/step - loss: 3923.3169 - mae: 3923.3169\n",
      "Epoch 114/200\n",
      "34/34 [==============================] - 0s 3ms/step - loss: 3907.0593 - mae: 3907.0593\n",
      "Epoch 115/200\n",
      "34/34 [==============================] - 0s 3ms/step - loss: 3873.5781 - mae: 3873.5781\n",
      "Epoch 116/200\n",
      "34/34 [==============================] - 0s 3ms/step - loss: 3865.7769 - mae: 3865.7769\n",
      "Epoch 117/200\n",
      "34/34 [==============================] - 0s 3ms/step - loss: 3861.2473 - mae: 3861.2473\n",
      "Epoch 118/200\n",
      "34/34 [==============================] - 0s 3ms/step - loss: 3843.8826 - mae: 3843.8826\n",
      "Epoch 119/200\n",
      "34/34 [==============================] - 0s 3ms/step - loss: 3827.2085 - mae: 3827.2085\n",
      "Epoch 120/200\n",
      "34/34 [==============================] - 0s 3ms/step - loss: 3813.3169 - mae: 3813.3169\n",
      "Epoch 121/200\n",
      "34/34 [==============================] - 0s 3ms/step - loss: 3810.7688 - mae: 3810.7688\n",
      "Epoch 122/200\n",
      "34/34 [==============================] - 0s 3ms/step - loss: 3807.0220 - mae: 3807.0220\n",
      "Epoch 123/200\n",
      "34/34 [==============================] - 0s 3ms/step - loss: 3802.0212 - mae: 3802.0212\n",
      "Epoch 124/200\n",
      "34/34 [==============================] - 0s 3ms/step - loss: 3796.1421 - mae: 3796.1421\n",
      "Epoch 125/200\n",
      "34/34 [==============================] - 0s 3ms/step - loss: 3785.6912 - mae: 3785.6912\n",
      "Epoch 126/200\n",
      "34/34 [==============================] - 0s 3ms/step - loss: 3795.3040 - mae: 3795.3040\n",
      "Epoch 127/200\n",
      "34/34 [==============================] - 0s 3ms/step - loss: 3788.8689 - mae: 3788.8689\n",
      "Epoch 128/200\n",
      "34/34 [==============================] - 0s 3ms/step - loss: 3783.7822 - mae: 3783.7822\n",
      "Epoch 129/200\n",
      "34/34 [==============================] - 0s 3ms/step - loss: 3793.6155 - mae: 3793.6155\n",
      "Epoch 130/200\n",
      "34/34 [==============================] - 0s 3ms/step - loss: 3783.6650 - mae: 3783.6650\n",
      "Epoch 131/200\n",
      "34/34 [==============================] - 0s 3ms/step - loss: 3775.5205 - mae: 3775.5205\n",
      "Epoch 132/200\n",
      "34/34 [==============================] - 0s 3ms/step - loss: 3770.2268 - mae: 3770.2268\n",
      "Epoch 133/200\n",
      "34/34 [==============================] - 0s 3ms/step - loss: 3765.9382 - mae: 3765.9382\n",
      "Epoch 134/200\n",
      "34/34 [==============================] - 0s 3ms/step - loss: 3767.2087 - mae: 3767.2087\n",
      "Epoch 135/200\n",
      "34/34 [==============================] - 0s 3ms/step - loss: 3763.2014 - mae: 3763.2014\n",
      "Epoch 136/200\n",
      "34/34 [==============================] - 0s 3ms/step - loss: 3762.3228 - mae: 3762.3228\n",
      "Epoch 137/200\n",
      "34/34 [==============================] - 0s 3ms/step - loss: 3769.8196 - mae: 3769.8196\n",
      "Epoch 138/200\n",
      "34/34 [==============================] - 0s 3ms/step - loss: 3778.8054 - mae: 3778.8054\n",
      "Epoch 139/200\n",
      "34/34 [==============================] - 0s 3ms/step - loss: 3757.1467 - mae: 3757.1467\n",
      "Epoch 140/200\n",
      "34/34 [==============================] - 0s 3ms/step - loss: 3758.5061 - mae: 3758.5061\n",
      "Epoch 141/200\n",
      "34/34 [==============================] - 0s 3ms/step - loss: 3760.1396 - mae: 3760.1396\n",
      "Epoch 142/200\n",
      "34/34 [==============================] - 0s 3ms/step - loss: 3761.4929 - mae: 3761.4929\n",
      "Epoch 143/200\n",
      "34/34 [==============================] - 0s 3ms/step - loss: 3749.8772 - mae: 3749.8772\n",
      "Epoch 144/200\n",
      "34/34 [==============================] - 0s 3ms/step - loss: 3746.5161 - mae: 3746.5161\n",
      "Epoch 145/200\n",
      "34/34 [==============================] - 0s 3ms/step - loss: 3746.7236 - mae: 3746.7236\n",
      "Epoch 146/200\n",
      "34/34 [==============================] - 0s 3ms/step - loss: 3751.4355 - mae: 3751.4355\n",
      "Epoch 147/200\n",
      "34/34 [==============================] - 0s 4ms/step - loss: 3747.8547 - mae: 3747.8547\n",
      "Epoch 148/200\n",
      "34/34 [==============================] - 0s 3ms/step - loss: 3752.4729 - mae: 3752.4729\n",
      "Epoch 149/200\n",
      "34/34 [==============================] - 0s 3ms/step - loss: 3739.5918 - mae: 3739.5918\n",
      "Epoch 150/200\n",
      "34/34 [==============================] - 0s 3ms/step - loss: 3735.7510 - mae: 3735.7510\n",
      "Epoch 151/200\n",
      "34/34 [==============================] - 0s 3ms/step - loss: 3736.6780 - mae: 3736.6780\n",
      "Epoch 152/200\n",
      "34/34 [==============================] - 0s 3ms/step - loss: 3738.5276 - mae: 3738.5276\n",
      "Epoch 153/200\n",
      "34/34 [==============================] - 0s 3ms/step - loss: 3740.2195 - mae: 3740.2195\n",
      "Epoch 154/200\n",
      "34/34 [==============================] - 0s 3ms/step - loss: 3732.4673 - mae: 3732.4673\n",
      "Epoch 155/200\n",
      "34/34 [==============================] - 0s 3ms/step - loss: 3733.9409 - mae: 3733.9409\n",
      "Epoch 156/200\n",
      "34/34 [==============================] - 0s 3ms/step - loss: 3733.4189 - mae: 3733.4189\n",
      "Epoch 157/200\n",
      "34/34 [==============================] - 0s 3ms/step - loss: 3730.9175 - mae: 3730.9175\n",
      "Epoch 158/200\n",
      "34/34 [==============================] - 0s 3ms/step - loss: 3725.6602 - mae: 3725.6602\n",
      "Epoch 159/200\n",
      "34/34 [==============================] - 0s 3ms/step - loss: 3722.9160 - mae: 3722.9160\n",
      "Epoch 160/200\n",
      "34/34 [==============================] - 0s 3ms/step - loss: 3729.1045 - mae: 3729.1045\n",
      "Epoch 161/200\n",
      "34/34 [==============================] - 0s 3ms/step - loss: 3723.8848 - mae: 3723.8848\n",
      "Epoch 162/200\n",
      "34/34 [==============================] - 0s 3ms/step - loss: 3721.1960 - mae: 3721.1960\n",
      "Epoch 163/200\n",
      "34/34 [==============================] - 0s 3ms/step - loss: 3719.0339 - mae: 3719.0339\n",
      "Epoch 164/200\n",
      "34/34 [==============================] - 0s 3ms/step - loss: 3724.2756 - mae: 3724.2756\n",
      "Epoch 165/200\n",
      "34/34 [==============================] - 0s 3ms/step - loss: 3713.2915 - mae: 3713.2915\n",
      "Epoch 166/200\n",
      "34/34 [==============================] - 0s 3ms/step - loss: 3717.7527 - mae: 3717.7527\n",
      "Epoch 167/200\n",
      "34/34 [==============================] - 0s 4ms/step - loss: 3715.9233 - mae: 3715.9233\n",
      "Epoch 168/200\n",
      "34/34 [==============================] - 0s 3ms/step - loss: 3711.0095 - mae: 3711.0095\n",
      "Epoch 169/200\n",
      "34/34 [==============================] - 0s 3ms/step - loss: 3708.7556 - mae: 3708.7556\n",
      "Epoch 170/200\n",
      "34/34 [==============================] - 0s 3ms/step - loss: 3704.9602 - mae: 3704.9602\n",
      "Epoch 171/200\n",
      "34/34 [==============================] - 0s 3ms/step - loss: 3704.1929 - mae: 3704.1929\n",
      "Epoch 172/200\n",
      "34/34 [==============================] - 0s 3ms/step - loss: 3706.9355 - mae: 3706.9355\n",
      "Epoch 173/200\n",
      "34/34 [==============================] - 0s 3ms/step - loss: 3701.5762 - mae: 3701.5762\n",
      "Epoch 174/200\n",
      "34/34 [==============================] - 0s 3ms/step - loss: 3705.8843 - mae: 3705.8843\n",
      "Epoch 175/200\n",
      "34/34 [==============================] - 0s 3ms/step - loss: 3708.1333 - mae: 3708.1333\n",
      "Epoch 176/200\n",
      "34/34 [==============================] - 0s 3ms/step - loss: 3703.8501 - mae: 3703.8501\n",
      "Epoch 177/200\n",
      "34/34 [==============================] - 0s 3ms/step - loss: 3696.4426 - mae: 3696.4426\n",
      "Epoch 178/200\n",
      "34/34 [==============================] - 0s 3ms/step - loss: 3692.3379 - mae: 3692.3379\n",
      "Epoch 179/200\n",
      "34/34 [==============================] - 0s 3ms/step - loss: 3705.9910 - mae: 3705.9910\n",
      "Epoch 180/200\n",
      "34/34 [==============================] - 0s 3ms/step - loss: 3707.0437 - mae: 3707.0437\n",
      "Epoch 181/200\n",
      "34/34 [==============================] - 0s 3ms/step - loss: 3692.7266 - mae: 3692.7266\n",
      "Epoch 182/200\n",
      "34/34 [==============================] - 0s 3ms/step - loss: 3690.2122 - mae: 3690.2122\n",
      "Epoch 183/200\n",
      "34/34 [==============================] - 0s 3ms/step - loss: 3688.3875 - mae: 3688.3875\n",
      "Epoch 184/200\n",
      "34/34 [==============================] - 0s 3ms/step - loss: 3696.0493 - mae: 3696.0493\n",
      "Epoch 185/200\n",
      "34/34 [==============================] - 0s 3ms/step - loss: 3691.7898 - mae: 3691.7898\n",
      "Epoch 186/200\n",
      "34/34 [==============================] - 0s 3ms/step - loss: 3695.0164 - mae: 3695.0164\n",
      "Epoch 187/200\n",
      "34/34 [==============================] - 0s 3ms/step - loss: 3684.6042 - mae: 3684.6042\n",
      "Epoch 188/200\n",
      "34/34 [==============================] - 0s 3ms/step - loss: 3691.4351 - mae: 3691.4351\n",
      "Epoch 189/200\n",
      "34/34 [==============================] - 0s 3ms/step - loss: 3680.0818 - mae: 3680.0818\n",
      "Epoch 190/200\n",
      "34/34 [==============================] - 0s 3ms/step - loss: 3681.1357 - mae: 3681.1357\n",
      "Epoch 191/200\n",
      "34/34 [==============================] - 0s 3ms/step - loss: 3695.1189 - mae: 3695.1189\n",
      "Epoch 192/200\n",
      "34/34 [==============================] - 0s 3ms/step - loss: 3681.1028 - mae: 3681.1028\n",
      "Epoch 193/200\n",
      "34/34 [==============================] - 0s 3ms/step - loss: 3673.0684 - mae: 3673.0684\n",
      "Epoch 194/200\n",
      "34/34 [==============================] - 0s 3ms/step - loss: 3673.7224 - mae: 3673.7224\n",
      "Epoch 195/200\n",
      "34/34 [==============================] - 0s 3ms/step - loss: 3670.5515 - mae: 3670.5515\n",
      "Epoch 196/200\n",
      "34/34 [==============================] - 0s 3ms/step - loss: 3680.1555 - mae: 3680.1555\n",
      "Epoch 197/200\n",
      "34/34 [==============================] - 0s 3ms/step - loss: 3664.3315 - mae: 3664.3315\n",
      "Epoch 198/200\n",
      "34/34 [==============================] - 0s 3ms/step - loss: 3670.7224 - mae: 3670.7224\n",
      "Epoch 199/200\n",
      "34/34 [==============================] - 0s 3ms/step - loss: 3678.4084 - mae: 3678.4084\n",
      "Epoch 200/200\n",
      "34/34 [==============================] - 0s 4ms/step - loss: 3665.2732 - mae: 3665.2732\n"
     ]
    }
   ],
   "source": [
    "tf.random.set_seed(42)\n",
    "\n",
    "# 1. Create a model (same as above)\n",
    "insurance_model_3 = tf.keras.Sequential([\n",
    "  tf.keras.layers.Dense(100),\n",
    "  tf.keras.layers.Dense(10),\n",
    "  tf.keras.layers.Dense(1)\n",
    "])\n",
    "\n",
    "# 2. Compile the model\n",
    "insurance_model_3.compile(loss=\"mae\",\n",
    "                        optimizer=tf.keras.optimizers.Adam(),\n",
    "                        metrics=[\"mae\"])\n",
    "\n",
    "# 3. Fit the model\n",
    "history = insurance_model_3.fit(X_train, y_train, epochs=200)"
   ]
  },
  {
   "cell_type": "code",
   "execution_count": 64,
   "metadata": {},
   "outputs": [
    {
     "name": "stdout",
     "output_type": "stream",
     "text": [
      "9/9 [==============================] - 0s 2ms/step - loss: 3488.8308 - mae: 3488.8308\n"
     ]
    },
    {
     "data": {
      "text/plain": [
       "[3488.830810546875, 3488.830810546875]"
      ]
     },
     "execution_count": 64,
     "metadata": {},
     "output_type": "execute_result"
    }
   ],
   "source": [
    "# Evaluate the third model\n",
    "insurance_model_3.evaluate(X_test, y_test)"
   ]
  },
  {
   "cell_type": "code",
   "execution_count": 65,
   "metadata": {},
   "outputs": [
    {
     "data": {
      "text/plain": [
       "Text(0.5, 0, 'epochs')"
      ]
     },
     "execution_count": 65,
     "metadata": {},
     "output_type": "execute_result"
    },
    {
     "data": {
      "image/png": "[encoded data removed]",
      "text/plain": [
       "<Figure size 640x480 with 1 Axes>"
      ]
     },
     "metadata": {},
     "output_type": "display_data"
    }
   ],
   "source": [
    "# Plot history (also known as a loss curver or training curve)\n",
    "plt.plot(pl.DataFrame(history.history).select(\"loss\"))\n",
    "plt.ylabel(\"loss\")\n",
    "plt.xlabel(\"epochs\")"
   ]
  },
  {
   "attachments": {},
   "cell_type": "markdown",
   "metadata": {},
   "source": [
    "Check on [EarlyStoppingCallback](https://www.tensorflow.org/api_docs/python/tf/keras/callbacks/EarlyStopping) which is a TensorFlow component that can be added to the model to stop training once it stops improving a certain metric"
   ]
  },
  {
   "attachments": {},
   "cell_type": "markdown",
   "metadata": {},
   "source": [
    "## Preprocessing data (normalization and standardization)\n",
    "\n",
    "In terms of scaling values, neural networks tend to prefer normalization.\n",
    "\n",
    "It is possible to try both to see which performs better."
   ]
  },
  {
   "cell_type": "code",
   "execution_count": 66,
   "metadata": {},
   "outputs": [
    {
     "data": {
      "text/html": [
       "<div><style>\n",
       ".dataframe > thead > tr > th,\n",
       ".dataframe > tbody > tr > td {\n",
       "  text-align: right;\n",
       "}\n",
       "</style>\n",
       "<small>shape: (1_338, 7)</small><table border=\"1\" class=\"dataframe\"><thead><tr><th>age</th><th>sex</th><th>bmi</th><th>children</th><th>smoker</th><th>region</th><th>charges</th></tr><tr><td>i64</td><td>str</td><td>f64</td><td>i64</td><td>str</td><td>str</td><td>f64</td></tr></thead><tbody><tr><td>19</td><td>&quot;female&quot;</td><td>27.9</td><td>0</td><td>&quot;yes&quot;</td><td>&quot;southwest&quot;</td><td>16884.924</td></tr><tr><td>18</td><td>&quot;male&quot;</td><td>33.77</td><td>1</td><td>&quot;no&quot;</td><td>&quot;southeast&quot;</td><td>1725.5523</td></tr><tr><td>28</td><td>&quot;male&quot;</td><td>33.0</td><td>3</td><td>&quot;no&quot;</td><td>&quot;southeast&quot;</td><td>4449.462</td></tr><tr><td>33</td><td>&quot;male&quot;</td><td>22.705</td><td>0</td><td>&quot;no&quot;</td><td>&quot;northwest&quot;</td><td>21984.47061</td></tr><tr><td>32</td><td>&quot;male&quot;</td><td>28.88</td><td>0</td><td>&quot;no&quot;</td><td>&quot;northwest&quot;</td><td>3866.8552</td></tr><tr><td>31</td><td>&quot;female&quot;</td><td>25.74</td><td>0</td><td>&quot;no&quot;</td><td>&quot;southeast&quot;</td><td>3756.6216</td></tr><tr><td>46</td><td>&quot;female&quot;</td><td>33.44</td><td>1</td><td>&quot;no&quot;</td><td>&quot;southeast&quot;</td><td>8240.5896</td></tr><tr><td>37</td><td>&quot;female&quot;</td><td>27.74</td><td>3</td><td>&quot;no&quot;</td><td>&quot;northwest&quot;</td><td>7281.5056</td></tr><tr><td>37</td><td>&quot;male&quot;</td><td>29.83</td><td>2</td><td>&quot;no&quot;</td><td>&quot;northeast&quot;</td><td>6406.4107</td></tr><tr><td>60</td><td>&quot;female&quot;</td><td>25.84</td><td>0</td><td>&quot;no&quot;</td><td>&quot;northwest&quot;</td><td>28923.13692</td></tr><tr><td>25</td><td>&quot;male&quot;</td><td>26.22</td><td>0</td><td>&quot;no&quot;</td><td>&quot;northeast&quot;</td><td>2721.3208</td></tr><tr><td>62</td><td>&quot;female&quot;</td><td>26.29</td><td>0</td><td>&quot;yes&quot;</td><td>&quot;southeast&quot;</td><td>27808.7251</td></tr><tr><td>&hellip;</td><td>&hellip;</td><td>&hellip;</td><td>&hellip;</td><td>&hellip;</td><td>&hellip;</td><td>&hellip;</td></tr><tr><td>42</td><td>&quot;female&quot;</td><td>32.87</td><td>0</td><td>&quot;no&quot;</td><td>&quot;northeast&quot;</td><td>7050.0213</td></tr><tr><td>51</td><td>&quot;male&quot;</td><td>30.03</td><td>1</td><td>&quot;no&quot;</td><td>&quot;southeast&quot;</td><td>9377.9047</td></tr><tr><td>23</td><td>&quot;female&quot;</td><td>24.225</td><td>2</td><td>&quot;no&quot;</td><td>&quot;northeast&quot;</td><td>22395.74424</td></tr><tr><td>52</td><td>&quot;male&quot;</td><td>38.6</td><td>2</td><td>&quot;no&quot;</td><td>&quot;southwest&quot;</td><td>10325.206</td></tr><tr><td>57</td><td>&quot;female&quot;</td><td>25.74</td><td>2</td><td>&quot;no&quot;</td><td>&quot;southeast&quot;</td><td>12629.1656</td></tr><tr><td>23</td><td>&quot;female&quot;</td><td>33.4</td><td>0</td><td>&quot;no&quot;</td><td>&quot;southwest&quot;</td><td>10795.93733</td></tr><tr><td>52</td><td>&quot;female&quot;</td><td>44.7</td><td>3</td><td>&quot;no&quot;</td><td>&quot;southwest&quot;</td><td>11411.685</td></tr><tr><td>50</td><td>&quot;male&quot;</td><td>30.97</td><td>3</td><td>&quot;no&quot;</td><td>&quot;northwest&quot;</td><td>10600.5483</td></tr><tr><td>18</td><td>&quot;female&quot;</td><td>31.92</td><td>0</td><td>&quot;no&quot;</td><td>&quot;northeast&quot;</td><td>2205.9808</td></tr><tr><td>18</td><td>&quot;female&quot;</td><td>36.85</td><td>0</td><td>&quot;no&quot;</td><td>&quot;southeast&quot;</td><td>1629.8335</td></tr><tr><td>21</td><td>&quot;female&quot;</td><td>25.8</td><td>0</td><td>&quot;no&quot;</td><td>&quot;southwest&quot;</td><td>2007.945</td></tr><tr><td>61</td><td>&quot;female&quot;</td><td>29.07</td><td>0</td><td>&quot;yes&quot;</td><td>&quot;northwest&quot;</td><td>29141.3603</td></tr></tbody></table></div>"
      ],
      "text/plain": [
       "shape: (1_338, 7)\n",
       "┌─────┬────────┬────────┬──────────┬────────┬───────────┬─────────────┐\n",
       "│ age ┆ sex    ┆ bmi    ┆ children ┆ smoker ┆ region    ┆ charges     │\n",
       "│ --- ┆ ---    ┆ ---    ┆ ---      ┆ ---    ┆ ---       ┆ ---         │\n",
       "│ i64 ┆ str    ┆ f64    ┆ i64      ┆ str    ┆ str       ┆ f64         │\n",
       "╞═════╪════════╪════════╪══════════╪════════╪═══════════╪═════════════╡\n",
       "│ 19  ┆ female ┆ 27.9   ┆ 0        ┆ yes    ┆ southwest ┆ 16884.924   │\n",
       "│ 18  ┆ male   ┆ 33.77  ┆ 1        ┆ no     ┆ southeast ┆ 1725.5523   │\n",
       "│ 28  ┆ male   ┆ 33.0   ┆ 3        ┆ no     ┆ southeast ┆ 4449.462    │\n",
       "│ 33  ┆ male   ┆ 22.705 ┆ 0        ┆ no     ┆ northwest ┆ 21984.47061 │\n",
       "│ …   ┆ …      ┆ …      ┆ …        ┆ …      ┆ …         ┆ …           │\n",
       "│ 18  ┆ female ┆ 31.92  ┆ 0        ┆ no     ┆ northeast ┆ 2205.9808   │\n",
       "│ 18  ┆ female ┆ 36.85  ┆ 0        ┆ no     ┆ southeast ┆ 1629.8335   │\n",
       "│ 21  ┆ female ┆ 25.8   ┆ 0        ┆ no     ┆ southwest ┆ 2007.945    │\n",
       "│ 61  ┆ female ┆ 29.07  ┆ 0        ┆ yes    ┆ northwest ┆ 29141.3603  │\n",
       "└─────┴────────┴────────┴──────────┴────────┴───────────┴─────────────┘"
      ]
     },
     "execution_count": 66,
     "metadata": {},
     "output_type": "execute_result"
    }
   ],
   "source": [
    "import polars as pl\n",
    "import matplotlib.pyplot as plt\n",
    "import tensorflow as tf\n",
    "\n",
    "# Read the insurance dataframe\n",
    "insurance = pl.read_csv(\"data/insurance.csv\")\n",
    "insurance"
   ]
  },
  {
   "cell_type": "code",
   "execution_count": 67,
   "metadata": {},
   "outputs": [
    {
     "data": {
      "text/plain": [
       "(array([222., 140., 109., 128., 102., 137., 144., 114., 128., 114.]),\n",
       " array([18. , 22.6, 27.2, 31.8, 36.4, 41. , 45.6, 50.2, 54.8, 59.4, 64. ]),\n",
       " <BarContainer object of 10 artists>)"
      ]
     },
     "execution_count": 67,
     "metadata": {},
     "output_type": "execute_result"
    },
    {
     "data": {
      "image/png": "[encoded data removed]",
      "text/plain": [
       "<Figure size 640x480 with 1 Axes>"
      ]
     },
     "metadata": {},
     "output_type": "display_data"
    }
   ],
   "source": [
    "plt.hist(insurance_one_hot.select(\"age\"))"
   ]
  },
  {
   "cell_type": "code",
   "execution_count": 68,
   "metadata": {},
   "outputs": [
    {
     "data": {
      "text/plain": [
       "(array([ 30., 127., 234., 319., 288., 195.,  96.,  32.,  14.,   3.]),\n",
       " array([15.96 , 19.677, 23.394, 27.111, 30.828, 34.545, 38.262, 41.979,\n",
       "        45.696, 49.413, 53.13 ]),\n",
       " <BarContainer object of 10 artists>)"
      ]
     },
     "execution_count": 68,
     "metadata": {},
     "output_type": "execute_result"
    },
    {
     "data": {
      "image/png": "[encoded data removed]",
      "text/plain": [
       "<Figure size 640x480 with 1 Axes>"
      ]
     },
     "metadata": {},
     "output_type": "display_data"
    }
   ],
   "source": [
    "plt.hist(insurance_one_hot.select(\"bmi\"))"
   ]
  },
  {
   "attachments": {},
   "cell_type": "markdown",
   "metadata": {},
   "source": [
    "To prepare data, borrow some classes from Scikit-Learn."
   ]
  },
  {
   "cell_type": "code",
   "execution_count": 69,
   "metadata": {},
   "outputs": [],
   "source": [
    "from sklearn.compose import make_column_transformer\n",
    "from sklearn.preprocessing import MinMaxScaler, OneHotEncoder\n",
    "from sklearn.model_selection import train_test_split\n",
    "\n",
    "# Create a column transformer\n",
    "ct = make_column_transformer(\n",
    "    (MinMaxScaler(), [\"age\", \"bmi\", \"children\"]), # turns values in these columns between 0 and 1\n",
    "    (OneHotEncoder(handle_unknown=\"ignore\"), [\"sex\", \"smoker\", \"region\"])\n",
    ")\n",
    "\n",
    "# Create X and y\n",
    "X = insurance.drop(\"charges\").to_pandas()\n",
    "y = insurance.select(\"charges\").to_pandas()\n",
    "\n",
    "# Build train and test sets\n",
    "X_train, X_test, y_train, y_test = train_test_split(X, \n",
    "                                                    y.to_numpy(), \n",
    "                                                    test_size=0.2, \n",
    "                                                    random_state=42)\n",
    "\n",
    "# Fit the column transformer to training data\n",
    "ct.fit(X_train)\n",
    "\n",
    "# Transform training and test data with normalization(MinMaxScaler) and OneHotEncoder\n",
    "X_train_normal = ct.transform(X_train)\n",
    "X_test_normal = ct.transform(X_test)"
   ]
  },
  {
   "cell_type": "code",
   "execution_count": 70,
   "metadata": {},
   "outputs": [
    {
     "data": {
      "text/plain": [
       "array([[0.60869565, 0.10734463, 0.4       , ..., 1.        , 0.        ,\n",
       "        0.        ],\n",
       "       [0.63043478, 0.22491256, 0.        , ..., 0.        , 0.        ,\n",
       "        0.        ],\n",
       "       [0.73913043, 0.23944041, 0.        , ..., 0.        , 1.        ,\n",
       "        0.        ],\n",
       "       ...,\n",
       "       [0.86956522, 0.24791499, 0.        , ..., 0.        , 0.        ,\n",
       "        0.        ],\n",
       "       [0.41304348, 0.85122411, 0.4       , ..., 0.        , 0.        ,\n",
       "        1.        ],\n",
       "       [0.80434783, 0.37503363, 0.        , ..., 0.        , 0.        ,\n",
       "        1.        ]])"
      ]
     },
     "execution_count": 70,
     "metadata": {},
     "output_type": "execute_result"
    }
   ],
   "source": [
    "X_train_normal"
   ]
  },
  {
   "cell_type": "code",
   "execution_count": 71,
   "metadata": {},
   "outputs": [
    {
     "data": {
      "text/plain": [
       "(1070, 11)"
      ]
     },
     "execution_count": 71,
     "metadata": {},
     "output_type": "execute_result"
    }
   ],
   "source": [
    "X_train_normal.shape"
   ]
  },
  {
   "cell_type": "code",
   "execution_count": 72,
   "metadata": {},
   "outputs": [
    {
     "name": "stdout",
     "output_type": "stream",
     "text": [
      "Epoch 1/100\n",
      "34/34 [==============================] - 1s 4ms/step - loss: 13343.6416 - mae: 13343.6416\n",
      "Epoch 2/100\n",
      "34/34 [==============================] - 0s 4ms/step - loss: 13335.2666 - mae: 13335.2666\n",
      "Epoch 3/100\n",
      "34/34 [==============================] - 0s 4ms/step - loss: 13313.9883 - mae: 13313.9883\n",
      "Epoch 4/100\n",
      "34/34 [==============================] - 0s 4ms/step - loss: 13269.1582 - mae: 13269.1582\n",
      "Epoch 5/100\n",
      "34/34 [==============================] - 0s 3ms/step - loss: 13189.7236 - mae: 13189.7236\n",
      "Epoch 6/100\n",
      "34/34 [==============================] - 0s 4ms/step - loss: 13065.1035 - mae: 13065.1035\n",
      "Epoch 7/100\n",
      "34/34 [==============================] - 0s 3ms/step - loss: 12885.2773 - mae: 12885.2773\n",
      "Epoch 8/100\n",
      "34/34 [==============================] - 0s 4ms/step - loss: 12640.1816 - mae: 12640.1816\n",
      "Epoch 9/100\n",
      "34/34 [==============================] - 0s 3ms/step - loss: 12319.5850 - mae: 12319.5850\n",
      "Epoch 10/100\n",
      "34/34 [==============================] - 0s 4ms/step - loss: 11919.1631 - mae: 11919.1631\n",
      "Epoch 11/100\n",
      "34/34 [==============================] - 0s 4ms/step - loss: 11447.6982 - mae: 11447.6982\n",
      "Epoch 12/100\n",
      "34/34 [==============================] - 0s 3ms/step - loss: 10945.0557 - mae: 10945.0557\n",
      "Epoch 13/100\n",
      "34/34 [==============================] - 0s 3ms/step - loss: 10446.4189 - mae: 10446.4189\n",
      "Epoch 14/100\n",
      "34/34 [==============================] - 0s 3ms/step - loss: 9954.4238 - mae: 9954.4238\n",
      "Epoch 15/100\n",
      "34/34 [==============================] - 0s 3ms/step - loss: 9488.5410 - mae: 9488.5410\n",
      "Epoch 16/100\n",
      "34/34 [==============================] - 0s 3ms/step - loss: 9074.5977 - mae: 9074.5977\n",
      "Epoch 17/100\n",
      "34/34 [==============================] - 0s 3ms/step - loss: 8731.3223 - mae: 8731.3223\n",
      "Epoch 18/100\n",
      "34/34 [==============================] - 0s 3ms/step - loss: 8451.8936 - mae: 8451.8936\n",
      "Epoch 19/100\n",
      "34/34 [==============================] - 0s 3ms/step - loss: 8238.3789 - mae: 8238.3789\n",
      "Epoch 20/100\n",
      "34/34 [==============================] - 0s 3ms/step - loss: 8094.0708 - mae: 8094.0708\n",
      "Epoch 21/100\n",
      "34/34 [==============================] - 0s 3ms/step - loss: 7985.9141 - mae: 7985.9141\n",
      "Epoch 22/100\n",
      "34/34 [==============================] - 0s 3ms/step - loss: 7910.9438 - mae: 7910.9438\n",
      "Epoch 23/100\n",
      "34/34 [==============================] - 0s 3ms/step - loss: 7852.3311 - mae: 7852.3311\n",
      "Epoch 24/100\n",
      "34/34 [==============================] - 0s 3ms/step - loss: 7799.6914 - mae: 7799.6914\n",
      "Epoch 25/100\n",
      "34/34 [==============================] - 0s 3ms/step - loss: 7761.3228 - mae: 7761.3228\n",
      "Epoch 26/100\n",
      "34/34 [==============================] - 0s 5ms/step - loss: 7710.2876 - mae: 7710.2876\n",
      "Epoch 27/100\n",
      "34/34 [==============================] - 0s 4ms/step - loss: 7668.8486 - mae: 7668.8486\n",
      "Epoch 28/100\n",
      "34/34 [==============================] - 0s 4ms/step - loss: 7626.8623 - mae: 7626.8623\n",
      "Epoch 29/100\n",
      "34/34 [==============================] - 0s 3ms/step - loss: 7584.9019 - mae: 7584.9019\n",
      "Epoch 30/100\n",
      "34/34 [==============================] - 0s 4ms/step - loss: 7541.8813 - mae: 7541.8813\n",
      "Epoch 31/100\n",
      "34/34 [==============================] - 0s 3ms/step - loss: 7498.3931 - mae: 7498.3931\n",
      "Epoch 32/100\n",
      "34/34 [==============================] - 0s 3ms/step - loss: 7454.7827 - mae: 7454.7827\n",
      "Epoch 33/100\n",
      "34/34 [==============================] - 0s 3ms/step - loss: 7410.9727 - mae: 7410.9727\n",
      "Epoch 34/100\n",
      "34/34 [==============================] - 0s 3ms/step - loss: 7363.2188 - mae: 7363.2188\n",
      "Epoch 35/100\n",
      "34/34 [==============================] - 0s 3ms/step - loss: 7316.8965 - mae: 7316.8965\n",
      "Epoch 36/100\n",
      "34/34 [==============================] - 0s 3ms/step - loss: 7267.2817 - mae: 7267.2817\n",
      "Epoch 37/100\n",
      "34/34 [==============================] - 0s 3ms/step - loss: 7217.6250 - mae: 7217.6250\n",
      "Epoch 38/100\n",
      "34/34 [==============================] - 0s 3ms/step - loss: 7167.1562 - mae: 7167.1562\n",
      "Epoch 39/100\n",
      "34/34 [==============================] - 0s 3ms/step - loss: 7113.0420 - mae: 7113.0420\n",
      "Epoch 40/100\n",
      "34/34 [==============================] - 0s 3ms/step - loss: 7058.3843 - mae: 7058.3843\n",
      "Epoch 41/100\n",
      "34/34 [==============================] - 0s 4ms/step - loss: 7002.6504 - mae: 7002.6504\n",
      "Epoch 42/100\n",
      "34/34 [==============================] - 0s 4ms/step - loss: 6944.9624 - mae: 6944.9624\n",
      "Epoch 43/100\n",
      "34/34 [==============================] - 0s 3ms/step - loss: 6883.1860 - mae: 6883.1860\n",
      "Epoch 44/100\n",
      "34/34 [==============================] - 0s 3ms/step - loss: 6817.9985 - mae: 6817.9985\n",
      "Epoch 45/100\n",
      "34/34 [==============================] - 0s 3ms/step - loss: 6752.0068 - mae: 6752.0068\n",
      "Epoch 46/100\n",
      "34/34 [==============================] - 0s 3ms/step - loss: 6683.7188 - mae: 6683.7188\n",
      "Epoch 47/100\n",
      "34/34 [==============================] - 0s 3ms/step - loss: 6613.6846 - mae: 6613.6846\n",
      "Epoch 48/100\n",
      "34/34 [==============================] - 0s 3ms/step - loss: 6536.4844 - mae: 6536.4844\n",
      "Epoch 49/100\n",
      "34/34 [==============================] - 0s 3ms/step - loss: 6458.6309 - mae: 6458.6309\n",
      "Epoch 50/100\n",
      "34/34 [==============================] - 0s 3ms/step - loss: 6374.6777 - mae: 6374.6777\n",
      "Epoch 51/100\n",
      "34/34 [==============================] - 0s 3ms/step - loss: 6291.7905 - mae: 6291.7905\n",
      "Epoch 52/100\n",
      "34/34 [==============================] - 0s 3ms/step - loss: 6199.9443 - mae: 6199.9443\n",
      "Epoch 53/100\n",
      "34/34 [==============================] - 0s 3ms/step - loss: 6105.5142 - mae: 6105.5142\n",
      "Epoch 54/100\n",
      "34/34 [==============================] - 0s 4ms/step - loss: 6008.5107 - mae: 6008.5107\n",
      "Epoch 55/100\n",
      "34/34 [==============================] - 0s 3ms/step - loss: 5903.2632 - mae: 5903.2632\n",
      "Epoch 56/100\n",
      "34/34 [==============================] - 0s 3ms/step - loss: 5797.0161 - mae: 5797.0161\n",
      "Epoch 57/100\n",
      "34/34 [==============================] - 0s 3ms/step - loss: 5683.2065 - mae: 5683.2065\n",
      "Epoch 58/100\n",
      "34/34 [==============================] - 0s 3ms/step - loss: 5566.2534 - mae: 5566.2534\n",
      "Epoch 59/100\n",
      "34/34 [==============================] - 0s 3ms/step - loss: 5449.7500 - mae: 5449.7500\n",
      "Epoch 60/100\n",
      "34/34 [==============================] - 0s 4ms/step - loss: 5328.5103 - mae: 5328.5103\n",
      "Epoch 61/100\n",
      "34/34 [==============================] - 0s 3ms/step - loss: 5201.7983 - mae: 5201.7983\n",
      "Epoch 62/100\n",
      "34/34 [==============================] - 0s 4ms/step - loss: 5074.0156 - mae: 5074.0156\n",
      "Epoch 63/100\n",
      "34/34 [==============================] - 0s 4ms/step - loss: 4945.8262 - mae: 4945.8262\n",
      "Epoch 64/100\n",
      "34/34 [==============================] - 0s 3ms/step - loss: 4814.8315 - mae: 4814.8315\n",
      "Epoch 65/100\n",
      "34/34 [==============================] - 0s 4ms/step - loss: 4687.4800 - mae: 4687.4800\n",
      "Epoch 66/100\n",
      "34/34 [==============================] - 0s 4ms/step - loss: 4559.7627 - mae: 4559.7627\n",
      "Epoch 67/100\n",
      "34/34 [==============================] - 0s 3ms/step - loss: 4447.9209 - mae: 4447.9209\n",
      "Epoch 68/100\n",
      "34/34 [==============================] - 0s 3ms/step - loss: 4339.3374 - mae: 4339.3374\n",
      "Epoch 69/100\n",
      "34/34 [==============================] - 0s 3ms/step - loss: 4235.8779 - mae: 4235.8779\n",
      "Epoch 70/100\n",
      "34/34 [==============================] - 0s 3ms/step - loss: 4140.1797 - mae: 4140.1797\n",
      "Epoch 71/100\n",
      "34/34 [==============================] - 0s 3ms/step - loss: 4050.5076 - mae: 4050.5076\n",
      "Epoch 72/100\n",
      "34/34 [==============================] - 0s 3ms/step - loss: 3970.8616 - mae: 3970.8616\n",
      "Epoch 73/100\n",
      "34/34 [==============================] - 0s 3ms/step - loss: 3901.3179 - mae: 3901.3179\n",
      "Epoch 74/100\n",
      "34/34 [==============================] - 0s 3ms/step - loss: 3844.5842 - mae: 3844.5842\n",
      "Epoch 75/100\n",
      "34/34 [==============================] - 0s 3ms/step - loss: 3798.1719 - mae: 3798.1719\n",
      "Epoch 76/100\n",
      "34/34 [==============================] - 0s 3ms/step - loss: 3762.2446 - mae: 3762.2446\n",
      "Epoch 77/100\n",
      "34/34 [==============================] - 0s 3ms/step - loss: 3733.8748 - mae: 3733.8748\n",
      "Epoch 78/100\n",
      "34/34 [==============================] - 0s 3ms/step - loss: 3713.3811 - mae: 3713.3811\n",
      "Epoch 79/100\n",
      "34/34 [==============================] - 0s 3ms/step - loss: 3698.5559 - mae: 3698.5559\n",
      "Epoch 80/100\n",
      "34/34 [==============================] - 0s 3ms/step - loss: 3687.4644 - mae: 3687.4644\n",
      "Epoch 81/100\n",
      "34/34 [==============================] - 0s 3ms/step - loss: 3679.9629 - mae: 3679.9629\n",
      "Epoch 82/100\n",
      "34/34 [==============================] - 0s 3ms/step - loss: 3675.3914 - mae: 3675.3914\n",
      "Epoch 83/100\n",
      "34/34 [==============================] - 0s 3ms/step - loss: 3669.0129 - mae: 3669.0129\n",
      "Epoch 84/100\n",
      "34/34 [==============================] - 0s 3ms/step - loss: 3665.3645 - mae: 3665.3645\n",
      "Epoch 85/100\n",
      "34/34 [==============================] - 0s 4ms/step - loss: 3662.7092 - mae: 3662.7092\n",
      "Epoch 86/100\n",
      "34/34 [==============================] - 0s 3ms/step - loss: 3660.5063 - mae: 3660.5063\n",
      "Epoch 87/100\n",
      "34/34 [==============================] - 0s 3ms/step - loss: 3657.6663 - mae: 3657.6663\n",
      "Epoch 88/100\n",
      "34/34 [==============================] - 0s 3ms/step - loss: 3655.0620 - mae: 3655.0620\n",
      "Epoch 89/100\n",
      "34/34 [==============================] - 0s 3ms/step - loss: 3653.2507 - mae: 3653.2507\n",
      "Epoch 90/100\n",
      "34/34 [==============================] - 0s 3ms/step - loss: 3651.6399 - mae: 3651.6399\n",
      "Epoch 91/100\n",
      "34/34 [==============================] - 0s 3ms/step - loss: 3648.6030 - mae: 3648.6030\n",
      "Epoch 92/100\n",
      "34/34 [==============================] - 0s 3ms/step - loss: 3648.0425 - mae: 3648.0425\n",
      "Epoch 93/100\n",
      "34/34 [==============================] - 0s 3ms/step - loss: 3645.8284 - mae: 3645.8284\n",
      "Epoch 94/100\n",
      "34/34 [==============================] - 0s 3ms/step - loss: 3643.9712 - mae: 3643.9712\n",
      "Epoch 95/100\n",
      "34/34 [==============================] - 0s 3ms/step - loss: 3645.2585 - mae: 3645.2585\n",
      "Epoch 96/100\n",
      "34/34 [==============================] - 0s 3ms/step - loss: 3641.8911 - mae: 3641.8911\n",
      "Epoch 97/100\n",
      "34/34 [==============================] - 0s 3ms/step - loss: 3639.4521 - mae: 3639.4521\n",
      "Epoch 98/100\n",
      "34/34 [==============================] - 0s 3ms/step - loss: 3637.5740 - mae: 3637.5740\n",
      "Epoch 99/100\n",
      "34/34 [==============================] - 0s 3ms/step - loss: 3636.7888 - mae: 3636.7888\n",
      "Epoch 100/100\n",
      "34/34 [==============================] - 0s 3ms/step - loss: 3635.4695 - mae: 3635.4695\n"
     ]
    },
    {
     "data": {
      "text/plain": [
       "<keras.callbacks.History at 0x7f4c5f67d110>"
      ]
     },
     "execution_count": 72,
     "metadata": {},
     "output_type": "execute_result"
    }
   ],
   "source": [
    "# Build neural network model to fit on normalized data\n",
    "tf.random.set_seed(42)\n",
    "\n",
    "# 1. Create a model\n",
    "insurance_model_4 = tf.keras.Sequential([\n",
    "    tf.keras.layers.Dense(100),\n",
    "    tf.keras.layers.Dense(10),\n",
    "    tf.keras.layers.Dense(1)\n",
    "])\n",
    "\n",
    "# 2. Compile the model\n",
    "insurance_model_4.compile(loss=tf.keras.losses.mae,\n",
    "                          optimizer=tf.keras.optimizers.Adam(),\n",
    "                          metrics=[\"mae\"])\n",
    "\n",
    "# 3. Fit the model\n",
    "insurance_model_4.fit(X_train_normal, y_train, epochs=100)"
   ]
  },
  {
   "cell_type": "code",
   "execution_count": 73,
   "metadata": {},
   "outputs": [
    {
     "name": "stdout",
     "output_type": "stream",
     "text": [
      "9/9 [==============================] - 0s 2ms/step - loss: 3438.8943 - mae: 3438.8943\n"
     ]
    },
    {
     "data": {
      "text/plain": [
       "[3438.894287109375, 3438.894287109375]"
      ]
     },
     "execution_count": 73,
     "metadata": {},
     "output_type": "execute_result"
    }
   ],
   "source": [
    "# Evaluate insurance model trained on normalized data\n",
    "insurance_model_4.evaluate(X_test_normal, y_test)"
   ]
  },
  {
   "cell_type": "code",
   "execution_count": null,
   "metadata": {},
   "outputs": [],
   "source": []
  }
 ],
 "metadata": {
  "kernelspec": {
   "display_name": "tf",
   "language": "python",
   "name": "python3"
  },
  "language_info": {
   "codemirror_mode": {
    "name": "ipython",
    "version": 3
   },
   "file_extension": ".py",
   "mimetype": "text/x-python",
   "name": "python",
   "nbconvert_exporter": "python",
   "pygments_lexer": "ipython3",
   "version": "3.11.3"
  },
  "orig_nbformat": 4
 },
 "nbformat": 4,
 "nbformat_minor": 2
}
